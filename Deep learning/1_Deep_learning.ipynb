{
  "cells": [
    {
      "cell_type": "code",
      "execution_count": null,
      "metadata": {
        "id": "PqC4R7SGseKa"
      },
      "outputs": [],
      "source": [
        "import torch"
      ]
    },
    {
      "cell_type": "code",
      "execution_count": null,
      "metadata": {
        "colab": {
          "base_uri": "https://localhost:8080/"
        },
        "id": "OuAmLYvlJ_kn",
        "outputId": "e0c1c6b6-5495-42db-cb5f-04dcdd7d2cdc"
      },
      "outputs": [
        {
          "output_type": "stream",
          "name": "stdout",
          "text": [
            "a=  tensor([-1.0600,  0.3108, -0.0066,  1.0185]) torch.Size([4])\n",
            "b=  tensor([0.6630, 0.2155, 0.8348, 0.2902]) torch.Size([4])\n",
            "c=  tensor([[2, 2, 3, 2],\n",
            "        [3, 2, 2, 3],\n",
            "        [2, 2, 3, 2],\n",
            "        [2, 3, 3, 2]])\n"
          ]
        }
      ],
      "source": [
        "a = torch.randn(4) # Случайные значения из стандартного нормального распределения (среднее значение 0, отклонение 1)\n",
        "b = torch.rand(4)  # Случайные числа из равномерного распределния на интервале от 0 до 1\n",
        "print('a= ', a, a.size())\n",
        "print('b= ', b, b.size())\n",
        "\n",
        "c = torch.randint(2,4,(4,4)) # Гнерирует тензор с произвольными целочисленными значениями в заданном диапазоне\n",
        "print('c= ', c)"
      ]
    },
    {
      "cell_type": "code",
      "execution_count": null,
      "metadata": {
        "colab": {
          "base_uri": "https://localhost:8080/"
        },
        "id": "Aib93QnuL38g",
        "outputId": "74989b48-f678-48fe-d7a9-c33303348936"
      },
      "outputs": [
        {
          "output_type": "stream",
          "name": "stdout",
          "text": [
            "c=  tensor(-0.3457) torch.Size([])\n",
            "z=  tensor([-0.7027,  0.0670, -0.0055,  0.2956])\n",
            "zz=  tensor([-0.3457]) torch.Size([1])\n",
            "x=  tensor([[-0.3457]]) torch.Size([1])\n"
          ]
        }
      ],
      "source": [
        "c = torch.matmul(a,b)\n",
        "print('c= ', c, c.size()) # Умножение двух тензоров (матриц) друг на друга. (Скалярное произведение)\n",
        "z = a*b\n",
        "print('z= ', z)\n",
        "zz = torch.mv(a.view(1, -1), b) # Умножения матрицы на вектор. Она принимает два аргумента: матрицу размером (M, N) и вектор размером (N), и возвращает новый вектор размером (M).\n",
        "print('zz= ', zz, zz.size()) # view Изменять размер и форму тензора без изменения его данных.\n",
        "x = torch.mm(a.view(1, -1), b.view(-1, 1)) # Умножения матриц. Она принимает два аргумента: матрицу А размером (n × m) и матрицу B размером (m × p), и возвращает произведение этих двух матриц - матрицу C размером (n × p).\n",
        "print('x= ', x, zz.size())\n",
        "# torch.mv\n",
        "# torch.mm\n",
        "# @"
      ]
    },
    {
      "cell_type": "code",
      "execution_count": null,
      "metadata": {
        "colab": {
          "base_uri": "https://localhost:8080/"
        },
        "id": "rcutlfZhLGu3",
        "outputId": "9b8ac6a6-ca88-4e2f-8f11-9f11fad0827b"
      },
      "outputs": [
        {
          "output_type": "stream",
          "name": "stdout",
          "text": [
            "torch.Size([])\n",
            "torch.Size([1])\n"
          ]
        }
      ],
      "source": [
        "print(c.size())\n",
        "c = torch.unsqueeze(c, 0) # Изменение размерности тензора в указанную размерность. Она добавляет единичное измерение к указанной позиции в тензоре. 0 - где добавить\n",
        "print(c.size())"
      ]
    },
    {
      "cell_type": "markdown",
      "metadata": {
        "id": "0J2RM8f5wP33"
      },
      "source": [
        "## 2.1 Создание нейронов и полносвязных слоев"
      ]
    },
    {
      "cell_type": "markdown",
      "metadata": {
        "id": "_2ArJn_nsdZC"
      },
      "source": [
        "2.1.1. Используя операции над матрицами и векторами из библиотеки `torch`, реализовать нейрон с заданными весами `weights` и `bias`. Прогнать вектор `inputs` через нейрон и вывести результат."
      ]
    },
    {
      "cell_type": "code",
      "execution_count": null,
      "metadata": {
        "id": "f4agkY9WqPwe"
      },
      "outputs": [],
      "source": [
        "class Neuron:\n",
        "  def __init__(self, weights, bias):\n",
        "    # <создать атрибуты объекта weights и bias>\n",
        "    self.weights = weights\n",
        "    self.bias = bias\n",
        "    pass\n",
        "\n",
        "  def forward(self, inputs):\n",
        "    # y_pred = self.weights @ inputs + self.bias Вариант 1\n",
        "    y_pred = torch.mv(self.weights.view(1, -1), inputs) + self.bias # Вариант 2\n",
        "    return y_pred # <реализовать логику нейрона> w*x+b"
      ]
    },
    {
      "cell_type": "code",
      "execution_count": null,
      "metadata": {
        "colab": {
          "base_uri": "https://localhost:8080/"
        },
        "id": "q5Bwk_MXRP_d",
        "outputId": "77f5e69f-209f-4a47-f27b-7e72ad97867f"
      },
      "outputs": [
        {
          "output_type": "stream",
          "name": "stdout",
          "text": [
            "tensor([ 1,  2,  3,  4,  5,  6,  7,  8,  9, 10, 11, 12, 13, 14, 15])\n",
            "tensor([[ 1,  2,  3],\n",
            "        [ 4,  5,  6],\n",
            "        [ 7,  8,  9],\n",
            "        [10, 11, 12],\n",
            "        [13, 14, 15]])\n",
            "tensor([[ 1,  2,  3,  4,  5],\n",
            "        [ 6,  7,  8,  9, 10],\n",
            "        [11, 12, 13, 14, 15]])\n"
          ]
        }
      ],
      "source": [
        "a = torch.arange(1, 16, 1)\n",
        "print(a)\n",
        "a = a.view(5,-1) # 5 - Строка\n",
        "print(a)\n",
        "a = a.view(3,-1) # 5 - Строка\n",
        "print(a)"
      ]
    },
    {
      "cell_type": "code",
      "execution_count": null,
      "metadata": {
        "id": "HJRkSkHHsb7u"
      },
      "outputs": [],
      "source": [
        "inputs = torch.tensor([1.0, 2.0, 3.0, 4.0])\n",
        "weights = torch.tensor([-0.2, 0.3, -0.5, 0.7])\n",
        "bias = 3.14"
      ]
    },
    {
      "cell_type": "code",
      "execution_count": null,
      "metadata": {
        "colab": {
          "base_uri": "https://localhost:8080/"
        },
        "id": "W1FpRBpiQdTV",
        "outputId": "31696eaa-bbbf-4579-96db-ab73eb8654f5"
      },
      "outputs": [
        {
          "output_type": "execute_result",
          "data": {
            "text/plain": [
              "tensor([4.8400])"
            ]
          },
          "metadata": {},
          "execution_count": 293
        }
      ],
      "source": [
        "N = Neuron(weights, bias)\n",
        "y = N.forward(inputs)\n",
        "y"
      ]
    },
    {
      "cell_type": "markdown",
      "metadata": {
        "id": "1qJvnwiyty37"
      },
      "source": [
        "2.1.2 Используя операции над матрицами и векторами из библиотеки `torch`, реализовать полносвязный слой с заданными весами `weights` и `biases`. Прогнать вектор `inputs` через слой и вывести результат."
      ]
    },
    {
      "cell_type": "code",
      "execution_count": null,
      "metadata": {
        "id": "fVWF3a9vtx90"
      },
      "outputs": [],
      "source": [
        "class Linear:\n",
        "  def __init__(self, weights, biases):\n",
        "    # <создать атрибуты объекта weights и biases>\n",
        "    self.weights = weights\n",
        "    self.biases = biases\n",
        "    pass\n",
        "\n",
        "  def forward(self, inputs):\n",
        "    # y_pred = torch.mv(self.weights.reshape(3, -1), inputs) + self.biases\n",
        "    y_pred = self.weights @ inputs + self.biases\n",
        "    return y_pred # <реализовать логику нейрона> w*x+b\n",
        "\n",
        "  # Если несколько нейронов на выходе вектор. Если один на выходе число."
      ]
    },
    {
      "cell_type": "code",
      "execution_count": null,
      "metadata": {
        "id": "Fo-JFnHPuFCS"
      },
      "outputs": [],
      "source": [
        "inputs = torch.tensor([1.0, 2.0, 3.0, 4.0])\n",
        "weights = torch.tensor([[-0.2, 0.3, -0.5, 0.7],\n",
        "                        [0.5, -0.91, 0.26, -0.5],\n",
        "                        [-0.26, -0.27, 0.17, 0.87]])\n",
        "\n",
        "biases = torch.tensor([3.14, 2.71, 7.2])"
      ]
    },
    {
      "cell_type": "code",
      "execution_count": null,
      "metadata": {
        "colab": {
          "base_uri": "https://localhost:8080/"
        },
        "id": "OtJ_9LfkS3-i",
        "outputId": "8a435a09-eaec-417d-8eba-48b454751d23"
      },
      "outputs": [
        {
          "output_type": "execute_result",
          "data": {
            "text/plain": [
              "tensor([ 4.8400,  0.1700, 10.3900])"
            ]
          },
          "metadata": {},
          "execution_count": 296
        }
      ],
      "source": [
        "l = Linear(weights, biases)\n",
        "y = l.forward(inputs)\n",
        "y"
      ]
    },
    {
      "cell_type": "code",
      "execution_count": null,
      "metadata": {
        "colab": {
          "base_uri": "https://localhost:8080/"
        },
        "id": "WCuC7SwiR_H_",
        "outputId": "fd8690a9-03d5-4629-cd1f-c5658e31547f"
      },
      "outputs": [
        {
          "output_type": "execute_result",
          "data": {
            "text/plain": [
              "tensor([[-0.2000,  0.5000, -0.2600],\n",
              "        [ 0.3000, -0.9100, -0.2700],\n",
              "        [-0.5000,  0.2600,  0.1700],\n",
              "        [ 0.7000, -0.5000,  0.8700]])"
            ]
          },
          "metadata": {},
          "execution_count": 297
        }
      ],
      "source": [
        "weights = torch.tensor([[-0.2, 0.3, -0.5, 0.7],\n",
        "                        [0.5, -0.91, 0.26, -0.5],\n",
        "                        [-0.26, -0.27, 0.17, 0.87]])\n",
        "weights.T"
      ]
    },
    {
      "cell_type": "markdown",
      "metadata": {
        "id": "mQtsJzcxuyGd"
      },
      "source": [
        "2.1.3 Реализовать полносвязный слой из __2.1.2__ таким образом, чтобы он мог принимать на вход матрицу (батч) с данными. Продемонстрировать работу.\n",
        "Результатом прогона сквозь слой должна быть матрица размера `batch_size` x `n_neurons`.\n"
      ]
    },
    {
      "cell_type": "code",
      "execution_count": null,
      "metadata": {
        "id": "Z8IizmtsuhO1"
      },
      "outputs": [],
      "source": [
        "inputs = torch.tensor([[1, 2, 3, 2.5],\n",
        "                       [2, 5, -1, 2],\n",
        "                       [-1.5, 2.7, 3.3, -0.8]])"
      ]
    },
    {
      "cell_type": "code",
      "execution_count": null,
      "metadata": {
        "colab": {
          "base_uri": "https://localhost:8080/"
        },
        "id": "Yyx1b6STUSIa",
        "outputId": "1437427f-7b4c-442f-dc3e-98310aab9e99"
      },
      "outputs": [
        {
          "output_type": "execute_result",
          "data": {
            "text/plain": [
              "tensor([[ 3.7900,  5.7100,  6.1000],\n",
              "        [ 1.3500, -2.1000,  5.2510],\n",
              "        [ 5.0250,  2.4100,  6.7260]])"
            ]
          },
          "metadata": {},
          "execution_count": 299
        }
      ],
      "source": [
        "l = Linear(weights, biases)\n",
        "y = l.forward(inputs.T)\n",
        "y"
      ]
    },
    {
      "cell_type": "markdown",
      "metadata": {
        "id": "OQ2OxH4_vBLu"
      },
      "source": [
        "2.1.4 Используя операции над матрицами и векторами из библиотеки `torch`, реализовать полносвязный слой из `n_neurons` нейронов с `n_features` весами у каждого нейрона (инициализируются из стандартного нормального распределения). Прогнать вектор `inputs` через слой и вывести результат. Результатом прогона сквозь слой должна быть матрица размера `batch_size` x `n_neurons`."
      ]
    },
    {
      "cell_type": "code",
      "execution_count": null,
      "metadata": {
        "id": "IOv52EdovASs"
      },
      "outputs": [],
      "source": [
        "# ДЗ\n",
        "class Linear:\n",
        "  def __init__(self, n_features, n_neurons):\n",
        "    # <создать атрибуты объекта weights и biases>\n",
        "    self.weights = torch.randn(n_features, n_neurons)\n",
        "    self.biases = torch.randn(n_neurons)\n",
        "\n",
        "\n",
        "  def forward(self, inputs):\n",
        "    return (inputs @ self.weights) + self.biases  # torch.matmul(inputs, self.weights) + self.biases\n",
        "    # <реализовать логику слоя>"
      ]
    },
    {
      "cell_type": "code",
      "execution_count": null,
      "metadata": {
        "colab": {
          "base_uri": "https://localhost:8080/"
        },
        "id": "s0wBgrEPsAfj",
        "outputId": "6cb67ba7-8b50-4685-c628-670b854c448c"
      },
      "outputs": [
        {
          "output_type": "execute_result",
          "data": {
            "text/plain": [
              "tensor([[-1.9634, -0.3814,  0.9885],\n",
              "        [-0.7681,  0.2665, -0.6579],\n",
              "        [ 0.5540,  0.1206,  0.8375],\n",
              "        [ 0.8501, -1.6680,  2.7639]])"
            ]
          },
          "metadata": {},
          "execution_count": 301
        }
      ],
      "source": [
        "weights = torch.randn(4, 3)\n",
        "weights"
      ]
    },
    {
      "cell_type": "code",
      "execution_count": null,
      "metadata": {
        "id": "vgDPrMIzhz6i"
      },
      "outputs": [],
      "source": [
        "inputs = torch.tensor([[1, 2, 3, 2.5],\n",
        "                       [2, 5, -1, 2],\n",
        "                       [-1.5, 2.7, 3.3, -0.8]])"
      ]
    },
    {
      "cell_type": "code",
      "execution_count": null,
      "metadata": {
        "colab": {
          "base_uri": "https://localhost:8080/"
        },
        "id": "3sMxH3kRswqJ",
        "outputId": "099b8b5e-61e6-44f9-d455-cabdcba26ee9"
      },
      "outputs": [
        {
          "output_type": "execute_result",
          "data": {
            "text/plain": [
              "tensor([[ 0.2877, -3.6566,  9.0949],\n",
              "        [-6.6211, -2.8872,  3.3779],\n",
              "        [ 2.0192,  3.0242, -2.7065]])"
            ]
          },
          "metadata": {},
          "execution_count": 303
        }
      ],
      "source": [
        "inputs @ weights"
      ]
    },
    {
      "cell_type": "code",
      "execution_count": null,
      "metadata": {
        "colab": {
          "base_uri": "https://localhost:8080/"
        },
        "id": "QMYdRzMXm0j7",
        "outputId": "419940f3-992a-4035-9d37-fcf751dafdec"
      },
      "outputs": [
        {
          "output_type": "execute_result",
          "data": {
            "text/plain": [
              "tensor([[ 3.3252,  1.4471,  0.7576],\n",
              "        [ 6.4538, -3.8242,  0.3739],\n",
              "        [ 3.4393,  3.9252,  0.4433]])"
            ]
          },
          "metadata": {},
          "execution_count": 304
        }
      ],
      "source": [
        "l = Linear(n_features = 4, n_neurons = 3)\n",
        "l.forward(inputs)"
      ]
    },
    {
      "cell_type": "markdown",
      "metadata": {
        "id": "IPG4UqL4wajI"
      },
      "source": [
        "2.1.5 Используя решение из __2.1.4__, создать 2 полносвязных слоя и пропустить матрицу `inputs` последовательно через эти два слоя. Количество нейронов в первом слое выбрать произвольно, количество нейронов во втором слое выбрать так, чтобы результатом прогона являлась матрица (3x7)."
      ]
    },
    {
      "cell_type": "code",
      "execution_count": null,
      "metadata": {
        "colab": {
          "base_uri": "https://localhost:8080/"
        },
        "id": "DmPL4QlaouSc",
        "outputId": "3035d751-bc37-4369-cea7-412e6a516192"
      },
      "outputs": [
        {
          "output_type": "execute_result",
          "data": {
            "text/plain": [
              "tensor([[-33.0315,   9.3000,  -4.2675,  -2.1867,  18.6437,  -6.6033,  -7.0808],\n",
              "        [-10.0871,  -4.3243,   5.0200,  -6.3354,  14.8344,  10.3563,  13.3178],\n",
              "        [-12.5580,   1.6342,  -5.1224,  -8.1789,   9.8571,   3.5508,  -2.9432]])"
            ]
          },
          "metadata": {},
          "execution_count": 305
        }
      ],
      "source": [
        "step_1 = Linear(n_features = 4, n_neurons = 7) # количество нейронов 7\n",
        "step_2 = Linear(n_features = 7, n_neurons = 7)\n",
        "step_2.forward(step_1.forward(inputs))"
      ]
    },
    {
      "cell_type": "markdown",
      "metadata": {
        "id": "cRVH_2K7xTBC"
      },
      "source": [
        "## 2.2 Создание функций активации"
      ]
    },
    {
      "cell_type": "markdown",
      "metadata": {
        "id": "ETSrLT-KHK93"
      },
      "source": [
        "**Слои активации** - это один из основных типов слоев, которые используются в нейронных сетях. Они представляют собой функцию, которая **добавляет нелинейность к выходу предыдущего слоя**. Это **позволяет нейронной сети лучше моделировать сложные функции и более точно предсказывать результаты.**\n",
        "\n",
        "*Как работают слои активации?*\n",
        "\n",
        "Слои активации принимают на вход результаты предыдущего слоя, называемые входом, и преобразуют их в выходное значение, которое передается следующему слою. Для этого они используют функцию активации, которая определяет, каким образом данные будут преобразованы."
      ]
    },
    {
      "cell_type": "markdown",
      "metadata": {
        "id": "B9kngE6Fxs9D"
      },
      "source": [
        "2.2.1 Используя операции над матрицами и векторами из библиотеки `torch`, реализовать функцию активации ReLU:\n",
        "\n",
        "![](https://wikimedia.org/api/rest_v1/media/math/render/svg/f4353f4e3e484130504049599d2e7b040793e1eb)\n",
        "\n",
        "Создать матрицу размера (4,3), заполненную числами из стандартного нормального распределения, и проверить работоспособность функции активации."
      ]
    },
    {
      "cell_type": "markdown",
      "metadata": {
        "id": "v7zX13HKIyhx"
      },
      "source": [
        "**ReLU (Rectified Linear Unit)** - это нелинейная функция активации, которая широко используется в глубоком обучении. Она преобразует входное значение в значение от 0 до положительной бесконечности. Если входное значение меньше или равно нулю, то ReLU выдает ноль, в противном случае - входное значение."
      ]
    },
    {
      "cell_type": "markdown",
      "metadata": {
        "id": "RQcSNDCKJma1"
      },
      "source": [
        "![99c096abd2917d0f9a6410ead7ce29b2.png](data:image/png;base64,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)"
      ]
    },
    {
      "cell_type": "code",
      "execution_count": null,
      "metadata": {
        "colab": {
          "base_uri": "https://localhost:8080/"
        },
        "id": "UBSjKPM2yit0",
        "outputId": "7fc95a62-ff4c-46a1-f253-045642362bec"
      },
      "outputs": [
        {
          "output_type": "stream",
          "name": "stdout",
          "text": [
            "x=  tensor([[-2.2787, -0.1235,  0.1210],\n",
            "        [ 0.3449, -0.9813, -1.1582],\n",
            "        [-0.6739, -1.5102,  1.2631],\n",
            "        [ 0.1296,  1.3367,  0.1832]])\n"
          ]
        }
      ],
      "source": [
        "x = torch.randn(4,3)\n",
        "print('x= ', x)"
      ]
    },
    {
      "cell_type": "code",
      "execution_count": null,
      "metadata": {
        "id": "wQZRMyVz0fFa"
      },
      "outputs": [],
      "source": [
        "inputs = torch.tensor([[1, 2, 3, 2.5],\n",
        "                       [2, 5, -1, 2],\n",
        "                       [-1.5, 2.7, 3.3, -0.8]])"
      ]
    },
    {
      "cell_type": "code",
      "execution_count": null,
      "metadata": {
        "id": "jZLvMRByxSTC"
      },
      "outputs": [],
      "source": [
        "class ReLU:\n",
        "  def forward(self, inputs):\n",
        "    # <реализовать логику ReLU>\n",
        "    res = torch.where(inputs>0, inputs, 0) # возвращает новый тензор, наполненный значениями из двух заданных тензоров, в зависимости от условия.\n",
        "                                           # Синтаксис функции:\n",
        "                                           # torch.where(condition, x, y)\n",
        "    return res"
      ]
    },
    {
      "cell_type": "code",
      "execution_count": null,
      "metadata": {
        "colab": {
          "base_uri": "https://localhost:8080/"
        },
        "id": "VUjnjVmZyyO5",
        "outputId": "c24f06d1-7867-4b3b-d2be-cb980129db2f"
      },
      "outputs": [
        {
          "output_type": "execute_result",
          "data": {
            "text/plain": [
              "tensor([[1.0000, 2.0000, 3.0000, 2.5000],\n",
              "        [2.0000, 5.0000, 0.0000, 2.0000],\n",
              "        [0.0000, 2.7000, 3.3000, 0.0000]])"
            ]
          },
          "metadata": {},
          "execution_count": 309
        }
      ],
      "source": [
        "r = ReLU()\n",
        "r.forward(inputs)"
      ]
    },
    {
      "cell_type": "markdown",
      "metadata": {
        "id": "puExCWiKyTtb"
      },
      "source": [
        "2.2.2 Используя операции над матрицами и векторами из библиотеки `torch`, реализовать функцию активации softmax:\n",
        "\n",
        "![](https://wikimedia.org/api/rest_v1/media/math/render/svg/6d7500d980c313da83e4117da701bf7c8f1982f5)\n",
        "\n",
        "Создать матрицу размера (4,3), заполненную числами из стандартного нормального распределения, и проверить работоспособность функции активации. Строки матрицы трактовать как выходы линейного слоя некоторого классификатора для 4 различных примеров."
      ]
    },
    {
      "cell_type": "markdown",
      "metadata": {
        "id": "Fa78mQg_Hx7B"
      },
      "source": [
        "**Функция Softmax** используется для преобразования вектора значений в вероятностное распределение, которое суммируется до 1. Она особенно полезна в многоклассовой классификации, где необходимо определить вероятности для каждого класса.\n"
      ]
    },
    {
      "cell_type": "markdown",
      "metadata": {
        "id": "4MVMAx1pIDPX"
      },
      "source": [
        "График функции Softmax представляет собой **гладкую кривую, начинающуюся от 0 и заканчивающуюся на 1, что соответствует сумме вероятностей всех элементов вектора**. Кривая функции Softmax имеет свойство, что вероятность любого элемента вектора увеличивается, если значения других элементов уменьшаются, что позволяет использовать эту функцию для многоклассовой классификации.\n"
      ]
    },
    {
      "cell_type": "code",
      "execution_count": null,
      "metadata": {
        "id": "fXNcFlqqyKHl"
      },
      "outputs": [],
      "source": [
        "class Softmax:\n",
        "  def forward(self, x):\n",
        "    # <реализовать логику Softmax>\n",
        "    res = torch.exp(x)/(torch.exp(x).sum())\n",
        "    return res"
      ]
    },
    {
      "cell_type": "code",
      "execution_count": null,
      "metadata": {
        "colab": {
          "base_uri": "https://localhost:8080/"
        },
        "id": "BOSfXngb1ibb",
        "outputId": "34dd0d98-6c24-4cf7-b183-efc744702c93"
      },
      "outputs": [
        {
          "output_type": "execute_result",
          "data": {
            "text/plain": [
              "tensor([[0.0641, 0.1744, 0.4740, 0.2875],\n",
              "        [0.0452, 0.9074, 0.0022, 0.0452],\n",
              "        [0.0052, 0.3488, 0.6355, 0.0105]])"
            ]
          },
          "metadata": {},
          "execution_count": 311
        }
      ],
      "source": [
        "mm = torch.nn.Softmax(dim=1)\n",
        "mm.forward(inputs)"
      ]
    },
    {
      "cell_type": "code",
      "execution_count": null,
      "metadata": {
        "colab": {
          "base_uri": "https://localhost:8080/"
        },
        "id": "l5htqFhu0n6w",
        "outputId": "c867ff4d-00b7-4a5c-bd8f-e65ff593e7a6"
      },
      "outputs": [
        {
          "output_type": "execute_result",
          "data": {
            "text/plain": [
              "tensor([[9.8896e-01, 3.3176e-04, 9.0182e-04, 5.4698e-04],\n",
              "        [3.3176e-04, 6.6636e-03, 1.6517e-05, 3.3176e-04],\n",
              "        [1.0018e-05, 6.6808e-04, 1.2173e-03, 2.0174e-05]])"
            ]
          },
          "metadata": {},
          "execution_count": 312
        }
      ],
      "source": [
        "inputs = torch.tensor([[10, 2, 3, 2.5],\n",
        "                       [2, 5, -1, 2],\n",
        "                       [-1.5, 2.7, 3.3, -0.8]])\n",
        "ss = Softmax()\n",
        "ss.forward(inputs)"
      ]
    },
    {
      "cell_type": "markdown",
      "metadata": {
        "id": "vxVK2TYez_Ye"
      },
      "source": [
        "2.2.3 Используя операции над матрицами и векторами из библиотеки `torch`, реализовать функцию активации ELU:\n",
        "\n",
        "![](https://wikimedia.org/api/rest_v1/media/math/render/svg/eb23becd37c3602c4838e53f532163279192e4fd)\n",
        "\n",
        "Создать матрицу размера (4,3), заполненную числами из стандартного нормального распределения, и проверить работоспособность функции активации."
      ]
    },
    {
      "cell_type": "markdown",
      "metadata": {
        "id": "QVfd7Wk6JaUS"
      },
      "source": [
        "**ELU (Exponential Linear Unit)** - это функция активации, которая была предложена в 2015 году в статье \"Fast and Accurate Deep Network Learning by Exponential Linear Units (ELUs)\". Она представляет собой измененную версию ReLU (Rectified Linear Unit), которая помогает ускорить обучение глубоких нейронных сетей и справляется с проблемой \"мертвых нейронов\" (dead neurons)."
      ]
    },
    {
      "cell_type": "markdown",
      "metadata": {
        "id": "9UmOSZumJgkO"
      },
      "source": [
        "![ccbba7637305061bb6ac6d6025bdeb83.png](data:image/png;base64,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)"
      ]
    },
    {
      "cell_type": "code",
      "execution_count": null,
      "metadata": {
        "colab": {
          "base_uri": "https://localhost:8080/"
        },
        "id": "-7ou79t6sCkh",
        "outputId": "7685df7f-b7d5-46c9-f379-538ac39e1db0"
      },
      "outputs": [
        {
          "output_type": "execute_result",
          "data": {
            "text/plain": [
              "tensor([[ 0.1074, -0.9581,  0.7835],\n",
              "        [ 0.1869, -1.0906,  0.5976],\n",
              "        [ 0.8257,  1.6014, -0.2061],\n",
              "        [ 0.6409,  1.5620, -0.0746]])"
            ]
          },
          "metadata": {},
          "execution_count": 313
        }
      ],
      "source": [
        "inputs = torch.randn(4,3)\n",
        "inputs"
      ]
    },
    {
      "cell_type": "code",
      "execution_count": null,
      "metadata": {
        "id": "NzMz7HDLySxK"
      },
      "outputs": [],
      "source": [
        "class ELU:\n",
        "  def __init__(self, alpha):\n",
        "    # <создать атрибут объекта alpha>\n",
        "    self.alpha = alpha\n",
        "\n",
        "  def forward(self, inputs):\n",
        "    ELU = torch.where(inputs < 0, self.alpha*(torch.exp(inputs) - 1), inputs)  # <реализовать логику ReLU>\n",
        "    return ELU"
      ]
    },
    {
      "cell_type": "code",
      "execution_count": null,
      "metadata": {
        "colab": {
          "base_uri": "https://localhost:8080/"
        },
        "id": "aAH8U4LauVTa",
        "outputId": "0020a412-77c9-4156-977e-244e613e3910"
      },
      "outputs": [
        {
          "output_type": "execute_result",
          "data": {
            "text/plain": [
              "tensor([[ 0.4484, -0.1482,  0.2678],\n",
              "        [ 0.2255, -0.1508, -0.0065],\n",
              "        [-0.1455, -0.0513,  0.5848],\n",
              "        [ 1.1681, -0.0301, -0.0289]])"
            ]
          },
          "metadata": {},
          "execution_count": 315
        }
      ],
      "source": [
        "inputs = torch.randn(4, 3)\n",
        "ELU(alpha=0.2).forward(inputs)"
      ]
    },
    {
      "cell_type": "markdown",
      "metadata": {
        "id": "0peh8r-20Pof"
      },
      "source": [
        "## 2.3 Создание функции потерь"
      ]
    },
    {
      "cell_type": "markdown",
      "metadata": {
        "id": "Cvh8LR2pLGOt"
      },
      "source": [
        "Функции потерь являются важной частью моделей машинного обучения. Эти функции показывают, **насколько сильно предсказанный моделью результат отличается от фактического.**\n",
        "\n",
        "Они измеряют расхождение между предсказанными значениями модели и фактическими значениями."
      ]
    },
    {
      "cell_type": "markdown",
      "metadata": {
        "id": "EY-k3eEs0f7f"
      },
      "source": [
        "2.3.1 Используя операции над матрицами и векторами из библиотеки `torch`, реализовать функцию потерь MSE:\n",
        "\n",
        "![](https://wikimedia.org/api/rest_v1/media/math/render/svg/e258221518869aa1c6561bb75b99476c4734108e)\n",
        "\n",
        "Создать полносвязный слой с 1 нейроном, прогнать через него батч `inputs` и посчитать значение MSE, трактуя вектор `y` как вектор правильных ответов."
      ]
    },
    {
      "cell_type": "markdown",
      "metadata": {
        "id": "5gY7Do06LTqJ"
      },
      "source": [
        "**Среднеквадратичная ошибка (Mean Squared Error, MSE)** — это метрика оценки качества модели, которая измеряет среднюю сумму квадратов разницы между прогнозируемыми и фактическими значениями.\n",
        "\n",
        "MSE часто используется в задачах регрессии, и его значением можно сравнивать разные модели или различные параметры модели. Чем меньше значение MSE, тем лучше модель."
      ]
    },
    {
      "cell_type": "code",
      "execution_count": null,
      "metadata": {
        "id": "f9-wdj5Tz-br"
      },
      "outputs": [],
      "source": [
        "class MSELoss:\n",
        "  def forward(self, y_pred, y_true):\n",
        "    return ((y_pred - y_true.unsqueeze(-1))**2).mean().item() # <реализовать логику MSE>"
      ]
    },
    {
      "cell_type": "code",
      "execution_count": null,
      "metadata": {
        "id": "NAyuDU9F1Vuz"
      },
      "outputs": [],
      "source": [
        "inputs = torch.tensor([[1, 2, 3, 2.5],\n",
        "                       [2, 5, -1, 2],\n",
        "                       [-1.5, 2.7, 3.3, -0.8]])\n",
        "\n",
        "y = torch.tensor([2, 3, 4])"
      ]
    },
    {
      "cell_type": "code",
      "execution_count": null,
      "metadata": {
        "colab": {
          "base_uri": "https://localhost:8080/"
        },
        "id": "6lSSHt6FxRpP",
        "outputId": "6dffc6a1-be0e-4631-da4b-71c876dce3ed"
      },
      "outputs": [
        {
          "output_type": "execute_result",
          "data": {
            "text/plain": [
              "8.7042236328125"
            ]
          },
          "metadata": {},
          "execution_count": 318
        }
      ],
      "source": [
        "linear = Linear(n_features=inputs.shape[-1], n_neurons=1)\n",
        "outputs = linear.forward(inputs)\n",
        "MSELoss().forward(outputs, y)"
      ]
    },
    {
      "cell_type": "markdown",
      "metadata": {
        "id": "uaR7rILd1eWR"
      },
      "source": [
        "2.3.2 Используя операции над матрицами и векторами из библиотеки `torch`, реализовать функцию потерь Categorical Cross-Entropy:\n",
        "\n",
        "<img src=\"https://i.ibb.co/93gy1dN/Screenshot-9.png\" width=\"200\">\n",
        "\n",
        "Создать полносвязный слой с 3 нейронами и прогнать через него батч `inputs`. Полученный результат пропустить через функцию активации softmax. Посчитать значение CCE, трактуя вектор `y` как вектор правильных ответов."
      ]
    },
    {
      "cell_type": "markdown",
      "metadata": {
        "id": "LsTKQMPqOCue"
      },
      "source": [
        "**Функция потерь перекрестной энтропии** – это метрика, позволяющая оценить, насколько хорошо функционирует модель классификации в машинном обучении. Потеря (или ошибка) оценивается как число, находящееся между 0 и 1, где 0 – идеальная модель."
      ]
    },
    {
      "cell_type": "code",
      "execution_count": null,
      "metadata": {
        "id": "T-RKKa2DhZMX"
      },
      "outputs": [],
      "source": [
        "import numpy as np"
      ]
    },
    {
      "cell_type": "code",
      "execution_count": null,
      "metadata": {
        "id": "hQl8pJsT3HcF"
      },
      "outputs": [],
      "source": [
        "class CategoricalCrossentropyLoss:\n",
        "  def forward(self, y_pred, y_true):\n",
        "    # <реализовать логику CCE>\n",
        "    return -1 * (y_true * torch.log(y_pred)).sum(1) #-(y_true.unsqueeze(-1) * y_pred.log()).sum(-1)"
      ]
    },
    {
      "cell_type": "code",
      "execution_count": null,
      "metadata": {
        "id": "s7Qoupfo1ZGJ"
      },
      "outputs": [],
      "source": [
        "inputs = torch.tensor([[1, 2, 3, 2.5],\n",
        "                        [2, 5, -1, 2],\n",
        "                        [-1.5, 2.7, 3.3, -0.8]])\n",
        "y = torch.tensor([1, 0, 0])"
      ]
    },
    {
      "cell_type": "code",
      "execution_count": null,
      "metadata": {
        "colab": {
          "base_uri": "https://localhost:8080/"
        },
        "id": "4Nlgsufijlt5",
        "outputId": "936195dd-b729-4b56-e76d-15262bc723a1"
      },
      "outputs": [
        {
          "output_type": "execute_result",
          "data": {
            "text/plain": [
              "tensor([14.8973, 20.0027, 13.2767])"
            ]
          },
          "metadata": {},
          "execution_count": 322
        }
      ],
      "source": [
        "l = Linear(n_features=inputs.shape[-1], n_neurons = 3)\n",
        "res = Softmax().forward(l.forward(inputs))\n",
        "\n",
        "result = CategoricalCrossentropyLoss().forward(res, y)\n",
        "result"
      ]
    },
    {
      "cell_type": "markdown",
      "metadata": {
        "id": "fA6dbanf44_4"
      },
      "source": [
        "2.3.3 Модифицировать 2.3.1, добавив L2-регуляризацию.\n",
        "\n",
        "![](https://wikimedia.org/api/rest_v1/media/math/render/svg/d92ca2429275bfdc0474523babbafe014ca8b580)\n"
      ]
    },
    {
      "cell_type": "markdown",
      "metadata": {
        "id": "dTjaQF9jRuw2"
      },
      "source": [
        "**L2-регуляризация** (также известная как гребневая регуляризация или регуляризация Тихонова) - это метод регуляризации, используемый в машинном обучении для уменьшения переобучения модели.\n",
        "\n",
        "Основная идея L2-регуляризации состоит в **добавлении дополнительного слагаемого к функции потерь модели**, которое штрафует большие значения весов модели. Это слагаемое вычисляется как сумма квадратов всех весов модели, умноженная на гиперпараметр λ (также называемый коэффициентом регуляризации). Чем больше значение λ, тем больше штраф за большие значения весов, что способствует уменьшению их влияния на предсказания модели.\n"
      ]
    },
    {
      "cell_type": "code",
      "execution_count": null,
      "metadata": {
        "id": "ADsZxD-h4_Os"
      },
      "outputs": [],
      "source": [
        "class MSELossL2:\n",
        "  def __init__(self, lambda_):\n",
        "    # <создать атрибут объекта alpha>\n",
        "    self.lambda_ = lambda_\n",
        "\n",
        "  def data_loss(self, y_pred, y_true):\n",
        "    # <подсчет первого слагаемого из формулы>\n",
        "    return ((y_pred - y_true.unsqueeze(-1)) ** 2).sum()\n",
        "\n",
        "  def reg_loss(self, layer):\n",
        "    # используйте атрибуты объекта layer, в которых хранятся веса слоя\n",
        "    # <подсчет второго слагаемого из формулы>\n",
        "    return (layer.weights ** 2).sum() * self.lambda_\n",
        "\n",
        "  def forward(self, y_pred, y_true, layer):\n",
        "    return self.data_loss(y_pred, y_true) + self.reg_loss(layer)"
      ]
    },
    {
      "cell_type": "code",
      "execution_count": null,
      "metadata": {
        "id": "HjddY6_QXXcG"
      },
      "outputs": [],
      "source": [
        "inputs = torch.tensor([[1, 2, 3, 2.5],\n",
        "                        [2, 5, -1, 2],\n",
        "                        [-1.5, 2.7, 3.3, -0.8]])\n",
        "y = torch.tensor([1, 0, 0])"
      ]
    },
    {
      "cell_type": "code",
      "execution_count": null,
      "metadata": {
        "colab": {
          "base_uri": "https://localhost:8080/"
        },
        "id": "2cQpewM1XaRn",
        "outputId": "f554e268-b6e3-4896-f0b2-d4fb6cc892d8"
      },
      "outputs": [
        {
          "output_type": "execute_result",
          "data": {
            "text/plain": [
              "tensor(40.6357)"
            ]
          },
          "metadata": {},
          "execution_count": 325
        }
      ],
      "source": [
        "l = Linear(n_features=inputs.shape[-1], n_neurons=1)\n",
        "outputs = linear.forward(inputs)\n",
        "MSELossL2(lambda_=0.1).forward(y_pred=outputs, y_true=y, layer=linear)"
      ]
    },
    {
      "cell_type": "markdown",
      "metadata": {
        "id": "w049ZSdR6qQi"
      },
      "source": [
        "## 2.4 Обратное распространение ошибки"
      ]
    },
    {
      "cell_type": "markdown",
      "metadata": {
        "id": "rdfFPsi-qAHP"
      },
      "source": [
        "**Обратное распространение ошибки (backpropagation)** - это алгоритм, используемый в обучении нейронных сетей для расчета градиента функции потерь по весам сети. Он основан на принципе цепного правила дифференцирования и позволяет эффективно обновлять веса нейронной сети, чтобы минимизировать ошибку предсказания модели.\n",
        "Текст, выделенный полужирным шрифтом\n"
      ]
    },
    {
      "cell_type": "markdown",
      "metadata": {
        "id": "pBtCfSME9W7Q"
      },
      "source": [
        "2.4.1 Используя один нейрон и SGD (1 пример за шаг), решите задачу регрессии"
      ]
    },
    {
      "cell_type": "markdown",
      "metadata": {
        "id": "Y2waAsTFqRaZ"
      },
      "source": [
        "**SGD (стохастический градиентный спуск) в машинном обучении** - это оптимизационный алгоритм, используемый для обучения моделей машинного обучения. Он является итеративным методом для обновления параметров модели, основываясь на градиента функции потерь. Вместо того чтобы обрабатывать все тренировочные данные одновременно, SGD выбирает случайный поднабор данных (мини-пакет) на каждой итерации и применяет градиентный спуск. Это позволяет увеличить скорость обучения и эффективность обработки больших объемов данных. SGD может быть применен к различным моделям машинного обучения, включая линейную регрессию, логистическую регрессию и нейронные сети."
      ]
    },
    {
      "cell_type": "markdown",
      "source": [
        "**Adam:** адаптивный метод оптимизации, который адаптирует скорость обучения на основе оценок первого и второго момента градиента."
      ],
      "metadata": {
        "id": "cM0rYiGWb8EQ"
      }
    },
    {
      "cell_type": "code",
      "execution_count": null,
      "metadata": {
        "id": "4xmI-QJ66WAF"
      },
      "outputs": [],
      "source": [
        "from sklearn.datasets import make_regression\n",
        "\n",
        "X, y, coef = make_regression(n_features=4, n_informative=4, coef=True, bias=0.5) # Генерирует датасет для регрессии\n",
        "X = torch.from_numpy(X).to(torch.float) # <преобразуйте массивы numpy в тензоры torch с типом torch.float32\n",
        "y = torch.from_numpy(y).to(torch.float) # <преобразуйте массивы numpy в тензоры torch с типом torch.float32"
      ]
    },
    {
      "cell_type": "markdown",
      "metadata": {
        "id": "KpPSPYSpD9Ey"
      },
      "source": [
        "[Граф вычислений для этой задачи](https://i.ibb.co/2dhDxZx/photo-2021-02-15-17-18-04.jpg)"
      ]
    },
    {
      "cell_type": "code",
      "execution_count": null,
      "metadata": {
        "colab": {
          "base_uri": "https://localhost:8080/"
        },
        "id": "htyY0ysf_PTL",
        "outputId": "d208e6f5-f540-40f9-aec6-b6407a475bab"
      },
      "outputs": [
        {
          "output_type": "execute_result",
          "data": {
            "text/plain": [
              "array([43.11199674, 64.57901563,  4.84439594, 38.00925384])"
            ]
          },
          "metadata": {},
          "execution_count": 327
        }
      ],
      "source": [
        "coef"
      ]
    },
    {
      "cell_type": "markdown",
      "metadata": {
        "id": "Fc1sXtGd_J-y"
      },
      "source": [
        "2.4.1.1 Реализуйте класс `SquaredLoss`\n"
      ]
    },
    {
      "cell_type": "markdown",
      "source": [
        "**Squared Loss (квадратичная ошибка)** – это функция потерь, используемая в задачах регрессии для оценки разницы между предсказанными значениями и истинными значениями целевой переменной.\n",
        "\n",
        "Формула для вычисления квадратичной ошибки:\n",
        "Squared Loss = (ypred - ytrue)^2\n"
      ],
      "metadata": {
        "id": "8Funghed8t19"
      }
    },
    {
      "cell_type": "code",
      "execution_count": null,
      "metadata": {
        "id": "llFigkqd_JRU"
      },
      "outputs": [],
      "source": [
        "class SquaredLoss:\n",
        "  def forward(self, y_pred, y_true):\n",
        "    return  ((y_pred - y_true)**2).mean() # <реализовать логику MSE>\n",
        "\n",
        "  def backward(self, y_pred, y_true): # производная\n",
        "     self.dinput = 2*(y_pred-y_true) # (2/y_pred.size()[0])*[(y_pred - y_true)] # df/dc\n",
        "\n",
        "\n",
        "#y_pred = torch.tensor([2, 3, 4])\n",
        "# # y_true = torch.tensor([2, 2, 4.5])\n",
        "# sql = SquaredLoss()\n",
        "# sql.forward(y_pred, y_true)\n",
        "# sql.backward(y_pred, y_true)"
      ]
    },
    {
      "cell_type": "markdown",
      "metadata": {
        "id": "GY7ForfM97UQ"
      },
      "source": [
        "2.4.1.2. Модифицируйте класс `Neuron` из __2.1.1__:\n",
        "\n",
        "  1) Сделайте так, чтобы веса нейрона инициализировались из стандартного нормального распределения\n",
        "\n",
        "  2) Реализуйте расчет градиента относительно весов `weights` и `bias`"
      ]
    },
    {
      "cell_type": "code",
      "execution_count": null,
      "metadata": {
        "id": "L0KqxPJU9kAN"
      },
      "outputs": [],
      "source": [
        "class Neuron:\n",
        "  def __init__(self, n_inputs):\n",
        "    # <создать атрибуты объекта weights и bias>\n",
        "    self.w = torch.randn(n_inputs) # вектор\n",
        "    self.b = torch.randn(1) # скалярное значение\n",
        "\n",
        "  def forward(self, inputs):\n",
        "    self.inputs = inputs\n",
        "    y = torch.dot(inputs, self.w) + self.b # внутреннее произведение двух тензоров одинаковой формы.\n",
        "    return  y # <реализовать логику нейрона> умножение матрицы на вектор\n",
        "\n",
        "  def backward(self, dvalue):\n",
        "    # dvalue - значение производной, которое приходит нейрону от следующего слоя сети\n",
        "    # в данном случае это будет значение df/dc (созданное методом backwards у объекта MSELoss)\n",
        "    self.dweights = self.inputs*dvalue# dE/dW\n",
        "    self.dinput = self.w*dvalue # df/wX если больше 1 нейрона\n",
        "    self.dbias = dvalue # df/db"
      ]
    },
    {
      "cell_type": "code",
      "source": [
        "X.size()"
      ],
      "metadata": {
        "colab": {
          "base_uri": "https://localhost:8080/"
        },
        "id": "0QPyVAV-_36d",
        "outputId": "f8dac12b-5e9a-4e85-ae99-b202ed784244"
      },
      "execution_count": null,
      "outputs": [
        {
          "output_type": "execute_result",
          "data": {
            "text/plain": [
              "torch.Size([100, 4])"
            ]
          },
          "metadata": {},
          "execution_count": 330
        }
      ]
    },
    {
      "cell_type": "markdown",
      "metadata": {
        "id": "rKcO4zOLACxM"
      },
      "source": [
        "2.4.1.3 Допишите цикл для настройки весов нейрона\n",
        "\n",
        "[SGD](https://ru.wikipedia.org/wiki/%D0%A1%D1%82%D0%BE%D1%85%D0%B0%D1%81%D1%82%D0%B8%D1%87%D0%B5%D1%81%D0%BA%D0%B8%D0%B9_%D0%B3%D1%80%D0%B0%D0%B4%D0%B8%D0%B5%D0%BD%D1%82%D0%BD%D1%8B%D0%B9_%D1%81%D0%BF%D1%83%D1%81%D0%BA)\n",
        "\n",
        "![](https://wikimedia.org/api/rest_v1/media/math/render/svg/dda3670f8a8996a0d3bf80856bb4a166cc8db6d4)"
      ]
    },
    {
      "cell_type": "markdown",
      "source": [
        "**Стохастический градиентный спуск** (Stochastic Gradient Descent, SGD) - это оптимизационный алгоритм, используемый для обучения моделей машинного обучения. Он является вариантом классического градиентного спуска, но отличается тем, что обновления параметров модели происходят не после вычисления градиента на всем наборе данных, а после вычисления градиента на каждом отдельном примере из обучающей выборки.\n",
        "\n",
        "\n",
        "Основная идея SGD состоит в том, чтобы в каждом шаге обновить параметры модели в направлении, противоположном градиенту функции потерь. Таким образом, шаги спуска будут малыми и позволят алгоритму инкрементально приближаться к минимуму функции потерь.\n"
      ],
      "metadata": {
        "id": "Y932en8eAS4f"
      }
    },
    {
      "cell_type": "markdown",
      "source": [
        "**Эпоха** - это один полный проход через обучающий набор данных алгоритмом машинного обучения. Во время одной эпохи модель обрабатывает все экземпляры в обучающем наборе и обновляет свои параметры на основе полученных результатов. Эпохи используются для оптимизации модели и повышения ее точности путем итеративного обновления параметров на каждом шаге эпохи. Продолжительность каждой эпохи может различаться в зависимости от размера обучающего набора и требуемой точности модели."
      ],
      "metadata": {
        "id": "qmVJ3GnXZ2l_"
      }
    },
    {
      "cell_type": "code",
      "execution_count": null,
      "metadata": {
        "id": "_g_FvwvmALJd"
      },
      "outputs": [],
      "source": [
        "n_inputs = X.size()[1] # <размерность элемента выборки >\n",
        "learning_rate = 0.1 #  скорость обучения\n",
        "n_epoch = 100 #  количество эпох\n",
        "\n",
        "neuron = Neuron(n_inputs)\n",
        "loss = SquaredLoss()\n",
        "\n",
        "losses = []\n",
        "# обновление весов (эпохи как интерация)\n",
        "for epoch in range(100):\n",
        "  # Проход по всем тренировочным примерам\n",
        "  for x_example, y_example in zip(X, y):\n",
        "    # forward pass\n",
        "    y_pred = neuron.forward(x_example) # <прогон через нейрон>\n",
        "    curr_loss = loss.forward(y_pred, y_example) # <прогон через функцию потерь>\n",
        "    losses.append(curr_loss)\n",
        "\n",
        "    # backprop\n",
        "\n",
        "    # <вызов методов backward>\n",
        "    loss.backward(y_pred, y_example) # атрибут класса\n",
        "    neuron.backward(loss.dinput)\n",
        "    # обратите внимание на последовательность вызовов: от конца к началу\n",
        "\n",
        "    # <шаг оптимизации для весов (weights и bias) нейрона>\n",
        "    neuron.w -= learning_rate*neuron.dweights\n",
        "    neuron.b -= learning_rate*neuron.dbias"
      ]
    },
    {
      "cell_type": "markdown",
      "source": [
        "**Оптимизация весов нейрона** — это процесс настройки весовых коэффициентов связей между нейронами в нейронной сети. Он осуществляется с целью улучшения качества предсказаний или классификации модели.\n",
        "\n"
      ],
      "metadata": {
        "id": "ZEjnV_qpCKD2"
      }
    },
    {
      "cell_type": "markdown",
      "metadata": {
        "id": "as-QeWSdOELd"
      },
      "source": [
        "Вычисления для этой задачи:\n",
        "[1](https://i.ibb.co/rmtQT6P/photo-2021-02-15-18-00-43.jpg)\n",
        "[2](https://i.ibb.co/NmCFVnQ/photo-2021-02-15-18-01-17.jpg)"
      ]
    },
    {
      "cell_type": "markdown",
      "metadata": {
        "id": "dr9qq4H_J3zt"
      },
      "source": [
        "2.4.1.1 Модифицируйте класс `MSELoss` из __2.3.1__, реализовав расчет производной относительно предыдущего слоя с учетом того, что теперь работа ведется с батчами, а не с индивидуальными примерами\n"
      ]
    },
    {
      "cell_type": "markdown",
      "source": [
        "![](https://wikimedia.org/api/rest_v1/media/math/render/svg/e258221518869aa1c6561bb75b99476c4734108e)"
      ],
      "metadata": {
        "id": "qyKgmncDaKEw"
      }
    },
    {
      "cell_type": "code",
      "execution_count": null,
      "metadata": {
        "id": "L8wjk9iPMQ4x"
      },
      "outputs": [],
      "source": [
        "class MSELoss:\n",
        "  def forward(self, y_pred, y_true):\n",
        "    return  ((y_pred.view(-1, 1) - y_true.view(-1, 1)) ** 2).mean() # <реализовать логику MSE> ((y_pred - y_true)**2).mean()\n",
        "\n",
        "  def backward(self, y_pred, y_true):\n",
        "    self.dinput = -2 *(y_true.view(-1, 1) - y_pred.view(-1, 1)) / y_true.shape[0]\n",
        "    #self.dinput = 2*(y_pred - y_true) # df/dy^"
      ]
    },
    {
      "cell_type": "markdown",
      "metadata": {
        "id": "E3fSHCEtJjX8"
      },
      "source": [
        "2.4.2.2. Модифицируйте класс `Neuron` из __2.4.1.2__:\n",
        "\n",
        "  1) Реализуйте метод `forward` таким образом, чтобы он мог принимать на вход матрицу (батч) с данными.\n",
        "\n",
        "  2) Реализуйте расчет градиента относительно весов `weights` и `bias` с учетом того, что теперь работа ведется с батчами, а не с индивидуальными примерами"
      ]
    },
    {
      "cell_type": "code",
      "execution_count": null,
      "metadata": {
        "id": "o_OpuAP0Jpz1"
      },
      "outputs": [],
      "source": [
        "class Neuron:\n",
        "  def __init__(self, n_inputs):\n",
        "    # <создать атрибуты объекта weights и bias>\n",
        "    self.w = torch.randn(n_inputs)\n",
        "    self.b = torch.randn(1)\n",
        "\n",
        "  def forward(self, inputs):\n",
        "    self.inputs = inputs\n",
        "    return torch.matmul(inputs, self.w) + self.b # умножение матриц\n",
        "    # torch.dot(inputs, self.w)+self.b  # <реализовать логику нейрона>\n",
        "\n",
        "  def backward(self, dvalue):\n",
        "    # dvalue - значение градиента, которое приходит нейрону от следующего слоя сети\n",
        "    # в данном случае это будет градиент L по y^ (созданный методом backwards у объекта MSELoss)\n",
        "    self.dweights = self.inputs * dvalue # df/dW\n",
        "    self.dbias = dvalue # df/db"
      ]
    },
    {
      "cell_type": "code",
      "source": [
        "inputs"
      ],
      "metadata": {
        "colab": {
          "base_uri": "https://localhost:8080/"
        },
        "id": "YXjBl32WNhOy",
        "outputId": "6f298251-84c2-4d01-a108-e5c080a20fe6"
      },
      "execution_count": null,
      "outputs": [
        {
          "output_type": "execute_result",
          "data": {
            "text/plain": [
              "tensor([[ 1.0000,  2.0000,  3.0000,  2.5000],\n",
              "        [ 2.0000,  5.0000, -1.0000,  2.0000],\n",
              "        [-1.5000,  2.7000,  3.3000, -0.8000]])"
            ]
          },
          "metadata": {},
          "execution_count": 334
        }
      ]
    },
    {
      "cell_type": "markdown",
      "metadata": {
        "id": "zO-NZrgKMBFx"
      },
      "source": [
        "2.4.2.3 Допишите цикл для настройки весов нейрона"
      ]
    },
    {
      "cell_type": "code",
      "source": [
        "n_inputs = X.size()[1]# <размерность элемента выборки >\n",
        "learning_rate = 0.1 #  скорость обучения\n",
        "n_epoch = 100 #  количество эпох\n",
        "\n",
        "neuron = Neuron(n_inputs)\n",
        "loss = MSELoss()\n",
        "\n",
        "losses = []\n",
        "for epoch in range(100):\n",
        "    for x_example, y_example in zip(X, y):\n",
        "    # forward pass\n",
        "        y_pred = neuron.forward(x_example)# <прогон через нейрон>\n",
        "        curr_loss = loss.forward(y_pred, y_example)# <прогон через функцию потерь>\n",
        "        losses.append(curr_loss)\n",
        "\n",
        "        # backprop\n",
        "        # <вызов методов backward>\n",
        "        loss.backward(y_pred, y_example) # атрибут класса\n",
        "        neuron.backward(loss.dinput)\n",
        "        # обратите внимание на последовательность вызовов: от конца к началу\n",
        "\n",
        "    # <шаг оптимизации для весов (weights и bias) нейрона>\n",
        "        neuron.w -= learning_rate*neuron.dweights\n",
        "        neuron.b -= learning_rate*neuron.dbias"
      ],
      "metadata": {
        "id": "KmwHFhBOOmES"
      },
      "execution_count": null,
      "outputs": []
    },
    {
      "cell_type": "markdown",
      "metadata": {
        "id": "16VtP159OdMk"
      },
      "source": [
        "2.4.3  Используя один полносвязный слой и  пакетный градиетный спуск, решите задачу регрессии из __2.4.1__"
      ]
    },
    {
      "cell_type": "markdown",
      "metadata": {
        "id": "uj5febreSSZ7"
      },
      "source": [
        "2.4.3.1 Модифицируйте класс `Linear` из __2.1.4__. ([вычисление градиентов](https://i.ibb.co/kgVR6m6/photo-2021-02-15-21-30-28.jpg))"
      ]
    },
    {
      "cell_type": "code",
      "execution_count": null,
      "metadata": {
        "id": "9zWuhaLdSB2_"
      },
      "outputs": [],
      "source": [
        "class Linear:\n",
        "    def __init__(self, n_features, n_neurons):\n",
        "        # <создать атрибуты объекта weights и biases>\n",
        "        self.weights = torch.randn(n_neurons, n_features).T\n",
        "        self.biases = torch.randn(n_neurons)\n",
        "\n",
        "    def forward(self, inputs):\n",
        "        self.inputs = inputs\n",
        "        return torch.matmul(inputs, self.weights) + self.biases # <реализовать логику слоя>\n",
        "\n",
        "    def backward(self, dvalues):\n",
        "        self.dweights = torch.matmul(self.inputs.T, dvalues) # df/dW\n",
        "        self.dbiases = torch.matmul(torch.ones(dvalues.shape[0]), dvalues) # df/db\n",
        "        self.dinputs = torch.matmul(dvalues, self.weights.T) # df/dX"
      ]
    },
    {
      "cell_type": "markdown",
      "metadata": {
        "id": "j3w1hT9MS_Lt"
      },
      "source": [
        "2.4.3.2 Создайте слой с одним нейроном. Используя класс MSELoss из 2.4.2, убедитесь, что модель обучается"
      ]
    },
    {
      "cell_type": "code",
      "execution_count": null,
      "metadata": {
        "id": "vRhgmfdsbYrB",
        "colab": {
          "base_uri": "https://localhost:8080/"
        },
        "outputId": "6a2a47f1-c045-4eae-bbb6-1e55a8a0d0cf"
      },
      "outputs": [
        {
          "output_type": "execute_result",
          "data": {
            "text/plain": [
              "[tensor(8294.7275),\n",
              " tensor(3.6036),\n",
              " tensor(0.0064),\n",
              " tensor(1.4075e-05),\n",
              " tensor(7.7613e-08)]"
            ]
          },
          "metadata": {},
          "execution_count": 340
        }
      ],
      "source": [
        "n_inputs = X.shape[1]  # <размерность элемента выборки >\n",
        "learning_rate = 0.01  #  скорость обучения\n",
        "n_epoch = 1000  #  количество эпох\n",
        "\n",
        "layer = Linear(n_inputs, 1)\n",
        "loss = MSELoss()\n",
        "\n",
        "losses = []\n",
        "\n",
        "for epoch in range(n_epoch):\n",
        "    # forward pass\n",
        "    y_pred = layer.forward(X)  # <прогон через нейрон>\n",
        "    curr_loss = loss.forward(y_pred, y)  # <прогон через функцию потерь>\n",
        "    losses.append(curr_loss)\n",
        "\n",
        "    # backprop\n",
        "    # <вызов методов backward>\n",
        "    # обратите внимание на последовательность вызовов: от конца к началу\n",
        "    loss.backward(y_pred, y)\n",
        "    layer.backward(loss.dinput)\n",
        "\n",
        "    # <шаг оптимизации для весов (weights и bias) нейрона>\n",
        "    layer.weights -= learning_rate * layer.dweights\n",
        "    layer.biases -= learning_rate * layer.dbiases\n",
        "\n",
        "losses[::200]"
      ]
    },
    {
      "cell_type": "markdown",
      "metadata": {
        "id": "RTkJV-F8TVuN"
      },
      "source": [
        "2.4.4 Используя наработки из 2.4, создайте нейросеть и решите задачу регрессии.\n",
        "\n",
        "Предлагаемая архитектура:\n",
        "1. Полносвязный слой с 10 нейронами\n",
        "2. Активация ReLU\n",
        "3. Полносвязный слой с 1 нейроном"
      ]
    },
    {
      "cell_type": "code",
      "execution_count": null,
      "metadata": {
        "id": "axUjpPz-SvS1"
      },
      "outputs": [],
      "source": [
        "X = torch.linspace(-1, 1, 100).view(-1, 1) # создает одномерный тензор, содержащий равномерно распределенные значения в заданном интервале.\n",
        "y = X.pow(2) + 0.2 * torch.rand(X.size())"
      ]
    },
    {
      "cell_type": "markdown",
      "source": [
        "inputs.clip(min=0) это функция в Python, которая применяется к массиву или итерируемому объекту inputs и гарантирует, что все его элементы будут не меньше нуля.\n",
        "\n",
        "Если какой-либо элемент массива inputs меньше нуля, то функция clip() заменит его на ноль, сохраняя все остальные элементы без изменений. Если элемент равен или больше нуля, то она оставит его без изменений.\n"
      ],
      "metadata": {
        "id": "18nwyQlRwvG4"
      }
    },
    {
      "cell_type": "code",
      "execution_count": null,
      "metadata": {
        "id": "LXoiNxkpTziV"
      },
      "outputs": [],
      "source": [
        "class Activation_ReLU:\n",
        "  def forward(self, inputs):\n",
        "    self.inputs = inputs\n",
        "    self.output = inputs.clip(min=0)\n",
        "    return self.output\n",
        "\n",
        "  def backward(self, dvalues):\n",
        "    self.dinputs = dvalues.clone()\n",
        "    self.dinputs[self.inputs <= 0] = 0"
      ]
    },
    {
      "cell_type": "code",
      "execution_count": null,
      "metadata": {
        "id": "tXhspwW6T44T",
        "colab": {
          "base_uri": "https://localhost:8080/"
        },
        "outputId": "b0a2bc56-2249-4145-a3c0-d43907da00d4"
      },
      "outputs": [
        {
          "output_type": "stream",
          "name": "stdout",
          "text": [
            "epoch 0 mean loss 2.607083320617676\n",
            "epoch 100000 mean loss 1.7549662590026855\n",
            "epoch 200000 mean loss 1.2197035551071167\n",
            "epoch 300000 mean loss 0.8719602227210999\n",
            "epoch 400000 mean loss 0.6403389573097229\n",
            "epoch 500000 mean loss 0.48530226945877075\n",
            "epoch 600000 mean loss 0.3786512315273285\n",
            "epoch 700000 mean loss 0.30306077003479004\n",
            "epoch 800000 mean loss 0.24830323457717896\n",
            "epoch 900000 mean loss 0.20694002509117126\n"
          ]
        }
      ],
      "source": [
        "# создание компонентов сети\n",
        "fc1 = Linear(X.shape[1], 10)\n",
        "relu1 = Activation_ReLU()\n",
        "fc2 = Linear(10, 1)\n",
        "\n",
        "loss = MSELoss()\n",
        "lr = 0.02\n",
        "\n",
        "ys = []\n",
        "for epoch in range(1000000):\n",
        "  # <forward pass>\n",
        "  # fc1 > relu1 > fc2 > loss\n",
        "  y_pred = fc2.forward(relu1.forward(fc1.forward(X)))\n",
        "  data_loss = loss.forward(y_pred, y) # <прогон через функцию потерь>\n",
        "\n",
        "\n",
        "  if epoch % 100000 == 0:\n",
        "    print(f'epoch {epoch} mean loss {data_loss}')\n",
        "    ys.append(y_pred)\n",
        "\n",
        "  # <backprop>\n",
        "  # loss > fc2 > relu1 > fc1\n",
        "    loss.backward(y_pred, y)\n",
        "    fc2.backward(loss.dinput)\n",
        "    relu1.backward(fc2.dinputs)\n",
        "    fc1.backward(relu1.dinputs)\n",
        "  # <шаг оптимизации для fc1>\n",
        "    fc1.weights -= lr * fc1.dweights\n",
        "    fc1.biases -= lr * fc1.dbiases\n",
        "  # <шаг оптимизации для fc2>\n",
        "    fc2.weights -= lr * fc2.dweights\n",
        "    fc2.biases -= lr * fc2.dbiases"
      ]
    },
    {
      "cell_type": "code",
      "execution_count": null,
      "metadata": {
        "id": "kpKi0OfoUkwk",
        "colab": {
          "base_uri": "https://localhost:8080/",
          "height": 1000
        },
        "outputId": "840f8247-9e1a-44cd-c1f1-aae3e017a9db"
      },
      "outputs": [
        {
          "output_type": "display_data",
          "data": {
            "text/plain": [
              "<Figure size 1000x4000 with 10 Axes>"
            ],
            "image/png": "[encoded data removed]"
          },
          "metadata": {}
        }
      ],
      "source": [
        "import matplotlib.pyplot as plt\n",
        "\n",
        "fig, axs = plt.subplots(len(ys), 1, figsize=(10, 40))\n",
        "for ax, y_ in zip(axs, ys):\n",
        "  ax.scatter(X.numpy(), y.numpy(), color = \"orange\")\n",
        "  ax.plot(X.numpy(), y_.numpy(), 'g-', lw=3)\n",
        "  ax.set_xlim(-1.05, 1.5)\n",
        "  ax.set_ylim(-0.25, 1.25)"
      ]
    }
  ],
  "metadata": {
    "colab": {
      "provenance": []
    },
    "kernelspec": {
      "display_name": "Python 3",
      "language": "python",
      "name": "python3"
    },
    "language_info": {
      "codemirror_mode": {
        "name": "ipython",
        "version": 3
      },
      "file_extension": ".py",
      "mimetype": "text/x-python",
      "name": "python",
      "nbconvert_exporter": "python",
      "pygments_lexer": "ipython3",
      "version": "3.8.3"
    }
  },
  "nbformat": 4,
  "nbformat_minor": 0
}