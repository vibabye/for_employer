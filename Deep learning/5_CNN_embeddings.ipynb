{
  "nbformat": 4,
  "nbformat_minor": 0,
  "metadata": {
    "colab": {
      "provenance": []
    },
    "kernelspec": {
      "name": "python3",
      "display_name": "Python 3"
    },
    "language_info": {
      "name": "python"
    }
  },
  "cells": [
    {
      "cell_type": "code",
      "metadata": {
        "id": "XtFQP3RNll3c",
        "colab": {
          "base_uri": "https://localhost:8080/"
        },
        "outputId": "d6a65f1e-c059-4f6f-81cb-3d1864af3163"
      },
      "source": [
        "import re\n",
        "import nltk\n",
        "\n",
        "import torch\n",
        "from torch.utils.data import Dataset, DataLoader\n",
        "import torch.nn as nn\n",
        "import torch.optim as optim\n",
        "\n",
        "import pandas as pd\n",
        "from sklearn.model_selection import train_test_split\n",
        "from sklearn.metrics import accuracy_score\n",
        "from nltk.tokenize import word_tokenize\n",
        "from sklearn.preprocessing import LabelEncoder\n",
        "from nltk.corpus import stopwords\n",
        "import string\n",
        "from string import punctuation\n",
        "import numpy as np\n",
        "import torch.nn.functional as F\n",
        "import matplotlib.pyplot as plt\n",
        "from sklearn.utils import shuffle\n",
        "from torch.nn.utils.rnn import pad_sequence\n",
        "from torchtext.data.utils import get_tokenizer\n",
        "nltk.download('punkt')"
      ],
      "execution_count": null,
      "outputs": [
        {
          "output_type": "stream",
          "name": "stderr",
          "text": [
            "[nltk_data] Downloading package punkt to /root/nltk_data...\n",
            "[nltk_data]   Unzipping tokenizers/punkt.zip.\n"
          ]
        },
        {
          "output_type": "execute_result",
          "data": {
            "text/plain": [
              "True"
            ]
          },
          "metadata": {},
          "execution_count": 1
        }
      ]
    },
    {
      "cell_type": "code",
      "source": [
        "nltk.download('stopwords')"
      ],
      "metadata": {
        "colab": {
          "base_uri": "https://localhost:8080/"
        },
        "id": "yzLnfnrArZ_A",
        "outputId": "68030e6e-51e9-4626-e2c2-81a48aa9fe91"
      },
      "execution_count": null,
      "outputs": [
        {
          "output_type": "stream",
          "name": "stderr",
          "text": [
            "[nltk_data] Downloading package stopwords to /root/nltk_data...\n",
            "[nltk_data]   Unzipping corpora/stopwords.zip.\n"
          ]
        },
        {
          "output_type": "execute_result",
          "data": {
            "text/plain": [
              "True"
            ]
          },
          "metadata": {},
          "execution_count": 2
        }
      ]
    },
    {
      "cell_type": "code",
      "metadata": {
        "colab": {
          "base_uri": "https://localhost:8080/"
        },
        "id": "1aszp7KbOstY",
        "outputId": "e20cf0c7-b66a-4b8c-f053-2118cfc9f581"
      },
      "source": [
        "from google.colab import drive\n",
        "drive.mount('/content/drive/')"
      ],
      "execution_count": null,
      "outputs": [
        {
          "output_type": "stream",
          "name": "stdout",
          "text": [
            "Mounted at /content/drive/\n"
          ]
        }
      ]
    },
    {
      "cell_type": "markdown",
      "metadata": {
        "id": "tx75RigN8xIJ"
      },
      "source": [
        "## 1. Представление и предобработка текстовых данных в виде последовательностей"
      ]
    },
    {
      "cell_type": "markdown",
      "metadata": {
        "id": "LScKIAey9dAM"
      },
      "source": [
        "1.1 Представьте первое предложение из строки `text` как последовательность из индексов слов, входящих в это предложение"
      ]
    },
    {
      "cell_type": "code",
      "metadata": {
        "id": "phEw721T9SYW"
      },
      "source": [
        "text = 'Select your preferences and run the install command. Stable represents the most currently tested and supported version of PyTorch. Note that LibTorch is only available for C++'"
      ],
      "execution_count": null,
      "outputs": []
    },
    {
      "cell_type": "code",
      "source": [
        "tokens = word_tokenize(text)\n",
        "\n",
        "filtered_tokens = [word.lower() for word in tokens if word.lower() not in string.punctuation]\n",
        "\n",
        "word_index = {word: idx for idx, word in enumerate(filtered_tokens, start=1)}\n",
        "\n",
        "# Преобразование первого предложения в последовательность индексов\n",
        "first_sentence = word_tokenize(text.lower().split('.')[0])\n",
        "sentence_idx = [word_index[word] for word in first_sentence if word not in string.punctuation]\n",
        "\n",
        "print(\"Словарь слов и их индексов:\", word_index)\n",
        "print('')\n",
        "print(\"Последовательность индексов для первого предложения:\", sentence_idx)"
      ],
      "metadata": {
        "colab": {
          "base_uri": "https://localhost:8080/"
        },
        "id": "-idzLSrWxlU7",
        "outputId": "4a82447b-d3a5-45c4-a6a5-e9ab54cb90a2"
      },
      "execution_count": null,
      "outputs": [
        {
          "output_type": "stream",
          "name": "stdout",
          "text": [
            "Словарь слов и их индексов: {'select': 1, 'your': 2, 'preferences': 3, 'and': 15, 'run': 5, 'the': 11, 'install': 7, 'command': 8, 'stable': 9, 'represents': 10, 'most': 12, 'currently': 13, 'tested': 14, 'supported': 16, 'version': 17, 'of': 18, 'pytorch': 19, 'note': 20, 'that': 21, 'libtorch': 22, 'is': 23, 'only': 24, 'available': 25, 'for': 26, 'c++': 27}\n",
            "\n",
            "Последовательность индексов для первого предложения: [1, 2, 3, 15, 5, 11, 7, 8]\n"
          ]
        }
      ]
    },
    {
      "cell_type": "markdown",
      "metadata": {
        "id": "pSFQCPtD9x5J"
      },
      "source": [
        "1.2 Представьте первое предложение из строки `text` как последовательность векторов, соответствующих индексам слов. Для представления индекса в виде вектора используйте унитарное кодирование. В результате должен получиться двумерный тензор размера `количество слов в предложении` x `количество уникальных слов`"
      ]
    },
    {
      "cell_type": "code",
      "metadata": {
        "id": "RZS4XLV0-buf"
      },
      "source": [
        "text = 'Select your preferences and run the install command. Stable represents the most currently tested and supported version of PyTorch. Note that LibTorch is only available for C++'"
      ],
      "execution_count": null,
      "outputs": []
    },
    {
      "cell_type": "code",
      "source": [
        "first_sentence = text.split('.')[0]\n",
        "words = first_sentence.split()\n",
        "unique_words = list(set(words))\n",
        "\n",
        "word_to_index = {word: i for i, word in enumerate(unique_words)}\n",
        "word_indices = [word_to_index[word] for word in words]\n",
        "num_unique_words = len(unique_words)\n",
        "\n",
        "binary_word_vectors = torch.zeros(len(words), num_unique_words)\n",
        "\n",
        "for i, index in enumerate(word_indices):\n",
        "    binary_word_vectors[i, index] = 1.0\n",
        "\n",
        "print(\"Унитарное кодирование слов первого предложения в виде векторов:\")\n",
        "print(binary_word_vectors)"
      ],
      "metadata": {
        "colab": {
          "base_uri": "https://localhost:8080/"
        },
        "id": "6XQ382QQEiCB",
        "outputId": "5fa89615-38c8-4a9b-b5cd-b797b9dd8a83"
      },
      "execution_count": null,
      "outputs": [
        {
          "output_type": "stream",
          "name": "stdout",
          "text": [
            "Унитарное кодирование слов первого предложения в виде векторов:\n",
            "tensor([[0., 0., 0., 0., 0., 1., 0., 0.],\n",
            "        [0., 0., 0., 0., 0., 0., 0., 1.],\n",
            "        [1., 0., 0., 0., 0., 0., 0., 0.],\n",
            "        [0., 0., 0., 1., 0., 0., 0., 0.],\n",
            "        [0., 0., 1., 0., 0., 0., 0., 0.],\n",
            "        [0., 1., 0., 0., 0., 0., 0., 0.],\n",
            "        [0., 0., 0., 0., 1., 0., 0., 0.],\n",
            "        [0., 0., 0., 0., 0., 0., 1., 0.]])\n"
          ]
        }
      ]
    },
    {
      "cell_type": "markdown",
      "metadata": {
        "id": "9ZvQKHYA-mJN"
      },
      "source": [
        "1.3 Решите задачу 1.2, используя модуль `nn.Embedding`"
      ]
    },
    {
      "cell_type": "code",
      "source": [
        "text = 'Select your preferences and run the install command. Stable represents the most currently tested and supported version of PyTorch. Note that LibTorch is only available for C++'"
      ],
      "metadata": {
        "id": "rOI2a2LMA3Ei"
      },
      "execution_count": null,
      "outputs": []
    },
    {
      "cell_type": "code",
      "source": [
        "first_sentence = text.split('.')[0]\n",
        "\n",
        "words = first_sentence.split()\n",
        "unique_words = list(set(words))\n",
        "word_to_index = {word: i for i, word in enumerate(unique_words)}\n",
        "\n",
        "word_indices = [word_to_index[word] for word in words]\n",
        "\n",
        "num_unique_words = len(unique_words)\n",
        "\n",
        "eye_matrix = torch.eye(num_unique_words)\n",
        "\n",
        "embedding = nn.Embedding(num_unique_words, num_unique_words, _weight=eye_matrix)\n",
        "\n",
        "word_vectors = embedding(torch.LongTensor(word_indices))\n",
        "\n",
        "print(\"Унитарное кодирование слов первого предложения в виде векторов:\")\n",
        "print(word_vectors)"
      ],
      "metadata": {
        "colab": {
          "base_uri": "https://localhost:8080/"
        },
        "id": "klIOjinfEEwy",
        "outputId": "aac7d892-96ef-4f7e-bbe5-779148cfcc8a"
      },
      "execution_count": null,
      "outputs": [
        {
          "output_type": "stream",
          "name": "stdout",
          "text": [
            "Унитарное кодирование слов первого предложения в виде векторов:\n",
            "tensor([[0., 0., 0., 0., 0., 1., 0., 0.],\n",
            "        [0., 0., 0., 0., 0., 0., 0., 1.],\n",
            "        [1., 0., 0., 0., 0., 0., 0., 0.],\n",
            "        [0., 0., 0., 1., 0., 0., 0., 0.],\n",
            "        [0., 0., 1., 0., 0., 0., 0., 0.],\n",
            "        [0., 1., 0., 0., 0., 0., 0., 0.],\n",
            "        [0., 0., 0., 0., 1., 0., 0., 0.],\n",
            "        [0., 0., 0., 0., 0., 0., 1., 0.]], grad_fn=<EmbeddingBackward0>)\n"
          ]
        }
      ]
    },
    {
      "cell_type": "markdown",
      "metadata": {
        "id": "TXjM7qEUNFY_"
      },
      "source": [
        "## 2. Классификация фамилий по национальности (ConvNet)\n",
        "\n",
        "Датасет: https://disk.yandex.ru/d/owHew8hzPc7X9Q?w=1\n",
        "\n",
        "2.1 Считать файл `surnames/surnames.csv`.\n",
        "\n",
        "2.2 Закодировать национальности числами, начиная с 0.\n",
        "\n",
        "2.3 Разбить датасет на обучающую и тестовую выборку\n",
        "\n",
        "2.4 Реализовать класс `Vocab` (токен = __символ__)\n",
        "  * добавьте в словарь специальный токен `<PAD>` с индексом 0\n",
        "  * при создании словаря сохраните длину самой длинной последовательности из набора данных в виде атрибута `max_seq_len`\n",
        "\n",
        "2.5 Реализовать класс `SurnamesDataset`\n",
        "  * метод `__getitem__` возвращает пару: <последовательность индексов токенов (см. 1.1 ), номер класса>\n",
        "  * длина каждой такой последовательности должна быть одинаковой и равной `vocab.max_seq_len`. Чтобы добиться этого, дополните последовательность справа индексом токена `<PAD>` до нужной длины\n",
        "\n",
        "2.6. Обучить классификатор.\n",
        "  \n",
        "  * Для преобразования последовательности индексов в последовательность векторов используйте `nn.Embedding`. Рассмотрите два варианта:\n",
        "    - когда токен представляется в виде унитарного вектора и модуль `nn.Embedding` не обучается\n",
        "    - когда токен представляется в виде вектора небольшой размерности (меньше, чем размер словаря) и модуль `nn.Embedding` обучается\n",
        "\n",
        "  * Используйте одномерные свертки и пулинг (`nn.Conv1d`, `nn.MaxPool1d`)\n",
        "    - обратите внимание, что `nn.Conv1d` ожидает на вход трехмерный тензор размерности `(batch, embedding_dim, seq_len)`\n",
        "\n",
        "2.7 Измерить точность на тестовой выборке. Проверить работоспособность модели: прогнать несколько фамилий студентов группы через модели и проверить результат. Для каждой фамилии выводить 3 наиболее вероятных предсказания."
      ]
    },
    {
      "cell_type": "code",
      "source": [
        "data = pd.read_csv('/content/drive/MyDrive/surnames.csv')\n",
        "\n",
        "nationalities = data['nationality'].unique()\n",
        "nationality_to_index = {nat: idx for idx, nat in enumerate(nationalities)}\n",
        "\n",
        "data['nationality'] = data['nationality'].map(nationality_to_index)\n",
        "\n",
        "data.head(5)"
      ],
      "metadata": {
        "colab": {
          "base_uri": "https://localhost:8080/",
          "height": 206
        },
        "id": "yVPMePa3LdEC",
        "outputId": "2e5703b4-b3e3-4155-d9ac-daa81c942617"
      },
      "execution_count": null,
      "outputs": [
        {
          "output_type": "execute_result",
          "data": {
            "text/plain": [
              "    surname  nationality\n",
              "0  Woodford            0\n",
              "1      Coté            1\n",
              "2      Kore            0\n",
              "3     Koury            2\n",
              "4    Lebzak            3"
            ],
            "text/html": [
              "\n",
              "  <div id=\"df-59503b74-3b43-4014-a1c0-4d0781ccc944\" class=\"colab-df-container\">\n",
              "    <div>\n",
              "<style scoped>\n",
              "    .dataframe tbody tr th:only-of-type {\n",
              "        vertical-align: middle;\n",
              "    }\n",
              "\n",
              "    .dataframe tbody tr th {\n",
              "        vertical-align: top;\n",
              "    }\n",
              "\n",
              "    .dataframe thead th {\n",
              "        text-align: right;\n",
              "    }\n",
              "</style>\n",
              "<table border=\"1\" class=\"dataframe\">\n",
              "  <thead>\n",
              "    <tr style=\"text-align: right;\">\n",
              "      <th></th>\n",
              "      <th>surname</th>\n",
              "      <th>nationality</th>\n",
              "    </tr>\n",
              "  </thead>\n",
              "  <tbody>\n",
              "    <tr>\n",
              "      <th>0</th>\n",
              "      <td>Woodford</td>\n",
              "      <td>0</td>\n",
              "    </tr>\n",
              "    <tr>\n",
              "      <th>1</th>\n",
              "      <td>Coté</td>\n",
              "      <td>1</td>\n",
              "    </tr>\n",
              "    <tr>\n",
              "      <th>2</th>\n",
              "      <td>Kore</td>\n",
              "      <td>0</td>\n",
              "    </tr>\n",
              "    <tr>\n",
              "      <th>3</th>\n",
              "      <td>Koury</td>\n",
              "      <td>2</td>\n",
              "    </tr>\n",
              "    <tr>\n",
              "      <th>4</th>\n",
              "      <td>Lebzak</td>\n",
              "      <td>3</td>\n",
              "    </tr>\n",
              "  </tbody>\n",
              "</table>\n",
              "</div>\n",
              "    <div class=\"colab-df-buttons\">\n",
              "\n",
              "  <div class=\"colab-df-container\">\n",
              "    <button class=\"colab-df-convert\" onclick=\"convertToInteractive('df-59503b74-3b43-4014-a1c0-4d0781ccc944')\"\n",
              "            title=\"Convert this dataframe to an interactive table.\"\n",
              "            style=\"display:none;\">\n",
              "\n",
              "  <svg xmlns=\"http://www.w3.org/2000/svg\" height=\"24px\" viewBox=\"0 -960 960 960\">\n",
              "    <path d=\"M120-120v-720h720v720H120Zm60-500h600v-160H180v160Zm220 220h160v-160H400v160Zm0 220h160v-160H400v160ZM180-400h160v-160H180v160Zm440 0h160v-160H620v160ZM180-180h160v-160H180v160Zm440 0h160v-160H620v160Z\"/>\n",
              "  </svg>\n",
              "    </button>\n",
              "\n",
              "  <style>\n",
              "    .colab-df-container {\n",
              "      display:flex;\n",
              "      gap: 12px;\n",
              "    }\n",
              "\n",
              "    .colab-df-convert {\n",
              "      background-color: #E8F0FE;\n",
              "      border: none;\n",
              "      border-radius: 50%;\n",
              "      cursor: pointer;\n",
              "      display: none;\n",
              "      fill: #1967D2;\n",
              "      height: 32px;\n",
              "      padding: 0 0 0 0;\n",
              "      width: 32px;\n",
              "    }\n",
              "\n",
              "    .colab-df-convert:hover {\n",
              "      background-color: #E2EBFA;\n",
              "      box-shadow: 0px 1px 2px rgba(60, 64, 67, 0.3), 0px 1px 3px 1px rgba(60, 64, 67, 0.15);\n",
              "      fill: #174EA6;\n",
              "    }\n",
              "\n",
              "    .colab-df-buttons div {\n",
              "      margin-bottom: 4px;\n",
              "    }\n",
              "\n",
              "    [theme=dark] .colab-df-convert {\n",
              "      background-color: #3B4455;\n",
              "      fill: #D2E3FC;\n",
              "    }\n",
              "\n",
              "    [theme=dark] .colab-df-convert:hover {\n",
              "      background-color: #434B5C;\n",
              "      box-shadow: 0px 1px 3px 1px rgba(0, 0, 0, 0.15);\n",
              "      filter: drop-shadow(0px 1px 2px rgba(0, 0, 0, 0.3));\n",
              "      fill: #FFFFFF;\n",
              "    }\n",
              "  </style>\n",
              "\n",
              "    <script>\n",
              "      const buttonEl =\n",
              "        document.querySelector('#df-59503b74-3b43-4014-a1c0-4d0781ccc944 button.colab-df-convert');\n",
              "      buttonEl.style.display =\n",
              "        google.colab.kernel.accessAllowed ? 'block' : 'none';\n",
              "\n",
              "      async function convertToInteractive(key) {\n",
              "        const element = document.querySelector('#df-59503b74-3b43-4014-a1c0-4d0781ccc944');\n",
              "        const dataTable =\n",
              "          await google.colab.kernel.invokeFunction('convertToInteractive',\n",
              "                                                    [key], {});\n",
              "        if (!dataTable) return;\n",
              "\n",
              "        const docLinkHtml = 'Like what you see? Visit the ' +\n",
              "          '<a target=\"_blank\" href=https://colab.research.google.com/notebooks/data_table.ipynb>data table notebook</a>'\n",
              "          + ' to learn more about interactive tables.';\n",
              "        element.innerHTML = '';\n",
              "        dataTable['output_type'] = 'display_data';\n",
              "        await google.colab.output.renderOutput(dataTable, element);\n",
              "        const docLink = document.createElement('div');\n",
              "        docLink.innerHTML = docLinkHtml;\n",
              "        element.appendChild(docLink);\n",
              "      }\n",
              "    </script>\n",
              "  </div>\n",
              "\n",
              "\n",
              "<div id=\"df-022771c9-0bea-48c3-af9a-27f5dbd97a29\">\n",
              "  <button class=\"colab-df-quickchart\" onclick=\"quickchart('df-022771c9-0bea-48c3-af9a-27f5dbd97a29')\"\n",
              "            title=\"Suggest charts\"\n",
              "            style=\"display:none;\">\n",
              "\n",
              "<svg xmlns=\"http://www.w3.org/2000/svg\" height=\"24px\"viewBox=\"0 0 24 24\"\n",
              "     width=\"24px\">\n",
              "    <g>\n",
              "        <path d=\"M19 3H5c-1.1 0-2 .9-2 2v14c0 1.1.9 2 2 2h14c1.1 0 2-.9 2-2V5c0-1.1-.9-2-2-2zM9 17H7v-7h2v7zm4 0h-2V7h2v10zm4 0h-2v-4h2v4z\"/>\n",
              "    </g>\n",
              "</svg>\n",
              "  </button>\n",
              "\n",
              "<style>\n",
              "  .colab-df-quickchart {\n",
              "      --bg-color: #E8F0FE;\n",
              "      --fill-color: #1967D2;\n",
              "      --hover-bg-color: #E2EBFA;\n",
              "      --hover-fill-color: #174EA6;\n",
              "      --disabled-fill-color: #AAA;\n",
              "      --disabled-bg-color: #DDD;\n",
              "  }\n",
              "\n",
              "  [theme=dark] .colab-df-quickchart {\n",
              "      --bg-color: #3B4455;\n",
              "      --fill-color: #D2E3FC;\n",
              "      --hover-bg-color: #434B5C;\n",
              "      --hover-fill-color: #FFFFFF;\n",
              "      --disabled-bg-color: #3B4455;\n",
              "      --disabled-fill-color: #666;\n",
              "  }\n",
              "\n",
              "  .colab-df-quickchart {\n",
              "    background-color: var(--bg-color);\n",
              "    border: none;\n",
              "    border-radius: 50%;\n",
              "    cursor: pointer;\n",
              "    display: none;\n",
              "    fill: var(--fill-color);\n",
              "    height: 32px;\n",
              "    padding: 0;\n",
              "    width: 32px;\n",
              "  }\n",
              "\n",
              "  .colab-df-quickchart:hover {\n",
              "    background-color: var(--hover-bg-color);\n",
              "    box-shadow: 0 1px 2px rgba(60, 64, 67, 0.3), 0 1px 3px 1px rgba(60, 64, 67, 0.15);\n",
              "    fill: var(--button-hover-fill-color);\n",
              "  }\n",
              "\n",
              "  .colab-df-quickchart-complete:disabled,\n",
              "  .colab-df-quickchart-complete:disabled:hover {\n",
              "    background-color: var(--disabled-bg-color);\n",
              "    fill: var(--disabled-fill-color);\n",
              "    box-shadow: none;\n",
              "  }\n",
              "\n",
              "  .colab-df-spinner {\n",
              "    border: 2px solid var(--fill-color);\n",
              "    border-color: transparent;\n",
              "    border-bottom-color: var(--fill-color);\n",
              "    animation:\n",
              "      spin 1s steps(1) infinite;\n",
              "  }\n",
              "\n",
              "  @keyframes spin {\n",
              "    0% {\n",
              "      border-color: transparent;\n",
              "      border-bottom-color: var(--fill-color);\n",
              "      border-left-color: var(--fill-color);\n",
              "    }\n",
              "    20% {\n",
              "      border-color: transparent;\n",
              "      border-left-color: var(--fill-color);\n",
              "      border-top-color: var(--fill-color);\n",
              "    }\n",
              "    30% {\n",
              "      border-color: transparent;\n",
              "      border-left-color: var(--fill-color);\n",
              "      border-top-color: var(--fill-color);\n",
              "      border-right-color: var(--fill-color);\n",
              "    }\n",
              "    40% {\n",
              "      border-color: transparent;\n",
              "      border-right-color: var(--fill-color);\n",
              "      border-top-color: var(--fill-color);\n",
              "    }\n",
              "    60% {\n",
              "      border-color: transparent;\n",
              "      border-right-color: var(--fill-color);\n",
              "    }\n",
              "    80% {\n",
              "      border-color: transparent;\n",
              "      border-right-color: var(--fill-color);\n",
              "      border-bottom-color: var(--fill-color);\n",
              "    }\n",
              "    90% {\n",
              "      border-color: transparent;\n",
              "      border-bottom-color: var(--fill-color);\n",
              "    }\n",
              "  }\n",
              "</style>\n",
              "\n",
              "  <script>\n",
              "    async function quickchart(key) {\n",
              "      const quickchartButtonEl =\n",
              "        document.querySelector('#' + key + ' button');\n",
              "      quickchartButtonEl.disabled = true;  // To prevent multiple clicks.\n",
              "      quickchartButtonEl.classList.add('colab-df-spinner');\n",
              "      try {\n",
              "        const charts = await google.colab.kernel.invokeFunction(\n",
              "            'suggestCharts', [key], {});\n",
              "      } catch (error) {\n",
              "        console.error('Error during call to suggestCharts:', error);\n",
              "      }\n",
              "      quickchartButtonEl.classList.remove('colab-df-spinner');\n",
              "      quickchartButtonEl.classList.add('colab-df-quickchart-complete');\n",
              "    }\n",
              "    (() => {\n",
              "      let quickchartButtonEl =\n",
              "        document.querySelector('#df-022771c9-0bea-48c3-af9a-27f5dbd97a29 button');\n",
              "      quickchartButtonEl.style.display =\n",
              "        google.colab.kernel.accessAllowed ? 'block' : 'none';\n",
              "    })();\n",
              "  </script>\n",
              "</div>\n",
              "    </div>\n",
              "  </div>\n"
            ]
          },
          "metadata": {},
          "execution_count": 88
        }
      ]
    },
    {
      "cell_type": "code",
      "source": [
        "train_df, test_df = train_test_split(data, test_size=0.2, random_state=42)"
      ],
      "metadata": {
        "id": "nsyiPtmwPGTS"
      },
      "execution_count": null,
      "outputs": []
    },
    {
      "cell_type": "code",
      "source": [
        "class Vocab:\n",
        "    def __init__(self, tokens):\n",
        "        self.token_to_index = {token: idx + 1 for idx, token in enumerate(tokens)}\n",
        "        self.token_to_index['<PAD>'] = 0\n",
        "        self.index_to_token = {idx: token for token, idx in self.token_to_index.items()}\n",
        "        self.max_seq_len = max(len(token) for token in tokens)"
      ],
      "metadata": {
        "id": "s5-tMksXPITP"
      },
      "execution_count": null,
      "outputs": []
    },
    {
      "cell_type": "code",
      "source": [
        "all_tokens = set(\" \".join(data['surname']).split())\n",
        "vocab = Vocab(all_tokens)"
      ],
      "metadata": {
        "id": "ZKT0JiuNPKEp"
      },
      "execution_count": null,
      "outputs": []
    },
    {
      "cell_type": "code",
      "source": [
        "class SurnamesDataset(Dataset):\n",
        "    def __init__(self, df, vocab):\n",
        "        self.df = df\n",
        "        self.vocab = vocab\n",
        "\n",
        "    def __len__(self):\n",
        "        return len(self.df)\n",
        "\n",
        "    def __getitem__(self, idx):\n",
        "        surname = self.df.iloc[idx]['surname'].lower()\n",
        "        nationality = self.df.iloc[idx]['nationality']\n",
        "\n",
        "\n",
        "        indices = [self.vocab.token_to_index[char] for char in surname if char in self.vocab.token_to_index]\n",
        "        indices += [self by.vocab.token_to_index['<PAD>']] * (self.vocab.max_seq_len - len(indices))\n",
        "\n",
        "        return {'indices': torch.tensor(indices).long(), 'nationality': torch.tensor(nationality).long()}"
      ],
      "metadata": {
        "id": "1M5gr-puLm2R"
      },
      "execution_count": null,
      "outputs": []
    },
    {
      "cell_type": "code",
      "source": [
        "class SimpleClassifier(nn.Module):\n",
        "    def __init__(self, vocab_size, embedding_dim, output_size):\n",
        "        super(SimpleClassifier, self).__init__()\n",
        "        self.embedding = nn.Embedding(vocab_size, embedding_dim)\n",
        "        self.conv1d_1 = nn.Conv1d(embedding_dim, 128, kernel_size=3)\n",
        "        self.bn1 = nn.BatchNorm1d(128)\n",
        "        self.conv1d_2 = nn.Conv1d(128, 256, kernel_size=3)\n",
        "        self.bn2 = nn.BatchNorm1d(256)\n",
        "        self.pool = nn.MaxPool1d(2)\n",
        "        self.fc = nn.Linear(256 * ((vocab.max_seq_len - 4) // 2), output_size)\n",
        "\n",
        "    def forward(self, x):\n",
        "        x = self.embedding(x)\n",
        "        x = x.permute(0, 2, 1)\n",
        "        x = self.conv1d_1(x)\n",
        "        x = F.relu(x)\n",
        "        x = self.bn1(x)\n",
        "        x = self.conv1d_2(x)\n",
        "        x = F.relu(x)\n",
        "        x = self.bn2(x)\n",
        "        x = self.pool(x)\n",
        "        x = x.view(x.size(0), -1)\n",
        "        x = self.fc(x)\n",
        "        return x"
      ],
      "metadata": {
        "id": "rbLQpdfUOoDJ"
      },
      "execution_count": null,
      "outputs": []
    },
    {
      "cell_type": "code",
      "source": [
        "vocab_size = len(vocab.token_to_index)\n",
        "embedding_dim = 10\n",
        "output_size = len(nationalities)"
      ],
      "metadata": {
        "id": "HuWvuwU9LsfP"
      },
      "execution_count": null,
      "outputs": []
    },
    {
      "cell_type": "code",
      "source": [
        "model = SimpleClassifier(vocab_size, embedding_dim, output_size)\n",
        "criterion = nn.CrossEntropyLoss()\n",
        "optimizer = optim.Adam(model.parameters(), lr=0.00001, weight_decay=0.01)"
      ],
      "metadata": {
        "id": "THgad3kzVUl3"
      },
      "execution_count": null,
      "outputs": []
    },
    {
      "cell_type": "code",
      "source": [
        "epochs = 20\n",
        "batch_size = 32"
      ],
      "metadata": {
        "id": "SmLDMYLzVWu6"
      },
      "execution_count": null,
      "outputs": []
    },
    {
      "cell_type": "code",
      "source": [
        "train_dataset = SurnamesDataset(train_df, vocab)\n",
        "train_loader = torch.utils.data.DataLoader(train_dataset, batch_size=batch_size, shuffle=True)\n",
        "\n",
        "test_dataset = SurnamesDataset(test_df, vocab)\n",
        "test_loader = torch.utils.data.DataLoader(test_dataset, batch_size=batch_size, shuffle=False)"
      ],
      "metadata": {
        "id": "60pVskgcPriK"
      },
      "execution_count": null,
      "outputs": []
    },
    {
      "cell_type": "code",
      "source": [
        "train_losses = []\n",
        "test_losses = []"
      ],
      "metadata": {
        "id": "Iky2RboiVTBv"
      },
      "execution_count": null,
      "outputs": []
    },
    {
      "cell_type": "code",
      "source": [
        "for epoch in range(epochs):\n",
        "    running_loss = 0.0\n",
        "    for batch in train_loader:\n",
        "        indices, nationality = batch['indices'], batch['nationality']\n",
        "        indices = indices.long()\n",
        "        nationality = nationality.long()\n",
        "\n",
        "        optimizer.zero_grad()\n",
        "        outputs = model(indices)\n",
        "        loss = criterion(outputs, nationality)\n",
        "        loss.backward()\n",
        "        optimizer.step()\n",
        "\n",
        "        running_loss += loss.item()\n",
        "\n",
        "    train_losses.append(running_loss / len(train_loader))\n",
        "\n",
        "\n",
        "    test_loss = 0.0\n",
        "    correct = 0\n",
        "    total = 0\n",
        "\n",
        "    with torch.no_grad():\n",
        "        for batch in test_loader:\n",
        "            indices, nationality = batch['indices'], batch['nationality']\n",
        "            indices = indices.long()\n",
        "            nationality = nationality.long()\n",
        "\n",
        "            outputs = model(indices)\n",
        "            loss = criterion(outputs, nationality)\n",
        "            test_loss += loss.item()\n",
        "\n",
        "            _, predicted = torch.max(outputs.data, 1)\n",
        "            total += nationality.size(0)\n",
        "            correct += (predicted == nationality).sum().item()\n",
        "\n",
        "    test_losses.append(test_loss / len(test_loader))\n",
        "\n",
        "    print(f'Epoch {epoch + 1}, Training Loss: {train_losses[-1]}, Test Loss: {test_losses[-1]}, Test Accuracy: {(correct / total) * 100:.2f}%')"
      ],
      "metadata": {
        "colab": {
          "base_uri": "https://localhost:8080/"
        },
        "id": "PX-2cFrPUDeQ",
        "outputId": "75d71050-335e-4442-df16-f03bf87ba210"
      },
      "execution_count": null,
      "outputs": [
        {
          "output_type": "stream",
          "name": "stdout",
          "text": [
            "Epoch 1, Training Loss: 2.881910830411044, Test Loss: 2.87362457703853, Test Accuracy: 26.87%\n",
            "Epoch 2, Training Loss: 2.8527712787281385, Test Loss: 2.824912755385689, Test Accuracy: 26.87%\n",
            "Epoch 3, Training Loss: 2.7820143742994827, Test Loss: 2.734613791756008, Test Accuracy: 26.87%\n",
            "Epoch 4, Training Loss: 2.678302738016302, Test Loss: 2.6223310111225517, Test Accuracy: 26.87%\n",
            "Epoch 5, Training Loss: 2.5639283310283316, Test Loss: 2.5107202322586724, Test Accuracy: 26.87%\n",
            "Epoch 6, Training Loss: 2.459454096880826, Test Loss: 2.4161109958869824, Test Accuracy: 26.87%\n",
            "Epoch 7, Training Loss: 2.3760782727328214, Test Loss: 2.3462518367214478, Test Accuracy: 26.87%\n",
            "Epoch 8, Training Loss: 2.317490388696844, Test Loss: 2.3000211301057236, Test Accuracy: 26.87%\n",
            "Epoch 9, Training Loss: 2.281045699119568, Test Loss: 2.2718831024308135, Test Accuracy: 26.87%\n",
            "Epoch 10, Training Loss: 2.2587201127139003, Test Loss: 2.256363246751868, Test Accuracy: 26.87%\n",
            "Epoch 11, Training Loss: 2.2464999641071666, Test Loss: 2.247441744458848, Test Accuracy: 26.87%\n",
            "Epoch 12, Training Loss: 2.239625828482888, Test Loss: 2.2423194785048994, Test Accuracy: 26.87%\n",
            "Epoch 13, Training Loss: 2.2356266073747113, Test Loss: 2.239073523576709, Test Accuracy: 26.87%\n",
            "Epoch 14, Training Loss: 2.2331519985198973, Test Loss: 2.236920659092889, Test Accuracy: 26.87%\n",
            "Epoch 15, Training Loss: 2.231918884190646, Test Loss: 2.235379353813503, Test Accuracy: 26.87%\n",
            "Epoch 16, Training Loss: 2.2301784320311113, Test Loss: 2.234088282654251, Test Accuracy: 26.87%\n",
            "Epoch 17, Training Loss: 2.2294170197573577, Test Loss: 2.2330325738243433, Test Accuracy: 26.87%\n",
            "Epoch 18, Training Loss: 2.2286065751856023, Test Loss: 2.2322718509729356, Test Accuracy: 26.87%\n",
            "Epoch 19, Training Loss: 2.2276560922102493, Test Loss: 2.2315832048222637, Test Accuracy: 26.87%\n",
            "Epoch 20, Training Loss: 2.227669183557684, Test Loss: 2.230973167695861, Test Accuracy: 26.87%\n"
          ]
        }
      ]
    },
    {
      "cell_type": "code",
      "source": [
        "plt.plot(range(1, epochs + 1), train_losses, label='Training Loss', color='orange')\n",
        "plt.plot(range(1, epochs + 1), test_losses, label='Test Loss', color='pink')\n",
        "plt.xlabel('Epochs')\n",
        "plt.ylabel('Loss')\n",
        "plt.legend()\n",
        "plt.show()"
      ],
      "metadata": {
        "colab": {
          "base_uri": "https://localhost:8080/",
          "height": 449
        },
        "id": "MOyAAJoGVK7Y",
        "outputId": "16826eed-a996-4f61-9627-12951dfa5036"
      },
      "execution_count": null,
      "outputs": [
        {
          "output_type": "display_data",
          "data": {
            "text/plain": [
              "<Figure size 640x480 with 1 Axes>"
            ],
            "image/png": "[encoded data removed]"
          },
          "metadata": {}
        }
      ]
    },
    {
      "cell_type": "markdown",
      "metadata": {
        "id": "uo-hf5CQ0iWv"
      },
      "source": [
        "## 3. Классификация обзоров на фильмы (ConvNet)\n",
        "\n",
        "Датасет: https://disk.yandex.ru/d/tdinpb0nN_Dsrg\n",
        "\n",
        "2.1 Создайте набор данных на основе файлов polarity/positive_reviews.csv (положительные отзывы) и polarity/negative_reviews.csv (отрицательные отзывы). Разбейте на обучающую и тестовую выборку.\n",
        "  * токен = __слово__\n",
        "  * данные для обучения в датасете представляются в виде последовательности индексов токенов\n",
        "  * словарь создается на основе _только_ обучающей выборки. Для корректной обработки ситуаций, когда в тестовой выборке встретится токен, который не хранится в словаре, добавьте в словарь специальный токен `<UNK>`\n",
        "  * добавьте предобработку текста\n",
        "\n",
        "2.2. Обучите классификатор.\n",
        "  \n",
        "  * Для преобразования последовательности индексов в последовательность векторов используйте `nn.Embedding`\n",
        "    - подберите адекватную размерность вектора эмбеддинга:\n",
        "    - модуль `nn.Embedding` обучается\n",
        "\n",
        "  * Используйте одномерные свертки и пулинг (`nn.Conv1d`, `nn.MaxPool1d`)\n",
        "    - обратите внимание, что `nn.Conv1d` ожидает на вход трехмерный тензор размерности `(batch, embedding_dim, seq_len)`\n",
        "\n",
        "\n",
        "2.7 Измерить точность на тестовой выборке. Проверить работоспособность модели: придумать небольшой отзыв, прогнать его через модель и вывести номер предсказанного класса (сделать это для явно позитивного и явно негативного отзыва)\n",
        "* Целевое значение accuracy на валидации - 70+%"
      ]
    },
    {
      "cell_type": "code",
      "source": [
        "with open('/content/drive/MyDrive/positive_reviews.txt', 'r', encoding='utf-8') as f:\n",
        "    positive_reviews = f.read().split('.')\n",
        "with open('/content/drive/MyDrive/negative_reviews.txt', 'r', encoding='utf-8') as f:\n",
        "    negative_reviews = f.read().split('.')\n",
        "\n",
        "positive_labels = [1] * len(positive_reviews)\n",
        "negative_labels = [0] * len(negative_reviews)\n",
        "\n",
        "all_reviews = positive_reviews + negative_reviews\n",
        "all_labels = positive_labels + negative_labels\n",
        "\n",
        "train_reviews, test_reviews, train_labels, test_labels = train_test_split(\n",
        "    all_reviews, all_labels, test_size=0.2, random_state=42\n",
        ")"
      ],
      "metadata": {
        "id": "kCy_NkrUscnO"
      },
      "execution_count": null,
      "outputs": []
    },
    {
      "cell_type": "code",
      "source": [
        "# Предобработка текста и создание словаря\n",
        "def preprocess_text(text, vocab):\n",
        "    tokens = text.lower().split()\n",
        "    token_ids = [vocab[token] if token in vocab else vocab['<UNK>'] for token in tokens]\n",
        "    return token_ids\n",
        "\n",
        "# Создание словаря\n",
        "vocab = {}\n",
        "index = 0\n",
        "for review in train_reviews:\n",
        "    tokens = review.lower().split()\n",
        "    for token in tokens:\n",
        "        if token not in vocab:\n",
        "            vocab[token] = index\n",
        "            index += 1\n",
        "vocab['<UNK>'] = index"
      ],
      "metadata": {
        "id": "sZjxRxcIsgIy"
      },
      "execution_count": null,
      "outputs": []
    },
    {
      "cell_type": "code",
      "source": [
        "train_data = [preprocess_text(review, vocab) for review in train_reviews]\n",
        "test_data = [preprocess_text(review, vocab) for review in test_reviews]\n",
        "\n",
        "max_len = max(max(len(review) for review in train_data), max(len(review) for review in test_data))\n",
        "\n",
        "train_data = [review + [0] * (max_len - len(review)) for review in train_data]\n",
        "test_data = [review + [0] * (max_len - len(review)) for review in test_data]"
      ],
      "metadata": {
        "id": "Br4sEzefYbMZ"
      },
      "execution_count": null,
      "outputs": []
    },
    {
      "cell_type": "code",
      "source": [
        "train_data = torch.tensor(train_data)\n",
        "test_data = torch.tensor(test_data)\n",
        "train_labels = torch.tensor(train_labels)\n",
        "test_labels = torch.tensor(test_labels)"
      ],
      "metadata": {
        "id": "Ma9DZEoIYbRh"
      },
      "execution_count": null,
      "outputs": []
    },
    {
      "cell_type": "code",
      "source": [
        "class ReviewsDataset(Dataset):\n",
        "    def __init__(self, data, labels):\n",
        "        self.data = data\n",
        "        self.labels = labels\n",
        "\n",
        "    def __len__(self):\n",
        "        return len(self.labels)\n",
        "\n",
        "    def __getitem__(self, idx):\n",
        "        return self.data[idx], self.labels[idx]"
      ],
      "metadata": {
        "id": "ni8wlewosi4W"
      },
      "execution_count": null,
      "outputs": []
    },
    {
      "cell_type": "code",
      "source": [
        "train_dataset = ReviewsDataset(train_data, train_labels)\n",
        "test_dataset = ReviewsDataset(test_data, test_labels)\n",
        "train_loader = DataLoader(train_dataset, batch_size=64, shuffle=True)\n",
        "test_loader = DataLoader(test_dataset, batch_size=64, shuffle=False)"
      ],
      "metadata": {
        "id": "d9Wi7beXYiGi"
      },
      "execution_count": null,
      "outputs": []
    },
    {
      "cell_type": "code",
      "source": [
        "class TextClassifier(nn.Module):\n",
        "    def __init__(self, vocab_size, embedding_dim, num_classes):\n",
        "        super(TextClassifier, self).__init__()\n",
        "        self.embedding = nn.Embedding(vocab_size, embedding_dim)\n",
        "        self.conv1d_1 = nn.Conv1d(embedding_dim, 128, kernel_size=3, padding=1)\n",
        "        self.batch_norm_1 = nn.BatchNorm1d(128)\n",
        "        self.conv1d_2 = nn.Conv1d(128, 64, kernel_size=3, padding=1)\n",
        "        self.batch_norm_2 = nn.BatchNorm1d(64)\n",
        "        self.pool = nn.MaxPool1d(kernel_size=2)\n",
        "        self.fc1 = nn.Linear(64 * (max_len // 4), 64)\n",
        "        self.fc2 = nn.Linear(64, num_classes)\n",
        "\n",
        "    def forward(self, x):\n",
        "        x = self.embedding(x)\n",
        "        x = x.permute(0, 2, 1)\n",
        "        x = self.conv1d_1(x)\n",
        "        x = self.batch_norm_1(x)\n",
        "        x = nn.functional.relu(x)\n",
        "        x = self.pool(x)\n",
        "        x = self.conv1d_2(x)\n",
        "        x = self.batch_norm_2(x)\n",
        "        x = nn.functional.relu(x)\n",
        "        x = self.pool(x)\n",
        "        x = x.view(x.size(0), -1)\n",
        "        x = self.fc1(x)\n",
        "        x = nn.functional.relu(x)\n",
        "        x = self.fc2(x)\n",
        "        return x"
      ],
      "metadata": {
        "id": "-IACXOnjZ2aM"
      },
      "execution_count": null,
      "outputs": []
    },
    {
      "cell_type": "code",
      "source": [
        "model = TextClassifier(len(vocab), embedding_dim=50, num_classes=2)\n",
        "optimizer = optim.Adam(model.parameters(), lr=0.00001)\n",
        "criterion = nn.CrossEntropyLoss()"
      ],
      "metadata": {
        "id": "K6Ch61fKslyO"
      },
      "execution_count": null,
      "outputs": []
    },
    {
      "cell_type": "code",
      "source": [
        "train_loss = []\n",
        "test_loss = []"
      ],
      "metadata": {
        "id": "uXGnnKMIy4nX"
      },
      "execution_count": null,
      "outputs": []
    },
    {
      "cell_type": "code",
      "source": [
        "epoch = 15"
      ],
      "metadata": {
        "id": "tOyPwvImzpEP"
      },
      "execution_count": null,
      "outputs": []
    },
    {
      "cell_type": "code",
      "source": [
        "for epoch in range(epoch):\n",
        "    model.train()\n",
        "    total_loss = 0.0\n",
        "    correct_train = 0\n",
        "    total_train = 0\n",
        "\n",
        "    for data, labels in train_loader:\n",
        "        optimizer.zero_grad()\n",
        "        outputs = model(data.squeeze(1).long())\n",
        "        loss = criterion(outputs, labels)\n",
        "        loss.backward()\n",
        "        optimizer.step()\n",
        "\n",
        "        total_loss += loss.item()\n",
        "        _, predicted = torch.max(outputs.data, 1)\n",
        "        total_train += labels.size(0)\n",
        "        correct_train += (predicted == labels).sum().item()\n",
        "\n",
        "    avg_loss = total_loss / len(train_loader)\n",
        "    accuracy_train = correct_train / total_train\n",
        "    train_loss.append(avg_loss)\n",
        "\n",
        "\n",
        "    model.eval()\n",
        "    with torch.no_grad():\n",
        "        total_test = 0\n",
        "        correct_test = 0\n",
        "        total_loss_test = 0.0\n",
        "\n",
        "        for data, labels in test_loader:\n",
        "            outputs = model(data.squeeze(1).long())\n",
        "            loss_test = criterion(outputs, labels)\n",
        "            total_loss_test += loss_test.item()\n",
        "\n",
        "            _, predicted_test = torch.max(outputs.data, 1)\n",
        "            total_test += labels.size(0)\n",
        "            correct_test += (predicted_test == labels).sum().item()\n",
        "\n",
        "        avg_loss_test = total_loss_test / len(test_loader)\n",
        "        accuracy_test = correct_test / total_test\n",
        "        test_loss.append(avg_loss_test)\n",
        "\n",
        "    print(f\"Epoch {epoch + 1}/{15}, Train Loss: {avg_loss:.4f}, Training Accuracy: {accuracy_train * 100:.2f}%\")\n",
        "    print(f\"Epoch {epoch + 1}/{15}, Test Loss: {avg_loss_test:.4f}, Test Accuracy: {accuracy_test * 100:.2f}%\")"
      ],
      "metadata": {
        "colab": {
          "base_uri": "https://localhost:8080/"
        },
        "id": "OVsK7S8isn3W",
        "outputId": "7357def2-afb9-48b5-ffbf-9d52ef3ed099"
      },
      "execution_count": null,
      "outputs": [
        {
          "output_type": "stream",
          "name": "stdout",
          "text": [
            "Epoch 1/15, Train Loss: 0.6965, Training Accuracy: 50.55%\n",
            "Epoch 1/15, Test Loss: 0.6971, Test Accuracy: 50.52%\n",
            "Epoch 2/15, Train Loss: 0.6922, Training Accuracy: 51.53%\n",
            "Epoch 2/15, Test Loss: 0.6952, Test Accuracy: 51.44%\n",
            "Epoch 3/15, Train Loss: 0.6899, Training Accuracy: 53.10%\n",
            "Epoch 3/15, Test Loss: 0.6940, Test Accuracy: 51.41%\n",
            "Epoch 4/15, Train Loss: 0.6877, Training Accuracy: 53.84%\n",
            "Epoch 4/15, Test Loss: 0.6932, Test Accuracy: 52.05%\n",
            "Epoch 5/15, Train Loss: 0.6847, Training Accuracy: 55.00%\n",
            "Epoch 5/15, Test Loss: 0.6926, Test Accuracy: 52.52%\n",
            "Epoch 6/15, Train Loss: 0.6822, Training Accuracy: 56.04%\n",
            "Epoch 6/15, Test Loss: 0.6917, Test Accuracy: 53.16%\n",
            "Epoch 7/15, Train Loss: 0.6798, Training Accuracy: 56.20%\n",
            "Epoch 7/15, Test Loss: 0.6917, Test Accuracy: 52.48%\n",
            "Epoch 8/15, Train Loss: 0.6773, Training Accuracy: 57.39%\n",
            "Epoch 8/15, Test Loss: 0.6916, Test Accuracy: 51.80%\n",
            "Epoch 9/15, Train Loss: 0.6746, Training Accuracy: 58.21%\n",
            "Epoch 9/15, Test Loss: 0.6903, Test Accuracy: 53.94%\n",
            "Epoch 10/15, Train Loss: 0.6722, Training Accuracy: 58.69%\n",
            "Epoch 10/15, Test Loss: 0.6898, Test Accuracy: 53.98%\n",
            "Epoch 11/15, Train Loss: 0.6698, Training Accuracy: 59.49%\n",
            "Epoch 11/15, Test Loss: 0.6898, Test Accuracy: 53.23%\n",
            "Epoch 12/15, Train Loss: 0.6664, Training Accuracy: 59.57%\n",
            "Epoch 12/15, Test Loss: 0.6899, Test Accuracy: 53.55%\n",
            "Epoch 13/15, Train Loss: 0.6637, Training Accuracy: 60.78%\n",
            "Epoch 13/15, Test Loss: 0.6895, Test Accuracy: 53.51%\n",
            "Epoch 14/15, Train Loss: 0.6605, Training Accuracy: 60.99%\n",
            "Epoch 14/15, Test Loss: 0.6894, Test Accuracy: 53.98%\n",
            "Epoch 15/15, Train Loss: 0.6575, Training Accuracy: 61.62%\n",
            "Epoch 15/15, Test Loss: 0.6899, Test Accuracy: 54.08%\n"
          ]
        }
      ]
    },
    {
      "cell_type": "code",
      "source": [
        "plt.plot(train_loss, label='Training Loss', color = 'orange')\n",
        "plt.plot(test_loss, label='Test Loss', color = 'pink')\n",
        "plt.xlabel('Epoch')\n",
        "plt.ylabel('Loss')\n",
        "plt.legend()\n",
        "plt.show()"
      ],
      "metadata": {
        "colab": {
          "base_uri": "https://localhost:8080/",
          "height": 449
        },
        "id": "haIe1mavAJBY",
        "outputId": "556572b7-dbbd-499d-a58e-84d8d6ae9447"
      },
      "execution_count": null,
      "outputs": [
        {
          "output_type": "display_data",
          "data": {
            "text/plain": [
              "<Figure size 640x480 with 1 Axes>"
            ],
            "image/png": "[encoded data removed]"
          },
          "metadata": {}
        }
      ]
    }
  ]
}