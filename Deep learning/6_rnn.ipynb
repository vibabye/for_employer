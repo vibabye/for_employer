{
  "cells": [
    {
      "cell_type": "markdown",
      "source": [
        "1. Архитектура:\n",
        "\n",
        "RNN: Простая рекуррентная нейронная сеть имеет проблему \"затухания градиента\", которая делает ее менее эффективной при обработке длинных последовательностей.\n",
        "\n",
        "LSTM: LSTM была разработана для решения проблемы затухания градиента. Она имеет специальную структуру с тремя вентилями (входной, забывания и выходной), что позволяет ей лучше сохранять и управлять долгосрочной зависимостью в данных.\n",
        "\n",
        "GRU: GRU - это более легковесная версия LSTM с двумя вентилями (входным и обновляющим), что делает ее более простой в реализации и обучении.\n",
        "\n",
        "2. Количество параметров:\n",
        "\n",
        "RNN: Обычно RNN имеет меньше параметров, что делает ее более легковесной, но она может сталкиваться с проблемой затухания градиента.\n",
        "\n",
        "LSTM: Имеет больше параметров из-за своей сложной архитектуры с тремя вентилями.\n",
        "\n",
        "GRU: Обычно имеет меньше параметров, чем LSTM, что может быть полезно при ограниченных ресурсах.\n",
        "\n",
        "3. Обучение:\n",
        "\n",
        "RNN: Более подвержена проблеме затухания градиента, что может затруднить ее обучение на длинных последовательностях.\n",
        "\n",
        "LSTM и GRU: Обе разработаны так, чтобы бороться с проблемой затухания градиента, что делает их более подходящими для обучения на длинных последовательностях.\n",
        "\n",
        "4. Производительность:\n",
        "\n",
        "LSTM: Обычно требует больше вычислительных ресурсов из-за большего числа параметров.\n",
        "\n",
        "GRU: Более легковесна и может быть предпочтительной в условиях ограниченных ресурсов.\n"
      ],
      "metadata": {
        "id": "394z4x5K4vOA"
      }
    },
    {
      "cell_type": "code",
      "execution_count": null,
      "metadata": {
        "colab": {
          "base_uri": "https://localhost:8080/"
        },
        "id": "zKMq7dp2W15Y",
        "outputId": "0bb4b03d-baac-46ce-deaf-1e966a9e64dd"
      },
      "outputs": [
        {
          "output_type": "stream",
          "name": "stderr",
          "text": [
            "[nltk_data] Downloading package punkt to /root/nltk_data...\n",
            "[nltk_data]   Unzipping tokenizers/punkt.zip.\n"
          ]
        },
        {
          "output_type": "execute_result",
          "data": {
            "text/plain": [
              "True"
            ]
          },
          "metadata": {},
          "execution_count": 1
        }
      ],
      "source": [
        "import re\n",
        "import nltk\n",
        "\n",
        "import torch\n",
        "from torch.utils.data import Dataset, DataLoader\n",
        "import torch.nn as nn\n",
        "import torch.optim as optim\n",
        "\n",
        "import pandas as pd\n",
        "from sklearn.model_selection import train_test_split\n",
        "from sklearn.metrics import accuracy_score\n",
        "from nltk.tokenize import word_tokenize\n",
        "from sklearn.preprocessing import LabelEncoder\n",
        "from torch.nn.utils.rnn import pad_sequence, pack_padded_sequence, pad_packed_sequence\n",
        "import matplotlib.pyplot as plt\n",
        "import time\n",
        "import psutil\n",
        "from sklearn.metrics import accuracy_score\n",
        "nltk.download('punkt')"
      ]
    },
    {
      "cell_type": "code",
      "execution_count": null,
      "metadata": {
        "colab": {
          "base_uri": "https://localhost:8080/"
        },
        "id": "hBkqaK5bawXN",
        "outputId": "7b098b4c-1930-46f1-c1d8-1e8614a9805d"
      },
      "outputs": [
        {
          "output_type": "stream",
          "name": "stdout",
          "text": [
            "Mounted at /content/drive/\n"
          ]
        }
      ],
      "source": [
        "from google.colab import drive\n",
        "drive.mount('/content/drive/')"
      ]
    },
    {
      "cell_type": "markdown",
      "metadata": {
        "id": "Jm-QilGISxkt"
      },
      "source": [
        "## 1. Классификация фамилий (RNN)\n",
        "\n",
        "Датасет: https://disk.yandex.ru/d/frNchuaBQVLxyA?w=1"
      ]
    },
    {
      "cell_type": "markdown",
      "metadata": {
        "id": "YdPr92i6k-If"
      },
      "source": [
        "1.1 Используя класс `nn.RNNCell` (абстракцию для отдельного временного шага RNN), реализуйте простейшую рекуррентную сеть Элмана в виде класса `RNN`. Используя созданный класс `RNN`, решите задачу классификации фамилий.\n"
      ]
    },
    {
      "cell_type": "code",
      "source": [
        "data = pd.read_csv('/content/drive/MyDrive/surnames.csv')\n",
        "label_encoder = LabelEncoder()\n",
        "data['nationality'] = label_encoder.fit_transform(data['nationality'])\n",
        "\n",
        "all_chars = set(\"\".join(data['surname']))\n",
        "char_to_index = {char: idx for idx, char in enumerate(all_chars)}\n",
        "data['surname'] = data['surname'].apply(lambda x: torch.tensor([char_to_index[char] for char in x], dtype=torch.long))"
      ],
      "metadata": {
        "id": "DFY0JnqkLDMQ"
      },
      "execution_count": null,
      "outputs": []
    },
    {
      "cell_type": "code",
      "source": [
        "train_df, test_df = train_test_split(data, test_size=0.2, random_state=42)"
      ],
      "metadata": {
        "id": "H654gKJsfH5F"
      },
      "execution_count": null,
      "outputs": []
    },
    {
      "cell_type": "code",
      "source": [
        "class NameDataset(Dataset):\n",
        "    def __init__(self, dataframe):\n",
        "        self.dataframe = dataframe\n",
        "\n",
        "    def __len__(self):\n",
        "        return len(self.dataframe)\n",
        "\n",
        "    def __getitem__(self, idx):\n",
        "        name_tensor = self.dataframe.iloc[idx]['surname']\n",
        "        target = self.dataframe.iloc[idx]['nationality']\n",
        "        return name_tensor, target"
      ],
      "metadata": {
        "id": "22kRc6PwWAAJ"
      },
      "execution_count": null,
      "outputs": []
    },
    {
      "cell_type": "code",
      "source": [
        "class NameDataset(Dataset):\n",
        "    def __init__(self, dataframe):\n",
        "        self.dataframe = dataframe\n",
        "\n",
        "    def __len__(self):\n",
        "        return len(self.dataframe)\n",
        "\n",
        "    def __getitem__(self, idx):\n",
        "        name_tensor = self.dataframe.iloc[idx]['surname']\n",
        "        target = self.dataframe.iloc[idx]['nationality']\n",
        "        return name_tensor, target"
      ],
      "metadata": {
        "id": "EuhGSB32f1Kp"
      },
      "execution_count": null,
      "outputs": []
    },
    {
      "cell_type": "code",
      "source": [
        "def collate_fn(batch):\n",
        "    names, targets = zip(*batch)\n",
        "    names_padded = pad_sequence(names, batch_first=True, padding_value=0)\n",
        "    targets_tensor = torch.tensor(targets, dtype=torch.long)\n",
        "    return names_padded, targets_tensor"
      ],
      "metadata": {
        "id": "YQ9pZFZof5AC"
      },
      "execution_count": null,
      "outputs": []
    },
    {
      "cell_type": "code",
      "source": [
        "train_dataset = NameDataset(train_df)\n",
        "test_dataset = NameDataset(test_df)\n",
        "\n",
        "train_loader = DataLoader(train_dataset, batch_size=64, shuffle=True, collate_fn=collate_fn)\n",
        "test_loader = DataLoader(test_dataset, batch_size=64, shuffle=False, collate_fn=collate_fn)"
      ],
      "metadata": {
        "id": "GfgPKb4Xf8I8"
      },
      "execution_count": null,
      "outputs": []
    },
    {
      "cell_type": "code",
      "source": [
        "class RNN(nn.Module):\n",
        "    def __init__(self, input_size, hidden_size, output_size):\n",
        "        super(RNN, self).__init__()\n",
        "        self.embedding = nn.Embedding(input_size, hidden_size)\n",
        "        self.rnn = nn.RNN(hidden_size, hidden_size, batch_first=True)\n",
        "        self.fc = nn.Linear(hidden_size, output_size)\n",
        "\n",
        "    def forward(self, x):\n",
        "        embedded = self.embedding(x)\n",
        "        lengths = (x != 0).sum(dim=1)\n",
        "        packed = pack_padded_sequence(embedded, lengths, batch_first=True, enforce_sorted=False)\n",
        "        packed_output, _ = self.rnn(packed)\n",
        "        output, _ = pad_packed_sequence(packed_output, batch_first=True)\n",
        "        output = self.fc(output[:, -1, :])\n",
        "        return output"
      ],
      "metadata": {
        "id": "ZJ7OYqnvf_qB"
      },
      "execution_count": null,
      "outputs": []
    },
    {
      "cell_type": "code",
      "source": [
        "input_size = len(all_chars)\n",
        "hidden_size = 64\n",
        "output_size = len(label_encoder.classes_)"
      ],
      "metadata": {
        "id": "CvHrd5ZMgFyH"
      },
      "execution_count": null,
      "outputs": []
    },
    {
      "cell_type": "code",
      "source": [
        "model = RNN(input_size, hidden_size, output_size)"
      ],
      "metadata": {
        "id": "Q8sZ8EV5gHt_"
      },
      "execution_count": null,
      "outputs": []
    },
    {
      "cell_type": "code",
      "source": [
        "criterion = nn.CrossEntropyLoss()\n",
        "optimizer = torch.optim.Adam(model.parameters(), lr=0.0001)"
      ],
      "metadata": {
        "id": "uenJYpptgJzC"
      },
      "execution_count": null,
      "outputs": []
    },
    {
      "cell_type": "code",
      "source": [
        "def evaluate_model(model, dataloader, criterion):\n",
        "    model.eval()\n",
        "    total_loss = 0.0\n",
        "    total_samples = 0\n",
        "\n",
        "    with torch.no_grad():\n",
        "        for names, targets in dataloader:\n",
        "            names = names.to(torch.long)\n",
        "            targets = targets.to(torch.long)\n",
        "            outputs = model(names)\n",
        "            loss = criterion(outputs, targets)\n",
        "            total_loss += loss.item() * len(names)\n",
        "            total_samples += len(names)\n",
        "\n",
        "    avg_loss = total_loss / total_samples\n",
        "    return avg_loss"
      ],
      "metadata": {
        "id": "LdxYjjG0gRra"
      },
      "execution_count": null,
      "outputs": []
    },
    {
      "cell_type": "code",
      "source": [
        "num_epochs = 20\n",
        "train_losses = []\n",
        "test_losses = []\n",
        "\n",
        "for epoch in range(num_epochs):\n",
        "    model.train()\n",
        "    total_loss = 0.0\n",
        "    total_samples = 0\n",
        "\n",
        "    for names, targets in train_loader:\n",
        "        optimizer.zero_grad()\n",
        "        names = names.to(torch.long)\n",
        "        targets = targets.to(torch.long)\n",
        "        outputs = model(names)\n",
        "        loss = criterion(outputs, targets)\n",
        "        loss.backward()\n",
        "        optimizer.step()\n",
        "        total_loss += loss.item() * len(names)\n",
        "        total_samples += len(names)\n",
        "\n",
        "    avg_train_loss = total_loss / total_samples\n",
        "    train_losses.append(avg_train_loss)\n",
        "\n",
        "    avg_test_loss = evaluate_model(model, test_loader, criterion)\n",
        "    test_losses.append(avg_test_loss)\n",
        "\n",
        "    print(f'Epoch [{epoch+1}/{num_epochs}], Train Loss: {avg_train_loss:.4f}, Test Loss: {avg_test_loss:.4f}')"
      ],
      "metadata": {
        "colab": {
          "base_uri": "https://localhost:8080/"
        },
        "id": "Ura6SVR5e63_",
        "outputId": "15e036af-2474-468c-c627-347a0063b921"
      },
      "execution_count": null,
      "outputs": [
        {
          "output_type": "stream",
          "name": "stdout",
          "text": [
            "Epoch [1/20], Train Loss: 2.8820, Test Loss: 2.8726\n",
            "Epoch [2/20], Train Loss: 2.8606, Test Loss: 2.8524\n",
            "Epoch [3/20], Train Loss: 2.8384, Test Loss: 2.8334\n",
            "Epoch [4/20], Train Loss: 2.8241, Test Loss: 2.8189\n",
            "Epoch [5/20], Train Loss: 2.8092, Test Loss: 2.8062\n",
            "Epoch [6/20], Train Loss: 2.7945, Test Loss: 2.7937\n",
            "Epoch [7/20], Train Loss: 2.7798, Test Loss: 2.7815\n",
            "Epoch [8/20], Train Loss: 2.7677, Test Loss: 2.7694\n",
            "Epoch [9/20], Train Loss: 2.7568, Test Loss: 2.7578\n",
            "Epoch [10/20], Train Loss: 2.7457, Test Loss: 2.7464\n",
            "Epoch [11/20], Train Loss: 2.7318, Test Loss: 2.7351\n",
            "Epoch [12/20], Train Loss: 2.7215, Test Loss: 2.7243\n",
            "Epoch [13/20], Train Loss: 2.7098, Test Loss: 2.7131\n",
            "Epoch [14/20], Train Loss: 2.7017, Test Loss: 2.7029\n",
            "Epoch [15/20], Train Loss: 2.6890, Test Loss: 2.6924\n",
            "Epoch [16/20], Train Loss: 2.6789, Test Loss: 2.6821\n",
            "Epoch [17/20], Train Loss: 2.6692, Test Loss: 2.6722\n",
            "Epoch [18/20], Train Loss: 2.6587, Test Loss: 2.6621\n",
            "Epoch [19/20], Train Loss: 2.6489, Test Loss: 2.6526\n",
            "Epoch [20/20], Train Loss: 2.6395, Test Loss: 2.6428\n"
          ]
        }
      ]
    },
    {
      "cell_type": "code",
      "source": [
        "plt.plot(range(1, num_epochs + 1), train_losses, label='Train Loss', color='red')\n",
        "plt.plot(range(1, num_epochs + 1), test_losses, label='Test Loss', color='blue')\n",
        "plt.xlabel('Epoch')\n",
        "plt.ylabel('Loss')\n",
        "plt.legend()\n",
        "plt.show()"
      ],
      "metadata": {
        "colab": {
          "base_uri": "https://localhost:8080/",
          "height": 449
        },
        "id": "XSh16VPmfPF-",
        "outputId": "a46fcdf2-3348-4be1-d7d8-e2a280428f22"
      },
      "execution_count": null,
      "outputs": [
        {
          "output_type": "display_data",
          "data": {
            "text/plain": [
              "<Figure size 640x480 with 1 Axes>"
            ],
            "image/png": "[encoded data removed]"
          },
          "metadata": {}
        }
      ]
    },
    {
      "cell_type": "markdown",
      "metadata": {
        "id": "a2MIErKTo9aO"
      },
      "source": [
        "1.2 Замените модуль `RNN` из 1.1 на модули `nn.RNN`, `nn.LSTM` и `nn.GRU` (не забудьте указать аргумент `batch_first=True`). Сравните результаты работы."
      ]
    },
    {
      "cell_type": "code",
      "source": [
        "class RNN(nn.Module):\n",
        "    def __init__(self, input_size, hidden_size, output_size, rnn_type='rnn'):\n",
        "        super(RNN, self).__init__()\n",
        "        self.embedding = nn.Embedding(input_size, hidden_size)\n",
        "\n",
        "        if rnn_type == 'rnn':\n",
        "            self.rnn = nn.RNN(hidden_size, hidden_size, batch_first=True)\n",
        "        elif rnn_type == 'lstm':\n",
        "            self.rnn = nn.LSTM(hidden_size, hidden_size, batch_first=True)\n",
        "        elif rnn_type == 'gru':\n",
        "            self.rnn = nn.GRU(hidden_size, hidden_size, batch_first=True)\n",
        "        else:\n",
        "            raise ValueError(\"Invalid rnn_type. Use 'rnn', 'lstm', or 'gru'.\")\n",
        "\n",
        "        self.fc = nn.Linear(hidden_size, output_size)\n",
        "\n",
        "    def forward(self, x):\n",
        "        embedded = self.embedding(x)\n",
        "        lengths = (x != 0).sum(dim=1)\n",
        "        packed = pack_padded_sequence(embedded, lengths, batch_first=True, enforce_sorted=False)\n",
        "        packed_output, _ = self.rnn(packed)\n",
        "        output, _ = pad_packed_sequence(packed_output, batch_first=True)\n",
        "        output = self.fc(output[:, -1, :])\n",
        "        return output"
      ],
      "metadata": {
        "id": "YRf-fBFvhBmi"
      },
      "execution_count": null,
      "outputs": []
    },
    {
      "cell_type": "code",
      "source": [
        "input_size = len(all_chars)\n",
        "hidden_size = 64\n",
        "output_size = len(label_encoder.classes_)"
      ],
      "metadata": {
        "id": "8VQaSv4IhGkH"
      },
      "execution_count": null,
      "outputs": []
    },
    {
      "cell_type": "code",
      "source": [
        "model = RNN(input_size, hidden_size, output_size)"
      ],
      "metadata": {
        "id": "l2IuZbFUhJSL"
      },
      "execution_count": null,
      "outputs": []
    },
    {
      "cell_type": "code",
      "source": [
        "criterion = nn.CrossEntropyLoss()\n",
        "optimizer = torch.optim.Adam(model.parameters(), lr=0.00001)"
      ],
      "metadata": {
        "id": "EjeabNtUhKkg"
      },
      "execution_count": null,
      "outputs": []
    },
    {
      "cell_type": "code",
      "source": [
        "num_epochs = 20\n",
        "train_losses = []\n",
        "test_losses = []\n",
        "list_time = []\n",
        "list_memory = []\n",
        "list_accuracy = []"
      ],
      "metadata": {
        "id": "JhMWmyf_nOLS"
      },
      "execution_count": null,
      "outputs": []
    },
    {
      "cell_type": "code",
      "source": [
        "def train_rnn_type(rnn_type):\n",
        "    start_time = time.time()\n",
        "\n",
        "    def train_rnn():\n",
        "        model = RNN(input_size, hidden_size, output_size, rnn_type)\n",
        "        criterion = nn.CrossEntropyLoss()\n",
        "        optimizer = optim.Adam(model.parameters(), lr=0.001)\n",
        "\n",
        "        train_losses_per_type = []\n",
        "        test_losses_per_type = []\n",
        "\n",
        "        for epoch in range(num_epochs):\n",
        "            model.train()\n",
        "            total_loss = 0.0\n",
        "            total_samples = 0\n",
        "\n",
        "            for names, targets in train_loader:\n",
        "                optimizer.zero_grad()\n",
        "                names = names.to(torch.long)\n",
        "                targets = targets.to(torch.long)\n",
        "                outputs = model(names)\n",
        "                loss = criterion(outputs, targets)\n",
        "                loss.backward()\n",
        "                optimizer.step()\n",
        "                total_loss += loss.item() * len(names)\n",
        "                total_samples += len(names)\n",
        "\n",
        "            avg_train_loss = total_loss / total_samples\n",
        "            train_losses_per_type.append(avg_train_loss)\n",
        "\n",
        "            avg_test_loss = evaluate_model(model, test_loader, criterion)\n",
        "            test_losses_per_type.append(avg_test_loss)\n",
        "\n",
        "            print(f'Epoch [{epoch + 1}/{num_epochs}], Type: {rnn_type}, Train Loss: {avg_train_loss:.4f}, Test Loss: {avg_test_loss:.4f}')\n",
        "\n",
        "        model.eval()\n",
        "        all_preds = []\n",
        "        all_targets = []\n",
        "\n",
        "        for names, targets in test_loader:\n",
        "            names = names.to(torch.long)\n",
        "            targets = targets.to(torch.long)\n",
        "            outputs = model(names)\n",
        "            _, preds = torch.max(outputs, 1)\n",
        "\n",
        "            all_preds.extend(preds.tolist())\n",
        "            all_targets.extend(targets.tolist())\n",
        "\n",
        "        accuracy = accuracy_score(all_targets, all_preds)\n",
        "        list_accuracy.append(accuracy)\n",
        "\n",
        "        end_time = time.time()\n",
        "        elapsed_time = end_time - start_time\n",
        "        list_time.append(elapsed_time)\n",
        "\n",
        "        process = psutil.Process()\n",
        "        list_memory.append(process.memory_info().rss / (1024 * 1024))\n",
        "\n",
        "        train_losses.append(train_losses_per_type)\n",
        "        test_losses.append(test_losses_per_type)\n",
        "\n",
        "    train_rnn()\n",
        "\n",
        "\n",
        "train_rnn_type('rnn')\n",
        "train_rnn_type('lstm')\n",
        "train_rnn_type('gru')"
      ],
      "metadata": {
        "colab": {
          "base_uri": "https://localhost:8080/"
        },
        "id": "tX0j7ARnhDxJ",
        "outputId": "5777cbad-6e02-4309-806f-cb0c2ef57462"
      },
      "execution_count": null,
      "outputs": [
        {
          "output_type": "stream",
          "name": "stdout",
          "text": [
            "Epoch [1/20], Type: rnn, Train Loss: 2.7896, Test Loss: 2.7325\n",
            "Epoch [2/20], Type: rnn, Train Loss: 2.6704, Test Loss: 2.6299\n",
            "Epoch [3/20], Type: rnn, Train Loss: 2.5782, Test Loss: 2.5453\n",
            "Epoch [4/20], Type: rnn, Train Loss: 2.4967, Test Loss: 2.4760\n",
            "Epoch [5/20], Type: rnn, Train Loss: 2.4376, Test Loss: 2.4186\n",
            "Epoch [6/20], Type: rnn, Train Loss: 2.3817, Test Loss: 2.3717\n",
            "Epoch [7/20], Type: rnn, Train Loss: 2.3368, Test Loss: 2.3351\n",
            "Epoch [8/20], Type: rnn, Train Loss: 2.2965, Test Loss: 2.3052\n",
            "Epoch [9/20], Type: rnn, Train Loss: 2.2742, Test Loss: 2.2816\n",
            "Epoch [10/20], Type: rnn, Train Loss: 2.2547, Test Loss: 2.2662\n",
            "Epoch [11/20], Type: rnn, Train Loss: 2.2334, Test Loss: 2.2489\n",
            "Epoch [12/20], Type: rnn, Train Loss: 2.2183, Test Loss: 2.2423\n",
            "Epoch [13/20], Type: rnn, Train Loss: 2.2137, Test Loss: 2.2301\n",
            "Epoch [14/20], Type: rnn, Train Loss: 2.2006, Test Loss: 2.2250\n",
            "Epoch [15/20], Type: rnn, Train Loss: 2.1973, Test Loss: 2.2180\n",
            "Epoch [16/20], Type: rnn, Train Loss: 2.1888, Test Loss: 2.2179\n",
            "Epoch [17/20], Type: rnn, Train Loss: 2.1858, Test Loss: 2.2134\n",
            "Epoch [18/20], Type: rnn, Train Loss: 2.1817, Test Loss: 2.2141\n",
            "Epoch [19/20], Type: rnn, Train Loss: 2.1804, Test Loss: 2.2118\n",
            "Epoch [20/20], Type: rnn, Train Loss: 2.1795, Test Loss: 2.2098\n",
            "Epoch [1/20], Type: lstm, Train Loss: 2.7896, Test Loss: 2.7332\n",
            "Epoch [2/20], Type: lstm, Train Loss: 2.6725, Test Loss: 2.6287\n",
            "Epoch [3/20], Type: lstm, Train Loss: 2.5806, Test Loss: 2.5459\n",
            "Epoch [4/20], Type: lstm, Train Loss: 2.4993, Test Loss: 2.4762\n",
            "Epoch [5/20], Type: lstm, Train Loss: 2.4364, Test Loss: 2.4176\n",
            "Epoch [6/20], Type: lstm, Train Loss: 2.3759, Test Loss: 2.3727\n",
            "Epoch [7/20], Type: lstm, Train Loss: 2.3385, Test Loss: 2.3368\n",
            "Epoch [8/20], Type: lstm, Train Loss: 2.3041, Test Loss: 2.3060\n",
            "Epoch [9/20], Type: lstm, Train Loss: 2.2713, Test Loss: 2.2822\n",
            "Epoch [10/20], Type: lstm, Train Loss: 2.2490, Test Loss: 2.2603\n",
            "Epoch [11/20], Type: lstm, Train Loss: 2.2348, Test Loss: 2.2465\n",
            "Epoch [12/20], Type: lstm, Train Loss: 2.2200, Test Loss: 2.2362\n",
            "Epoch [13/20], Type: lstm, Train Loss: 2.2079, Test Loss: 2.2279\n",
            "Epoch [14/20], Type: lstm, Train Loss: 2.2005, Test Loss: 2.2206\n",
            "Epoch [15/20], Type: lstm, Train Loss: 2.1914, Test Loss: 2.2146\n",
            "Epoch [16/20], Type: lstm, Train Loss: 2.1904, Test Loss: 2.2090\n",
            "Epoch [17/20], Type: lstm, Train Loss: 2.1795, Test Loss: 2.2067\n",
            "Epoch [18/20], Type: lstm, Train Loss: 2.1856, Test Loss: 2.2040\n",
            "Epoch [19/20], Type: lstm, Train Loss: 2.1745, Test Loss: 2.2002\n",
            "Epoch [20/20], Type: lstm, Train Loss: 2.1749, Test Loss: 2.2015\n",
            "Epoch [1/20], Type: gru, Train Loss: 2.8003, Test Loss: 2.7457\n",
            "Epoch [2/20], Type: gru, Train Loss: 2.6789, Test Loss: 2.6428\n",
            "Epoch [3/20], Type: gru, Train Loss: 2.5913, Test Loss: 2.5556\n",
            "Epoch [4/20], Type: gru, Train Loss: 2.5126, Test Loss: 2.4845\n",
            "Epoch [5/20], Type: gru, Train Loss: 2.4390, Test Loss: 2.4254\n",
            "Epoch [6/20], Type: gru, Train Loss: 2.3872, Test Loss: 2.3765\n",
            "Epoch [7/20], Type: gru, Train Loss: 2.3488, Test Loss: 2.3387\n",
            "Epoch [8/20], Type: gru, Train Loss: 2.3059, Test Loss: 2.3106\n",
            "Epoch [9/20], Type: gru, Train Loss: 2.2820, Test Loss: 2.2820\n",
            "Epoch [10/20], Type: gru, Train Loss: 2.2603, Test Loss: 2.2631\n",
            "Epoch [11/20], Type: gru, Train Loss: 2.2376, Test Loss: 2.2495\n",
            "Epoch [12/20], Type: gru, Train Loss: 2.2248, Test Loss: 2.2371\n",
            "Epoch [13/20], Type: gru, Train Loss: 2.2133, Test Loss: 2.2285\n",
            "Epoch [14/20], Type: gru, Train Loss: 2.1968, Test Loss: 2.2220\n",
            "Epoch [15/20], Type: gru, Train Loss: 2.1958, Test Loss: 2.2151\n",
            "Epoch [16/20], Type: gru, Train Loss: 2.1890, Test Loss: 2.2077\n",
            "Epoch [17/20], Type: gru, Train Loss: 2.1786, Test Loss: 2.2059\n",
            "Epoch [18/20], Type: gru, Train Loss: 2.1795, Test Loss: 2.2051\n",
            "Epoch [19/20], Type: gru, Train Loss: 2.1797, Test Loss: 2.2008\n",
            "Epoch [20/20], Type: gru, Train Loss: 2.1781, Test Loss: 2.2011\n",
            "Train Losses: [[2.7896019313721925, 2.6704244913299227, 2.5781953399950037, 2.4967308491739852, 2.4376272152030403, 2.3816611884070222, 2.3367898933223037, 2.296538950967007, 2.2742283266098773, 2.2547212393991716, 2.233381169741271, 2.218273435134054, 2.2136640874414497, 2.200557420379694, 2.1973195271413832, 2.1888493683820216, 2.185802596080064, 2.181698674929815, 2.18041664307669, 2.179539892625722], [2.7895855256551383, 2.67252037781401, 2.5806449792858466, 2.4992647409873365, 2.4363726648910884, 2.3759045140556516, 2.3385249665091816, 2.304052837993712, 2.271294360603791, 2.2489818280294727, 2.23477832476298, 2.2199830622403782, 2.207885637960799, 2.2004791938976296, 2.1913953313844887, 2.190387847862174, 2.179518027383773, 2.185558191414088, 2.1744763340889213, 2.1749320577402584], [2.8002927954731094, 2.67890892610741, 2.5912811964587434, 2.51262179532772, 2.4390352871031493, 2.387242612942972, 2.3488496157640966, 2.3058705021557695, 2.282024800451727, 2.2603428441970075, 2.2375734964137957, 2.2247747706150967, 2.213325447940653, 2.196782768315522, 2.195779165934995, 2.1890124086908087, 2.178628803819472, 2.1795380328305214, 2.1796580741965705, 2.1780576597363135]]\n",
            "Test Losses: [[2.7324658282684715, 2.6298997393505603, 2.545327896194597, 2.475998561456121, 2.418625753868256, 2.371681848293228, 2.335090443519078, 2.3051530741602995, 2.2815700363374583, 2.266182851270248, 2.248907938246736, 2.2423454696797718, 2.2300503994380625, 2.2249636333062566, 2.218030004119178, 2.217860701739897, 2.2133652043472876, 2.2141100585134956, 2.2117581041784233, 2.2097967368006053], [2.7331714017795083, 2.628715974168482, 2.5459156870190562, 2.4762082008716186, 2.417618807547731, 2.3727443292058448, 2.3367836075836625, 2.3060264374606163, 2.282186290605472, 2.2602529302103704, 2.246485391818326, 2.2361521762142633, 2.227888617793502, 2.2205869365476736, 2.214641152835283, 2.209013330697579, 2.206656435365451, 2.2039585213409314, 2.2001714235229355, 2.2015032809505914], [2.745746193036356, 2.6428094752716453, 2.5555786917118426, 2.4844982224518266, 2.4253646267784967, 2.3765437055806644, 2.33868646230854, 2.3105729147384726, 2.28196933794977, 2.2631347830829727, 2.249474071631232, 2.237106854798364, 2.2284690428301284, 2.222026944811878, 2.215142918849035, 2.2077038841820804, 2.205875482064127, 2.2051424309204184, 2.2008307894288084, 2.201050770521598]]\n",
            "Accuracy: [0.28233151183970856, 0.2836976320582878, 0.2827868852459016]\n",
            "Time: [67.04674530029297, 83.0020866394043, 83.98404598236084]\n",
            "Memory: [654.8203125, 657.03515625, 657.29296875]\n"
          ]
        }
      ]
    },
    {
      "cell_type": "code",
      "source": [
        "plt.figure(figsize=(10, 6))\n",
        "\n",
        "for i, rnn_type in enumerate(['RNN', 'LSTM', 'GRU']):\n",
        "    plt.plot(range(1, num_epochs + 1), train_losses[i], label=f'Train Loss {rnn_type}')\n",
        "    plt.plot(range(1, num_epochs + 1), test_losses[i], label=f'Test Loss {rnn_type}')\n",
        "\n",
        "plt.xlabel('Epoch')\n",
        "plt.ylabel('Loss')\n",
        "plt.legend()\n",
        "plt.show()"
      ],
      "metadata": {
        "colab": {
          "base_uri": "https://localhost:8080/",
          "height": 542
        },
        "id": "Y10fmng-gytR",
        "outputId": "c96a913a-9e29-40ce-ad50-e077421f449a"
      },
      "execution_count": null,
      "outputs": [
        {
          "output_type": "display_data",
          "data": {
            "text/plain": [
              "<Figure size 1000x600 with 1 Axes>"
            ],
            "image/png": "[encoded data removed]"
          },
          "metadata": {}
        }
      ]
    },
    {
      "cell_type": "code",
      "source": [
        "table = {'Name': ['RNN', 'LSTM', 'GRU'],\n",
        "        'Время выполнения [с]': list_time,\n",
        "        'Использование памяти [мб]': list_memory,\n",
        "         'Точность': list_accuracy}\n",
        "results = pd.DataFrame(table)\n",
        "results"
      ],
      "metadata": {
        "colab": {
          "base_uri": "https://localhost:8080/",
          "height": 143
        },
        "id": "x_RuEBFNaIsJ",
        "outputId": "09931d4e-6423-495b-f76d-a57ed914c559"
      },
      "execution_count": null,
      "outputs": [
        {
          "output_type": "execute_result",
          "data": {
            "text/plain": [
              "   Name  Время выполнения [с]  Использование памяти [мб]  Точность\n",
              "0   RNN             67.046745                 654.820312  0.282332\n",
              "1  LSTM             83.002087                 657.035156  0.283698\n",
              "2   GRU             83.984046                 657.292969  0.282787"
            ],
            "text/html": [
              "\n",
              "  <div id=\"df-b50ff2ef-5eb5-47bb-a4da-856a7d312094\" class=\"colab-df-container\">\n",
              "    <div>\n",
              "<style scoped>\n",
              "    .dataframe tbody tr th:only-of-type {\n",
              "        vertical-align: middle;\n",
              "    }\n",
              "\n",
              "    .dataframe tbody tr th {\n",
              "        vertical-align: top;\n",
              "    }\n",
              "\n",
              "    .dataframe thead th {\n",
              "        text-align: right;\n",
              "    }\n",
              "</style>\n",
              "<table border=\"1\" class=\"dataframe\">\n",
              "  <thead>\n",
              "    <tr style=\"text-align: right;\">\n",
              "      <th></th>\n",
              "      <th>Name</th>\n",
              "      <th>Время выполнения [с]</th>\n",
              "      <th>Использование памяти [мб]</th>\n",
              "      <th>Точность</th>\n",
              "    </tr>\n",
              "  </thead>\n",
              "  <tbody>\n",
              "    <tr>\n",
              "      <th>0</th>\n",
              "      <td>RNN</td>\n",
              "      <td>67.046745</td>\n",
              "      <td>654.820312</td>\n",
              "      <td>0.282332</td>\n",
              "    </tr>\n",
              "    <tr>\n",
              "      <th>1</th>\n",
              "      <td>LSTM</td>\n",
              "      <td>83.002087</td>\n",
              "      <td>657.035156</td>\n",
              "      <td>0.283698</td>\n",
              "    </tr>\n",
              "    <tr>\n",
              "      <th>2</th>\n",
              "      <td>GRU</td>\n",
              "      <td>83.984046</td>\n",
              "      <td>657.292969</td>\n",
              "      <td>0.282787</td>\n",
              "    </tr>\n",
              "  </tbody>\n",
              "</table>\n",
              "</div>\n",
              "    <div class=\"colab-df-buttons\">\n",
              "\n",
              "  <div class=\"colab-df-container\">\n",
              "    <button class=\"colab-df-convert\" onclick=\"convertToInteractive('df-b50ff2ef-5eb5-47bb-a4da-856a7d312094')\"\n",
              "            title=\"Convert this dataframe to an interactive table.\"\n",
              "            style=\"display:none;\">\n",
              "\n",
              "  <svg xmlns=\"http://www.w3.org/2000/svg\" height=\"24px\" viewBox=\"0 -960 960 960\">\n",
              "    <path d=\"M120-120v-720h720v720H120Zm60-500h600v-160H180v160Zm220 220h160v-160H400v160Zm0 220h160v-160H400v160ZM180-400h160v-160H180v160Zm440 0h160v-160H620v160ZM180-180h160v-160H180v160Zm440 0h160v-160H620v160Z\"/>\n",
              "  </svg>\n",
              "    </button>\n",
              "\n",
              "  <style>\n",
              "    .colab-df-container {\n",
              "      display:flex;\n",
              "      gap: 12px;\n",
              "    }\n",
              "\n",
              "    .colab-df-convert {\n",
              "      background-color: #E8F0FE;\n",
              "      border: none;\n",
              "      border-radius: 50%;\n",
              "      cursor: pointer;\n",
              "      display: none;\n",
              "      fill: #1967D2;\n",
              "      height: 32px;\n",
              "      padding: 0 0 0 0;\n",
              "      width: 32px;\n",
              "    }\n",
              "\n",
              "    .colab-df-convert:hover {\n",
              "      background-color: #E2EBFA;\n",
              "      box-shadow: 0px 1px 2px rgba(60, 64, 67, 0.3), 0px 1px 3px 1px rgba(60, 64, 67, 0.15);\n",
              "      fill: #174EA6;\n",
              "    }\n",
              "\n",
              "    .colab-df-buttons div {\n",
              "      margin-bottom: 4px;\n",
              "    }\n",
              "\n",
              "    [theme=dark] .colab-df-convert {\n",
              "      background-color: #3B4455;\n",
              "      fill: #D2E3FC;\n",
              "    }\n",
              "\n",
              "    [theme=dark] .colab-df-convert:hover {\n",
              "      background-color: #434B5C;\n",
              "      box-shadow: 0px 1px 3px 1px rgba(0, 0, 0, 0.15);\n",
              "      filter: drop-shadow(0px 1px 2px rgba(0, 0, 0, 0.3));\n",
              "      fill: #FFFFFF;\n",
              "    }\n",
              "  </style>\n",
              "\n",
              "    <script>\n",
              "      const buttonEl =\n",
              "        document.querySelector('#df-b50ff2ef-5eb5-47bb-a4da-856a7d312094 button.colab-df-convert');\n",
              "      buttonEl.style.display =\n",
              "        google.colab.kernel.accessAllowed ? 'block' : 'none';\n",
              "\n",
              "      async function convertToInteractive(key) {\n",
              "        const element = document.querySelector('#df-b50ff2ef-5eb5-47bb-a4da-856a7d312094');\n",
              "        const dataTable =\n",
              "          await google.colab.kernel.invokeFunction('convertToInteractive',\n",
              "                                                    [key], {});\n",
              "        if (!dataTable) return;\n",
              "\n",
              "        const docLinkHtml = 'Like what you see? Visit the ' +\n",
              "          '<a target=\"_blank\" href=https://colab.research.google.com/notebooks/data_table.ipynb>data table notebook</a>'\n",
              "          + ' to learn more about interactive tables.';\n",
              "        element.innerHTML = '';\n",
              "        dataTable['output_type'] = 'display_data';\n",
              "        await google.colab.output.renderOutput(dataTable, element);\n",
              "        const docLink = document.createElement('div');\n",
              "        docLink.innerHTML = docLinkHtml;\n",
              "        element.appendChild(docLink);\n",
              "      }\n",
              "    </script>\n",
              "  </div>\n",
              "\n",
              "\n",
              "<div id=\"df-fbe7b244-eda7-4178-89b8-8c858556a272\">\n",
              "  <button class=\"colab-df-quickchart\" onclick=\"quickchart('df-fbe7b244-eda7-4178-89b8-8c858556a272')\"\n",
              "            title=\"Suggest charts\"\n",
              "            style=\"display:none;\">\n",
              "\n",
              "<svg xmlns=\"http://www.w3.org/2000/svg\" height=\"24px\"viewBox=\"0 0 24 24\"\n",
              "     width=\"24px\">\n",
              "    <g>\n",
              "        <path d=\"M19 3H5c-1.1 0-2 .9-2 2v14c0 1.1.9 2 2 2h14c1.1 0 2-.9 2-2V5c0-1.1-.9-2-2-2zM9 17H7v-7h2v7zm4 0h-2V7h2v10zm4 0h-2v-4h2v4z\"/>\n",
              "    </g>\n",
              "</svg>\n",
              "  </button>\n",
              "\n",
              "<style>\n",
              "  .colab-df-quickchart {\n",
              "      --bg-color: #E8F0FE;\n",
              "      --fill-color: #1967D2;\n",
              "      --hover-bg-color: #E2EBFA;\n",
              "      --hover-fill-color: #174EA6;\n",
              "      --disabled-fill-color: #AAA;\n",
              "      --disabled-bg-color: #DDD;\n",
              "  }\n",
              "\n",
              "  [theme=dark] .colab-df-quickchart {\n",
              "      --bg-color: #3B4455;\n",
              "      --fill-color: #D2E3FC;\n",
              "      --hover-bg-color: #434B5C;\n",
              "      --hover-fill-color: #FFFFFF;\n",
              "      --disabled-bg-color: #3B4455;\n",
              "      --disabled-fill-color: #666;\n",
              "  }\n",
              "\n",
              "  .colab-df-quickchart {\n",
              "    background-color: var(--bg-color);\n",
              "    border: none;\n",
              "    border-radius: 50%;\n",
              "    cursor: pointer;\n",
              "    display: none;\n",
              "    fill: var(--fill-color);\n",
              "    height: 32px;\n",
              "    padding: 0;\n",
              "    width: 32px;\n",
              "  }\n",
              "\n",
              "  .colab-df-quickchart:hover {\n",
              "    background-color: var(--hover-bg-color);\n",
              "    box-shadow: 0 1px 2px rgba(60, 64, 67, 0.3), 0 1px 3px 1px rgba(60, 64, 67, 0.15);\n",
              "    fill: var(--button-hover-fill-color);\n",
              "  }\n",
              "\n",
              "  .colab-df-quickchart-complete:disabled,\n",
              "  .colab-df-quickchart-complete:disabled:hover {\n",
              "    background-color: var(--disabled-bg-color);\n",
              "    fill: var(--disabled-fill-color);\n",
              "    box-shadow: none;\n",
              "  }\n",
              "\n",
              "  .colab-df-spinner {\n",
              "    border: 2px solid var(--fill-color);\n",
              "    border-color: transparent;\n",
              "    border-bottom-color: var(--fill-color);\n",
              "    animation:\n",
              "      spin 1s steps(1) infinite;\n",
              "  }\n",
              "\n",
              "  @keyframes spin {\n",
              "    0% {\n",
              "      border-color: transparent;\n",
              "      border-bottom-color: var(--fill-color);\n",
              "      border-left-color: var(--fill-color);\n",
              "    }\n",
              "    20% {\n",
              "      border-color: transparent;\n",
              "      border-left-color: var(--fill-color);\n",
              "      border-top-color: var(--fill-color);\n",
              "    }\n",
              "    30% {\n",
              "      border-color: transparent;\n",
              "      border-left-color: var(--fill-color);\n",
              "      border-top-color: var(--fill-color);\n",
              "      border-right-color: var(--fill-color);\n",
              "    }\n",
              "    40% {\n",
              "      border-color: transparent;\n",
              "      border-right-color: var(--fill-color);\n",
              "      border-top-color: var(--fill-color);\n",
              "    }\n",
              "    60% {\n",
              "      border-color: transparent;\n",
              "      border-right-color: var(--fill-color);\n",
              "    }\n",
              "    80% {\n",
              "      border-color: transparent;\n",
              "      border-right-color: var(--fill-color);\n",
              "      border-bottom-color: var(--fill-color);\n",
              "    }\n",
              "    90% {\n",
              "      border-color: transparent;\n",
              "      border-bottom-color: var(--fill-color);\n",
              "    }\n",
              "  }\n",
              "</style>\n",
              "\n",
              "  <script>\n",
              "    async function quickchart(key) {\n",
              "      const quickchartButtonEl =\n",
              "        document.querySelector('#' + key + ' button');\n",
              "      quickchartButtonEl.disabled = true;  // To prevent multiple clicks.\n",
              "      quickchartButtonEl.classList.add('colab-df-spinner');\n",
              "      try {\n",
              "        const charts = await google.colab.kernel.invokeFunction(\n",
              "            'suggestCharts', [key], {});\n",
              "      } catch (error) {\n",
              "        console.error('Error during call to suggestCharts:', error);\n",
              "      }\n",
              "      quickchartButtonEl.classList.remove('colab-df-spinner');\n",
              "      quickchartButtonEl.classList.add('colab-df-quickchart-complete');\n",
              "    }\n",
              "    (() => {\n",
              "      let quickchartButtonEl =\n",
              "        document.querySelector('#df-fbe7b244-eda7-4178-89b8-8c858556a272 button');\n",
              "      quickchartButtonEl.style.display =\n",
              "        google.colab.kernel.accessAllowed ? 'block' : 'none';\n",
              "    })();\n",
              "  </script>\n",
              "</div>\n",
              "    </div>\n",
              "  </div>\n"
            ]
          },
          "metadata": {},
          "execution_count": 42
        }
      ]
    },
    {
      "cell_type": "markdown",
      "metadata": {
        "id": "_6YBam_3t-fO"
      },
      "source": [
        "1.3 Загрузите предобученные эмбеддинги (https://disk.yandex.ru/d/BHuT2tEXr_yBOQ?w=1) в модуль `nn.Embedding` и обучите модели из 1.2."
      ]
    },
    {
      "cell_type": "code",
      "source": [
        "embedding_dim = 50\n",
        "embedding_path = '/content/drive/MyDrive/glove.6B.50d.txt'\n",
        "embeddings_index = {}"
      ],
      "metadata": {
        "id": "HHXM5Wrgide3"
      },
      "execution_count": null,
      "outputs": []
    },
    {
      "cell_type": "code",
      "source": [
        "with open(embedding_path, 'r', encoding='utf-8') as f:\n",
        "    for line in f:\n",
        "        values = line.split()\n",
        "        word = values[0]\n",
        "        coefs = torch.tensor([float(val) for val in values[1:]], dtype=torch.float32)\n",
        "        embeddings_index[word] = coefs\n",
        "\n",
        "embedding_matrix = torch.zeros(len(all_chars), embedding_dim)\n",
        "\n",
        "for char, idx in char_to_index.items():\n",
        "    if char in embeddings_index:\n",
        "        embedding_matrix[idx] = embeddings_index[char]"
      ],
      "metadata": {
        "id": "kJr7TrDoik5o"
      },
      "execution_count": null,
      "outputs": []
    },
    {
      "cell_type": "code",
      "source": [
        "class RNNWithEmbeddings(nn.Module):\n",
        "    def __init__(self, embedding_matrix, hidden_size, output_size, rnn_type='rnn'):\n",
        "        super(RNNWithEmbeddings, self).__init__()\n",
        "        self.embedding = nn.Embedding.from_pretrained(embedding_matrix, freeze=True)\n",
        "\n",
        "        if rnn_type == 'rnn':\n",
        "            self.rnn = nn.RNN(embedding_dim, hidden_size, batch_first=True)\n",
        "        elif rnn_type == 'lstm':\n",
        "            self.rnn = nn.LSTM(embedding_dim, hidden_size, batch_first=True)\n",
        "        elif rnn_type == 'gru':\n",
        "            self.rnn = nn.GRU(embedding_dim, hidden_size, batch_first=True)\n",
        "        else:\n",
        "            raise ValueError(\"Invalid rnn_type. Use 'rnn', 'lstm', or 'gru'.\")\n",
        "\n",
        "        self.fc = nn.Linear(hidden_size, output_size)\n",
        "\n",
        "    def forward(self, x):\n",
        "        embedded = self.embedding(x)\n",
        "        lengths = (x != 0).sum(dim=1)\n",
        "        packed = pack_padded_sequence(embedded, lengths, batch_first=True, enforce_sorted=False)\n",
        "        packed_output, _ = self.rnn(packed)\n",
        "        output, _ = pad_packed_sequence(packed_output, batch_first=True)\n",
        "        output = self.fc(output[:, -1, :])\n",
        "        return output"
      ],
      "metadata": {
        "id": "sz4EDfs8iu-_"
      },
      "execution_count": null,
      "outputs": []
    },
    {
      "cell_type": "code",
      "source": [
        "input_size = len(all_chars)\n",
        "hidden_size = 64\n",
        "output_size = len(label_encoder.classes_)\n",
        "\n",
        "rnn_types = ['rnn', 'lstm', 'gru']\n",
        "models = []\n",
        "\n",
        "for rnn_type in rnn_types:\n",
        "    model = RNNWithEmbeddings(embedding_matrix, hidden_size, output_size, rnn_type=rnn_type)\n",
        "    models.append(model)\n",
        "\n",
        "criterion = nn.CrossEntropyLoss()"
      ],
      "metadata": {
        "id": "TVPquoztizYm"
      },
      "execution_count": null,
      "outputs": []
    },
    {
      "cell_type": "code",
      "source": [
        "num_epochs = 20\n",
        "train_losses = []\n",
        "test_losses = []\n",
        "\n",
        "for model, rnn_type in zip(models, rnn_types):\n",
        "    optimizer = torch.optim.Adam(model.parameters(), lr=0.001)\n",
        "    train_losses_per_type = []\n",
        "    test_losses_per_type = []\n",
        "\n",
        "    for epoch in range(num_epochs):\n",
        "        model.train()\n",
        "        total_loss = 0.0\n",
        "        total_samples = 0\n",
        "\n",
        "        for names, targets in train_loader:\n",
        "            optimizer.zero_grad()\n",
        "            names = names.to(torch.long)\n",
        "            targets = targets.to(torch.long)\n",
        "            outputs = model(names)\n",
        "            loss = criterion(outputs, targets)\n",
        "            loss.backward()\n",
        "            optimizer.step()\n",
        "\n",
        "            total_loss += loss.item() * len(names)\n",
        "            total_samples += len(names)\n",
        "\n",
        "        avg_train_loss = total_loss / total_samples\n",
        "        train_losses_per_type.append(avg_train_loss)\n",
        "\n",
        "        avg_test_loss = evaluate_model(model, test_loader, criterion)\n",
        "        test_losses_per_type.append(avg_test_loss)\n",
        "\n",
        "        print(f'Epoch [{epoch+1}/{num_epochs}], Type: {rnn_type}, Train Loss: {avg_train_loss:.4f}, Test Loss: {avg_test_loss:.4f}')\n",
        "\n",
        "    train_losses.append(train_losses_per_type)\n",
        "    test_losses.append(test_losses_per_type)"
      ],
      "metadata": {
        "colab": {
          "base_uri": "https://localhost:8080/"
        },
        "id": "XpJeHyiwi6_3",
        "outputId": "94a0dbc0-6408-4660-950e-64ba8f0f1391"
      },
      "execution_count": null,
      "outputs": [
        {
          "output_type": "stream",
          "name": "stdout",
          "text": [
            "Epoch [1/20], Type: rnn, Train Loss: 2.7880, Test Loss: 2.7283\n",
            "Epoch [2/20], Type: rnn, Train Loss: 2.6720, Test Loss: 2.6307\n",
            "Epoch [3/20], Type: rnn, Train Loss: 2.5826, Test Loss: 2.5467\n",
            "Epoch [4/20], Type: rnn, Train Loss: 2.5011, Test Loss: 2.4780\n",
            "Epoch [5/20], Type: rnn, Train Loss: 2.4411, Test Loss: 2.4197\n",
            "Epoch [6/20], Type: rnn, Train Loss: 2.3817, Test Loss: 2.3747\n",
            "Epoch [7/20], Type: rnn, Train Loss: 2.3396, Test Loss: 2.3373\n",
            "Epoch [8/20], Type: rnn, Train Loss: 2.3064, Test Loss: 2.3075\n",
            "Epoch [9/20], Type: rnn, Train Loss: 2.2755, Test Loss: 2.2855\n",
            "Epoch [10/20], Type: rnn, Train Loss: 2.2581, Test Loss: 2.2688\n",
            "Epoch [11/20], Type: rnn, Train Loss: 2.2401, Test Loss: 2.2523\n",
            "Epoch [12/20], Type: rnn, Train Loss: 2.2225, Test Loss: 2.2412\n",
            "Epoch [13/20], Type: rnn, Train Loss: 2.2108, Test Loss: 2.2327\n",
            "Epoch [14/20], Type: rnn, Train Loss: 2.2028, Test Loss: 2.2259\n",
            "Epoch [15/20], Type: rnn, Train Loss: 2.1959, Test Loss: 2.2211\n",
            "Epoch [16/20], Type: rnn, Train Loss: 2.1950, Test Loss: 2.2159\n",
            "Epoch [17/20], Type: rnn, Train Loss: 2.1921, Test Loss: 2.2146\n",
            "Epoch [18/20], Type: rnn, Train Loss: 2.1857, Test Loss: 2.2119\n",
            "Epoch [19/20], Type: rnn, Train Loss: 2.1802, Test Loss: 2.2112\n",
            "Epoch [20/20], Type: rnn, Train Loss: 2.1846, Test Loss: 2.2092\n",
            "Epoch [1/20], Type: lstm, Train Loss: 2.8647, Test Loss: 2.8011\n",
            "Epoch [2/20], Type: lstm, Train Loss: 2.7387, Test Loss: 2.6938\n",
            "Epoch [3/20], Type: lstm, Train Loss: 2.6431, Test Loss: 2.6011\n",
            "Epoch [4/20], Type: lstm, Train Loss: 2.5583, Test Loss: 2.5217\n",
            "Epoch [5/20], Type: lstm, Train Loss: 2.4833, Test Loss: 2.4581\n",
            "Epoch [6/20], Type: lstm, Train Loss: 2.4219, Test Loss: 2.4032\n",
            "Epoch [7/20], Type: lstm, Train Loss: 2.3740, Test Loss: 2.3604\n",
            "Epoch [8/20], Type: lstm, Train Loss: 2.3333, Test Loss: 2.3254\n",
            "Epoch [9/20], Type: lstm, Train Loss: 2.3053, Test Loss: 2.2976\n",
            "Epoch [10/20], Type: lstm, Train Loss: 2.2746, Test Loss: 2.2741\n",
            "Epoch [11/20], Type: lstm, Train Loss: 2.2513, Test Loss: 2.2561\n",
            "Epoch [12/20], Type: lstm, Train Loss: 2.2407, Test Loss: 2.2443\n",
            "Epoch [13/20], Type: lstm, Train Loss: 2.2257, Test Loss: 2.2330\n",
            "Epoch [14/20], Type: lstm, Train Loss: 2.2115, Test Loss: 2.2245\n",
            "Epoch [15/20], Type: lstm, Train Loss: 2.2065, Test Loss: 2.2159\n",
            "Epoch [16/20], Type: lstm, Train Loss: 2.2009, Test Loss: 2.2105\n",
            "Epoch [17/20], Type: lstm, Train Loss: 2.1957, Test Loss: 2.2076\n",
            "Epoch [18/20], Type: lstm, Train Loss: 2.1880, Test Loss: 2.2051\n",
            "Epoch [19/20], Type: lstm, Train Loss: 2.1888, Test Loss: 2.2021\n",
            "Epoch [20/20], Type: lstm, Train Loss: 2.1804, Test Loss: 2.2010\n",
            "Epoch [1/20], Type: gru, Train Loss: 2.7999, Test Loss: 2.7400\n",
            "Epoch [2/20], Type: gru, Train Loss: 2.6869, Test Loss: 2.6411\n",
            "Epoch [3/20], Type: gru, Train Loss: 2.5886, Test Loss: 2.5544\n",
            "Epoch [4/20], Type: gru, Train Loss: 2.5128, Test Loss: 2.4828\n",
            "Epoch [5/20], Type: gru, Train Loss: 2.4457, Test Loss: 2.4280\n",
            "Epoch [6/20], Type: gru, Train Loss: 2.3879, Test Loss: 2.3738\n",
            "Epoch [7/20], Type: gru, Train Loss: 2.3443, Test Loss: 2.3351\n",
            "Epoch [8/20], Type: gru, Train Loss: 2.3081, Test Loss: 2.3038\n",
            "Epoch [9/20], Type: gru, Train Loss: 2.2825, Test Loss: 2.2827\n",
            "Epoch [10/20], Type: gru, Train Loss: 2.2553, Test Loss: 2.2609\n",
            "Epoch [11/20], Type: gru, Train Loss: 2.2366, Test Loss: 2.2456\n",
            "Epoch [12/20], Type: gru, Train Loss: 2.2269, Test Loss: 2.2360\n",
            "Epoch [13/20], Type: gru, Train Loss: 2.2104, Test Loss: 2.2248\n",
            "Epoch [14/20], Type: gru, Train Loss: 2.2017, Test Loss: 2.2188\n",
            "Epoch [15/20], Type: gru, Train Loss: 2.2003, Test Loss: 2.2136\n",
            "Epoch [16/20], Type: gru, Train Loss: 2.1902, Test Loss: 2.2104\n",
            "Epoch [17/20], Type: gru, Train Loss: 2.1868, Test Loss: 2.2065\n",
            "Epoch [18/20], Type: gru, Train Loss: 2.1809, Test Loss: 2.2047\n",
            "Epoch [19/20], Type: gru, Train Loss: 2.1767, Test Loss: 2.2009\n",
            "Epoch [20/20], Type: gru, Train Loss: 2.1781, Test Loss: 2.2009\n"
          ]
        }
      ]
    },
    {
      "cell_type": "code",
      "source": [
        "plt.figure(figsize=(10, 6))\n",
        "\n",
        "for i, rnn_type in enumerate(rnn_types):\n",
        "    plt.plot(range(1, num_epochs + 1), train_losses[i], label=f'Train Loss {rnn_type}')\n",
        "    plt.plot(range(1, num_epochs + 1), test_losses[i], label=f'Test Loss {rnn_type}')\n",
        "\n",
        "plt.xlabel('Epoch')\n",
        "plt.ylabel('Loss')\n",
        "plt.legend()\n",
        "plt.show()"
      ],
      "metadata": {
        "colab": {
          "base_uri": "https://localhost:8080/",
          "height": 542
        },
        "id": "6Pwr6VG6j9Ed",
        "outputId": "27e9cdad-9dc9-4f0d-e813-666bbe09db7c"
      },
      "execution_count": null,
      "outputs": [
        {
          "output_type": "display_data",
          "data": {
            "text/plain": [
              "<Figure size 1000x600 with 1 Axes>"
            ],
            "image/png": "[encoded data removed]"
          },
          "metadata": {}
        }
      ]
    },
    {
      "cell_type": "markdown",
      "metadata": {
        "id": "f7kf990U9Do-"
      },
      "source": [
        "## 2. Классификация обзоров на фильмы (RNN)\n",
        "\n",
        "Датасет: https://disk.yandex.ru/d/tdinpb0nN_Dsrg\n",
        "\n",
        "2.1 Создайте набор данных на основе файлов polarity/positive_reviews.csv (положительные отзывы) и polarity/negative_reviews.csv (отрицательные отзывы). Разбейте на обучающую и тестовую выборку.\n",
        "  * токен = __слово__\n",
        "  * данные для обучения в датасете представляются в виде последовательности индексов токенов\n",
        "  * словарь создается на основе _только_ обучающей выборки. Для корректной обработки ситуаций, когда в тестовой выборке встретится токен, который не хранится в словаре, добавьте в словарь специальный токен `<UNK>`\n",
        "  * добавьте предобработку текста\n",
        "\n",
        "2.2. Обучите классификатор.\n",
        "  \n",
        "  * Для преобразования последовательности индексов в последовательность векторов используйте `nn.Embedding`\n",
        "    - подберите адекватную размерность вектора эмбеддинга:\n",
        "    - модуль `nn.Embedding` обучается\n",
        "\n",
        "  * Используйте рекуррентные слои (`nn.RNN`, `nn.LSTM`, `nn.GRU`)\n",
        "\n",
        "\n",
        "2.3 Измерить точность на тестовой выборке. Проверить работоспособность модели: придумать небольшой отзыв, прогнать его через модель и вывести номер предсказанного класса (сделать это для явно позитивного и явно негативного отзыва)\n",
        "* Целевое значение accuracy на валидации - 70+%"
      ]
    },
    {
      "cell_type": "code",
      "source": [
        "from nltk import WordNetLemmatizer\n",
        "from nltk import word_tokenize"
      ],
      "metadata": {
        "id": "y1zWb7Af3aHF"
      },
      "execution_count": null,
      "outputs": []
    },
    {
      "cell_type": "code",
      "source": [
        "with open('/content/drive/MyDrive/positive_reviews.txt') as file:\n",
        "    pos_reviews = file.readlines()\n",
        "with open('/content/drive/MyDrive/negative_reviews.txt') as file:\n",
        "    neg_reviews = file.readlines()\n",
        "\n",
        "pos_reviews = pd.DataFrame(pos_reviews, columns=['review'])\n",
        "pos_reviews['positive'] = 1\n",
        "neg_reviews = pd.DataFrame(neg_reviews, columns=['review'])\n",
        "neg_reviews['positive'] = 0\n",
        "\n",
        "reviews = pd.concat([pos_reviews, neg_reviews])"
      ],
      "metadata": {
        "id": "aVv21-AXrHJl"
      },
      "execution_count": null,
      "outputs": []
    },
    {
      "cell_type": "code",
      "source": [
        "train_reviews, test_reviews = train_test_split(reviews, test_size=0.3)"
      ],
      "metadata": {
        "id": "bBISNEm-3HLw"
      },
      "execution_count": null,
      "outputs": []
    },
    {
      "cell_type": "code",
      "source": [
        "wnl = WordNetLemmatizer()"
      ],
      "metadata": {
        "id": "SLZICcQm3dlm"
      },
      "execution_count": null,
      "outputs": []
    },
    {
      "cell_type": "code",
      "source": [
        "class Vocab:\n",
        "    def __init__(self, data: pd.Series):\n",
        "        _word_bag = {'<UNK>'}\n",
        "        for sent in data.review:\n",
        "            sent = set(map(wnl.lemmatize, word_tokenize(sent)))\n",
        "            _word_bag |= sent\n",
        "\n",
        "        self.idx_to_token = dict(zip(range(1, len(_word_bag) + 1), _word_bag))\n",
        "\n",
        "        self.token_to_idx = {v: u for u, v in self.idx_to_token.items()}\n",
        "        self.vocab_len = len(self.idx_to_token)\n",
        "        self._word_bag = _word_bag"
      ],
      "metadata": {
        "id": "AXyOQwZ-3c0A"
      },
      "execution_count": null,
      "outputs": []
    },
    {
      "cell_type": "code",
      "source": [
        "vocab_review = Vocab(train_reviews)"
      ],
      "metadata": {
        "id": "965ysLfYr7gU"
      },
      "execution_count": null,
      "outputs": []
    },
    {
      "cell_type": "code",
      "source": [
        "class ReviewDataset(Dataset):\n",
        "    def __init__(self, x: pd.Series, y: pd.Series, _vocab: Vocab):\n",
        "        self.x = x\n",
        "        self.y = y\n",
        "        self.vocab = _vocab\n",
        "\n",
        "    def vectorize(self, review: str):\n",
        "        max_len = 64\n",
        "        review = review.lower()\n",
        "        output_tensor = []\n",
        "\n",
        "        for l, word in enumerate(word_tokenize(review[:max_len]), 1):\n",
        "\n",
        "            word = wnl.lemmatize(word)\n",
        "            if word in self.vocab.token_to_idx.keys():\n",
        "                output_tensor.append(self.vocab.token_to_idx[word])\n",
        "            else:\n",
        "                output_tensor.append(self.vocab.token_to_idx['<UNK>'])\n",
        "\n",
        "        output_tensor = [0] * (max_len - len(output_tensor)) + output_tensor\n",
        "\n",
        "        return output_tensor\n",
        "\n",
        "    def __len__(self):\n",
        "        return self.x.shape[0]\n",
        "\n",
        "    def __getitem__(self, idx):\n",
        "        x = torch.LongTensor(self.vectorize(self.x.iloc[idx]))\n",
        "        return x, torch.tensor(self.y.iloc[idx]).long()"
      ],
      "metadata": {
        "id": "Mbes7d3Tt-pN"
      },
      "execution_count": null,
      "outputs": []
    },
    {
      "cell_type": "code",
      "source": [
        "class RNNModel(torch.nn.Module):\n",
        "    def __init__(self, vocab_size, embedding_dim, hidden_dim, output_dim, n_layers, dropout):\n",
        "        super().__init__()\n",
        "        self.embedding = torch.nn.Embedding(vocab_size, embedding_dim)\n",
        "        self.lstm = torch.nn.RNN(embedding_dim, hidden_dim, num_layers=n_layers, batch_first=True)\n",
        "        self.fc = torch.nn.Linear(hidden_dim, output_dim)\n",
        "        self.dropout = torch.nn.Dropout(dropout)\n",
        "\n",
        "    def forward(self, x):\n",
        "        embedded = self.embedding(x)\n",
        "        output, (hidden, cell) = self.lstm(embedded)\n",
        "        hidden = self.dropout(hidden.squeeze(0))\n",
        "        out = self.fc(hidden)\n",
        "        return out"
      ],
      "metadata": {
        "id": "ZqthcGiG2-Eg"
      },
      "execution_count": null,
      "outputs": []
    },
    {
      "cell_type": "code",
      "source": [
        "model = RNNModel(\n",
        "    vocab_size=vocab_review.vocab_len + 1,\n",
        "    embedding_dim=100,\n",
        "    hidden_dim=128,\n",
        "    output_dim=2,\n",
        "    n_layers=2,\n",
        "    dropout=0.5\n",
        ")"
      ],
      "metadata": {
        "id": "MWU0r4FPuBGz"
      },
      "execution_count": null,
      "outputs": []
    },
    {
      "cell_type": "code",
      "source": [
        "review_train_ds = ReviewDataset(train_reviews.review, train_reviews.positive, vocab_review)\n",
        "review_valid_ds = ReviewDataset(test_reviews.review, test_reviews.positive, vocab_review)"
      ],
      "metadata": {
        "id": "3fSCO0ftuELK"
      },
      "execution_count": null,
      "outputs": []
    },
    {
      "cell_type": "code",
      "source": [
        "optimizer = torch.optim.Adam(model.parameters(), weight_decay=0.01, lr = 0.0001)\n",
        "loss = torch.nn.CrossEntropyLoss()\n",
        "loss_log = []\n",
        "loss_log_val = []\n",
        "min_val_loss = 10 ** 10"
      ],
      "metadata": {
        "id": "_dRllFO_3r3G"
      },
      "execution_count": null,
      "outputs": []
    },
    {
      "cell_type": "code",
      "source": [
        "train_loader = DataLoader(review_train_ds, batch_size=64, shuffle=True)\n",
        "test_loader = DataLoader(review_valid_ds, batch_size=64, shuffle=True)"
      ],
      "metadata": {
        "id": "76dTvFOh4Ixu"
      },
      "execution_count": null,
      "outputs": []
    },
    {
      "cell_type": "code",
      "source": [
        "for i in range(15):\n",
        "    epoch_loss = 0\n",
        "    epoch_loss_val = 0\n",
        "    j, k = 1, 1\n",
        "\n",
        "    model.train()\n",
        "\n",
        "    for j, (batch_x, batch_y) in enumerate(train_loader, 1):\n",
        "        y_pred = model(batch_x)\n",
        "        running_loss = loss(y_pred, batch_y)\n",
        "        epoch_loss += running_loss.item()\n",
        "\n",
        "        running_loss.backward()\n",
        "        optimizer.step()\n",
        "        optimizer.zero_grad()\n",
        "\n",
        "    model.eval()\n",
        "    for k, (batch_x, batch_y) in enumerate(test_loader, 1):\n",
        "        y_pred = model(batch_x)\n",
        "        running_loss = loss(y_pred, batch_y)\n",
        "        epoch_loss_val += running_loss.item()\n",
        "\n",
        "    epoch_loss /= j\n",
        "    epoch_loss_val /= k\n",
        "\n",
        "\n",
        "    if i % 1 == 0:\n",
        "\n",
        "        print(f'Epoch [{i+1}/{15}], Train loss: {epoch_loss}, Train Loss: {epoch_loss_val:.4f}')\n",
        "\n",
        "        right_answers = 0\n",
        "        for batch_x, batch_y in DataLoader(review_valid_ds, batch_size=32):\n",
        "            predictions = model(batch_x).argmax(dim=1)\n",
        "            right_answers += (torch.eq(batch_y, predictions)).sum()\n",
        "\n",
        "    loss_log.append(epoch_loss)\n",
        "    loss_log_val.append(epoch_loss_val)"
      ],
      "metadata": {
        "colab": {
          "base_uri": "https://localhost:8080/"
        },
        "id": "ObnrElYV355m",
        "outputId": "703fb238-c433-4eae-9f2f-bbcd6c659c9d"
      },
      "execution_count": null,
      "outputs": [
        {
          "output_type": "stream",
          "name": "stdout",
          "text": [
            "Epoch [1/15], Train loss: 0.6657300189010098, Train Loss: 0.6746\n",
            "Epoch [2/15], Train loss: 0.6608847517233628, Train Loss: 0.6705\n",
            "Epoch [3/15], Train loss: 0.659710963567098, Train Loss: 0.6694\n",
            "Epoch [4/15], Train loss: 0.6580792033774221, Train Loss: 0.6684\n",
            "Epoch [5/15], Train loss: 0.656694855954912, Train Loss: 0.6683\n",
            "Epoch [6/15], Train loss: 0.6558336034799234, Train Loss: 0.6670\n",
            "Epoch [7/15], Train loss: 0.6546779733437759, Train Loss: 0.6675\n",
            "Epoch [8/15], Train loss: 0.6517313326525892, Train Loss: 0.6661\n",
            "Epoch [9/15], Train loss: 0.651162976383144, Train Loss: 0.6657\n",
            "Epoch [10/15], Train loss: 0.6506956652698354, Train Loss: 0.6651\n",
            "Epoch [11/15], Train loss: 0.6488550957451519, Train Loss: 0.6648\n",
            "Epoch [12/15], Train loss: 0.6474610628225864, Train Loss: 0.6651\n",
            "Epoch [13/15], Train loss: 0.6462598835301195, Train Loss: 0.6636\n",
            "Epoch [14/15], Train loss: 0.6453018988299574, Train Loss: 0.6632\n",
            "Epoch [15/15], Train loss: 0.6423810032697824, Train Loss: 0.6638\n"
          ]
        }
      ]
    },
    {
      "cell_type": "code",
      "source": [
        "plt.plot(loss_log, label='Train Loss', color='red')\n",
        "plt.plot(loss_log_val, label='Test Loss', color='blue')\n",
        "plt.xlabel('Epoch')\n",
        "plt.ylabel('Loss')\n",
        "plt.legend()\n",
        "plt.show()"
      ],
      "metadata": {
        "colab": {
          "base_uri": "https://localhost:8080/",
          "height": 449
        },
        "id": "T5GAy4aL5LFc",
        "outputId": "29337533-093e-4375-9b16-5472966f7e89"
      },
      "execution_count": null,
      "outputs": [
        {
          "output_type": "display_data",
          "data": {
            "text/plain": [
              "<Figure size 640x480 with 1 Axes>"
            ],
            "image/png": "[encoded data removed]"
          },
          "metadata": {}
        }
      ]
    }
  ],
  "metadata": {
    "accelerator": "GPU",
    "colab": {
      "provenance": []
    },
    "kernelspec": {
      "display_name": "Python 3",
      "language": "python",
      "name": "python3"
    },
    "language_info": {
      "codemirror_mode": {
        "name": "ipython",
        "version": 3
      },
      "file_extension": ".py",
      "mimetype": "text/x-python",
      "name": "python",
      "nbconvert_exporter": "python",
      "pygments_lexer": "ipython3",
      "version": "3.7.6"
    }
  },
  "nbformat": 4,
  "nbformat_minor": 0
}