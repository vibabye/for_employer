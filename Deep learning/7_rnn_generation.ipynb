{
  "cells": [
    {
      "cell_type": "code",
      "execution_count": null,
      "metadata": {
        "colab": {
          "base_uri": "https://localhost:8080/"
        },
        "id": "zKMq7dp2W15Y",
        "outputId": "c7f4beff-d91a-491a-b02f-0750c4d45027"
      },
      "outputs": [
        {
          "output_type": "stream",
          "name": "stderr",
          "text": [
            "[nltk_data] Downloading package punkt to /root/nltk_data...\n",
            "[nltk_data]   Package punkt is already up-to-date!\n"
          ]
        },
        {
          "output_type": "execute_result",
          "data": {
            "text/plain": [
              "True"
            ]
          },
          "metadata": {},
          "execution_count": 42
        }
      ],
      "source": [
        "import re\n",
        "import nltk\n",
        "\n",
        "import torch\n",
        "from torch.utils.data import Dataset, DataLoader\n",
        "import torch.nn as nn\n",
        "import torch.optim as optim\n",
        "\n",
        "import pandas as pd\n",
        "from sklearn.model_selection import train_test_split\n",
        "from sklearn.metrics import accuracy_score\n",
        "from nltk.tokenize import word_tokenize, sent_tokenize\n",
        "from sklearn.preprocessing import LabelEncoder\n",
        "from torch.nn.utils.rnn import pad_sequence\n",
        "import matplotlib.pyplot as plt\n",
        "from torch.utils.data import DataLoader, random_split\n",
        "import matplotlib.pyplot as plt\n",
        "import numpy as np\n",
        "import sys\n",
        "nltk.download('punkt')"
      ]
    },
    {
      "cell_type": "code",
      "execution_count": null,
      "metadata": {
        "colab": {
          "base_uri": "https://localhost:8080/"
        },
        "id": "hBkqaK5bawXN",
        "outputId": "c7372ca9-fa52-4de8-fdaf-81c4cb98f4e3"
      },
      "outputs": [
        {
          "output_type": "stream",
          "name": "stdout",
          "text": [
            "Drive already mounted at /content/drive/; to attempt to forcibly remount, call drive.mount(\"/content/drive/\", force_remount=True).\n"
          ]
        }
      ],
      "source": [
        "from google.colab import drive\n",
        "drive.mount('/content/drive/')"
      ]
    },
    {
      "cell_type": "markdown",
      "metadata": {
        "id": "WmWCBWxrBUB3"
      },
      "source": [
        "## 1. Генерирование русских имен при помощи RNN"
      ]
    },
    {
      "cell_type": "markdown",
      "metadata": {
        "id": "990obDBwCC7V"
      },
      "source": [
        "Датасет: https://disk.yandex.ru/i/2yt18jHUgVEoIw\n",
        "\n",
        "1.1 На основе файла name_rus.txt создайте датасет.\n",
        "  * Учтите, что имена могут иметь различную длину\n",
        "  * Добавьте 4 специальных токена:\n",
        "    * `<PAD>` для дополнения последовательности до нужной длины;\n",
        "    * `<UNK>` для корректной обработки ранее не встречавшихся токенов;\n",
        "    * `<SOS>` для обозначения начала последовательности;\n",
        "    * `<EOS>` для обозначения конца последовательности.\n",
        "  * Преобразовывайте строку в последовательность индексов с учетом следующих замечаний:\n",
        "    * в начало последовательности добавьте токен `<SOS>`;\n",
        "    * в конец последовательности добавьте токен `<EOS>` и, при необходимости, несколько токенов `<PAD>`;\n",
        "  * `Dataset.__get_item__` возращает две последовательности: последовательность для обучения и правильный ответ.\n",
        "  \n",
        "  Пример:\n",
        "  ```\n",
        "  s = 'The cat sat on the mat'\n",
        "  # преобразуем в индексы\n",
        "  s_idx = [2, 5, 1, 2, 8, 4, 7, 3, 0, 0]\n",
        "  # получаем x и y (__getitem__)\n",
        "  x = [2, 5, 1, 2, 8, 4, 7, 3, 0]\n",
        "  y = [5, 1, 2, 8, 4, 7, 3, 0, 0]\n",
        "  ```\n",
        "\n",
        "1.2 Создайте и обучите модель для генерации фамилии.\n",
        "\n",
        "  * Для преобразования последовательности индексов в последовательность векторов используйте `nn.Embedding`;\n",
        "  * Используйте рекуррентные слои;\n",
        "  * Задача ставится как предсказание следующего токена в каждом примере из пакета для каждого момента времени. Т.е. в данный момент времени по текущей подстроке предсказывает следующий символ для данной строки (задача классификации);\n",
        "  * Примерная схема реализации метода `forward`:\n",
        "  ```\n",
        "    input_X: [batch_size x seq_len] -> nn.Embedding -> emb_X: [batch_size x seq_len x embedding_size]\n",
        "    emb_X: [batch_size x seq_len x embedding_size] -> nn.RNN -> output: [batch_size x seq_len x hidden_size]\n",
        "    output: [batch_size x seq_len x hidden_size] -> torch.Tensor.reshape -> output: [batch_size * seq_len x hidden_size]\n",
        "    output: [batch_size * seq_len x hidden_size] -> nn.Linear -> output: [batch_size * seq_len x vocab_size]\n",
        "  ```\n",
        "\n",
        "1.3 Напишите функцию, которая генерирует фамилию при помощи обученной модели:\n",
        "  * Построение начинается с последовательности единичной длины, состоящей из индекса токена `<SOS>`;\n",
        "  * Начальное скрытое состояние RNN `h_t = None`;\n",
        "  * В результате прогона последнего токена из построенной последовательности через модель получаете новое скрытое состояние `h_t` и распределение над всеми токенами из словаря;\n",
        "  * Выбираете 1 токен пропорционально вероятности и добавляете его в последовательность (можно воспользоваться `torch.multinomial`);\n",
        "  * Повторяете эти действия до тех пор, пока не сгенерирован токен `<EOS>` или не превышена максимальная длина последовательности.\n",
        "\n",
        "При обучении каждые `k` эпох генерируйте несколько фамилий и выводите их на экран."
      ]
    },
    {
      "cell_type": "markdown",
      "source": [
        "**1.1**"
      ],
      "metadata": {
        "id": "MyPOMWIvcgtD"
      }
    },
    {
      "cell_type": "code",
      "source": [
        "class NamesDataset(Dataset):\n",
        "    def __init__(self, file_path):\n",
        "        self.vocab = self.build_vocab(file_path)\n",
        "        self.data = self.process_data(file_path, self.vocab)\n",
        "\n",
        "    def build_vocab(self, file_path):\n",
        "        with open(file_path, 'r', encoding='cp1251') as file:\n",
        "            names = [line.strip() for line in file]\n",
        "\n",
        "        all_chars = set(''.join(names))\n",
        "        all_chars.update(['<PAD>', '<UNK>', '<SOS>', '<EOS>'])\n",
        "\n",
        "        char_to_idx = {char: idx for idx, char in enumerate(all_chars)}\n",
        "\n",
        "        return char_to_idx\n",
        "\n",
        "    def process_data(self, file_path, vocab):\n",
        "        data = []\n",
        "        with open(file_path, 'r', encoding='cp1251') as file:\n",
        "            names = [line.strip() for line in file]\n",
        "\n",
        "        for name in names:\n",
        "            sequence = [vocab['<SOS>']] + [vocab[char] if char in vocab else vocab['<UNK>'] for char in name] + [vocab['<EOS>']]\n",
        "            data.append(sequence)\n",
        "\n",
        "        return data\n",
        "\n",
        "    def __len__(self):\n",
        "        return len(self.data)\n",
        "\n",
        "    def __getitem__(self, index):\n",
        "        sequence = self.data[index]\n",
        "\n",
        "        x = torch.tensor(sequence[:-1])\n",
        "        y = torch.tensor(sequence[1:])\n",
        "\n",
        "        return x, y"
      ],
      "metadata": {
        "id": "Gmr7ij5PRCZr"
      },
      "execution_count": null,
      "outputs": []
    },
    {
      "cell_type": "markdown",
      "source": [
        "**Пример использования класса:**"
      ],
      "metadata": {
        "id": "V1dGS4vtcpcm"
      }
    },
    {
      "cell_type": "code",
      "source": [
        "file_path = '/content/drive/MyDrive/name_rus.txt'\n",
        "dataset = NamesDataset(file_path)\n",
        "\n",
        "example_idx = 0\n",
        "x, y = dataset[example_idx]\n",
        "print(\"Пример x:\", x)\n",
        "print(\"Пример y:\", y)"
      ],
      "metadata": {
        "colab": {
          "base_uri": "https://localhost:8080/"
        },
        "id": "ilEp1JEpcorW",
        "outputId": "fcf3ed53-36d5-4760-ce6d-1dc5089c0a01"
      },
      "execution_count": null,
      "outputs": [
        {
          "output_type": "stream",
          "name": "stdout",
          "text": [
            "Пример x: tensor([13, 21, 12, 17, 16,  2, 18,  3])\n",
            "Пример y: tensor([21, 12, 17, 16,  2, 18,  3, 14])\n"
          ]
        }
      ]
    },
    {
      "cell_type": "markdown",
      "source": [
        "**1.2**"
      ],
      "metadata": {
        "id": "wpZhCUvYc_Dv"
      }
    },
    {
      "cell_type": "code",
      "source": [
        "class NameGenerator(nn.Module):\n",
        "    def __init__(self, vocab_size, embedding_size, hidden_size):\n",
        "        super(NameGenerator, self).__init__()\n",
        "        self.embedding = nn.Embedding(vocab_size, embedding_size)\n",
        "        self.rnn = nn.RNN(embedding_size, hidden_size, batch_first=True)\n",
        "        self.linear = nn.Linear(hidden_size, vocab_size)\n",
        "\n",
        "    def forward(self, x, hidden=None):\n",
        "        x = self.embedding(x)\n",
        "        output, hidden = self.rnn(x, hidden)\n",
        "        output = output.reshape(-1, output.size(2))\n",
        "        output = self.linear(output)\n",
        "        return output"
      ],
      "metadata": {
        "id": "WSIbn6OFTOv0"
      },
      "execution_count": null,
      "outputs": []
    },
    {
      "cell_type": "code",
      "source": [
        "vocab_size = len(dataset.vocab)\n",
        "embedding_size = 50\n",
        "hidden_size = 100\n",
        "\n",
        "model = NameGenerator(vocab_size, embedding_size, hidden_size)\n",
        "optimizer = optim.Adam(model.parameters(), lr=0.001)\n",
        "criterion = nn.CrossEntropyLoss()"
      ],
      "metadata": {
        "id": "A1giBn3KdD83"
      },
      "execution_count": null,
      "outputs": []
    },
    {
      "cell_type": "code",
      "source": [
        "train_size = int(0.8 * len(dataset))\n",
        "test_size = len(dataset) - train_size\n",
        "train_dataset, test_dataset = random_split(dataset, [train_size, test_size])\n",
        "\n",
        "train_batch_size = 64\n",
        "train_dataloader = DataLoader(train_dataset, batch_size=train_batch_size, shuffle=True, collate_fn=lambda x: (pad_sequence([item[0] for item in x], batch_first=True, padding_value=0), pad_sequence([item[1] for item in x], batch_first=True, padding_value=0)))\n",
        "\n",
        "test_batch_size = 64\n",
        "test_dataloader = DataLoader(test_dataset, batch_size=test_batch_size, shuffle=False, collate_fn=lambda x: (pad_sequence([item[0] for item in x], batch_first=True, padding_value=0), pad_sequence([item[1] for item in x], batch_first=True, padding_value=0)))"
      ],
      "metadata": {
        "id": "q1aEpN4BknrF"
      },
      "execution_count": null,
      "outputs": []
    },
    {
      "cell_type": "code",
      "source": [
        "train_losses = []\n",
        "test_losses = []\n",
        "num_epochs = 30"
      ],
      "metadata": {
        "id": "jpyReBBPksqr"
      },
      "execution_count": null,
      "outputs": []
    },
    {
      "cell_type": "code",
      "source": [
        "for epoch in range(num_epochs):\n",
        "\n",
        "    model.train()\n",
        "    train_epoch_loss = 0.0\n",
        "\n",
        "    for batch_x, batch_y in train_dataloader:\n",
        "        optimizer.zero_grad()\n",
        "        output = model(batch_x)\n",
        "        loss = criterion(output, batch_y.view(-1))\n",
        "        loss.backward()\n",
        "        optimizer.step()\n",
        "        train_epoch_loss += loss.item()\n",
        "\n",
        "    average_train_loss = train_epoch_loss / len(train_dataloader)\n",
        "    train_losses.append(average_train_loss)\n",
        "\n",
        "\n",
        "    model.eval()\n",
        "    test_epoch_loss = 0.0\n",
        "\n",
        "    with torch.no_grad():\n",
        "        for batch_x, batch_y in test_dataloader:\n",
        "            output = model(batch_x)\n",
        "            loss = criterion(output, batch_y.view(-1))\n",
        "            test_epoch_loss += loss.item()\n",
        "\n",
        "    average_test_loss = test_epoch_loss / len(test_dataloader)\n",
        "    test_losses.append(average_test_loss)\n",
        "\n",
        "    print(f'Epoch {epoch+1}/{num_epochs}, Train Loss: {average_train_loss}, Test Loss: {average_test_loss}')"
      ],
      "metadata": {
        "colab": {
          "base_uri": "https://localhost:8080/"
        },
        "id": "8eHBIs3nlnvh",
        "outputId": "5a24bfd2-ce8b-4c47-ad6d-4ec6446368ca"
      },
      "execution_count": null,
      "outputs": [
        {
          "output_type": "stream",
          "name": "stdout",
          "text": [
            "Epoch 1/30, Train Loss: 2.4273111057281493, Test Loss: 1.8749008178710938\n",
            "Epoch 2/30, Train Loss: 1.711406011581421, Test Loss: 1.5547673531941004\n",
            "Epoch 3/30, Train Loss: 1.452630181312561, Test Loss: 1.400106736591884\n",
            "Epoch 4/30, Train Loss: 1.3576718473434448, Test Loss: 1.3144124405724662\n",
            "Epoch 5/30, Train Loss: 1.2800198316574096, Test Loss: 1.259340524673462\n",
            "Epoch 6/30, Train Loss: 1.2197627639770507, Test Loss: 1.221017633165632\n",
            "Epoch 7/30, Train Loss: 1.179951663017273, Test Loss: 1.1946122986929757\n",
            "Epoch 8/30, Train Loss: 1.179359622001648, Test Loss: 1.1722187740462167\n",
            "Epoch 9/30, Train Loss: 1.1415320801734925, Test Loss: 1.1523654801504952\n",
            "Epoch 10/30, Train Loss: 1.1339564394950867, Test Loss: 1.1379890441894531\n",
            "Epoch 11/30, Train Loss: 1.1227835845947265, Test Loss: 1.1240408079964774\n",
            "Epoch 12/30, Train Loss: 1.0927919793128966, Test Loss: 1.1106848801885332\n",
            "Epoch 13/30, Train Loss: 1.0881767344474793, Test Loss: 1.0986888238361903\n",
            "Epoch 14/30, Train Loss: 1.078844826221466, Test Loss: 1.0900906835283553\n",
            "Epoch 15/30, Train Loss: 1.048553717136383, Test Loss: 1.0759279387337821\n",
            "Epoch 16/30, Train Loss: 1.0563010311126708, Test Loss: 1.0663784061159407\n",
            "Epoch 17/30, Train Loss: 1.0459343147277833, Test Loss: 1.0575124365942818\n",
            "Epoch 18/30, Train Loss: 1.0037021112442017, Test Loss: 1.0494557789393835\n",
            "Epoch 19/30, Train Loss: 0.9970112824440003, Test Loss: 1.0406745416777474\n",
            "Epoch 20/30, Train Loss: 1.0014847779273988, Test Loss: 1.0319555061204093\n",
            "Epoch 21/30, Train Loss: 0.984131133556366, Test Loss: 1.026406807558877\n",
            "Epoch 22/30, Train Loss: 0.9799736309051513, Test Loss: 1.0184050628117152\n",
            "Epoch 23/30, Train Loss: 0.9554321885108947, Test Loss: 1.009758276598794\n",
            "Epoch 24/30, Train Loss: 0.9576154780387879, Test Loss: 1.003346289907183\n",
            "Epoch 25/30, Train Loss: 0.9583498668670655, Test Loss: 0.9992751564298358\n",
            "Epoch 26/30, Train Loss: 0.9455001831054688, Test Loss: 0.990484961441585\n",
            "Epoch 27/30, Train Loss: 0.926633198261261, Test Loss: 0.9882859332220895\n",
            "Epoch 28/30, Train Loss: 0.9223268580436706, Test Loss: 0.9819653459957668\n",
            "Epoch 29/30, Train Loss: 0.8972045135498047, Test Loss: 0.978064341204507\n",
            "Epoch 30/30, Train Loss: 0.8879623413085938, Test Loss: 0.9687476924487523\n"
          ]
        }
      ]
    },
    {
      "cell_type": "code",
      "source": [
        "plt.plot(train_losses, label='Train Loss', color='orange')\n",
        "plt.plot(test_losses, label='Test Loss', color='purple')\n",
        "plt.xlabel('Epoch')\n",
        "plt.ylabel('Average Loss')\n",
        "plt.legend()\n",
        "plt.title('Training and Testing Loss')\n",
        "plt.show()"
      ],
      "metadata": {
        "colab": {
          "base_uri": "https://localhost:8080/",
          "height": 472
        },
        "id": "1dNqAn65ltst",
        "outputId": "47cdf242-eaee-45f6-91c3-bd0ec559e5d5"
      },
      "execution_count": null,
      "outputs": [
        {
          "output_type": "display_data",
          "data": {
            "text/plain": [
              "<Figure size 640x480 with 1 Axes>"
            ],
            "image/png": "[encoded data removed]"
          },
          "metadata": {}
        }
      ]
    },
    {
      "cell_type": "code",
      "source": [
        "torch.save(model.state_dict(), 'name_generator_model.pth')"
      ],
      "metadata": {
        "id": "nAUGoPF1eZm-"
      },
      "execution_count": null,
      "outputs": []
    },
    {
      "cell_type": "markdown",
      "source": [
        "**1.3**"
      ],
      "metadata": {
        "id": "HS6HY7Yp4kh2"
      }
    },
    {
      "cell_type": "code",
      "source": [
        "def generate_surname(model, vocab, max_length=20, sos_token='<SOS>', eos_token='<EOS>'):\n",
        "    device = next(model.parameters()).device\n",
        "    sequence = [vocab[sos_token]]\n",
        "    hidden = None\n",
        "\n",
        "    for _ in range(max_length):\n",
        "        input_tensor = torch.tensor(sequence, dtype=torch.long, device=device).view(1, -1)\n",
        "\n",
        "        # Пропуск последнего токена через модель\n",
        "        if hidden is not None:\n",
        "            output, hidden = model(input_tensor, hidden)\n",
        "        else:\n",
        "            output = model(input_tensor)\n",
        "            hidden = None\n",
        "\n",
        "        # Применение softmax для получения вероятностного распределения\n",
        "        probabilities = torch.softmax(output[-1], dim=0)\n",
        "\n",
        "        next_token = torch.multinomial(probabilities, 1).item()\n",
        "        sequence.append(next_token) # последовательность\n",
        "\n",
        "        if next_token == vocab[eos_token]:\n",
        "            break\n",
        "\n",
        "    # Исключаем токены SOS и EOS из генерированной фамилии\n",
        "    generated_surname = ''.join([token for token, idx in vocab.items() if idx in sequence[1:-1]])\n",
        "\n",
        "    return generated_surname"
      ],
      "metadata": {
        "id": "6x3HdVz14WaO"
      },
      "execution_count": null,
      "outputs": []
    },
    {
      "cell_type": "code",
      "source": [
        "model.eval()\n",
        "\n",
        "for _ in range(5):\n",
        "    generated_surname = generate_surname(model, dataset.vocab)\n",
        "    print(\"Generated Surname:\", generated_surname)"
      ],
      "metadata": {
        "colab": {
          "base_uri": "https://localhost:8080/"
        },
        "id": "b1pHxNwIsjXA",
        "outputId": "06ae62a5-bc20-47fe-c0fa-fc02955e5edc"
      },
      "execution_count": null,
      "outputs": [
        {
          "output_type": "stream",
          "name": "stdout",
          "text": [
            "Generated Surname: кьланм\n",
            "Generated Surname: кслеамг\n",
            "Generated Surname: хеуанг\n",
            "Generated Surname: иксьчнм\n",
            "Generated Surname: икыслдечан\n"
          ]
        }
      ]
    },
    {
      "cell_type": "markdown",
      "metadata": {
        "id": "fJf5iaA2fOTM"
      },
      "source": [
        "## 2. Генерирование текста при помощи RNN\n",
        "\n",
        "2.1 Скачайте из интернета какое-нибудь художественное произведение\n",
        "  * Выбирайте достаточно крупное произведение, чтобы модель лучше обучалась;\n",
        "\n",
        "2.2 На основе выбранного произведения создайте датасет.\n",
        "\n",
        "Отличия от задачи 1:\n",
        "  * Токены <SOS>, `<EOS>` и `<UNK>` можно не добавлять;\n",
        "  * При создании датасета текст необходимо предварительно разбить на части. Выберите желаемую длину последовательности `seq_len` и разбейте текст на построки длины `seq_len` (можно без перекрытия, можно с небольшим перекрытием).\n",
        "\n",
        "2.3 Создайте и обучите модель для генерации текста\n",
        "  * Задача ставится точно так же как в 1.2;\n",
        "  * При необходимости можете применить:\n",
        "    * двухуровневые рекуррентные слои (`num_layers`=2)\n",
        "    * [обрезку градиентов](https://pytorch.org/docs/stable/generated/torch.nn.utils.clip_grad_norm_.html)\n",
        "\n",
        "2.4 Напишите функцию, которая генерирует фрагмент текста при помощи обученной модели\n",
        "  * Процесс генерации начинается с небольшого фрагмента текста `prime`, выбранного вами (1-2 слова)\n",
        "  * Сначала вы пропускаете через модель токены из `prime` и генерируете на их основе скрытое состояние рекуррентного слоя `h_t`;\n",
        "  * После этого вы генерируете строку нужной длины аналогично 1.3\n"
      ]
    },
    {
      "cell_type": "markdown",
      "source": [
        "**2.1**"
      ],
      "metadata": {
        "id": "uVTzu3EV75Pt"
      }
    },
    {
      "cell_type": "code",
      "source": [
        "with open('/content/drive/MyDrive/The-Great-Gatsby.txt') as file:\n",
        "    text = file.read()\n",
        "    text = text.replace('\\n', ' ').lower()\n",
        "    text = re.sub(r'[^a-zA-Z0-9]', ' ', text)\n",
        "    text = re.sub(r'\\s+', ' ', text).strip()\n",
        "print(text[:1000])"
      ],
      "metadata": {
        "colab": {
          "base_uri": "https://localhost:8080/"
        },
        "id": "g7QfL2X6DWme",
        "outputId": "15549615-b304-41ec-e85b-403a8d96ff73"
      },
      "execution_count": null,
      "outputs": [
        {
          "output_type": "stream",
          "name": "stdout",
          "text": [
            "chapter i in my younger and more vulnerable years my father gave me some advice that i ve been turning over in my mind ever since whenever you feel like criticizing any one he told me just remember that all the people in this world haven t had the advantages that you ve had he didn t say any more but we ve always been unusually communicative in a reserved way and i understood that he meant a great deal more than that in consequence i m inclined to reserve all judgments a habit that has opened up many curious natures to me and also made me the victim of not a few veteran bores the abnormal mind is quick to detect and attach itself to this quality when it appears in a normal person and so it came about that in college i was unjustly accused of being a politician because i was privy to the secret grief s of wild unknown men most of the confidences were unsought frequently i have feigned sleep preoccupation or a hostile levity when i realized by some unmistakable sign that an intimate reve\n"
          ]
        }
      ]
    },
    {
      "cell_type": "code",
      "source": [
        "text = text.split()"
      ],
      "metadata": {
        "id": "O-SLWT3SFb0I"
      },
      "execution_count": null,
      "outputs": []
    },
    {
      "cell_type": "code",
      "source": [
        "seq_len = 100\n",
        "step_size = 1"
      ],
      "metadata": {
        "id": "Ryc4smY8F1T9"
      },
      "execution_count": null,
      "outputs": []
    },
    {
      "cell_type": "code",
      "source": [
        "def create_dataset(text, seq_len, step_size):\n",
        "    sequences = []\n",
        "    for i in range(0, len(text) - seq_len + 1, step_size):\n",
        "        seq = text[i : i + seq_len]\n",
        "        sequences.append(seq)\n",
        "\n",
        "    df = pd.DataFrame({'sequences': sequences})\n",
        "    return df"
      ],
      "metadata": {
        "id": "LOFgdQ0GFiyc"
      },
      "execution_count": null,
      "outputs": []
    },
    {
      "cell_type": "code",
      "source": [
        "df_sequences = create_dataset(text, seq_len, step_size)"
      ],
      "metadata": {
        "id": "x5D--vCEF4zB"
      },
      "execution_count": null,
      "outputs": []
    },
    {
      "cell_type": "code",
      "source": [
        "class Vocab:\n",
        "    def __init__(self, data):\n",
        "        self.idx_to_token, self.token_to_idx = self.build_vocab(data)\n",
        "        self.vocab_len = len(self.idx_to_token)\n",
        "        self.max_seq_len = self.calculate_max_seq_len(data)\n",
        "\n",
        "        self.pad_idx = self.token_to_idx['<PAD>']\n",
        "        self.sos_idx = self.token_to_idx['<SOS>']\n",
        "\n",
        "    def calculate_max_seq_len(self, data):\n",
        "        return max(len(seq) for seq in data)\n",
        "\n",
        "    def build_vocab(self, data):\n",
        "        tokens = list(['<PAD>', '<SOS>'])\n",
        "\n",
        "        for seq in data:\n",
        "          for token in seq:\n",
        "            if token not in tokens:\n",
        "              tokens.append(token)\n",
        "\n",
        "        idx_to_token = {idx: token for idx, token in enumerate(tokens, start=0)}\n",
        "        token_to_idx = {token: idx for idx, token in enumerate(tokens, start=0)}\n",
        "\n",
        "        return idx_to_token, token_to_idx\n",
        "\n",
        "    def to_tokens(self, ids):\n",
        "        ids_sub = []\n",
        "        for idx in ids:\n",
        "            if self.idx_to_token[int(idx)] not in ['<PAD>', '<UNK>', '<SOS>', '<EOS>']:\n",
        "                ids_sub.append(self.idx_to_token[int(idx)])\n",
        "\n",
        "        return ' '.join(ids_sub)\n",
        "\n",
        "    def lookup_tokens(self, idx):\n",
        "        token = self.idx_to_token[int(idx)]\n",
        "        return token\n",
        "\n",
        "    def lookup_indices(self, tokens):\n",
        "        index = []\n",
        "        for token in tokens:\n",
        "          index.append(self.token_to_idx[token])\n",
        "        return index\n",
        "\n",
        "    def to_ids(self, tokens):\n",
        "        tokens = [self.token_to_idx[token] for token in tokens]\n",
        "        pad_count = self.max_seq_len - len(tokens)\n",
        "        tokens = tokens + [self.pad_idx] * pad_count\n",
        "        tokens = [self.sos_idx] + tokens\n",
        "        return tokens"
      ],
      "metadata": {
        "id": "kG06T2ZxF-6q"
      },
      "execution_count": null,
      "outputs": []
    },
    {
      "cell_type": "code",
      "source": [
        "vocab = Vocab(df_sequences['sequences'])\n",
        "vocab.vocab_len"
      ],
      "metadata": {
        "colab": {
          "base_uri": "https://localhost:8080/"
        },
        "id": "6PqYetLqGZxc",
        "outputId": "768187e3-0ca8-41dd-fa35-fc176861c126"
      },
      "execution_count": null,
      "outputs": [
        {
          "output_type": "execute_result",
          "data": {
            "text/plain": [
              "5822"
            ]
          },
          "metadata": {},
          "execution_count": 33
        }
      ]
    },
    {
      "cell_type": "code",
      "source": [
        "class G_Dataset(Dataset):\n",
        "    def __init__(self, data, vocab):\n",
        "        self.data = data\n",
        "        self.vocab = vocab\n",
        "\n",
        "    def __len__(self):\n",
        "        return len(self.data)\n",
        "\n",
        "    def __getitem__(self, idx):\n",
        "        _x = self.vocab.to_ids(self.data.iloc[idx])\n",
        "        return torch.tensor(_x[:-1]), torch.tensor(_x[1:])"
      ],
      "metadata": {
        "id": "muZZi919Gs0Z"
      },
      "execution_count": null,
      "outputs": []
    },
    {
      "cell_type": "code",
      "source": [
        "dataset = G_Dataset(df_sequences['sequences'], vocab)\n",
        "x, y = next(iter(dataset))"
      ],
      "metadata": {
        "id": "76Z86DtkG06m"
      },
      "execution_count": null,
      "outputs": []
    },
    {
      "cell_type": "code",
      "source": [
        "class G_Net(nn.Module):\n",
        "    def __init__(self, vocab, embedding_size, hidden_size, num_layers):\n",
        "        super(G_Net, self).__init__()\n",
        "\n",
        "        self.vocab = vocab\n",
        "\n",
        "        self.embedding = nn.Embedding(num_embeddings=self.vocab.vocab_len, embedding_dim=embedding_size)\n",
        "        self.rnn = nn.LSTM(input_size=embedding_size, hidden_size=hidden_size, num_layers=num_layers, batch_first=True)\n",
        "        self.fc1 = nn.Linear(in_features=hidden_size, out_features=self.vocab.vocab_len)\n",
        "\n",
        "    def forward(self, x, hidden=None):\n",
        "        embedded = self.embedding(x)\n",
        "        output, hidden = self.rnn(embedded, hidden)\n",
        "        output = output.reshape(-1, output.size(2))\n",
        "        output = self.fc1(output)\n",
        "        return output, hidden\n",
        "\n",
        "    def generate(self, prime, max_len=100):\n",
        "        tokens = prime.split(' ')\n",
        "        prime_idxs = [self.vocab.sos_idx] + self.vocab.lookup_indices(tokens)\n",
        "        last_prime_idx = prime_idxs[-1]\n",
        "        prime_idxs = torch.tensor([prime_idxs]).to(device)\n",
        "        output, hidden = self(prime_idxs)\n",
        "        current_token = torch.tensor([[last_prime_idx]]).to(device)\n",
        "\n",
        "        for _ in range(max_len - len(prime)):\n",
        "            output, hidden = self.forward(current_token, hidden)\n",
        "            output = output.squeeze()\n",
        "            probabilities = torch.softmax(output, dim=0)\n",
        "            next_token = torch.multinomial(probabilities, num_samples=1)\n",
        "            next_token = next_token.item()\n",
        "\n",
        "            if next_token not in (self.vocab.pad_idx,\n",
        "                                  self.vocab.sos_idx):\n",
        "                tokens.append(self.vocab.lookup_tokens(next_token))\n",
        "\n",
        "            current_token = torch.tensor([[next_token]]).to(device)\n",
        "\n",
        "        return ' '.join(tokens)"
      ],
      "metadata": {
        "id": "iRzrb0LjG7Yt"
      },
      "execution_count": null,
      "outputs": []
    },
    {
      "cell_type": "code",
      "source": [
        "batch_size = 256\n",
        "train_loader = DataLoader(dataset, batch_size=batch_size, shuffle=True)\n",
        "\n",
        "num_embeddings = vocab.vocab_len\n",
        "embedding_size = 110\n",
        "hidden_size = 130\n",
        "num_layers = 2\n",
        "\n",
        "model = G_Net(vocab, embedding_size, hidden_size, num_layers)\n",
        "criterion = nn.CrossEntropyLoss()\n",
        "optimizer = optim.Adam(model.parameters(), lr=0.001)"
      ],
      "metadata": {
        "id": "MRkOxvulHL_H"
      },
      "execution_count": null,
      "outputs": []
    },
    {
      "cell_type": "code",
      "source": [
        "device = torch.device(\"cuda\" if torch.cuda.is_available() else \"cpu\")\n",
        "model = model.to(device)\n",
        "criterion = criterion.to(device)"
      ],
      "metadata": {
        "id": "J7dvuKUqIFWl"
      },
      "execution_count": null,
      "outputs": []
    },
    {
      "cell_type": "code",
      "source": [
        "def train_model(model, train_loader, criterion, optimizer, num_epochs, vocab, k=5):\n",
        "    losses = []\n",
        "\n",
        "    for epoch in range(num_epochs):\n",
        "        total_loss = 0.0\n",
        "        correct_predictions = 0\n",
        "        total_samples = 0\n",
        "\n",
        "        for batch_num, (batch_x, batch_y) in enumerate(train_loader, 1):\n",
        "            batch_x, batch_y = batch_x.to(device), batch_y.to(device)\n",
        "\n",
        "            optimizer.zero_grad()\n",
        "            outputs, _ = model(batch_x)\n",
        "            loss = criterion(outputs, batch_y.view(-1))\n",
        "            loss.backward()\n",
        "            optimizer.step()\n",
        "            total_loss += loss.item()\n",
        "\n",
        "\n",
        "        avg_loss = total_loss / len(train_loader)\n",
        "        losses.append(avg_loss)\n",
        "\n",
        "        print(f'Epoch: {epoch+1}/{num_epochs}, Loss: {avg_loss:.4f}')\n",
        "        text = model.generate('i in my younger', max_len=50)\n",
        "        print(f'Generated_text: {text}')\n",
        "\n",
        "    plt.plot(losses, label='Train Loss', color='orange')\n",
        "    plt.xlabel('Epoch')\n",
        "    plt.ylabel('Average Loss')\n",
        "    plt.legend()\n",
        "    plt.title('Training and Testing Loss')\n",
        "    plt.show()"
      ],
      "metadata": {
        "id": "RoC0SUR6HSaq"
      },
      "execution_count": null,
      "outputs": []
    },
    {
      "cell_type": "code",
      "source": [
        "num_epochs = 10\n",
        "train_model(model, train_loader, criterion, optimizer, num_epochs, vocab, k=5)"
      ],
      "metadata": {
        "colab": {
          "base_uri": "https://localhost:8080/",
          "height": 832
        },
        "id": "8kucQghgIJ9N",
        "outputId": "866df92b-f9d9-4fc8-9b25-27e81b7318c0"
      },
      "execution_count": null,
      "outputs": [
        {
          "output_type": "stream",
          "name": "stdout",
          "text": [
            "Epoch: 1/10, Loss: 0.7643\n",
            "Generated_text: i in my younger and splashed to its own gayety and as we shook hands with abruptly but i didn t want to have it jimmy was a truck hurried up at all and i could make something of\n",
            "Epoch: 2/10, Loss: 0.6782\n",
            "Generated_text: i in my younger and the dancing began i d been now she was below me everybody kept saying to me lucille that man s suggestion a great old thing you didn t see a story you never like\n",
            "Epoch: 3/10, Loss: 0.6047\n",
            "Generated_text: i in my younger and voices slowly and dance it s the policeman she told me i was stupid with june innumerable single excellence and wild servants made familiar the national people wilson klipspringer there he had already a\n",
            "Epoch: 4/10, Loss: 0.5431\n",
            "Generated_text: i in my younger and voices slowly and cool table i was poor of the house that except for a solitary restaurant was soft road looks empty can suit such city that coupe and mine the secret ones made\n",
            "Epoch: 5/10, Loss: 0.4918\n",
            "Generated_text: i in my younger and the coupe who had made a parallel discovery less than one and the wet honey of gatsby s former smile met me and he leaned suddenly of her voice struggled into the first time\n",
            "Epoch: 6/10, Loss: 0.4489\n",
            "Generated_text: i in my younger and incessant on nervously surprisingly i could elaborate song rich when the fingerless rivalry even think mr sloane he cried she glanced down at the amputated bond a dozen feeling that she was dancing remarkable\n",
            "Epoch: 7/10, Loss: 0.4139\n",
            "Generated_text: i in my younger and discarded favors and crushed flowers i saw the ashheaps the giant eyes of his face said jordan s voice died across the room a luncheon in new tunes five clock then the hour that\n",
            "Epoch: 8/10, Loss: 0.3849\n",
            "Generated_text: i in my younger and short recognizable she stretched out so who had remained stairs that she had luncheon in the gathering darkness and the great number and color had included in an old man but and tom buchanan\n",
            "Epoch: 9/10, Loss: 0.3605\n",
            "Generated_text: i in my younger and photographers for many hundred and associated 4 de tag to find the second of those windows disappeared in fact there s light a pneumatic unusual moment i ve never used to sit now and\n",
            "Epoch: 10/10, Loss: 0.3402\n",
            "Generated_text: i in my younger and the rooms were musty as though they had been straight on the army through and the infantry came over it aren t you a horse i ll view you re going to take ring\n"
          ]
        },
        {
          "output_type": "display_data",
          "data": {
            "text/plain": [
              "<Figure size 640x480 with 1 Axes>"
            ],
            "image/png": "[encoded data removed]"
          },
          "metadata": {}
        }
      ]
    }
  ],
  "metadata": {
    "accelerator": "GPU",
    "colab": {
      "provenance": []
    },
    "kernelspec": {
      "display_name": "Python 3",
      "language": "python",
      "name": "python3"
    },
    "language_info": {
      "codemirror_mode": {
        "name": "ipython",
        "version": 3
      },
      "file_extension": ".py",
      "mimetype": "text/x-python",
      "name": "python",
      "nbconvert_exporter": "python",
      "pygments_lexer": "ipython3",
      "version": "3.7.6"
    }
  },
  "nbformat": 4,
  "nbformat_minor": 0
}