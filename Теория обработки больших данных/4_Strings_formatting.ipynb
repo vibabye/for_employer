{
  "cells": [
    {
      "cell_type": "markdown",
      "metadata": {
        "id": "A4Kc5ooVf0JQ"
      },
      "source": [
        "# Работа со строковыми значениями"
      ]
    },
    {
      "cell_type": "code",
      "execution_count": null,
      "metadata": {
        "id": "whq0je2df0JU"
      },
      "outputs": [],
      "source": [
        "import pandas as pd\n",
        "from random import sample\n",
        "from bs4 import BeautifulSoup\n",
        "import re\n",
        "from nltk.tokenize import RegexpTokenizer\n",
        "from nltk.tokenize import sent_tokenize\n",
        "import nltk"
      ]
    },
    {
      "cell_type": "markdown",
      "metadata": {
        "id": "on_XBHHxf0JV"
      },
      "source": [
        "### Форматирование строк"
      ]
    },
    {
      "cell_type": "markdown",
      "metadata": {
        "id": "1LM3dfXbf0JV"
      },
      "source": [
        "1\\. Загрузите данные из файла `recipes_sample.csv` (__ЛР2__) в виде `pd.DataFrame` `recipes` При помощи форматирования строк выведите информацию об id рецепта и времени выполнения 5 случайных рецептов в виде таблицы следующего вида:\n",
        "\n",
        "    \n",
        "    |      id      |  minutes  |\n",
        "    |--------------------------|\n",
        "    |    61178     |    65     |\n",
        "    |    202352    |    80     |\n",
        "    |    364322    |    150    |\n",
        "    |    26177     |    20     |\n",
        "    |    224785    |    35     |\n",
        "    \n",
        "Обратите внимание, что ширина столбцов заранее неизвестна и должна рассчитываться динамически, в зависимости от тех данных, которые были выбраны."
      ]
    },
    {
      "cell_type": "code",
      "execution_count": null,
      "metadata": {
        "id": "gMTVG8x8f0JW",
        "outputId": "1b8ad94d-fda4-44fe-e5ab-0b1dcb982a88"
      },
      "outputs": [
        {
          "data": {
            "text/html": [
              "<div>\n",
              "<style scoped>\n",
              "    .dataframe tbody tr th:only-of-type {\n",
              "        vertical-align: middle;\n",
              "    }\n",
              "\n",
              "    .dataframe tbody tr th {\n",
              "        vertical-align: top;\n",
              "    }\n",
              "\n",
              "    .dataframe thead th {\n",
              "        text-align: right;\n",
              "    }\n",
              "</style>\n",
              "<table border=\"1\" class=\"dataframe\">\n",
              "  <thead>\n",
              "    <tr style=\"text-align: right;\">\n",
              "      <th></th>\n",
              "      <th>id</th>\n",
              "      <th>minutes</th>\n",
              "    </tr>\n",
              "  </thead>\n",
              "  <tbody>\n",
              "    <tr>\n",
              "      <th>12076</th>\n",
              "      <td>145126</td>\n",
              "      <td>90</td>\n",
              "    </tr>\n",
              "    <tr>\n",
              "      <th>815</th>\n",
              "      <td>446605</td>\n",
              "      <td>30</td>\n",
              "    </tr>\n",
              "    <tr>\n",
              "      <th>7100</th>\n",
              "      <td>482562</td>\n",
              "      <td>5</td>\n",
              "    </tr>\n",
              "    <tr>\n",
              "      <th>9410</th>\n",
              "      <td>47167</td>\n",
              "      <td>18</td>\n",
              "    </tr>\n",
              "    <tr>\n",
              "      <th>28837</th>\n",
              "      <td>73376</td>\n",
              "      <td>20</td>\n",
              "    </tr>\n",
              "  </tbody>\n",
              "</table>\n",
              "</div>"
            ],
            "text/plain": [
              "           id  minutes\n",
              "12076  145126       90\n",
              "815    446605       30\n",
              "7100   482562        5\n",
              "9410    47167       18\n",
              "28837   73376       20"
            ]
          },
          "execution_count": 24,
          "metadata": {},
          "output_type": "execute_result"
        }
      ],
      "source": [
        "recipes = pd.read_csv('recipes_sample.csv', usecols = ['id', 'minutes'])\n",
        "recipes2 = recipes.sample(5)\n",
        "recipes2"
      ]
    },
    {
      "cell_type": "code",
      "execution_count": null,
      "metadata": {
        "id": "0bQc92kJf0JW",
        "outputId": "31945387-5d26-40c4-a546-5fe30301d562"
      },
      "outputs": [
        {
          "name": "stdout",
          "output_type": "stream",
          "text": [
            "|    id     | minutes|\n",
            "|--------------------|\n",
            "|  145126   |   90   |\n",
            "|  446605   |   30   |\n",
            "|  482562   |    5   |\n",
            "|   47167   |   18   |\n",
            "|   73376   |   20   |\n"
          ]
        }
      ],
      "source": [
        "print(\"|{0:^11}| {1:^6}|\\n|{2}|\".format(\"id\", \"minutes\",\"-\"*20))\n",
        "for index, row in recipes2.iterrows():\n",
        "    print(\"|{0:^11}| {1:^7}|\".format(row['id'], row['minutes']))"
      ]
    },
    {
      "cell_type": "markdown",
      "metadata": {
        "id": "0eOLkWDof0JX"
      },
      "source": [
        "2\\. Напишите функцию `show_info`, которая по данным о рецепте создает строку (в смысле объекта python) с описанием следующего вида:\n",
        "\n",
        "```\n",
        "\"Название Из Нескольких Слов\"\n",
        "\n",
        "1. Шаг 1\n",
        "2. Шаг 2\n",
        "----------\n",
        "Автор: contributor_id\n",
        "Среднее время приготовления: minutes минут\n",
        "```\n",
        "\n",
        "    \n",
        "Данные для создания строки получите из файлов `recipes_sample.csv` (__ЛР2__) и `steps_sample.xml` (__ЛР3__).\n",
        "Вызовите данную функцию для рецепта с id `170895` и выведите (через `print`) полученную строку на экран."
      ]
    },
    {
      "cell_type": "code",
      "execution_count": null,
      "metadata": {
        "id": "yGUIPEoyf0JY",
        "outputId": "2d883641-3680-4390-e7ed-028c4b1dd1e4"
      },
      "outputs": [
        {
          "name": "stdout",
          "output_type": "stream",
          "text": [
            "\"Leeks And Parsnips  Sauteed Or Creamed\"\n",
            "\n",
            "1. Clean the leeks and discard the dark green portions\n",
            "2. Cut the leeks lengthwise then into one-inch pieces\n",
            "3. Melt the butter in a medium skillet , med\n",
            "4. Heat\n",
            "5. Add the garlic and fry 'til fragrant\n",
            "6. Add leeks and fry until the leeks are tender , about 6-minutes\n",
            "7. Meanwhile , peel and chunk the parsnips into one-inch pieces\n",
            "8. Place in a steaming basket and steam 'til they are as tender as you prefer\n",
            "9. I like them fork-tender\n",
            "10. Drain parsnips and add to the skillet with the leeks\n",
            "11. Add salt and pepper\n",
            "12. Gently sautee together for 5-minutes\n",
            "13. At this point you can serve it , or continue on and cream it:\n",
            "14. In a jar with a screw top , add the half-n-half and arrowroot\n",
            "15. Shake 'til blended\n",
            "16. Turn heat to low under the leeks and parsnips\n",
            "17. Pour in the arrowroot mixture , stirring gently as you pour\n",
            "18. If too thick , gradually add the water\n",
            "19. Let simmer for a couple of minutes\n",
            "20. Taste to adjust seasoning , probably an additional 1 / 2 teaspoon salt\n",
            "21. Serve warm\n",
            "----------\n",
            "Автор: 8377\n",
            "Среднее время приготовления: 27 минут\n",
            "\n"
          ]
        }
      ],
      "source": [
        "from bs4 import BeautifulSoup\n",
        "\n",
        "with open(\"steps_sample.xml\",\n",
        "          \"r\",\n",
        "          encoding=\"utf-8\") as fp:\n",
        "    xml = BeautifulSoup(fp)\n",
        "rcp = xml.find_all('recipe')\n",
        "steps_sample = {recipe.id.text: [step.text for step in recipe.steps if step!='\\n'] for recipe in rcp}\n",
        "\n",
        "def show_info(name, steps, minutes, author_id):\n",
        "    string = f'\"{name.title()}\"\\n\\n'\n",
        "    for i in range(len(steps)):\n",
        "        stp = f'{i+1}. {steps[i].capitalize()}\\n'\n",
        "        string += stp\n",
        "    string += f'{\"-\":->10}\\n'\n",
        "    string += f'Автор: {author_id}\\n'\n",
        "    string += f'Среднее время приготовления: {minutes} минут\\n'\n",
        "    return string\n",
        "\n",
        "def get_info(id):\n",
        "    row = recipes.iloc[recipes[recipes.id == id].index[0]]\n",
        "\n",
        "    name = row['name']\n",
        "    steps = steps_sample[str(id)]\n",
        "    minutes = row['minutes']\n",
        "    author_id = row['contributor_id']\n",
        "    return name, steps, minutes, author_id\n",
        "\n",
        "info = get_info(170895)\n",
        "\n",
        "print(show_info(info[0],info[1],info[2],info[3]))"
      ]
    },
    {
      "cell_type": "markdown",
      "metadata": {
        "id": "UmhHNjrbf0JZ"
      },
      "source": [
        "## Работа с регулярными выражениями"
      ]
    },
    {
      "cell_type": "markdown",
      "metadata": {
        "id": "zhuaXPxUf0JZ"
      },
      "source": [
        "3\\. Напишите регулярное выражение, которое ищет следующий паттерн в строке: число (1 цифра или более), затем пробел, затем слова: hour или hours или minute или minutes. Произведите поиск по данному регулярному выражению в каждом шаге рецепта с id 25082. Выведите на экран все непустые результаты, найденные по данному шаблону."
      ]
    },
    {
      "cell_type": "code",
      "execution_count": null,
      "metadata": {
        "id": "kyO4zNr8f0JZ",
        "outputId": "59073efe-f4fb-416f-9f2c-9612b66d7338"
      },
      "outputs": [
        {
          "name": "stdout",
          "output_type": "stream",
          "text": [
            "turn out onto a lightly floured board and knead for about 20 minutes , adding flour as nescessary to keep the dough from sticking to the board\n",
            " ['20 minutes']\n",
            "when it has been sufficiently kneaded , cover it with a damp cloth for about 10 minutes and wash and grease the bowl lightly\n",
            " ['10 minutes']\n",
            "let the dough rise until it springs back when you stick your finger in it , and it is about twice the size as it was before (this takes about 2 hours\n",
            " ['2 hours']\n",
            "when the dough has risen twice , deflate it again and cover it with the damp cloth again for about 10 minutes , then divide it into and shape it into loaves , buns , etc\n",
            " ['10 minutes']\n",
            "bake at 400 for 20 minutes , and then turn the oven down to 350 and bake for 20-30 minutes longer , until the loaf is a lovely brown and sounds hollow when you thump it on the bottom\n",
            " ['20 minutes', '30 minutes']\n"
          ]
        }
      ],
      "source": [
        "p = re.compile(r\"[1-9][0-9]?\\s(?:\\bhours?\\b|\\bminutes?\\b)\")\n",
        "\n",
        "for item in steps_sample['25082']:\n",
        "    if p.findall(item) != []:\n",
        "        print(f'{item}\\n', p.findall(item))"
      ]
    },
    {
      "cell_type": "markdown",
      "metadata": {
        "id": "Ki5FVPC9f0JZ"
      },
      "source": [
        "4\\. Напишите регулярное выражение, которое ищет шаблон вида \"this..., but\" _в начале строки_ . Между словом \"this\" и частью \", but\" может находиться произвольное число букв, цифр, знаков подчеркивания и пробелов. Никаких других символов вместо многоточия быть не может. Пробел между запятой и словом \"but\" может присутствовать или отсутствовать.\n",
        "\n",
        "Используя строковые методы `pd.Series`, выясните, для каких рецептов данный шаблон содержится в тексте описания. Выведите на экран количество таких рецептов и 3 примера подходящих описаний (текст описания должен быть виден на экране полностью)."
      ]
    },
    {
      "cell_type": "code",
      "execution_count": null,
      "metadata": {
        "id": "_PBm1oQZf0Ja",
        "outputId": "c07fcdde-f1d9-4ebf-ddcf-bb6afdf660cb"
      },
      "outputs": [
        {
          "name": "stdout",
          "output_type": "stream",
          "text": [
            "Кол-во подходящих описаний - 142\n"
          ]
        },
        {
          "data": {
            "text/plain": [
              "['this is really great to have on hand when you have little time, but want something fresh and hot for breakfast.',\n",
              " \"this was adapted from a recipe i found on the net, but i added julienne onion to the peppers.  this is a meal in itself, or you could have a small slice with a meat dish.  for those that like to have brunch, it's a bit different to your traditional quiche recipes.  if you love cheese, you could add 1/2 cup of your favorite to the egg mixture, then pour over peppers.\",\n",
              " 'this spanish dish is a lot like our sloppy joes, but with a little bit more pizzazz.  i suggest serving this over rice.']"
            ]
          },
          "execution_count": 29,
          "metadata": {},
          "output_type": "execute_result"
        }
      ],
      "source": [
        "p1 = re.compile(r'^\\bthis\\b[\\s\\d\\w]+,\\s?\\bbut\\b', re.M)\n",
        "rec = []\n",
        "for item in recipes.description.dropna():\n",
        "    if p1.findall(item) != []:\n",
        "        rec.append(item)\n",
        "print(f'Кол-во подходящих описаний - {len(rec)}')\n",
        "sample(rec,3)"
      ]
    },
    {
      "cell_type": "markdown",
      "metadata": {
        "id": "rB-urF32f0Ja"
      },
      "source": [
        "5\\. В текстах шагов рецептов обыкновенные дроби имеют вид \"a / b\". Используя регулярные выражения, уберите в тексте шагов рецепта с id 72367 пробелы до и после символа дроби. Выведите на экран шаги этого рецепта после их изменения."
      ]
    },
    {
      "cell_type": "code",
      "execution_count": null,
      "metadata": {
        "id": "Q_WQAU61f0Ja",
        "outputId": "d7658732-46b7-4aa5-f01d-79f38399bcc4"
      },
      "outputs": [
        {
          "name": "stdout",
          "output_type": "stream",
          "text": [
            "mix butter , flour , 1/3 c\n",
            "sugar and 1-1/4 t\n",
            "vanilla\n",
            "press into greased 9\" springform pan\n",
            "mix cream cheese , 1/4 c\n",
            "sugar , eggs and 1/2 t\n",
            "vanilla beating until fluffy\n",
            "pour over dough\n",
            "combine apples , 1/3 c\n",
            "sugar and cinnamon\n",
            "arrange on top of cream cheese mixture and sprinkle with almonds\n",
            "bake at 350 for 45-55 minutes , or until tester comes out clean\n"
          ]
        }
      ],
      "source": [
        "p3 = re.compile(r\" / \")\n",
        "for item in steps_sample['72367']:\n",
        "    print(p3.sub('/', item))"
      ]
    },
    {
      "cell_type": "markdown",
      "metadata": {
        "id": "3lphRQQgf0Ja"
      },
      "source": [
        "### Сегментация текста"
      ]
    },
    {
      "cell_type": "markdown",
      "metadata": {
        "id": "AqYxvsGEf0Jb"
      },
      "source": [
        "6\\. Разбейте тексты шагов рецептов на слова при помощи пакета `nltk`. Посчитайте и выведите на экран кол-во уникальных слов среди всех рецептов. Словом называется любая последовательность алфавитных символов (для проверки можно воспользоваться `str.isalpha`). При подсчете количества уникальных слов не учитывайте регистр."
      ]
    },
    {
      "cell_type": "code",
      "execution_count": null,
      "metadata": {
        "id": "5-7P9e0yf0Jb",
        "outputId": "0da711b2-45e4-45d8-86cb-647bf8f846d7"
      },
      "outputs": [
        {
          "name": "stdout",
          "output_type": "stream",
          "text": [
            "Кол-во уникальных слов -  15139\n"
          ]
        }
      ],
      "source": [
        "recipes_dct = {}\n",
        "for recipe in xml.find_all('recipe'):\n",
        "    r_id = int(recipe.id.contents[0])\n",
        "    steps = [step.text for step in recipe.find('steps').find_all('step')]\n",
        "    recipes_dct[r_id] = steps\n",
        "\n",
        "tokenizer = RegexpTokenizer(r'[a-zA-Z]+')\n",
        "uniq = []\n",
        "#steps_sample['44123']\n",
        "\n",
        "for id in steps_sample:\n",
        "    for step in steps_sample[id]:\n",
        "        row = tokenizer.tokenize(step)\n",
        "        for word in row:\n",
        "            uniq.append(word)\n",
        "\n",
        "print('Кол-во уникальных слов - ', len(set(uniq)))"
      ]
    },
    {
      "cell_type": "markdown",
      "metadata": {
        "id": "AIl6wR7Qf0Jb"
      },
      "source": [
        "7\\. Разбейте описания рецептов из `recipes` на предложения при помощи пакета `nltk`. Найдите 5 самых длинных описаний (по количеству _предложений_) рецептов в датасете и выведите строки фрейма, соответствующие этим рецептами, в порядке убывания длины."
      ]
    },
    {
      "cell_type": "code",
      "execution_count": null,
      "metadata": {
        "id": "t3rli59Af0Jb",
        "outputId": "6c511874-0928-4745-b502-50fdf99e2403"
      },
      "outputs": [
        {
          "data": {
            "text/html": [
              "<div>\n",
              "<style scoped>\n",
              "    .dataframe tbody tr th:only-of-type {\n",
              "        vertical-align: middle;\n",
              "    }\n",
              "\n",
              "    .dataframe tbody tr th {\n",
              "        vertical-align: top;\n",
              "    }\n",
              "\n",
              "    .dataframe thead th {\n",
              "        text-align: right;\n",
              "    }\n",
              "</style>\n",
              "<table border=\"1\" class=\"dataframe\">\n",
              "  <thead>\n",
              "    <tr style=\"text-align: right;\">\n",
              "      <th></th>\n",
              "      <th>name</th>\n",
              "      <th>id</th>\n",
              "      <th>minutes</th>\n",
              "      <th>contributor_id</th>\n",
              "      <th>submitted</th>\n",
              "      <th>n_steps</th>\n",
              "      <th>description</th>\n",
              "      <th>n_ingredients</th>\n",
              "    </tr>\n",
              "  </thead>\n",
              "  <tbody>\n",
              "    <tr>\n",
              "      <th>18408</th>\n",
              "      <td>my favorite buttercream icing for decorating</td>\n",
              "      <td>334113</td>\n",
              "      <td>30</td>\n",
              "      <td>681465</td>\n",
              "      <td>2008-10-30</td>\n",
              "      <td>12.0</td>\n",
              "      <td>this wonderful icing is used for icing cakes a...</td>\n",
              "      <td>NaN</td>\n",
              "    </tr>\n",
              "    <tr>\n",
              "      <th>481</th>\n",
              "      <td>alligator claws  avocado fritters  with chipot...</td>\n",
              "      <td>287008</td>\n",
              "      <td>45</td>\n",
              "      <td>765354</td>\n",
              "      <td>2008-02-19</td>\n",
              "      <td>NaN</td>\n",
              "      <td>a translucent golden-brown crust allows the gr...</td>\n",
              "      <td>9.0</td>\n",
              "    </tr>\n",
              "    <tr>\n",
              "      <th>22566</th>\n",
              "      <td>rich barley mushroom soup</td>\n",
              "      <td>328708</td>\n",
              "      <td>60</td>\n",
              "      <td>221776</td>\n",
              "      <td>2008-10-03</td>\n",
              "      <td>NaN</td>\n",
              "      <td>this is one of the best soups i've ever made a...</td>\n",
              "      <td>10.0</td>\n",
              "    </tr>\n",
              "    <tr>\n",
              "      <th>6779</th>\n",
              "      <td>chocolate tea</td>\n",
              "      <td>205348</td>\n",
              "      <td>6</td>\n",
              "      <td>428824</td>\n",
              "      <td>2007-01-14</td>\n",
              "      <td>NaN</td>\n",
              "      <td>i wrote this because there are an astounding l...</td>\n",
              "      <td>NaN</td>\n",
              "    </tr>\n",
              "    <tr>\n",
              "      <th>16296</th>\n",
              "      <td>little bunny foo foo cake  carrot cake  with c...</td>\n",
              "      <td>316000</td>\n",
              "      <td>68</td>\n",
              "      <td>689540</td>\n",
              "      <td>2008-07-27</td>\n",
              "      <td>14.0</td>\n",
              "      <td>the first time i made this cake i grated a mil...</td>\n",
              "      <td>NaN</td>\n",
              "    </tr>\n",
              "  </tbody>\n",
              "</table>\n",
              "</div>"
            ],
            "text/plain": [
              "                                                    name      id  minutes  \\\n",
              "18408       my favorite buttercream icing for decorating  334113       30   \n",
              "481    alligator claws  avocado fritters  with chipot...  287008       45   \n",
              "22566                          rich barley mushroom soup  328708       60   \n",
              "6779                                       chocolate tea  205348        6   \n",
              "16296  little bunny foo foo cake  carrot cake  with c...  316000       68   \n",
              "\n",
              "       contributor_id   submitted  n_steps  \\\n",
              "18408          681465  2008-10-30     12.0   \n",
              "481            765354  2008-02-19      NaN   \n",
              "22566          221776  2008-10-03      NaN   \n",
              "6779           428824  2007-01-14      NaN   \n",
              "16296          689540  2008-07-27     14.0   \n",
              "\n",
              "                                             description  n_ingredients  \n",
              "18408  this wonderful icing is used for icing cakes a...            NaN  \n",
              "481    a translucent golden-brown crust allows the gr...            9.0  \n",
              "22566  this is one of the best soups i've ever made a...           10.0  \n",
              "6779   i wrote this because there are an astounding l...            NaN  \n",
              "16296  the first time i made this cake i grated a mil...            NaN  "
            ]
          },
          "execution_count": 33,
          "metadata": {},
          "output_type": "execute_result"
        }
      ],
      "source": [
        "recipess=pd.read_csv('recipes_sample.csv')\n",
        "a = []\n",
        "result_df = pd.DataFrame()\n",
        "\n",
        "for i in range(recipess.shape[0]):\n",
        "    try:\n",
        "        recipe_id, length = recipess.iloc[i, 1], len(sent_tokenize(recipess.iloc[i, 6]))\n",
        "    except TypeError:\n",
        "        continue\n",
        "    a.append((recipe_id, length))\n",
        "\n",
        "a = sorted(a, key=lambda x: x[1], reverse=True)\n",
        "id_list = [i for i, l in a[:5]]\n",
        "\n",
        "for id in id_list:\n",
        "    result_df = pd.concat([result_df, recipess[recipess.id == id]])\n",
        "\n",
        "result_df"
      ]
    },
    {
      "cell_type": "markdown",
      "metadata": {
        "id": "IZHc3q68f0Jc"
      },
      "source": [
        "8\\. Напишите функцию, которая для заданного предложения выводит информацию о частях речи слов, входящих в предложение, в следующем виде:\n",
        "```\n",
        "PRP   VBD   DT      NNS     CC   VBD      NNS        RB   \n",
        " I  omitted the raspberries and added strawberries instead\n",
        "```\n",
        "Для определения части речи слова можно воспользоваться `nltk.pos_tag`.\n",
        "\n",
        "Проверьте работоспособность функции на названии рецепта с id 241106.\n",
        "\n",
        "Обратите внимание, что часть речи должна находиться ровно посередине над соотвествующим словом, а между самими словами должен быть ровно один пробел.\n"
      ]
    },
    {
      "cell_type": "code",
      "execution_count": null,
      "metadata": {
        "id": "6wdLDvx0f0Jc",
        "outputId": "2563f8df-9418-4aea-bf48-c68f951285ef"
      },
      "outputs": [
        {
          "name": "stdout",
          "output_type": "stream",
          "text": [
            "PRP    VBD     DT       NNS       CC    VBD         NNS         RB    \n",
            " I   omitted   the  raspberries   and  added   strawberries   instead \n",
            "\n",
            "    JJ       NNS     IN      NNS       VBP     JJ    CC    JJ      NNS   \n",
            " eggplant  steaks   with  chickpeas   feta   cheese  and  black  olives  \n",
            "\n"
          ]
        }
      ],
      "source": [
        "w1 = 'I  omitted the raspberries and added strawberries instead'\n",
        "w2 = recipes[recipes['id'] == 241106]['name'].values[0]\n",
        "\n",
        "def pos_word(word):\n",
        "    for i in pos_tag(word_tokenize(word)):\n",
        "        print(f'{i[1]: ^{len(i[0])+len(i[1])}}', end = '')\n",
        "    print('')\n",
        "    for i in pos_tag(word_tokenize(word)):\n",
        "        print(f'{i[0]: ^{len(i[0])+len(i[1])}}', end = '')\n",
        "    print('\\n')\n",
        "\n",
        "pos_word(w1)\n",
        "pos_word(w2)"
      ]
    }
  ],
  "metadata": {
    "kernelspec": {
      "display_name": "Python 3 (ipykernel)",
      "language": "python",
      "name": "python3"
    },
    "language_info": {
      "codemirror_mode": {
        "name": "ipython",
        "version": 3
      },
      "file_extension": ".py",
      "mimetype": "text/x-python",
      "name": "python",
      "nbconvert_exporter": "python",
      "pygments_lexer": "ipython3",
      "version": "3.9.7"
    },
    "colab": {
      "provenance": []
    }
  },
  "nbformat": 4,
  "nbformat_minor": 0
}