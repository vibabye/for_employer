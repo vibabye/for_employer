{
  "cells": [
    {
      "cell_type": "markdown",
      "metadata": {
        "id": "DslgTStrOsRp"
      },
      "source": [
        "# Работа с Excel"
      ]
    },
    {
      "cell_type": "code",
      "execution_count": null,
      "metadata": {
        "id": "pjJIA2JvOsRw"
      },
      "outputs": [],
      "source": [
        "import pandas as pd\n",
        "import xlwings as xw\n",
        "import numpy as np\n",
        "from openpyxl import Workbook\n",
        "import csv"
      ]
    },
    {
      "cell_type": "markdown",
      "metadata": {
        "id": "49fSlqByOsRy"
      },
      "source": [
        "1. Загрузите данные из файлов `reviews_sample.csv` (__ЛР2__) и `recipes_sample.csv` (__ЛР5__) в виде `pd.DataFrame`. Обратите внимание на корректное считывание столбца(ов) с индексами. Оставьте в таблице с рецептами следующие столбцы: `id`, `name`, `minutes`, `submitted`, `description`, `n_ingredients`"
      ]
    },
    {
      "cell_type": "code",
      "execution_count": null,
      "metadata": {
        "id": "cZJlTBSZOsRy",
        "outputId": "e8b5935f-d41b-4e01-d87a-b2293ccdeaec"
      },
      "outputs": [
        {
          "data": {
            "text/html": [
              "<div>\n",
              "<style scoped>\n",
              "    .dataframe tbody tr th:only-of-type {\n",
              "        vertical-align: middle;\n",
              "    }\n",
              "\n",
              "    .dataframe tbody tr th {\n",
              "        vertical-align: top;\n",
              "    }\n",
              "\n",
              "    .dataframe thead th {\n",
              "        text-align: right;\n",
              "    }\n",
              "</style>\n",
              "<table border=\"1\" class=\"dataframe\">\n",
              "  <thead>\n",
              "    <tr style=\"text-align: right;\">\n",
              "      <th></th>\n",
              "      <th>user_id</th>\n",
              "      <th>recipe_id</th>\n",
              "      <th>date</th>\n",
              "      <th>rating</th>\n",
              "      <th>review</th>\n",
              "    </tr>\n",
              "  </thead>\n",
              "  <tbody>\n",
              "    <tr>\n",
              "      <th>370476</th>\n",
              "      <td>21752</td>\n",
              "      <td>57993</td>\n",
              "      <td>2003-05-01</td>\n",
              "      <td>5</td>\n",
              "      <td>Last week whole sides of frozen salmon fillet ...</td>\n",
              "    </tr>\n",
              "    <tr>\n",
              "      <th>624300</th>\n",
              "      <td>431813</td>\n",
              "      <td>142201</td>\n",
              "      <td>2007-09-16</td>\n",
              "      <td>5</td>\n",
              "      <td>So simple and so tasty!  I used a yellow capsi...</td>\n",
              "    </tr>\n",
              "    <tr>\n",
              "      <th>187037</th>\n",
              "      <td>400708</td>\n",
              "      <td>252013</td>\n",
              "      <td>2008-01-10</td>\n",
              "      <td>4</td>\n",
              "      <td>Very nice breakfast HH, easy to make and yummy...</td>\n",
              "    </tr>\n",
              "    <tr>\n",
              "      <th>706134</th>\n",
              "      <td>2001852463</td>\n",
              "      <td>404716</td>\n",
              "      <td>2017-12-11</td>\n",
              "      <td>5</td>\n",
              "      <td>These are a favorite for the holidays and so e...</td>\n",
              "    </tr>\n",
              "    <tr>\n",
              "      <th>312179</th>\n",
              "      <td>95810</td>\n",
              "      <td>129396</td>\n",
              "      <td>2008-03-14</td>\n",
              "      <td>5</td>\n",
              "      <td>Excellent soup!  The tomato flavor is just gre...</td>\n",
              "    </tr>\n",
              "    <tr>\n",
              "      <th>...</th>\n",
              "      <td>...</td>\n",
              "      <td>...</td>\n",
              "      <td>...</td>\n",
              "      <td>...</td>\n",
              "      <td>...</td>\n",
              "    </tr>\n",
              "    <tr>\n",
              "      <th>1013457</th>\n",
              "      <td>1270706</td>\n",
              "      <td>335534</td>\n",
              "      <td>2009-05-17</td>\n",
              "      <td>4</td>\n",
              "      <td>This recipe was great! I made it last night. I...</td>\n",
              "    </tr>\n",
              "    <tr>\n",
              "      <th>158736</th>\n",
              "      <td>2282344</td>\n",
              "      <td>8701</td>\n",
              "      <td>2012-06-03</td>\n",
              "      <td>0</td>\n",
              "      <td>This recipe is outstanding. I followed the rec...</td>\n",
              "    </tr>\n",
              "    <tr>\n",
              "      <th>1059834</th>\n",
              "      <td>689540</td>\n",
              "      <td>222001</td>\n",
              "      <td>2008-04-08</td>\n",
              "      <td>5</td>\n",
              "      <td>Well, we were not a crowd but it was a fabulou...</td>\n",
              "    </tr>\n",
              "    <tr>\n",
              "      <th>453285</th>\n",
              "      <td>2000242659</td>\n",
              "      <td>354979</td>\n",
              "      <td>2015-06-02</td>\n",
              "      <td>5</td>\n",
              "      <td>I have been a steak eater and dedicated BBQ gr...</td>\n",
              "    </tr>\n",
              "    <tr>\n",
              "      <th>691207</th>\n",
              "      <td>463435</td>\n",
              "      <td>415599</td>\n",
              "      <td>2010-09-30</td>\n",
              "      <td>5</td>\n",
              "      <td>Wonderful and simple to prepare seasoning blen...</td>\n",
              "    </tr>\n",
              "  </tbody>\n",
              "</table>\n",
              "<p>126696 rows × 5 columns</p>\n",
              "</div>"
            ],
            "text/plain": [
              "            user_id  recipe_id        date  rating  \\\n",
              "370476        21752      57993  2003-05-01       5   \n",
              "624300       431813     142201  2007-09-16       5   \n",
              "187037       400708     252013  2008-01-10       4   \n",
              "706134   2001852463     404716  2017-12-11       5   \n",
              "312179        95810     129396  2008-03-14       5   \n",
              "...             ...        ...         ...     ...   \n",
              "1013457     1270706     335534  2009-05-17       4   \n",
              "158736      2282344       8701  2012-06-03       0   \n",
              "1059834      689540     222001  2008-04-08       5   \n",
              "453285   2000242659     354979  2015-06-02       5   \n",
              "691207       463435     415599  2010-09-30       5   \n",
              "\n",
              "                                                    review  \n",
              "370476   Last week whole sides of frozen salmon fillet ...  \n",
              "624300   So simple and so tasty!  I used a yellow capsi...  \n",
              "187037   Very nice breakfast HH, easy to make and yummy...  \n",
              "706134   These are a favorite for the holidays and so e...  \n",
              "312179   Excellent soup!  The tomato flavor is just gre...  \n",
              "...                                                    ...  \n",
              "1013457  This recipe was great! I made it last night. I...  \n",
              "158736   This recipe is outstanding. I followed the rec...  \n",
              "1059834  Well, we were not a crowd but it was a fabulou...  \n",
              "453285   I have been a steak eater and dedicated BBQ gr...  \n",
              "691207   Wonderful and simple to prepare seasoning blen...  \n",
              "\n",
              "[126696 rows x 5 columns]"
            ]
          },
          "execution_count": 2,
          "metadata": {},
          "output_type": "execute_result"
        }
      ],
      "source": [
        "reviews = pd.read_csv('reviews_sample.csv', delimiter = ',', index_col=\"Unnamed: 0\")\n",
        "reviews"
      ]
    },
    {
      "cell_type": "code",
      "execution_count": null,
      "metadata": {
        "id": "PJV-6hULOsRz",
        "outputId": "a46d66c9-4747-4591-d20a-abc9cb02dfac"
      },
      "outputs": [
        {
          "data": {
            "text/html": [
              "<div>\n",
              "<style scoped>\n",
              "    .dataframe tbody tr th:only-of-type {\n",
              "        vertical-align: middle;\n",
              "    }\n",
              "\n",
              "    .dataframe tbody tr th {\n",
              "        vertical-align: top;\n",
              "    }\n",
              "\n",
              "    .dataframe thead th {\n",
              "        text-align: right;\n",
              "    }\n",
              "</style>\n",
              "<table border=\"1\" class=\"dataframe\">\n",
              "  <thead>\n",
              "    <tr style=\"text-align: right;\">\n",
              "      <th></th>\n",
              "      <th>name</th>\n",
              "      <th>id</th>\n",
              "      <th>minutes</th>\n",
              "      <th>submitted</th>\n",
              "      <th>description</th>\n",
              "      <th>n_ingredients</th>\n",
              "    </tr>\n",
              "  </thead>\n",
              "  <tbody>\n",
              "    <tr>\n",
              "      <th>0</th>\n",
              "      <td>george s at the cove  black bean soup</td>\n",
              "      <td>44123</td>\n",
              "      <td>90</td>\n",
              "      <td>2002-10-25</td>\n",
              "      <td>an original recipe created by chef scott meska...</td>\n",
              "      <td>18.0</td>\n",
              "    </tr>\n",
              "    <tr>\n",
              "      <th>1</th>\n",
              "      <td>healthy for them  yogurt popsicles</td>\n",
              "      <td>67664</td>\n",
              "      <td>10</td>\n",
              "      <td>2003-07-26</td>\n",
              "      <td>my children and their friends ask for my homem...</td>\n",
              "      <td>NaN</td>\n",
              "    </tr>\n",
              "    <tr>\n",
              "      <th>2</th>\n",
              "      <td>i can t believe it s spinach</td>\n",
              "      <td>38798</td>\n",
              "      <td>30</td>\n",
              "      <td>2002-08-29</td>\n",
              "      <td>these were so go, it surprised even me.</td>\n",
              "      <td>8.0</td>\n",
              "    </tr>\n",
              "    <tr>\n",
              "      <th>3</th>\n",
              "      <td>italian  gut busters</td>\n",
              "      <td>35173</td>\n",
              "      <td>45</td>\n",
              "      <td>2002-07-27</td>\n",
              "      <td>my sister-in-law made these for us at a family...</td>\n",
              "      <td>NaN</td>\n",
              "    </tr>\n",
              "    <tr>\n",
              "      <th>4</th>\n",
              "      <td>love is in the air  beef fondue   sauces</td>\n",
              "      <td>84797</td>\n",
              "      <td>25</td>\n",
              "      <td>2004-02-23</td>\n",
              "      <td>i think a fondue is a very romantic casual din...</td>\n",
              "      <td>NaN</td>\n",
              "    </tr>\n",
              "    <tr>\n",
              "      <th>...</th>\n",
              "      <td>...</td>\n",
              "      <td>...</td>\n",
              "      <td>...</td>\n",
              "      <td>...</td>\n",
              "      <td>...</td>\n",
              "      <td>...</td>\n",
              "    </tr>\n",
              "    <tr>\n",
              "      <th>29995</th>\n",
              "      <td>zurie s holey rustic olive and cheddar bread</td>\n",
              "      <td>267661</td>\n",
              "      <td>80</td>\n",
              "      <td>2007-11-25</td>\n",
              "      <td>this is based on a french recipe but i changed...</td>\n",
              "      <td>10.0</td>\n",
              "    </tr>\n",
              "    <tr>\n",
              "      <th>29996</th>\n",
              "      <td>zwetschgenkuchen  bavarian plum cake</td>\n",
              "      <td>386977</td>\n",
              "      <td>240</td>\n",
              "      <td>2009-08-24</td>\n",
              "      <td>this is a traditional fresh plum cake, thought...</td>\n",
              "      <td>11.0</td>\n",
              "    </tr>\n",
              "    <tr>\n",
              "      <th>29997</th>\n",
              "      <td>zwiebelkuchen   southwest german onion cake</td>\n",
              "      <td>103312</td>\n",
              "      <td>75</td>\n",
              "      <td>2004-11-03</td>\n",
              "      <td>this is a traditional late summer early fall s...</td>\n",
              "      <td>NaN</td>\n",
              "    </tr>\n",
              "    <tr>\n",
              "      <th>29998</th>\n",
              "      <td>zydeco soup</td>\n",
              "      <td>486161</td>\n",
              "      <td>60</td>\n",
              "      <td>2012-08-29</td>\n",
              "      <td>this is a delicious soup that i originally fou...</td>\n",
              "      <td>NaN</td>\n",
              "    </tr>\n",
              "    <tr>\n",
              "      <th>29999</th>\n",
              "      <td>cookies by design   cookies on a stick</td>\n",
              "      <td>298512</td>\n",
              "      <td>29</td>\n",
              "      <td>2008-04-15</td>\n",
              "      <td>i've heard of the 'cookies by design' company,...</td>\n",
              "      <td>10.0</td>\n",
              "    </tr>\n",
              "  </tbody>\n",
              "</table>\n",
              "<p>30000 rows × 6 columns</p>\n",
              "</div>"
            ],
            "text/plain": [
              "                                               name      id  minutes  \\\n",
              "0             george s at the cove  black bean soup   44123       90   \n",
              "1                healthy for them  yogurt popsicles   67664       10   \n",
              "2                      i can t believe it s spinach   38798       30   \n",
              "3                              italian  gut busters   35173       45   \n",
              "4          love is in the air  beef fondue   sauces   84797       25   \n",
              "...                                             ...     ...      ...   \n",
              "29995  zurie s holey rustic olive and cheddar bread  267661       80   \n",
              "29996          zwetschgenkuchen  bavarian plum cake  386977      240   \n",
              "29997   zwiebelkuchen   southwest german onion cake  103312       75   \n",
              "29998                                   zydeco soup  486161       60   \n",
              "29999        cookies by design   cookies on a stick  298512       29   \n",
              "\n",
              "        submitted                                        description  \\\n",
              "0      2002-10-25  an original recipe created by chef scott meska...   \n",
              "1      2003-07-26  my children and their friends ask for my homem...   \n",
              "2      2002-08-29            these were so go, it surprised even me.   \n",
              "3      2002-07-27  my sister-in-law made these for us at a family...   \n",
              "4      2004-02-23  i think a fondue is a very romantic casual din...   \n",
              "...           ...                                                ...   \n",
              "29995  2007-11-25  this is based on a french recipe but i changed...   \n",
              "29996  2009-08-24  this is a traditional fresh plum cake, thought...   \n",
              "29997  2004-11-03  this is a traditional late summer early fall s...   \n",
              "29998  2012-08-29  this is a delicious soup that i originally fou...   \n",
              "29999  2008-04-15  i've heard of the 'cookies by design' company,...   \n",
              "\n",
              "       n_ingredients  \n",
              "0               18.0  \n",
              "1                NaN  \n",
              "2                8.0  \n",
              "3                NaN  \n",
              "4                NaN  \n",
              "...              ...  \n",
              "29995           10.0  \n",
              "29996           11.0  \n",
              "29997            NaN  \n",
              "29998            NaN  \n",
              "29999           10.0  \n",
              "\n",
              "[30000 rows x 6 columns]"
            ]
          },
          "execution_count": 3,
          "metadata": {},
          "output_type": "execute_result"
        }
      ],
      "source": [
        "recipes = pd.read_csv('recipes_sample.csv', delimiter = ',', usecols = ['id', 'name', 'minutes', 'submitted', 'description', 'n_ingredients'])\n",
        "recipes"
      ]
    },
    {
      "cell_type": "markdown",
      "metadata": {
        "id": "aHpDOR1TOsR0"
      },
      "source": [
        "2. Случайным образом выберите 5% строк из каждой таблицы и сохраните две таблицы на разные листы в один файл `recipes.xlsx`. Дайте листам названия \"Рецепты\" и \"Отзывы\", соответствующие содержанию таблиц."
      ]
    },
    {
      "cell_type": "code",
      "execution_count": null,
      "metadata": {
        "id": "JcLEyo_3OsR0"
      },
      "outputs": [],
      "source": [
        "excel = 'recipes.xlsx'\n",
        "recipes_row = recipes.sample(frac = 0.05)\n",
        "reviews_row = reviews.sample(frac = 0.05)"
      ]
    },
    {
      "cell_type": "code",
      "execution_count": null,
      "metadata": {
        "id": "Wm0-UckHOsR1"
      },
      "outputs": [],
      "source": [
        "with pd.ExcelWriter('recipes.xlsx') as excel:\n",
        "    recipes_row.to_excel(excel, sheet_name='Рецепты')\n",
        "    reviews_row.to_excel(excel, sheet_name='Отзывы')"
      ]
    },
    {
      "cell_type": "markdown",
      "metadata": {
        "id": "eR4HWTcpOsR1"
      },
      "source": [
        "3. Используя `xlwings`, добавьте на лист `Рецепты` столбец `seconds_assign`, показывающий время выполнения рецепта в секундах. Выполните задание при помощи присваивания массива значений диапазону ячеек."
      ]
    },
    {
      "cell_type": "code",
      "execution_count": null,
      "metadata": {
        "id": "O2zbBh64OsR1"
      },
      "outputs": [],
      "source": [
        "exel_2 = xw.Book('recipes.xlsx') #открывает эксель файл\n",
        "exel_list = exel_2.sheets['Рецепты'] #просмотр листа\n",
        "\n",
        "exel_list.range(\"H1\").value = 'seconds_assign' #выбираем значение(пустой стобик) и добавляем новый в h1\n",
        "second_assign = (recipes_row[\"minutes\"] * 60).to_numpy() #переменной присваием значения, которые надо добавить\n",
        "exel_list.range(\"H2:H1501\").options(transpose=True).value = second_assign #добавили значения в созданный столбик"
      ]
    },
    {
      "cell_type": "markdown",
      "metadata": {
        "id": "Tc7A2wcCOsR2"
      },
      "source": [
        "4. Используя `xlwings`, добавьте на лист `Рецепты` столбец `seconds_formula`, показывающий время выполнения рецепта в секундах. Выполните задание при помощи формул Excel."
      ]
    },
    {
      "cell_type": "code",
      "execution_count": null,
      "metadata": {
        "id": "ERBDAlOFOsR2"
      },
      "outputs": [],
      "source": [
        "exel_list.range(\"I1\").value = 'seconds_formula' #выбираем значение(пустой стобик) и добавляем новый в i1\n",
        "second_column = exel_list.range(\"I2\").formula = f'=D2 * 60' #пишем формулу стобец минуты умножить на 60\n",
        "xw.Range(\"I2:I1501\").formula = second_column #добавляем в новый столбец значения"
      ]
    },
    {
      "cell_type": "markdown",
      "metadata": {
        "id": "i-nKXwdBOsR2"
      },
      "source": [
        "5. Сделайте названия всех добавленных столбцов полужирными и выровняйте по центру ячейки."
      ]
    },
    {
      "cell_type": "code",
      "execution_count": null,
      "metadata": {
        "id": "ZHg2Mnc9OsR2"
      },
      "outputs": [],
      "source": [
        "exel_list.range('H1').api.Font.Bold = True #делаем 1 строку полужирным\n",
        "exel_list.range('I1').api.Font.Bold = True\n",
        "exel_list.range('H1').api.HorizontalAlignment = xw.constants.HAlign.xlHAlignCenter #выравниваем 1 строку\n",
        "exel_list.range('I1').api.HorizontalAlignment = xw.constants.HAlign.xlHAlignCenter"
      ]
    },
    {
      "cell_type": "markdown",
      "metadata": {
        "id": "1blBoA5tOsR2"
      },
      "source": [
        "6. Раскрасьте ячейки столбца `minutes` в соответствии со следующим правилом: если рецепт выполняется быстрее 5 минут, то цвет - зеленый; от 5 до 10 минут - жёлтый; и больше 10 - красный."
      ]
    },
    {
      "cell_type": "code",
      "execution_count": null,
      "metadata": {
        "id": "dZ0yNGOhOsR3"
      },
      "outputs": [],
      "source": [
        "minutes = exel_list.range(\"D2:D1501\").value #обращаемся к столбцу минуты\n",
        "green =  (0, 255, 0) #обозначаем цвета\n",
        "yellow = (255, 255, 0)\n",
        "red =  (255, 0, 0)\n",
        "for i in range(len(minutes)):\n",
        "    if minutes[i] < 5:\n",
        "        exel_list.range(f'D{i+2}').color = green #окрашиваем\n",
        "    elif 5 <= minutes[i] <= 10:\n",
        "        exel_list.range(f'D{i+2}').color = yellow\n",
        "    else:\n",
        "        exel_list.range(f'D{i+2}').color = red"
      ]
    },
    {
      "cell_type": "markdown",
      "metadata": {
        "id": "StMcC85HOsR3"
      },
      "source": [
        "7. Добавьте на лист `Рецепты`  столбец `n_reviews`, содержащий кол-во отзывов для этого рецепта. Выполните задание при помощи формул Excel."
      ]
    },
    {
      "cell_type": "code",
      "execution_count": null,
      "metadata": {
        "id": "KSNhmONFOsR3"
      },
      "outputs": [],
      "source": [
        "count = len(reviews_row)\n",
        "exel_list.range('J1').value = 'n_reviews' #добавляем новый столбец\n",
        "fml = exel_list.range(\"J2\").formula = f'=COUNTIF(Отзывы!$C$2:$C${count},C2)'\n",
        "xw.Range(\"J2:J1501\").formula = fml #добавляем во весь столбик формулу"
      ]
    }
  ],
  "metadata": {
    "kernelspec": {
      "display_name": "Python 3 (ipykernel)",
      "language": "python",
      "name": "python3"
    },
    "language_info": {
      "codemirror_mode": {
        "name": "ipython",
        "version": 3
      },
      "file_extension": ".py",
      "mimetype": "text/x-python",
      "name": "python",
      "nbconvert_exporter": "python",
      "pygments_lexer": "ipython3",
      "version": "3.10.2"
    },
    "colab": {
      "provenance": []
    }
  },
  "nbformat": 4,
  "nbformat_minor": 0
}