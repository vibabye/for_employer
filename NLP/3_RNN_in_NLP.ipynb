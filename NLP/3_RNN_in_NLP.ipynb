{
  "cells": [
    {
      "cell_type": "markdown",
      "metadata": {
        "id": "_RICG81Wf2ml"
      },
      "source": [
        "**RNN в обработке текстов.**"
      ]
    },
    {
      "cell_type": "markdown",
      "metadata": {
        "id": "oPvOMu74h_6m"
      },
      "source": [
        "**RNN (Recurrent Neural Network)** - это архитектура нейронной сети, которая предназначена для работы с последовательными данных. Она обладает способностью запоминать информацию о предыдущих состояниях и использовать ее для прогнозирования следующего состояния.\n",
        "\n",
        "RNN состоит из повторяющихся блоков, называемых ячейками, которые могут передавать информацию от одного шага к другому. Каждая ячейка принимает на вход текущий входной сигнал и информацию о предыдущем состоянии, а затем генерирует новое состояние и выходной сигнал. Таким образом, RNN имеет возможность учитывать контекст и зависимости в последовательных данных."
      ]
    },
    {
      "cell_type": "markdown",
      "metadata": {
        "id": "rMcDNQLIf55V"
      },
      "source": [
        "**Задание 1.**\n",
        "\n",
        "Решите задачу расшифровки сообщения с помощью RNN. Представьте, что вам даны сообщения, зашифрованные с помощью шифра Цезаря, являющимся одним из самый простых шифров, в криптографии.\n",
        "\n",
        "\n",
        "Шифр цезаря работает следующим образом: каждая буква исходного алфавита сдвигается на K символов вправо:\n",
        "\n",
        "\n",
        "Пусть нам дано сообщение: message=\"RNN IS NOT AI\", тогда наше шифрование выполняющиеся по правилу f, с K=2, даст нам результат: f(message, K) = TPPAKUAPQVACK.\n",
        "\n",
        "\n",
        "Для удобства можно взять символы только одного регистра в нашей имплементации, и сказать, что все буквы не английского алфавита будут отмечены как прочерк \"-\"\n"
      ]
    },
    {
      "cell_type": "code",
      "execution_count": null,
      "metadata": {
        "id": "6pztbP22f_Sc"
      },
      "outputs": [],
      "source": [
        "import random\n",
        "import torch\n",
        "import torch.nn as nn\n",
        "import torch.nn.functional as F"
      ]
    },
    {
      "cell_type": "code",
      "execution_count": null,
      "metadata": {
        "id": "kqwnohjOgCMl"
      },
      "outputs": [],
      "source": [
        "key = 2\n",
        "vocab = [char for char in ' -ABCDEFGHIJKLMNOPQRSTUVWXYZ']"
      ]
    },
    {
      "cell_type": "code",
      "execution_count": null,
      "metadata": {
        "colab": {
          "base_uri": "https://localhost:8080/"
        },
        "id": "FA1bb3uegLIG",
        "outputId": "4066ac8a-d40e-45eb-e0ea-c577aa0a9430"
      },
      "outputs": [
        {
          "name": "stdout",
          "output_type": "stream",
          "text": [
            "TPPAKUAPQVACK\n"
          ]
        }
      ],
      "source": [
        "def encrypt(text, key):\n",
        "    indexes = [vocab.index(char) for char in text]\n",
        "    encrypted_indexes = [(idx + key) % len(vocab) for idx in indexes]\n",
        "    encrypted_chars = [vocab[idx] for idx in encrypted_indexes]\n",
        "    encrypted = ''.join(encrypted_chars)\n",
        "    return encrypted\n",
        "\n",
        "print(encrypt('RNN IS NOT AI', key))"
      ]
    },
    {
      "cell_type": "code",
      "execution_count": null,
      "metadata": {
        "id": "3ehZGgQEoJQW"
      },
      "outputs": [],
      "source": [
        "num_examples = 256 # размер датасета\n",
        "seq_len = 18 # максимальная длина строки\n",
        "\n",
        "\n",
        "def encrypted_dataset(dataset_len, k):\n",
        "    \"\"\"\n",
        "    Return: List(Tuple(Tensor encrypted, Tensor source))\n",
        "    \"\"\"\n",
        "    dataset = []\n",
        "    for x in range(dataset_len):\n",
        "        random_message  = ''.join([random.choice(vocab) for x in range(seq_len)])\n",
        "        encrypt_random_message = encrypt(''.join(random_message), k)\n",
        "        src = [vocab.index(x) for x in random_message]\n",
        "        tgt = [vocab.index(x) for x in encrypt_random_message]\n",
        "        dataset.append([torch.tensor(tgt), torch.tensor(src)])\n",
        "    return dataset"
      ]
    },
    {
      "cell_type": "code",
      "execution_count": null,
      "metadata": {
        "id": "17JoVvz5kADY"
      },
      "outputs": [],
      "source": [
        "class Decipher(nn.Module):\n",
        "    def __init__(self, vocab_size, embedding_dim, hidden_dim,\n",
        "                 rnn_type='simple'):\n",
        "        \"\"\"\n",
        "        :params: int vocab_size\n",
        "        :params: int embedding_dim\n",
        "        :params\n",
        "        \"\"\"\n",
        "        super(Decipher, self).__init__()\n",
        "        self.embed = nn.Embedding(vocab_size, embedding_dim)\n",
        "        if rnn_type == 'simple':\n",
        "            self.rnn = nn.RNN(embedding_dim, hidden_dim, num_layers = 2)\n",
        "\n",
        "        self.fc = nn.Linear(hidden_dim, vocab_size)\n",
        "        self.initial_hidden = torch.zeros(2, 1, hidden_dim)\n",
        "\n",
        "\n",
        "    def forward(self, cipher):\n",
        "        # CHECK INPUT SIZE\n",
        "        # Unsqueeze 1 dimension for batches\n",
        "        embd_x = self.embed(cipher).unsqueeze(1)\n",
        "        out_rnn, hidden = self.rnn(embd_x, self.initial_hidden)\n",
        "        # Apply the affine transform and transpose output in appropriate way\n",
        "        # because you want to get the softmax on vocabulary dimension\n",
        "        # in order to get probability of every letter\n",
        "        return self.fc(out_rnn).transpose(1, 2)\n"
      ]
    },
    {
      "cell_type": "code",
      "execution_count": null,
      "metadata": {
        "id": "HOtRheqKn3mY"
      },
      "outputs": [],
      "source": [
        "# определим параметры нашей модели\n",
        "embedding_dim = 5\n",
        "hidden_dim = 10\n",
        "vocab_size = len(vocab)\n",
        "lr = 1e-3\n",
        "\n",
        "model = Decipher(vocab_size, embedding_dim, hidden_dim)\n",
        "optimizer = torch.optim.Adam(model.parameters(), lr=lr, weight_decay=1e-4)\n",
        "criterion = torch.nn.CrossEntropyLoss()\n",
        "num_epochs = 10"
      ]
    },
    {
      "cell_type": "code",
      "execution_count": null,
      "metadata": {
        "colab": {
          "base_uri": "https://localhost:8080/"
        },
        "id": "ymkcjybbn5o-",
        "outputId": "e599d378-fa69-4458-90c1-eae7420bf3a0"
      },
      "outputs": [
        {
          "name": "stdout",
          "output_type": "stream",
          "text": [
            "Epoch: 0\n",
            "Loss: 2.8772\n",
            "Accuracy: 32.31%\n",
            "Epoch: 1\n",
            "Loss: 1.8579\n",
            "Accuracy: 62.15%\n",
            "Epoch: 2\n",
            "Loss: 1.4223\n",
            "Accuracy: 82.36%\n",
            "Epoch: 3\n",
            "Loss: 0.8205\n",
            "Accuracy: 94.38%\n",
            "Epoch: 4\n",
            "Loss: 0.6627\n",
            "Accuracy: 100.00%\n",
            "Epoch: 5\n",
            "Loss: 0.4877\n",
            "Accuracy: 96.68%\n",
            "Epoch: 6\n",
            "Loss: 0.3703\n",
            "Accuracy: 100.00%\n",
            "Epoch: 7\n",
            "Loss: 0.2661\n",
            "Accuracy: 100.00%\n",
            "Epoch: 8\n",
            "Loss: 0.2309\n",
            "Accuracy: 100.00%\n",
            "Epoch: 9\n",
            "Loss: 0.1661\n",
            "Accuracy: 100.00%\n"
          ]
        }
      ],
      "source": [
        "k = 10\n",
        "for x in range(num_epochs):\n",
        "    print('Epoch: {}'.format(x))\n",
        "    for encrypted, original in encrypted_dataset(num_examples, k):\n",
        "\n",
        "        scores = model(encrypted)\n",
        "        original = original.unsqueeze(1)\n",
        "        # Calculate loss\n",
        "        loss = criterion(scores, original)\n",
        "        # Zero grads\n",
        "        optimizer.zero_grad()\n",
        "        # Backpropagate\n",
        "        loss.backward()\n",
        "        # Update weights\n",
        "        optimizer.step()\n",
        "    print('Loss: {:6.4f}'.format(loss.item()))\n",
        "\n",
        "    with torch.no_grad():\n",
        "        matches, total = 0, 0\n",
        "        for encrypted, original in encrypted_dataset(num_examples, k):\n",
        "            # Compute a softmax over the outputs\n",
        "            predictions = F.softmax(model(encrypted), 1)\n",
        "            # Choose the character with the maximum probability (greedy decoding)\n",
        "            _, batch_out = predictions.max(dim=1)\n",
        "            # Remove batch\n",
        "            batch_out = batch_out.squeeze(1)\n",
        "            # Calculate accuracy\n",
        "            matches += torch.eq(batch_out, original).sum().item()\n",
        "            total += torch.numel(batch_out)\n",
        "        accuracy = matches / total\n",
        "        print('Accuracy: {:4.2f}%'.format(accuracy * 100))"
      ]
    },
    {
      "cell_type": "markdown",
      "metadata": {
        "id": "nmBTlrRIaBdx"
      },
      "source": [
        "**ЧАСТЬ 2**"
      ]
    },
    {
      "cell_type": "markdown",
      "metadata": {
        "id": "V0EtrBRdaLxI"
      },
      "source": [
        "**Задание 1.** На основе минимум 2 коллекций предобученных эмбеддингов для русского языка постройте эмбеддинги для корпуса собраний сочинений Федора Михайловича Достоевского. Сделайте экспертную оценку построенной модели на примерах (униграммы и биграммы).\n",
        "\n",
        "**Задание 2.** Сделайте визуализацию полученных эмбеддингов."
      ]
    },
    {
      "cell_type": "code",
      "execution_count": null,
      "metadata": {
        "colab": {
          "base_uri": "https://localhost:8080/"
        },
        "id": "hVyVNkBIPH4D",
        "outputId": "986056b8-b2dd-49e7-de4d-1c81f586be48"
      },
      "outputs": [
        {
          "output_type": "stream",
          "name": "stdout",
          "text": [
            "Collecting navec\n",
            "  Downloading navec-0.10.0-py3-none-any.whl (23 kB)\n",
            "Requirement already satisfied: numpy in /usr/local/lib/python3.10/dist-packages (from navec) (1.23.5)\n",
            "Installing collected packages: navec\n",
            "Successfully installed navec-0.10.0\n"
          ]
        }
      ],
      "source": [
        "pip install navec"
      ]
    },
    {
      "cell_type": "code",
      "execution_count": null,
      "metadata": {
        "id": "7pKYUgQSPs_g",
        "colab": {
          "base_uri": "https://localhost:8080/"
        },
        "outputId": "50a22e1c-06be-4ea7-c381-df5e85abbe3e"
      },
      "outputs": [
        {
          "output_type": "stream",
          "name": "stdout",
          "text": [
            "--2023-11-09 14:52:22--  https://storage.yandexcloud.net/natasha-navec/packs/navec_hudlit_v1_12B_500K_300d_100q.tar\n",
            "Resolving storage.yandexcloud.net (storage.yandexcloud.net)... 213.180.193.243, 2a02:6b8::1d9\n",
            "Connecting to storage.yandexcloud.net (storage.yandexcloud.net)|213.180.193.243|:443... connected.\n",
            "HTTP request sent, awaiting response... 200 OK\n",
            "Length: 53012480 (51M) [application/x-tar]\n",
            "Saving to: ‘navec_hudlit_v1_12B_500K_300d_100q.tar’\n",
            "\n",
            "navec_hudlit_v1_12B 100%[===================>]  50.56M  20.4MB/s    in 2.5s    \n",
            "\n",
            "2023-11-09 14:52:25 (20.4 MB/s) - ‘navec_hudlit_v1_12B_500K_300d_100q.tar’ saved [53012480/53012480]\n",
            "\n"
          ]
        }
      ],
      "source": [
        "!wget https://storage.yandexcloud.net/natasha-navec/packs/navec_hudlit_v1_12B_500K_300d_100q.tar -O navec_hudlit_v1_12B_500K_300d_100q.tar"
      ]
    },
    {
      "cell_type": "code",
      "execution_count": null,
      "metadata": {
        "id": "izGLK3b-PvJP",
        "colab": {
          "base_uri": "https://localhost:8080/"
        },
        "outputId": "3e0350c5-0f24-45df-f6a5-6939b29e5424"
      },
      "outputs": [
        {
          "output_type": "stream",
          "name": "stdout",
          "text": [
            "--2023-11-09 14:52:27--  https://storage.yandexcloud.net/natasha-navec/packs/navec_news_v1_1B_250K_300d_100q.tar\n",
            "Resolving storage.yandexcloud.net (storage.yandexcloud.net)... 213.180.193.243, 2a02:6b8::1d9\n",
            "Connecting to storage.yandexcloud.net (storage.yandexcloud.net)|213.180.193.243|:443... connected.\n",
            "HTTP request sent, awaiting response... 200 OK\n",
            "Length: 26634240 (25M) [application/x-tar]\n",
            "Saving to: ‘navec_news_v1_1B_250K_300d_100q.tar’\n",
            "\n",
            "navec_news_v1_1B_25 100%[===================>]  25.40M  14.3MB/s    in 1.8s    \n",
            "\n",
            "2023-11-09 14:52:29 (14.3 MB/s) - ‘navec_news_v1_1B_250K_300d_100q.tar’ saved [26634240/26634240]\n",
            "\n"
          ]
        }
      ],
      "source": [
        "!wget https://storage.yandexcloud.net/natasha-navec/packs/navec_news_v1_1B_250K_300d_100q.tar"
      ]
    },
    {
      "cell_type": "code",
      "execution_count": null,
      "metadata": {
        "id": "h8Bym3zrQMi2",
        "colab": {
          "base_uri": "https://localhost:8080/"
        },
        "outputId": "2375ff15-5b17-4050-fd7b-98800651c7a4"
      },
      "outputs": [
        {
          "output_type": "stream",
          "name": "stdout",
          "text": [
            "Collecting pymorphy2\n",
            "  Downloading pymorphy2-0.9.1-py3-none-any.whl (55 kB)\n",
            "\u001b[2K     \u001b[90m━━━━━━━━━━━━━━━━━━━━━━━━━━━━━━━━━━━━━━━━\u001b[0m \u001b[32m55.5/55.5 kB\u001b[0m \u001b[31m511.9 kB/s\u001b[0m eta \u001b[36m0:00:00\u001b[0m\n",
            "\u001b[?25hCollecting dawg-python>=0.7.1 (from pymorphy2)\n",
            "  Downloading DAWG_Python-0.7.2-py2.py3-none-any.whl (11 kB)\n",
            "Collecting pymorphy2-dicts-ru<3.0,>=2.4 (from pymorphy2)\n",
            "  Downloading pymorphy2_dicts_ru-2.4.417127.4579844-py2.py3-none-any.whl (8.2 MB)\n",
            "\u001b[2K     \u001b[90m━━━━━━━━━━━━━━━━━━━━━━━━━━━━━━━━━━━━━━━━\u001b[0m \u001b[32m8.2/8.2 MB\u001b[0m \u001b[31m16.6 MB/s\u001b[0m eta \u001b[36m0:00:00\u001b[0m\n",
            "\u001b[?25hCollecting docopt>=0.6 (from pymorphy2)\n",
            "  Downloading docopt-0.6.2.tar.gz (25 kB)\n",
            "  Preparing metadata (setup.py) ... \u001b[?25l\u001b[?25hdone\n",
            "Building wheels for collected packages: docopt\n",
            "  Building wheel for docopt (setup.py) ... \u001b[?25l\u001b[?25hdone\n",
            "  Created wheel for docopt: filename=docopt-0.6.2-py2.py3-none-any.whl size=13706 sha256=e292fc1281bc716c4c243576cf5aa006075b9e837489ddd8e9e13f2c3fbce8ed\n",
            "  Stored in directory: /root/.cache/pip/wheels/fc/ab/d4/5da2067ac95b36618c629a5f93f809425700506f72c9732fac\n",
            "Successfully built docopt\n",
            "Installing collected packages: pymorphy2-dicts-ru, docopt, dawg-python, pymorphy2\n",
            "Successfully installed dawg-python-0.7.2 docopt-0.6.2 pymorphy2-0.9.1 pymorphy2-dicts-ru-2.4.417127.4579844\n"
          ]
        }
      ],
      "source": [
        "pip install pymorphy2"
      ]
    },
    {
      "cell_type": "code",
      "execution_count": null,
      "metadata": {
        "id": "EfKIMD7CfDSW"
      },
      "outputs": [],
      "source": [
        "import string\n",
        "import pymorphy2\n",
        "import nltk\n",
        "import bokeh.models as bm, bokeh.plotting as pl\n",
        "from navec import Navec\n",
        "from nltk.corpus import stopwords\n",
        "from nltk.tokenize import word_tokenize, sent_tokenize\n",
        "from sklearn.decomposition import PCA\n",
        "from sklearn.preprocessing import StandardScaler\n",
        "from bokeh.io import output_notebook"
      ]
    },
    {
      "cell_type": "code",
      "execution_count": null,
      "metadata": {
        "colab": {
          "base_uri": "https://localhost:8080/"
        },
        "id": "o2q21tbnLXD7",
        "outputId": "6c1df165-ff49-4188-fbb9-cd4a69a8e2de"
      },
      "outputs": [
        {
          "output_type": "stream",
          "name": "stderr",
          "text": [
            "[nltk_data] Downloading package punkt to /root/nltk_data...\n",
            "[nltk_data]   Package punkt is already up-to-date!\n"
          ]
        },
        {
          "output_type": "execute_result",
          "data": {
            "text/plain": [
              "True"
            ]
          },
          "metadata": {},
          "execution_count": 51
        }
      ],
      "source": [
        "nltk.download('punkt')"
      ]
    },
    {
      "cell_type": "code",
      "execution_count": null,
      "metadata": {
        "id": "es7b4mq0fEb-"
      },
      "outputs": [],
      "source": [
        "model_1 = Navec.load('navec_hudlit_v1_12B_500K_300d_100q.tar')\n",
        "model_2 = Navec.load('navec_news_v1_1B_250K_300d_100q.tar')"
      ]
    },
    {
      "cell_type": "code",
      "execution_count": null,
      "metadata": {
        "colab": {
          "base_uri": "https://localhost:8080/"
        },
        "id": "SzP2pEw6lDxi",
        "outputId": "25c7a927-fde7-43b3-9cd9-34c1fbf5a07d"
      },
      "outputs": [
        {
          "output_type": "stream",
          "name": "stderr",
          "text": [
            "[nltk_data] Downloading package stopwords to /root/nltk_data...\n",
            "[nltk_data]   Package stopwords is already up-to-date!\n"
          ]
        },
        {
          "output_type": "execute_result",
          "data": {
            "text/plain": [
              "True"
            ]
          },
          "metadata": {},
          "execution_count": 53
        }
      ],
      "source": [
        "nltk.download('stopwords')"
      ]
    },
    {
      "cell_type": "code",
      "execution_count": null,
      "metadata": {
        "id": "AiODwXxofsg3"
      },
      "outputs": [],
      "source": [
        "def clean_words(words):\n",
        "    words = [i.lower() for i in words]\n",
        "    stopPunktual = string.punctuation\n",
        "    words = [word for word in words if word not in stopPunktual]\n",
        "\n",
        "    morph = pymorphy2.MorphAnalyzer()\n",
        "    pymorphy_results = list(map(lambda y: morph.parse(y), words))\n",
        "\n",
        "    words = ' '.join([res[0].normal_form for res in pymorphy_results])\n",
        "    words = list(words.split(' '))\n",
        "\n",
        "    return set(words)"
      ]
    },
    {
      "cell_type": "code",
      "execution_count": null,
      "metadata": {
        "id": "ULdrXKrOlPXt"
      },
      "outputs": [],
      "source": [
        "dostoevsky = open('dostoevsky.txt', 'r').read()"
      ]
    },
    {
      "cell_type": "code",
      "execution_count": null,
      "metadata": {
        "id": "UwCwO1WTLEjC"
      },
      "outputs": [],
      "source": [
        "words = word_tokenize(dostoevsky)[:3000]"
      ]
    },
    {
      "cell_type": "code",
      "execution_count": null,
      "metadata": {
        "id": "yHxby6l9lNUV"
      },
      "outputs": [],
      "source": [
        "words = clean_words(words)\n",
        "words = list(words)"
      ]
    },
    {
      "cell_type": "code",
      "execution_count": null,
      "metadata": {
        "id": "qYurvmvVOzCQ"
      },
      "outputs": [],
      "source": [
        "word_vectors = []\n",
        "for word in words:\n",
        "    try:\n",
        "        word_vectors.append(model_1[word.lower()])\n",
        "    except:\n",
        "        pass"
      ]
    },
    {
      "cell_type": "code",
      "execution_count": null,
      "metadata": {
        "id": "nWmFyrl9RT-W"
      },
      "outputs": [],
      "source": [
        "PCA = PCA(n_components=2)\n",
        "PCA.fit(word_vectors)\n",
        "word_vectors_pca = PCA.transform(word_vectors)\n",
        "\n",
        "ss = StandardScaler().fit(word_vectors_pca) # стандартизации данных\n",
        "word_vectors_pca = ss.transform(word_vectors_pca)"
      ]
    },
    {
      "cell_type": "code",
      "execution_count": null,
      "metadata": {
        "colab": {
          "base_uri": "https://localhost:8080/",
          "height": 453
        },
        "id": "yrE5_WWXUjpv",
        "outputId": "656bbde5-5bc3-41cf-fcac-b95c666bf804"
      },
      "outputs": [
        {
          "output_type": "stream",
          "name": "stderr",
          "text": [
            "BokehUserWarning: ColumnDataSource's columns must be of the same length. Current lengths: ('color', 715), ('token', 772), ('x', 715), ('y', 715)\n"
          ]
        },
        {
          "output_type": "display_data",
          "data": {
            "application/javascript": [
              "(function(root) {\n",
              "  function now() {\n",
              "    return new Date();\n",
              "  }\n",
              "\n",
              "  const force = true;\n",
              "\n",
              "  if (typeof root._bokeh_onload_callbacks === \"undefined\" || force === true) {\n",
              "    root._bokeh_onload_callbacks = [];\n",
              "    root._bokeh_is_loading = undefined;\n",
              "  }\n",
              "\n",
              "const JS_MIME_TYPE = 'application/javascript';\n",
              "  const HTML_MIME_TYPE = 'text/html';\n",
              "  const EXEC_MIME_TYPE = 'application/vnd.bokehjs_exec.v0+json';\n",
              "  const CLASS_NAME = 'output_bokeh rendered_html';\n",
              "\n",
              "  /**\n",
              "   * Render data to the DOM node\n",
              "   */\n",
              "  function render(props, node) {\n",
              "    const script = document.createElement(\"script\");\n",
              "    node.appendChild(script);\n",
              "  }\n",
              "\n",
              "  /**\n",
              "   * Handle when an output is cleared or removed\n",
              "   */\n",
              "  function handleClearOutput(event, handle) {\n",
              "    function drop(id) {\n",
              "      const view = Bokeh.index.get_by_id(id)\n",
              "      if (view != null) {\n",
              "        view.model.document.clear()\n",
              "        Bokeh.index.delete(view)\n",
              "      }\n",
              "    }\n",
              "\n",
              "    const cell = handle.cell;\n",
              "\n",
              "    const id = cell.output_area._bokeh_element_id;\n",
              "    const server_id = cell.output_area._bokeh_server_id;\n",
              "\n",
              "    // Clean up Bokeh references\n",
              "    if (id != null) {\n",
              "      drop(id)\n",
              "    }\n",
              "\n",
              "    if (server_id !== undefined) {\n",
              "      // Clean up Bokeh references\n",
              "      const cmd_clean = \"from bokeh.io.state import curstate; print(curstate().uuid_to_server['\" + server_id + \"'].get_sessions()[0].document.roots[0]._id)\";\n",
              "      cell.notebook.kernel.execute(cmd_clean, {\n",
              "        iopub: {\n",
              "          output: function(msg) {\n",
              "            const id = msg.content.text.trim()\n",
              "            drop(id)\n",
              "          }\n",
              "        }\n",
              "      });\n",
              "      // Destroy server and session\n",
              "      const cmd_destroy = \"import bokeh.io.notebook as ion; ion.destroy_server('\" + server_id + \"')\";\n",
              "      cell.notebook.kernel.execute(cmd_destroy);\n",
              "    }\n",
              "  }\n",
              "\n",
              "  /**\n",
              "   * Handle when a new output is added\n",
              "   */\n",
              "  function handleAddOutput(event, handle) {\n",
              "    const output_area = handle.output_area;\n",
              "    const output = handle.output;\n",
              "\n",
              "    // limit handleAddOutput to display_data with EXEC_MIME_TYPE content only\n",
              "    if ((output.output_type != \"display_data\") || (!Object.prototype.hasOwnProperty.call(output.data, EXEC_MIME_TYPE))) {\n",
              "      return\n",
              "    }\n",
              "\n",
              "    const toinsert = output_area.element.find(\".\" + CLASS_NAME.split(' ')[0]);\n",
              "\n",
              "    if (output.metadata[EXEC_MIME_TYPE][\"id\"] !== undefined) {\n",
              "      toinsert[toinsert.length - 1].firstChild.textContent = output.data[JS_MIME_TYPE];\n",
              "      // store reference to embed id on output_area\n",
              "      output_area._bokeh_element_id = output.metadata[EXEC_MIME_TYPE][\"id\"];\n",
              "    }\n",
              "    if (output.metadata[EXEC_MIME_TYPE][\"server_id\"] !== undefined) {\n",
              "      const bk_div = document.createElement(\"div\");\n",
              "      bk_div.innerHTML = output.data[HTML_MIME_TYPE];\n",
              "      const script_attrs = bk_div.children[0].attributes;\n",
              "      for (let i = 0; i < script_attrs.length; i++) {\n",
              "        toinsert[toinsert.length - 1].firstChild.setAttribute(script_attrs[i].name, script_attrs[i].value);\n",
              "        toinsert[toinsert.length - 1].firstChild.textContent = bk_div.children[0].textContent\n",
              "      }\n",
              "      // store reference to server id on output_area\n",
              "      output_area._bokeh_server_id = output.metadata[EXEC_MIME_TYPE][\"server_id\"];\n",
              "    }\n",
              "  }\n",
              "\n",
              "  function register_renderer(events, OutputArea) {\n",
              "\n",
              "    function append_mime(data, metadata, element) {\n",
              "      // create a DOM node to render to\n",
              "      const toinsert = this.create_output_subarea(\n",
              "        metadata,\n",
              "        CLASS_NAME,\n",
              "        EXEC_MIME_TYPE\n",
              "      );\n",
              "      this.keyboard_manager.register_events(toinsert);\n",
              "      // Render to node\n",
              "      const props = {data: data, metadata: metadata[EXEC_MIME_TYPE]};\n",
              "      render(props, toinsert[toinsert.length - 1]);\n",
              "      element.append(toinsert);\n",
              "      return toinsert\n",
              "    }\n",
              "\n",
              "    /* Handle when an output is cleared or removed */\n",
              "    events.on('clear_output.CodeCell', handleClearOutput);\n",
              "    events.on('delete.Cell', handleClearOutput);\n",
              "\n",
              "    /* Handle when a new output is added */\n",
              "    events.on('output_added.OutputArea', handleAddOutput);\n",
              "\n",
              "    /**\n",
              "     * Register the mime type and append_mime function with output_area\n",
              "     */\n",
              "    OutputArea.prototype.register_mime_type(EXEC_MIME_TYPE, append_mime, {\n",
              "      /* Is output safe? */\n",
              "      safe: true,\n",
              "      /* Index of renderer in `output_area.display_order` */\n",
              "      index: 0\n",
              "    });\n",
              "  }\n",
              "\n",
              "  // register the mime type if in Jupyter Notebook environment and previously unregistered\n",
              "  if (root.Jupyter !== undefined) {\n",
              "    const events = require('base/js/events');\n",
              "    const OutputArea = require('notebook/js/outputarea').OutputArea;\n",
              "\n",
              "    if (OutputArea.prototype.mime_types().indexOf(EXEC_MIME_TYPE) == -1) {\n",
              "      register_renderer(events, OutputArea);\n",
              "    }\n",
              "  }\n",
              "  if (typeof (root._bokeh_timeout) === \"undefined\" || force === true) {\n",
              "    root._bokeh_timeout = Date.now() + 5000;\n",
              "    root._bokeh_failed_load = false;\n",
              "  }\n",
              "\n",
              "  const NB_LOAD_WARNING = {'data': {'text/html':\n",
              "     \"<div style='background-color: #fdd'>\\n\"+\n",
              "     \"<p>\\n\"+\n",
              "     \"BokehJS does not appear to have successfully loaded. If loading BokehJS from CDN, this \\n\"+\n",
              "     \"may be due to a slow or bad network connection. Possible fixes:\\n\"+\n",
              "     \"</p>\\n\"+\n",
              "     \"<ul>\\n\"+\n",
              "     \"<li>re-rerun `output_notebook()` to attempt to load from CDN again, or</li>\\n\"+\n",
              "     \"<li>use INLINE resources instead, as so:</li>\\n\"+\n",
              "     \"</ul>\\n\"+\n",
              "     \"<code>\\n\"+\n",
              "     \"from bokeh.resources import INLINE\\n\"+\n",
              "     \"output_notebook(resources=INLINE)\\n\"+\n",
              "     \"</code>\\n\"+\n",
              "     \"</div>\"}};\n",
              "\n",
              "  function display_loaded() {\n",
              "    const el = document.getElementById(null);\n",
              "    if (el != null) {\n",
              "      el.textContent = \"BokehJS is loading...\";\n",
              "    }\n",
              "    if (root.Bokeh !== undefined) {\n",
              "      if (el != null) {\n",
              "        el.textContent = \"BokehJS \" + root.Bokeh.version + \" successfully loaded.\";\n",
              "      }\n",
              "    } else if (Date.now() < root._bokeh_timeout) {\n",
              "      setTimeout(display_loaded, 100)\n",
              "    }\n",
              "  }\n",
              "\n",
              "  function run_callbacks() {\n",
              "    try {\n",
              "      root._bokeh_onload_callbacks.forEach(function(callback) {\n",
              "        if (callback != null)\n",
              "          callback();\n",
              "      });\n",
              "    } finally {\n",
              "      delete root._bokeh_onload_callbacks\n",
              "    }\n",
              "    console.debug(\"Bokeh: all callbacks have finished\");\n",
              "  }\n",
              "\n",
              "  function load_libs(css_urls, js_urls, callback) {\n",
              "    if (css_urls == null) css_urls = [];\n",
              "    if (js_urls == null) js_urls = [];\n",
              "\n",
              "    root._bokeh_onload_callbacks.push(callback);\n",
              "    if (root._bokeh_is_loading > 0) {\n",
              "      console.debug(\"Bokeh: BokehJS is being loaded, scheduling callback at\", now());\n",
              "      return null;\n",
              "    }\n",
              "    if (js_urls == null || js_urls.length === 0) {\n",
              "      run_callbacks();\n",
              "      return null;\n",
              "    }\n",
              "    console.debug(\"Bokeh: BokehJS not loaded, scheduling load and callback at\", now());\n",
              "    root._bokeh_is_loading = css_urls.length + js_urls.length;\n",
              "\n",
              "    function on_load() {\n",
              "      root._bokeh_is_loading--;\n",
              "      if (root._bokeh_is_loading === 0) {\n",
              "        console.debug(\"Bokeh: all BokehJS libraries/stylesheets loaded\");\n",
              "        run_callbacks()\n",
              "      }\n",
              "    }\n",
              "\n",
              "    function on_error(url) {\n",
              "      console.error(\"failed to load \" + url);\n",
              "    }\n",
              "\n",
              "    for (let i = 0; i < css_urls.length; i++) {\n",
              "      const url = css_urls[i];\n",
              "      const element = document.createElement(\"link\");\n",
              "      element.onload = on_load;\n",
              "      element.onerror = on_error.bind(null, url);\n",
              "      element.rel = \"stylesheet\";\n",
              "      element.type = \"text/css\";\n",
              "      element.href = url;\n",
              "      console.debug(\"Bokeh: injecting link tag for BokehJS stylesheet: \", url);\n",
              "      document.body.appendChild(element);\n",
              "    }\n",
              "\n",
              "    for (let i = 0; i < js_urls.length; i++) {\n",
              "      const url = js_urls[i];\n",
              "      const element = document.createElement('script');\n",
              "      element.onload = on_load;\n",
              "      element.onerror = on_error.bind(null, url);\n",
              "      element.async = false;\n",
              "      element.src = url;\n",
              "      console.debug(\"Bokeh: injecting script tag for BokehJS library: \", url);\n",
              "      document.head.appendChild(element);\n",
              "    }\n",
              "  };\n",
              "\n",
              "  function inject_raw_css(css) {\n",
              "    const element = document.createElement(\"style\");\n",
              "    element.appendChild(document.createTextNode(css));\n",
              "    document.body.appendChild(element);\n",
              "  }\n",
              "\n",
              "  const js_urls = [\"https://cdn.bokeh.org/bokeh/release/bokeh-3.3.0.min.js\", \"https://cdn.bokeh.org/bokeh/release/bokeh-gl-3.3.0.min.js\", \"https://cdn.bokeh.org/bokeh/release/bokeh-widgets-3.3.0.min.js\", \"https://cdn.bokeh.org/bokeh/release/bokeh-tables-3.3.0.min.js\", \"https://cdn.bokeh.org/bokeh/release/bokeh-mathjax-3.3.0.min.js\"];\n",
              "  const css_urls = [];\n",
              "\n",
              "  const inline_js = [    function(Bokeh) {\n",
              "      Bokeh.set_log_level(\"info\");\n",
              "    },\n",
              "function(Bokeh) {\n",
              "    }\n",
              "  ];\n",
              "\n",
              "  function run_inline_js() {\n",
              "    if (root.Bokeh !== undefined || force === true) {\n",
              "          for (let i = 0; i < inline_js.length; i++) {\n",
              "      inline_js[i].call(root, root.Bokeh);\n",
              "    }\n",
              "} else if (Date.now() < root._bokeh_timeout) {\n",
              "      setTimeout(run_inline_js, 100);\n",
              "    } else if (!root._bokeh_failed_load) {\n",
              "      console.log(\"Bokeh: BokehJS failed to load within specified timeout.\");\n",
              "      root._bokeh_failed_load = true;\n",
              "    } else if (force !== true) {\n",
              "      const cell = $(document.getElementById(null)).parents('.cell').data().cell;\n",
              "      cell.output_area.append_execute_result(NB_LOAD_WARNING)\n",
              "    }\n",
              "  }\n",
              "\n",
              "  if (root._bokeh_is_loading === 0) {\n",
              "    console.debug(\"Bokeh: BokehJS loaded, going straight to plotting\");\n",
              "    run_inline_js();\n",
              "  } else {\n",
              "    load_libs(css_urls, js_urls, function() {\n",
              "      console.debug(\"Bokeh: BokehJS plotting callback run at\", now());\n",
              "      run_inline_js();\n",
              "    });\n",
              "  }\n",
              "}(window));"
            ],
            "application/vnd.bokehjs_load.v0+json": "(function(root) {\n  function now() {\n    return new Date();\n  }\n\n  const force = true;\n\n  if (typeof root._bokeh_onload_callbacks === \"undefined\" || force === true) {\n    root._bokeh_onload_callbacks = [];\n    root._bokeh_is_loading = undefined;\n  }\n\n\n  if (typeof (root._bokeh_timeout) === \"undefined\" || force === true) {\n    root._bokeh_timeout = Date.now() + 5000;\n    root._bokeh_failed_load = false;\n  }\n\n  const NB_LOAD_WARNING = {'data': {'text/html':\n     \"<div style='background-color: #fdd'>\\n\"+\n     \"<p>\\n\"+\n     \"BokehJS does not appear to have successfully loaded. If loading BokehJS from CDN, this \\n\"+\n     \"may be due to a slow or bad network connection. Possible fixes:\\n\"+\n     \"</p>\\n\"+\n     \"<ul>\\n\"+\n     \"<li>re-rerun `output_notebook()` to attempt to load from CDN again, or</li>\\n\"+\n     \"<li>use INLINE resources instead, as so:</li>\\n\"+\n     \"</ul>\\n\"+\n     \"<code>\\n\"+\n     \"from bokeh.resources import INLINE\\n\"+\n     \"output_notebook(resources=INLINE)\\n\"+\n     \"</code>\\n\"+\n     \"</div>\"}};\n\n  function display_loaded() {\n    const el = document.getElementById(null);\n    if (el != null) {\n      el.textContent = \"BokehJS is loading...\";\n    }\n    if (root.Bokeh !== undefined) {\n      if (el != null) {\n        el.textContent = \"BokehJS \" + root.Bokeh.version + \" successfully loaded.\";\n      }\n    } else if (Date.now() < root._bokeh_timeout) {\n      setTimeout(display_loaded, 100)\n    }\n  }\n\n  function run_callbacks() {\n    try {\n      root._bokeh_onload_callbacks.forEach(function(callback) {\n        if (callback != null)\n          callback();\n      });\n    } finally {\n      delete root._bokeh_onload_callbacks\n    }\n    console.debug(\"Bokeh: all callbacks have finished\");\n  }\n\n  function load_libs(css_urls, js_urls, callback) {\n    if (css_urls == null) css_urls = [];\n    if (js_urls == null) js_urls = [];\n\n    root._bokeh_onload_callbacks.push(callback);\n    if (root._bokeh_is_loading > 0) {\n      console.debug(\"Bokeh: BokehJS is being loaded, scheduling callback at\", now());\n      return null;\n    }\n    if (js_urls == null || js_urls.length === 0) {\n      run_callbacks();\n      return null;\n    }\n    console.debug(\"Bokeh: BokehJS not loaded, scheduling load and callback at\", now());\n    root._bokeh_is_loading = css_urls.length + js_urls.length;\n\n    function on_load() {\n      root._bokeh_is_loading--;\n      if (root._bokeh_is_loading === 0) {\n        console.debug(\"Bokeh: all BokehJS libraries/stylesheets loaded\");\n        run_callbacks()\n      }\n    }\n\n    function on_error(url) {\n      console.error(\"failed to load \" + url);\n    }\n\n    for (let i = 0; i < css_urls.length; i++) {\n      const url = css_urls[i];\n      const element = document.createElement(\"link\");\n      element.onload = on_load;\n      element.onerror = on_error.bind(null, url);\n      element.rel = \"stylesheet\";\n      element.type = \"text/css\";\n      element.href = url;\n      console.debug(\"Bokeh: injecting link tag for BokehJS stylesheet: \", url);\n      document.body.appendChild(element);\n    }\n\n    for (let i = 0; i < js_urls.length; i++) {\n      const url = js_urls[i];\n      const element = document.createElement('script');\n      element.onload = on_load;\n      element.onerror = on_error.bind(null, url);\n      element.async = false;\n      element.src = url;\n      console.debug(\"Bokeh: injecting script tag for BokehJS library: \", url);\n      document.head.appendChild(element);\n    }\n  };\n\n  function inject_raw_css(css) {\n    const element = document.createElement(\"style\");\n    element.appendChild(document.createTextNode(css));\n    document.body.appendChild(element);\n  }\n\n  const js_urls = [\"https://cdn.bokeh.org/bokeh/release/bokeh-3.3.0.min.js\", \"https://cdn.bokeh.org/bokeh/release/bokeh-gl-3.3.0.min.js\", \"https://cdn.bokeh.org/bokeh/release/bokeh-widgets-3.3.0.min.js\", \"https://cdn.bokeh.org/bokeh/release/bokeh-tables-3.3.0.min.js\", \"https://cdn.bokeh.org/bokeh/release/bokeh-mathjax-3.3.0.min.js\"];\n  const css_urls = [];\n\n  const inline_js = [    function(Bokeh) {\n      Bokeh.set_log_level(\"info\");\n    },\nfunction(Bokeh) {\n    }\n  ];\n\n  function run_inline_js() {\n    if (root.Bokeh !== undefined || force === true) {\n          for (let i = 0; i < inline_js.length; i++) {\n      inline_js[i].call(root, root.Bokeh);\n    }\n} else if (Date.now() < root._bokeh_timeout) {\n      setTimeout(run_inline_js, 100);\n    } else if (!root._bokeh_failed_load) {\n      console.log(\"Bokeh: BokehJS failed to load within specified timeout.\");\n      root._bokeh_failed_load = true;\n    } else if (force !== true) {\n      const cell = $(document.getElementById(null)).parents('.cell').data().cell;\n      cell.output_area.append_execute_result(NB_LOAD_WARNING)\n    }\n  }\n\n  if (root._bokeh_is_loading === 0) {\n    console.debug(\"Bokeh: BokehJS loaded, going straight to plotting\");\n    run_inline_js();\n  } else {\n    load_libs(css_urls, js_urls, function() {\n      console.debug(\"Bokeh: BokehJS plotting callback run at\", now());\n      run_inline_js();\n    });\n  }\n}(window));"
          },
          "metadata": {}
        },
        {
          "output_type": "display_data",
          "data": {
            "text/html": [
              "\n",
              "  <div id=\"a547de4f-01ac-46b8-91d7-312cbe896e59\" data-root-id=\"p1918\" style=\"display: contents;\"></div>\n"
            ]
          },
          "metadata": {}
        },
        {
          "output_type": "display_data",
          "data": {
            "application/javascript": [
              "(function(root) {\n",
              "  function embed_document(root) {\n",
              "  const docs_json = {\"8861b85c-955c-4d5f-a546-86eab61eb560\":{\"version\":\"3.3.0\",\"title\":\"Bokeh Application\",\"roots\":[{\"type\":\"object\",\"name\":\"Figure\",\"id\":\"p1918\",\"attributes\":{\"height\":400,\"x_range\":{\"type\":\"object\",\"name\":\"DataRange1d\",\"id\":\"p1919\"},\"y_range\":{\"type\":\"object\",\"name\":\"DataRange1d\",\"id\":\"p1920\"},\"x_scale\":{\"type\":\"object\",\"name\":\"LinearScale\",\"id\":\"p1927\"},\"y_scale\":{\"type\":\"object\",\"name\":\"LinearScale\",\"id\":\"p1928\"},\"title\":{\"type\":\"object\",\"name\":\"Title\",\"id\":\"p1925\"},\"renderers\":[{\"type\":\"object\",\"name\":\"GlyphRenderer\",\"id\":\"p1952\",\"attributes\":{\"data_source\":{\"type\":\"object\",\"name\":\"ColumnDataSource\",\"id\":\"p1915\",\"attributes\":{\"selected\":{\"type\":\"object\",\"name\":\"Selection\",\"id\":\"p1916\",\"attributes\":{\"indices\":[],\"line_indices\":[]}},\"selection_policy\":{\"type\":\"object\",\"name\":\"UnionRenderers\",\"id\":\"p1917\"},\"data\":{\"type\":\"map\",\"entries\":[[\"x\",{\"type\":\"ndarray\",\"array\":{\"type\":\"bytes\",\"data\":\"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\"},\"shape\":[715],\"dtype\":\"float64\",\"order\":\"little\"}],[\"y\",{\"type\":\"ndarray\",\"array\":{\"type\":\"bytes\",\"data\":\"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\"},\"shape\":[715],\"dtype\":\"float64\",\"order\":\"little\"}],[\"color\",[\"blue\",\"blue\",\"blue\",\"blue\",\"blue\",\"blue\",\"blue\",\"blue\",\"blue\",\"blue\",\"blue\",\"blue\",\"blue\",\"blue\",\"blue\",\"blue\",\"blue\",\"blue\",\"blue\",\"blue\",\"blue\",\"blue\",\"blue\",\"blue\",\"blue\",\"blue\",\"blue\",\"blue\",\"blue\",\"blue\",\"blue\",\"blue\",\"blue\",\"blue\",\"blue\",\"blue\",\"blue\",\"blue\",\"blue\",\"blue\",\"blue\",\"blue\",\"blue\",\"blue\",\"blue\",\"blue\",\"blue\",\"blue\",\"blue\",\"blue\",\"blue\",\"blue\",\"blue\",\"blue\",\"blue\",\"blue\",\"blue\",\"blue\",\"blue\",\"blue\",\"blue\",\"blue\",\"blue\",\"blue\",\"blue\",\"blue\",\"blue\",\"blue\",\"blue\",\"blue\",\"blue\",\"blue\",\"blue\",\"blue\",\"blue\",\"blue\",\"blue\",\"blue\",\"blue\",\"blue\",\"blue\",\"blue\",\"blue\",\"blue\",\"blue\",\"blue\",\"blue\",\"blue\",\"blue\",\"blue\",\"blue\",\"blue\",\"blue\",\"blue\",\"blue\",\"blue\",\"blue\",\"blue\",\"blue\",\"blue\",\"blue\",\"blue\",\"blue\",\"blue\",\"blue\",\"blue\",\"blue\",\"blue\",\"blue\",\"blue\",\"blue\",\"blue\",\"blue\",\"blue\",\"blue\",\"blue\",\"blue\",\"blue\",\"blue\",\"blue\",\"blue\",\"blue\",\"blue\",\"blue\",\"blue\",\"blue\",\"blue\",\"blue\",\"blue\",\"blue\",\"blue\",\"blue\",\"blue\",\"blue\",\"blue\",\"blue\",\"blue\",\"blue\",\"blue\",\"blue\",\"blue\",\"blue\",\"blue\",\"blue\",\"blue\",\"blue\",\"blue\",\"blue\",\"blue\",\"blue\",\"blue\",\"blue\",\"blue\",\"blue\",\"blue\",\"blue\",\"blue\",\"blue\",\"blue\",\"blue\",\"blue\",\"blue\",\"blue\",\"blue\",\"blue\",\"blue\",\"blue\",\"blue\",\"blue\",\"blue\",\"blue\",\"blue\",\"blue\",\"blue\",\"blue\",\"blue\",\"blue\",\"blue\",\"blue\",\"blue\",\"blue\",\"blue\",\"blue\",\"blue\",\"blue\",\"blue\",\"blue\",\"blue\",\"blue\",\"blue\",\"blue\",\"blue\",\"blue\",\"blue\",\"blue\",\"blue\",\"blue\",\"blue\",\"blue\",\"blue\",\"blue\",\"blue\",\"blue\",\"blue\",\"blue\",\"blue\",\"blue\",\"blue\",\"blue\",\"blue\",\"blue\",\"blue\",\"blue\",\"blue\",\"blue\",\"blue\",\"blue\",\"blue\",\"blue\",\"blue\",\"blue\",\"blue\",\"blue\",\"blue\",\"blue\",\"blue\",\"blue\",\"blue\",\"blue\",\"blue\",\"blue\",\"blue\",\"blue\",\"blue\",\"blue\",\"blue\",\"blue\",\"blue\",\"blue\",\"blue\",\"blue\",\"blue\",\"blue\",\"blue\",\"blue\",\"blue\",\"blue\",\"blue\",\"blue\",\"blue\",\"blue\",\"blue\",\"blue\",\"blue\",\"blue\",\"blue\",\"blue\",\"blue\",\"blue\",\"blue\",\"blue\",\"blue\",\"blue\",\"blue\",\"blue\",\"blue\",\"blue\",\"blue\",\"blue\",\"blue\",\"blue\",\"blue\",\"blue\",\"blue\",\"blue\",\"blue\",\"blue\",\"blue\",\"blue\",\"blue\",\"blue\",\"blue\",\"blue\",\"blue\",\"blue\",\"blue\",\"blue\",\"blue\",\"blue\",\"blue\",\"blue\",\"blue\",\"blue\",\"blue\",\"blue\",\"blue\",\"blue\",\"blue\",\"blue\",\"blue\",\"blue\",\"blue\",\"blue\",\"blue\",\"blue\",\"blue\",\"blue\",\"blue\",\"blue\",\"blue\",\"blue\",\"blue\",\"blue\",\"blue\",\"blue\",\"blue\",\"blue\",\"blue\",\"blue\",\"blue\",\"blue\",\"blue\",\"blue\",\"blue\",\"blue\",\"blue\",\"blue\",\"blue\",\"blue\",\"blue\",\"blue\",\"blue\",\"blue\",\"blue\",\"blue\",\"blue\",\"blue\",\"blue\",\"blue\",\"blue\",\"blue\",\"blue\",\"blue\",\"blue\",\"blue\",\"blue\",\"blue\",\"blue\",\"blue\",\"blue\",\"blue\",\"blue\",\"blue\",\"blue\",\"blue\",\"blue\",\"blue\",\"blue\",\"blue\",\"blue\",\"blue\",\"blue\",\"blue\",\"blue\",\"blue\",\"blue\",\"blue\",\"blue\",\"blue\",\"blue\",\"blue\",\"blue\",\"blue\",\"blue\",\"blue\",\"blue\",\"blue\",\"blue\",\"blue\",\"blue\",\"blue\",\"blue\",\"blue\",\"blue\",\"blue\",\"blue\",\"blue\",\"blue\",\"blue\",\"blue\",\"blue\",\"blue\",\"blue\",\"blue\",\"blue\",\"blue\",\"blue\",\"blue\",\"blue\",\"blue\",\"blue\",\"blue\",\"blue\",\"blue\",\"blue\",\"blue\",\"blue\",\"blue\",\"blue\",\"blue\",\"blue\",\"blue\",\"blue\",\"blue\",\"blue\",\"blue\",\"blue\",\"blue\",\"blue\",\"blue\",\"blue\",\"blue\",\"blue\",\"blue\",\"blue\",\"blue\",\"blue\",\"blue\",\"blue\",\"blue\",\"blue\",\"blue\",\"blue\",\"blue\",\"blue\",\"blue\",\"blue\",\"blue\",\"blue\",\"blue\",\"blue\",\"blue\",\"blue\",\"blue\",\"blue\",\"blue\",\"blue\",\"blue\",\"blue\",\"blue\",\"blue\",\"blue\",\"blue\",\"blue\",\"blue\",\"blue\",\"blue\",\"blue\",\"blue\",\"blue\",\"blue\",\"blue\",\"blue\",\"blue\",\"blue\",\"blue\",\"blue\",\"blue\",\"blue\",\"blue\",\"blue\",\"blue\",\"blue\",\"blue\",\"blue\",\"blue\",\"blue\",\"blue\",\"blue\",\"blue\",\"blue\",\"blue\",\"blue\",\"blue\",\"blue\",\"blue\",\"blue\",\"blue\",\"blue\",\"blue\",\"blue\",\"blue\",\"blue\",\"blue\",\"blue\",\"blue\",\"blue\",\"blue\",\"blue\",\"blue\",\"blue\",\"blue\",\"blue\",\"blue\",\"blue\",\"blue\",\"blue\",\"blue\",\"blue\",\"blue\",\"blue\",\"blue\",\"blue\",\"blue\",\"blue\",\"blue\",\"blue\",\"blue\",\"blue\",\"blue\",\"blue\",\"blue\",\"blue\",\"blue\",\"blue\",\"blue\",\"blue\",\"blue\",\"blue\",\"blue\",\"blue\",\"blue\",\"blue\",\"blue\",\"blue\",\"blue\",\"blue\",\"blue\",\"blue\",\"blue\",\"blue\",\"blue\",\"blue\",\"blue\",\"blue\",\"blue\",\"blue\",\"blue\",\"blue\",\"blue\",\"blue\",\"blue\",\"blue\",\"blue\",\"blue\",\"blue\",\"blue\",\"blue\",\"blue\",\"blue\",\"blue\",\"blue\",\"blue\",\"blue\",\"blue\",\"blue\",\"blue\",\"blue\",\"blue\",\"blue\",\"blue\",\"blue\",\"blue\",\"blue\",\"blue\",\"blue\",\"blue\",\"blue\",\"blue\",\"blue\",\"blue\",\"blue\",\"blue\",\"blue\",\"blue\",\"blue\",\"blue\",\"blue\",\"blue\",\"blue\",\"blue\",\"blue\",\"blue\",\"blue\",\"blue\",\"blue\",\"blue\",\"blue\",\"blue\",\"blue\",\"blue\",\"blue\",\"blue\",\"blue\",\"blue\",\"blue\",\"blue\",\"blue\",\"blue\",\"blue\",\"blue\",\"blue\",\"blue\",\"blue\",\"blue\",\"blue\",\"blue\",\"blue\",\"blue\",\"blue\",\"blue\",\"blue\",\"blue\",\"blue\",\"blue\",\"blue\",\"blue\",\"blue\",\"blue\",\"blue\",\"blue\",\"blue\",\"blue\",\"blue\",\"blue\",\"blue\",\"blue\",\"blue\",\"blue\",\"blue\",\"blue\",\"blue\",\"blue\",\"blue\",\"blue\",\"blue\",\"blue\",\"blue\",\"blue\",\"blue\",\"blue\",\"blue\",\"blue\",\"blue\",\"blue\",\"blue\",\"blue\",\"blue\",\"blue\",\"blue\",\"blue\",\"blue\",\"blue\",\"blue\",\"blue\",\"blue\",\"blue\",\"blue\",\"blue\",\"blue\",\"blue\",\"blue\",\"blue\",\"blue\",\"blue\",\"blue\",\"blue\",\"blue\",\"blue\",\"blue\",\"blue\",\"blue\",\"blue\",\"blue\",\"blue\",\"blue\",\"blue\",\"blue\",\"blue\",\"blue\",\"blue\",\"blue\",\"blue\",\"blue\",\"blue\",\"blue\",\"blue\",\"blue\",\"blue\",\"blue\",\"blue\",\"blue\",\"blue\",\"blue\",\"blue\",\"blue\",\"blue\",\"blue\",\"blue\",\"blue\",\"blue\",\"blue\",\"blue\",\"blue\",\"blue\"]],[\"token\",[\"\\u0434\\u043e\\u0431\\u0440\\u0435\\u043d\\u044c\\u043a\\u0438\\u0439\",\"\\u043f\\u043b\\u0430\\u0442\\u044c\\u0438\\u0448\\u043a\\u043e\",\"\\u0436\\u0435\\u043b\\u0430\\u043d\\u0438\\u0435\",\"\\u043b\\u044c\",\"\\u0441\\u043c\\u043e\\u0442\\u0440\\u0435\\u0442\\u044c\",\"\\u043d\\u0430\\u043a\\u043e\\u043d\\u0435\\u0446\",\"\\u0433\\u043e\\u0440\\u0435\\u043c\\u044b\\u0447\\u043d\\u044b\\u0439\",\"\\u043f\\u043e\\u0433\\u0440\\u043e\\u0437\\u0438\\u0442\\u044c\",\"\\u043a\\u0440\\u043e\\u0442\\u043a\\u0438\\u0439\",\"\\u043f\\u043b\\u0430\\u0442\\u0438\\u0442\\u044c\",\"\\u0447\\u0443\\u0434\\u043d\\u044b\\u0439\",\"\\u0432\\u043e\\u043b\\u043e\\u0441\",\"\\u0448\\u0430\\u043b\\u0443\\u043d\\u044c\\u044f\",\"\\u0437\\u043d\\u0430\\u0442\\u044c\",\"\\u043b\\u0438\\u0447\\u0438\\u043a\\u043e-\\u0442\\u043e\",\"\\u043e\\u043f\\u044b\\u0442\",\"\\u043f\\u043e\\u043f\\u0438\\u0441\\u0430\\u0442\\u044c\",\"\\u0441\\u0440\\u0430\\u0432\\u043d\\u0435\\u043d\\u0438\\u0435\",\"\\u043f\\u043e\\u043c\\u043e\\u0447\\u044c\",\"\\u043d\\u0430\\u0437\\u0430\\u0434\",\"\\u043a\\u0430\\u0437\\u0430\\u0442\\u044c\\u0441\\u044f\",\"\\u043f\\u043e\\u0441\\u0440\\u0435\\u0434\\u0438\\u043d\\u0435\",\"\\u0441\\u0430\\u043f\\u043e\\u0436\\u0438\\u0448\\u043a\\u0438\",\"\\u043a\\u0440\\u044b\\u043b\\u043e\",\"\\u043b\\u0438\\u0441\\u0442\",\"\\u0431\\u0443\\u0434\\u0443\\u0449\\u0435\\u0435\",\"\\u043d\\u043e\",\"\\u0434\\u0440\\u044f\\u043d\\u044c\",\"\\u0442\\u0432\\u043e\\u0440\\u0435\\u0446\",\"\\u0432\\u044b-\\u0442\\u0430\\u043a\\u0438\",\"\\u0437\\u0430\\u0433\\u043d\\u0443\\u0442\\u044b\\u0439\",\"\\u043f\\u0440\\u0438\\u044f\\u0442\\u043d\\u043e\",\"\\u043f\\u043e\\u0442\\u043e\\u043c\",\"\\u0445\\u043e\\u0440\\u043e\\u0448\\u043e\",\"\\u0431\\u0435\\u0441\\u043f\\u043e\\u043a\\u043e\\u0438\\u0442\\u044c\",\"\\u0434\\u0430\\u0442\\u044c\",\"\\u0441\\u043b\\u0430\\u0432\\u0430\",\"\\u043f\\u043e\\u0441\\u0441\\u043e\\u0440\\u0438\\u0442\\u044c\\u0441\\u044f\",\"\\u0442\\u0440\\u0435\\u0432\\u043e\\u043b\\u043d\\u0435\\u043d\\u0438\\u0435\",\"\\u0442\\u043e\",\"\\u0441\\u0435\\u0440\\u0435\\u043d\\u044c\\u043a\\u043e\",\"\\u0442\\u0432\\u0451\\u0440\\u0434\\u044b\\u0439\",\"\\u0442\\u0440\\u0438\\u0434\\u0446\\u0430\\u0442\\u044c\",\"\\u0433\\u043e\\u0434\",\"\\u043a\\u0440\\u0438\\u043a\",\"\\u0441\\u0430\\u0445\\u0430\\u0440\",\"\\u043f\\u043e\\u043b\",\"\\u043d\\u0443\",\"\\u043f\\u0440\\u043e\\u0441\\u044b\\u043f\\u0430\\u0442\\u044c\\u0441\\u044f\",\"\\u0438\\u0434\\u0442\\u0438\",\"\\u0430\\u0441\\u0441\\u0438\\u0433\\u043d\\u0430\\u0446\\u0438\\u044f\",\"\\u0441\\u0447\\u0430\\u0441\\u0442\\u043b\\u0438\\u0432\\u044b\\u0439\",\"\\u0440\\u0430\\u0441\\u043a\\u0440\\u0430\\u0441\\u043d\\u0435\\u0442\\u044c\\u0441\\u044f\",\"\\u043f\\u043e\\u0446\\u0435\\u043b\\u043e\\u0432\\u0430\\u0442\\u044c\",\"\\u0447\\u0442\\u043e-\\u0442\\u043e\",\"\\u043f\\u0440\\u043e\\u0436\\u0438\\u0442\\u044c\",\"\\u043f\\u0440\\u0435\\u043c\\u0438\\u043b\\u043e\",\"\\u0441\\u043e\\u0432\\u0435\\u0441\\u0442\\u043d\\u043e\",\"\\u0434\\u043e\\u0432\\u043e\\u043b\\u044c\\u043d\\u044b\\u0439\",\"\\u043b\\u0438\\u0442\\u0435\\u0440\\u0430\\u0442\\u0443\\u0440\\u043d\\u044b\\u0439\",\"\\u0437\\u0430\\u043f\\u0440\\u044b\\u0433\\u0430\\u0442\\u044c\",\"\\u043b\\u0435\\u0442\\u0435\\u0442\\u044c\",\"\\u0434\\u0440\\u0443\\u0433\\u043e\\u0439\",\"\\u0438\",\"\\u0440\\u043e\\u0437\\u043e\\u0432\\u044b\\u0439\",\"\\u0447\\u0430\\u0441\\u043e\\u0447\\u0435\\u043a-\\u0434\\u0440\\u0443\\u0433\\u043e\\u0439\",\"\\u043d\\u0430\\u0440\\u043e\\u0434\",\"\\u043f\\u0435\\u0440\\u0435\\u0441\\u0442\\u0430\\u0432\\u043b\\u044f\\u0442\\u044c\",\"\\u0440\\u0430\\u0434\\u0438\",\"\\u043f\\u043e\\u0441\\u043b\\u0435\",\"\\u0432\\u0441\\u0435\\u044f\\u0442\\u044c\",\"\\u0433\\u043e\\u0441\\u043f\\u043e\\u0434\\u044c\",\"\\u0441\\u043b\\u0430\\u0431\\u0435\\u0442\\u044c\",\"\\u0441\\u0432\\u044f\\u0442\\u043e\\u0439\",\"\\u0432\\u0438\\u0434\\u0435\\u0442\\u044c\",\"\\u0432\\u044b\\u0440\\u044b\\u0432\\u0430\\u0442\\u044c\",\"\\u0447\\u0438\\u0440\\u0438\\u043a\\u0430\\u0442\\u044c\",\"\\u0448\\u0443\\u043c\",\"\\u043a\\u0430\\u0440\\u0442\\u0430\",\"\\u043e\\u0434\\u0438\\u043d\\u043e\\u0447\\u0435\\u0441\\u0442\\u0432\\u043e\",\"\\u0441\\u043b\\u043e\\u0432\\u043e\",\"\\u0441\\u0442\\u043e\\u0438\\u0442\\u044c\",\"\\u0432\\u043e\\u0440\\u0447\\u043b\\u0438\\u0432\\u044b\\u0439\",\"\\u0432\\u043e\\u043f\\u0440\\u0435\\u043a\\u0438\",\"\\u0447\\u0442\\u043e-\\u0447\\u0442\\u043e\",\"\\u0443\\u0435\\u0434\\u0438\\u043d\\u0435\\u043d\\u0438\\u0435\",\"\\u0437\\u0430\",\"\\u043e\\u0434\\u043e\\u0435\\u0432\\u0441\\u043a\\u0438\\u0439\",\"\\u043e\\u0436\\u0438\\u0434\\u0430\\u043d\\u0438\\u0435\",\"\\u0433\\u043e\\u0440\\u0430\",\"\\u0438\\u0437\\u0432\\u0435\\u0441\\u0442\\u043d\\u044b\\u0439\",\"\\u043d\\u0438\\u0437\\u043a\\u0438\\u0439\",\"\\u0441\\u043a\\u0440\\u044b\\u0442\\u044c\",\"\\u043e\\u0431\\u0440\\u0430\\u0437\\u043e\\u0432\\u0430\\u0442\\u044c\",\"\\u043f\\u043e\\u043b\\u0430\\u0437\\u043e\\u0440\\u0435\\u0432\\u0435\\u0442\\u044c\",\"\\u0442\\u0443\\u0444\\u043b\\u044f\",\"\\u0434\\u0435\\u043b\\u0430\\u0442\\u044c\",\"\\u0441\\u043b\\u043e\\u0432\\u0435\\u0447\\u043a\\u043e\",\"\\u0441\\u0435\\u0440\\u0434\\u0447\\u0438\\u0448\\u043a\\u043e\",\"\\u0440\\u0430\\u0439\",\"\\u043c\\u0443\\u0445\\u0430\",\"\\u0434\\u0435\\u043d\\u0435\\u0436\\u043a\\u0430\",\"\\u0432\\u0438\\u0434\\u043d\\u044b\\u0439\",\"\\u0443\\u043a\\u0440\\u0430\\u0448\\u0435\\u043d\\u0438\\u0435\",\"\\u043c\\u044b\\u0441\\u043b\\u044c\",\"\\u0441\\u0432\\u043e\\u0431\\u043e\\u0434\\u043d\\u044b\\u0439\",\"\\u0442\\u044f\\u0436\\u0435\\u043b\\u043e\",\"\\u0437\\u0430\\u0432\\u0438\\u0434\\u043e\\u0432\\u0430\\u0442\\u044c\",\"\\u0443\\u043f\\u0440\\u044f\\u043c\\u0438\\u0446\\u0430\",\"\\u0447\\u0438\\u0442\\u0430\\u0435\\u0448\\u044c\\u2026\",\"\\u043f\\u043e\\u043c\\u0435\\u0447\\u0442\\u0430\\u0442\\u044c\",\"\\u0442\\u0435\\u0440\\u0435\\u0437\\u0430\",\"\\u0441\\u043e\\u0432\\u0435\\u0440\\u0448\\u0435\\u043d\\u043d\\u043e\",\"\\u0433\\u043e\\u0440\\u0430\\u0437\\u0434\\u043e\",\"\\u0432\\u044b\\u0433\\u0430\\u0434\\u044b\\u0432\\u0430\\u0442\\u044c\\u0441\\u044f\",\"\\u043f\\u043e\\u0434\\u043b\\u0438\\u043d\\u043d\\u043e\",\"\\u0441\\u0442\\u043e\\u044f\\u0442\\u044c\",\"\\u0442\\u043e\\u043b\\u044c\\u043a\\u043e\",\"\\u0437\\u0430\\u0439\\u0442\\u0438\",\"\\u043d\\u0430\\u043f\\u0438\\u0441\\u0430\\u0442\\u044c\",\"\\u0442\\u0443\\u0442\",\"\\u0432\\u043e\\u0434\\u0438\\u0442\\u044c\\u0441\\u044f\",\"\\u0434\\u043e\\u043b\\u0436\\u043d\\u044b\\u0439\",\"\\u0441\\u0445\\u043e\\u0434\\u0438\\u0442\\u044c\",\"\\u0447\\u0442\\u043e\\u0431\\u044b\",\"\\u0441\\u0430\\u043c-\\u0442\\u043e\",\"\\u0437\\u0434\\u043e\\u0440\\u043e\\u0432\\u044b\\u0439\",\"\\u044d\\u0442\\u043e\",\"\\u0443\\u0436\\u0435\",\"\\u043a\\u0430\\u043a\\u043e\\u0439-\\u043d\\u0438\\u0431\\u0443\\u0434\\u044c\",\"\\u043f\\u043e\\u043b\\u043e\\u0436\\u0438\\u0442\\u044c\",\"\\u0431\\u043b\\u0438\\u0437\\u043a\\u043e\",\"\\u0441\\u0442\\u0440\\u0430\\u0448\\u043d\\u043e\",\"\\u043c\\u044b\",\"\\u043f\\u0435\\u0440\\u043e\",\"\\u043f\\u0435\\u0433\\u0430\\u0441-\\u0442\\u043e\",\"\\u0432\\u0441\\u043f\\u043e\\u043c\\u0438\\u043d\\u0430\\u0442\\u044c\",\"\\u0432\",\"\\u043f\\u043b\\u0430\\u043a\\u0430\\u0442\\u044c\\u0441\\u044f\",\"\\u043c\\u0430\\u043b\\u0435\\u043d\\u044c\\u043a\\u0438\\u0439\",\"\\u043f\\u0435\\u0440\\u0435\\u0434\\u0430\\u0432\\u0430\\u0442\\u044c\\u0441\\u044f-\\u0442\\u043e\",\"\\u0436\\u0438\\u0442\\u0438\\u0435-\\u0431\\u044b\\u0442\\u0438\\u0435\",\"\\u0430\\u043d\\u0433\\u043b\\u0438\\u0447\\u0430\\u043d\\u0438\\u043d-\\u0443\\u0447\\u0438\\u0442\\u0435\\u043b\\u044c\",\"\\u0440\\u044f\\u0431\\u0438\\u0442\\u044c\",\"\\u0445\\u043e\\u0440\\u043e\\u0448\\u0435\\u043d\\u044c\\u043a\\u0438\\u0439\",\"\\u0443\\u0442\\u0440\\u043e\",\"..\",\"\\u043e\\u0442\\u043a\\u0430\\u0437\\u044b\\u0432\\u0430\\u0442\\u044c\",\"\\u0441\\u0442\\u044b\\u0434\\u043d\\u043e\",\"\\u043c\\u0435\\u0447\\u0442\\u0430\\u043d\\u0438\\u0435\",\"\\u043a\\u043e\\u043c\\u043e\\u0434\",\"\\u0441\\u043e\\u0431\\u043b\\u0430\\u0437\\u043d\\u0438\\u0442\\u044c\",\"\\u043d\\u0438\",\"\\u0434\\u043e\",\"\\u043d\\u043e\\u0447\\u044c\",\"\\u0441\\u0442\\u0430\\u0440\\u0438\\u043a\",\"\\u043f\\u0430\\u043b\\u044c\\u0447\\u0438\\u043a\",\"\\u0432\\u044b\",\"\\u0437\\u0430\\u0431\\u043e\\u0442\\u0430\",\"\\u0445\\u0430\\u0440\\u0430\\u043a\\u0442\\u0435\\u0440\",\"\\u0434\\u0443\\u043c\\u0430\\u0442\\u044c\",\"\\u0437\\u0430\\u0446\\u0435\\u043f\\u0438\\u0442\\u044c\\u0441\\u044f\",\"\\u0437\\u0435\\u043c\\u043b\\u044f\",\"\\u0438\\u0437\\u043d\\u044b\\u0442\\u044c\",\"\\u0441\\u0432\\u0435\\u0440\\u0445\\u0448\\u0442\\u0430\\u0442\\u043d\\u044b\\u0439\",\"\\u0431\\u044b\",\"\\u0434\\u0435\\u0448\\u0451\\u0432\\u044b\\u0439\",\"\\u0440\\u0430\\u0441\\u0441\\u0447\\u0438\\u0442\\u044b\\u0432\\u0430\\u0442\\u044c\",\"\\u0434\\u043e\\u0432\\u043e\\u043b\\u044c\\u043d\\u043e\",\"\\u043f\\u043e\\u0445\\u043e\\u0436\\u0435\",\"\\u0441\\u043a\\u0430\\u0437\\u043e\\u0447\\u043d\\u0438\\u043a\",\"\\u0442\\u0440\\u0443\\u0449\\u043e\\u0431\\u0430\",\"\\u0437\\u0430\\u0431\\u043e\\u0442\\u0438\\u0442\\u044c\\u0441\\u044f\",\"\\u043e\\u0434\\u043d\\u0430\\u043a\\u043e\",\"\\u0432\\u043e\\u0437\\u0434\\u0430\\u0442\\u044c\",\"\\u043c\\u043d\\u043e\\u0433\\u043e\\u0435\",\"\\u0441\\u043f\\u0440\\u0430\\u0448\\u0438\\u0432\\u0430\\u0442\\u044c\",\"\\u0437\\u0430\\u0441\\u0442\\u0430\\u0432\\u0438\\u0442\\u044c\",\"\\u043e\\u0436\\u0438\\u0432\\u043b\\u044f\\u0442\\u044c\\u0441\\u044f\",\"\\u0431\\u044b\\u0432\\u0430\\u0442\\u044c\",\"\\u0443\\u0434\\u043e\\u0431\\u0441\\u0442\\u0432\\u043e-\\u0442\\u043e\",\"\\u043f\\u0440\\u0430\\u0432\\u0434\\u0430\",\"\\u0441\\u0442\\u0438\\u0448\\u043e\\u043a\",\"\\u0431\\u0435\\u0437\\u043c\\u044f\\u0442\\u0435\\u0436\\u043d\\u044b\\u0439\",\"\\u0441\\u0432\\u043e\\u0439\",\"\\u043a\\u0440\\u0443\\u0433\\u043e\\u043c\",\"\\u043b\\u0435\\u0432\\u044b\\u0439\",\"\\u043a\\u0430\\u043a-\\u0442\\u043e\",\"\\u043e\\u0442\\u0432\\u0435\\u0447\\u0430\\u0442\\u044c\",\"\\u0441\\u043f\\u043b\\u043e\\u0448\\u044c\",\"\\u0434\\u043e\\u043b\\u044f\",\"\\u043f\\u043e\\u0440\\u0445\\u043d\\u0443\\u0442\\u044c\",\"\\u043f\\u0430\\u0440\\u043e\\u0447\\u043a\\u0430\",\"\\u0441\\u043a\\u0443\\u0448\\u0430\\u0442\\u044c\",\"\\u0433\\u0440\\u0443\\u0441\\u0442\\u0438\\u0442\\u044c\",\"\\u0432\\u044b\\u0439\\u0442\\u0438-\\u0442\\u043e\",\"\\u0434\\u0430\\u0432\\u043d\\u043e\",\"\\u0432\\u0447\\u0435\\u0440\\u0430\",\"\\u0440\\u0430\\u0431\\u043e\\u0442\\u0430\",\"\\u043a\\u0443\\u0434\\u0430\",\"\\u043b\\u044e\\u0431-\\u0432\\u0435\\u0441\\u0451\\u043b\\u044b\\u0439\",\"\\u0441\\u0443\\u0434\\u044c\\u0431\\u0430\",\"\\u0437\\u0430\\u043d\\u0430\\u0432\\u0435\\u0441\\u043a\\u0430\",\"\\u0442\\u0440\\u0430\\u0442\\u0438\\u0442\\u044c\",\"\\u043f\\u0440\\u0438\\u043c\\u0435\\u0440\",\"\\u043d\\u0435\\u0442\",\"\\u043a\\u043e\\u0442\\u043e\\u0440\\u044b\\u0439\",\"\\u043d\\u0438\\u043a\\u043e\\u0433\\u0434\\u0430\",\"\\u0432\\u0435\\u0440\\u043d\\u043e\",\"\\u0441\\u0442\\u0430\\u0440\\u0443\\u0448\\u043e\\u043d\\u043a\\u0430\",\"\\u0434\\u0432\\u0430\\u0434\\u0446\\u0430\\u0442\\u044c\",\"\\u0441\\u043a\\u0443\\u0447\\u043d\\u043e\",\"\\u0434\\u0430\\u0436\\u0435\",\"\\u0442\\u043e\\u0442\",\"\\u043f\\u0440\\u0438\\u0434\\u0443\\u043c\\u043e\\u0447\\u043a\\u0430-\\u0442\\u043e\",\"\\u0432\\u0435\\u0434\\u044c\",\"\\u043b\\u0438\\u0448\\u0430\\u0442\\u044c\\u0441\\u044f\",\"\\u043e\\u0442\\u0434\\u0430\\u043b\\u0438\\u0442\\u044c\",\"\\u044f-\\u0442\\u043e\",\"\\u0441\\u043a\\u043e\\u043b\\u044c\\u043a\\u043e-\\u043d\\u0438\\u0431\\u0443\\u0434\\u044c\",\"\\u0442\\u0430\\u043a\\u043e\\u0439\",\"\\u0430\\u043d\\u0433\\u0435\\u043b\\u044c\\u0447\\u0438\\u043a\",\"\\u043a\\u043e\\u043d\\u0444\\u0435\\u0442\\u0430\",\"\\u043f\\u0440\\u0435\\u0442\\u0435\\u043d\\u0437\\u0438\\u044f\",\"\\u0442\\u043e\\u0433\\u0434\\u0430\",\"\\u0432\\u043e\\u0432\\u0441\\u0435\",\"\\u0434\\u043e\\u0441\\u0442\\u0430\\u0442\\u044c\",\"\\u043d\\u0443\\u043c\\u0435\\u0440\\u0430\",\"\\u043d\\u0443\\u043c\\u0435\\u0440\\u0435\\u0442\\u044c\",\"\\u0441\\u043e\\u043e\\u0442\\u0432\\u0435\\u0442\\u0441\\u0442\\u0432\\u0435\\u043d\\u043d\\u044b\\u0439\",\"\\u0447\\u0438\\u0441\\u0442\\u043e\",\"\\u043f\\u043e\\u0439\\u0442\\u0438\",\"\\u043f\\u043e\\u0434\\u044b\\u043c\\u0430\\u0442\\u044c\",\"\\u0433\\u043e\\u0440\\u0448\\u043e\\u043a\",\"\\u0432\\u0441\\u0435\\u0433\\u0434\\u0430\",\"\\u043f\\u043e\\u0441\\u043b\\u0430\\u0442\\u044c\",\"\\u043f\\u0440\\u043e\\u0441\\u0442\\u043e\",\"\\u0444.\",\"\\u0446\\u0435\\u043b\\u043e\\u0435\",\"\\u0445\\u0438\\u0442\\u0440\\u043e\",\"\\u0442.\",\"\\u043f\\u0440\\u0438\",\"\\u043e\\u0449\\u0443\\u0449\\u0435\\u043d\\u0438\\u0435\",\"\\u0447\\u0440\\u0435\\u0437\\u043c\\u0435\\u0440\\u043d\\u043e\",\"\\u0444\\u0451\\u0434\\u043e\\u0440\",\"\\u043a\\u0443\\u0445\\u043d\\u044f\",\"\\u0442\\u0440\\u0435\\u0431\\u043e\\u0432\\u0430\\u0442\\u044c\\u0441\\u044f\",\"\\u0449\\u0430\\u0434\\u0438\\u0442\\u044c\",\"\\u0437\\u0430\\u0433\\u043d\\u0443\\u0442\\u044c\",\"\\u043f\\u0440\\u0435\\u0436\\u0434\\u0435\",\"\\u0441\\u043c\\u0438\\u0440\\u043d\\u043e\",\"\\u043d\\u043e\\u0439\",\"\\u0436\\u0438\\u0437\\u043d\\u044c\",\"\\u043e\\u0442\\u043a\\u043b\\u0430\\u0434\\u044b\\u0432\\u0430\\u0442\\u044c\",\"\\u043f\\u0440\\u0438\\u0446\\u0435\\u043f\\u0438\\u0442\\u044c\",\"\\u0434\\u043b\\u044f\",\"\\u0432\\u0435\\u0441\\u0451\\u043b\\u0435\\u043d\\u044c\\u043a\\u0438\\u0439\",\"\\u0440\\u044f\\u0434\",\"\\u0434\\u0432\\u0435\\u0440\\u044c\",\"\\u0443\\u0447\\u0451\\u043d\\u044b\\u0439\",\"\\u043a\\u0430\\u0436\\u0434\\u044b\\u0439\",\"\\u0432\\u0437\\u0434\\u0443\\u043c\\u0430\\u0442\\u044c\\u0441\\u044f\",\"\\u043d\\u043e\\u0432\\u044b\\u0439\",\"\\u043f\\u0440\\u043e\\u0441\\u0442\\u0438\\u0440\\u0430\\u0442\\u044c\\u0441\\u044f\",\"\\u0434\\u043e\\u043b\\u0436\\u043d\\u043e\\u0441\\u0442\\u044c-\\u0442\\u043e\",\"\\u0431\\u044b\\u0442\\u044c\",\"\\u043d\\u0430\\u0448\",\"\\u0432\\u043e\\u0442\",\"\\u0432\\u0437\\u044f\\u0442\\u044c\",\"\\u0434\\u043e\\u0441\\u0442\\u0430\\u0442\\u043e\\u0447\\u043d\\u044b\\u0439\",\"\\u043e\\u0431\\u0440\\u0430\\u0434\\u043e\\u0432\\u0430\\u0442\\u044c\\u0441\\u044f\",\"\\u0432\\u044b\\u0433\\u0430\\u0434\\u0430\\u0442\\u044c\",\"\\u043f\\u043e\\u043f\\u043e\\u043b\\u0430\\u043c\",\"\\u0443\\u0441\\u043b\\u0430\\u0434\\u0438\\u0442\\u0435\\u043b\\u044c\\u043d\\u044b\\u0439\",\"\\u0437\\u043b\\u043e\\u0439\",\"\\u0447\\u0442\\u043e\\u0431\",\"\\u0430\\u043b\\u0435\\u043a\\u0441\\u0435\\u0435\\u0432\\u0438\\u0447\",\"\\u0447\\u0438\\u043d\\u043e\\u0432\\u043d\\u0438\\u043a\",\"\\u043f\\u043e\\u0441\\u0442\\u0430\\u0432\\u0438\\u0442\\u044c\",\"\\u0431\\u0430\\u043b\\u044c\\u0437\\u0430\\u043c\\u0438\\u043d\",\"\\u043f\\u0440\\u043e\",\"\\u0437\\u0430\\u0447\\u0435\\u043c\",\"\\u043f\\u0440\\u0438\\u0445\\u043e\\u0434\\u0438\\u0442\\u044c\",\"\\u0438\\u043c\\u0435\\u0442\\u044c\",\"\\u043f\\u0438\\u0441\\u044c\\u043c\\u043e\",\"\\u0438\\u0433\\u0440\\u0430\\u0442\\u044c\",\"\\u0441\\u043e\\u043c\\u043d\\u0435\\u0432\\u0430\\u0442\\u044c\\u0441\\u044f\",\"\\u043a\\u043e\\u043d\\u0435\\u0447\\u043d\\u043e\",\"\\u0442\\u043e\\u043d\",\"\\u0436\\u0430\\u043b\\u044c\",\"\\u0437\\u0430\\u043c\\u0435\\u0442\\u0438\\u0442\\u044c\",\"\\u0431\\u0443\\u0434\\u0443\\u0449\\u043d\\u043e\\u0441\\u0442\\u044c\",\"\\u0440\\u0430\\u0432\\u043d\\u043e\",\"\\u043f\\u043e\\u0441\\u043f\\u0430\\u0442\\u044c\",\"\\u043d\\u0435\\u0431\\u0435\\u0441\\u043d\\u044b\\u0439\",\"\\u043f\\u043e\\u043d\\u044f\\u0442\\u044c\",\"\\u043a\\u0430\\u043a\\u043e\\u0439\",\"\\u043f\\u043e\\u0434\\u0440\\u043e\\u0431\\u043d\\u043e\\u0441\\u0442\\u044c\",\"\\u0441\\u043e\\u0447\\u0438\\u043d\\u0438\\u0442\\u0435\\u043b\\u044c\",\"\\u0432\\u0430\\u0440\\u0435\\u043d\\u044c\\u043a\\u0430\",\"\\u0441\\u043b\\u044b\\u0448\\u043d\\u044b\\u0439\",\"\\u0434\\u043e\\u0431\\u0440\\u044b\\u0439\",\"\\u0432\\u0435\\u0441\\u043d\\u0430\",\"\\u043f\\u043e-\\u043f\\u0440\\u0435\\u0436\\u043d\\u0435\\u043c\\u0443\",\"\\u043e\\u0433\\u043e\\u043d\\u044c\",\"\\u043e\\u0445\",\"\\u0447\\u0438\\u0441\\u0442\\u044b\\u0439\",\"\\u0431\\u0435\\u0437\\u0437\\u0430\\u0431\\u043e\\u0442\\u043d\\u044b\\u0439\",\"\\u043a\\u0440\\u0438\\u0447\\u0430\\u0442\\u044c\",\"\\u0432.\",\"\\u043d\\u0430\\u043f\\u0440\\u0438\\u043c\\u0435\\u0440\",\"\\u043c\\u0438\\u043b\\u043e\\u0441\\u0442\\u0438\\u0432\\u044b\\u0439\",\"\\u0447\\u0438\\u043d\\u0438\\u0442\\u044c\",\"\\u0432\\u0435\\u0440\\u043d\\u044b\\u0439\",\"\\u0437\\u0430\\u0431\\u044b\\u0442\\u044c\",\"\\u043a\\u043e\\u043f\\u0438\\u0442\\u044c\",\"\\u043e\\u0434\\u0438\\u043d\",\"\\u0433\\u0435\\u0440\\u0430\\u043d\\u044c\\u043a\\u0430\",\"\\u0443\\u0434\\u043e\\u0431\\u043d\\u044b\\u0439\",\"\\u043d\\u0438\\u0447\\u0435\\u0433\\u043e\",\"\\u0437\\u0430\\u0434\\u0443\\u043c\\u044b\\u0432\\u0430\\u0442\\u044c\\u0441\\u044f\",\"\\u0440\\u0443\\u043a\\u0430\",\"\\u043d\\u0435\\u0438\\u0437\\u0432\\u0435\\u0441\\u0442\\u043d\\u043e\\u0441\\u0442\\u044c\",\"\\u043f\\u043e\\u043b\\u0435\\u0437\\u043d\\u044b\\u0439\",\"\\u043d\\u0435\",\"\\u0434\\u043e\\u043d\\u0435\\u043b\\u044c\\u0437\\u044f\",\"\\u043d\\u0435\\u0431\\u043e\",\"\\u0432\\u043e\\u0437\\u0434\\u0443\\u0445\",\"\\u0445\\u043e\\u0442\\u044f\",\"\\u043f\\u043e\\u043f\\u0435\\u0440\\u0435\\u0447\\u043d\\u044b\\u0439\",\"\\u043c\\u0438\\u0447\\u043c\\u0430\\u043d\",\"\\u0442\\u0438\\u0445\\u043e\\u043d\\u044c\\u043a\\u0438\\u0439\",\"\\u0443\\u0442\\u0435\\u0445\\u0430\",\"\\u043c\\u0438\\u0445\\u0430\\u0438\\u043b\\u043e\\u0432\\u0438\\u0447\",\"\\u0432\\u0438\\u043d\\u043e\\u0432\\u0430\\u0442\\u044b\\u0439\",\"\\u0432\\u043e\\u0441\\u0435\\u043c\\u044c\",\"\\u043e\\u0441\\u043c\\u043e\\u0442\\u0440\\u0435\\u0442\\u044c\\u0441\\u044f\",\"\\u0434\\u0435\\u043d\\u0451\\u043a\",\"\\u0446\\u0432\\u0435\\u0442\\u043e\\u043a\",\"\\u0431\\u0435\\u0434\\u043d\\u044b\\u0439\",\"\\u0441\\u043b\\u0435\\u0437\\u0430\",\"\\u043e\\u043f\\u044f\\u0442\\u044c\",\"s.\",\"\\u0434\\u044b\\u0448\\u0430\\u0442\\u044c\",\"\\u0434\\u043e\\u0441\\u0442\\u0430\\u0442\\u043e\\u0447\\u043d\\u043e\",\"\\u043f\\u043e\\u0434\\u0443\\u043c\\u0430\\u0442\\u044c\",\"\\u0443\",\"\\u0441\\u043e\\u0432\\u0441\\u0435\\u043c\",\"\\u0433\\u043b\\u0430\\u0437\",\"\\u0443\\u0434\\u043e\\u0431\\u0441\\u0442\\u0432\\u043e\",\"\\u0434\\u0435\\u043d\\u044c\",\"\\u0431\\u043e\\u0433\",\"\\u0441\\u0438\\u0434\\u0435\\u0442\\u044c\",\"\\u0434\\u043e\\u0440\\u043e\\u0433\\u043e\",\"\\u0432\\u0441\\u0442\\u0430\\u0442\\u044c\",\"\\u044f\\u0441\\u043d\\u044b\\u0439\",\"\\u0432\\u0435\\u0441\\u044c\",\"\\u0441\\u0430\\u043c\",\"\\u0441\\u043b\\u0435\\u0434\\u043e\\u0432\\u0430\\u0442\\u044c\",\"\\u043f\\u043e\\u043b\\u0442\\u0438\\u043d\\u0430\",\"\\u0433\\u043b\\u044f\\u0434\\u0435\\u0442\\u044c\",\"\\u0437\\u0430\\u043d\\u0435\\u0441\\u0442\\u0438\",\"\\u0435\\u0449\\u0451\",\"\\u0447\\u0451\\u0440\\u043d\\u044b\\u0439\",\"\\u043d\\u0435\\u0431\\u043e\\u043b\\u044c\\u0448\\u043e\\u0439\",\"\\u043e\\u043a\\u043e\\u043b\\u043e\",\"\\u0443\\u0433\\u043e\\u043b\",\"\\u0431\\u0435\\u0441\\u0441\\u043b\\u043e\\u0432\\u0435\\u0441\\u043d\\u044b\\u0439\",\"\\u043a\\u043e\\u0433\\u0434\\u0430\",\"\\u0441\\u0438\\u0435\",\"\\u043f\\u0443\\u0441\\u043a\\u0430\\u0442\\u044c\\u0441\\u044f\",\"\\u0447\\u0435\\u0442\\u044b\\u0440\\u0435\",\"\\u043b\\u043e\\u0432\\u043a\\u043e\",\"\\u0432\\u0442\\u0438\\u0445\\u043e\\u043c\\u043e\\u043b\\u043e\\u0447\\u043a\\u0443\",\"\\u043f\\u0440\\u043e\\u0449\\u0430\\u0442\\u044c\",\"\\u043f\\u043e\\u043f\\u0440\\u0430\\u0432\\u0438\\u0442\\u044c\\u0441\\u044f\",\"\\u0441\\u0443\\u0434\\u0438\\u0442\\u044c\",\"\\u043e\\u043d\\u0430\",\"\\u0437\\u0434\\u043e\\u0440\\u043e\\u0432\\u044c\\u0435\",\"\\u0440\\u0432\\u0430\\u0442\\u044c\\u0441\\u044f\",\"\\u043a\\u0432\\u0430\\u0440\\u0442\\u0438\\u0440\\u0430\",\"\\u0432\\u0434\\u043e\\u043b\\u044c\",\"\\u0433\\u043b\\u0443\\u043f\\u043e\",\"\\u0445\\u043e\\u0440\\u043e\\u0448\\u0438\\u0439\",\"\\u0430\\u043c\\u0443\\u0440\",\"\\u043e\\u0431\\u043d\\u0430\\u0440\\u0443\\u0436\\u0438\\u0432\\u0430\\u0442\\u044c\",\"\\u0433\\u043e\\u0440\\u0435\",\"\\u0438\\u043d\\u043e\\u0433\\u0434\\u0430\",\"\\u0441\\u0435\\u0439\\u0447\\u0430\\u0441\",\"\\u043f\\u0442\\u0438\\u0446\\u0430\",\"\\u043f\\u043e\\u0440\\u0430\\u0431\\u043e\\u0442\\u0430\\u0442\\u044c\",\"\\u0441\\u043f\\u0430\\u0441\\u0442\\u044c\",\"\\u0441\\u0432\\u0435\\u0442\\u043b\\u043e\",\"\\u043b\\u043e\\u0436\\u0438\\u0442\\u044c\\u0441\\u044f\",\"\\u0446\\u0432\\u0435\\u0442\",\"\\u0441\\u043a\\u043e\\u043b\\u044c\\u043a\\u043e\",\"\\u043f\\u043e\\u0441\\u0442\\u043e\\u044f\\u0442\\u044c\",\"\\u0440\\u0430\\u0441\\u0442\\u0432\\u043e\\u0440\\u0438\\u0442\\u044c\",\"\\u0434\\u0432\\u043e\\u0440\",\"\\u0441\\u043b\\u043e\\u0432\\u043d\\u043e\",\"\\u0432\\u0430\\u0448\",\"\\u0447\\u0430\\u0441\\u0442\\u044c\",\"\\u043f\\u0440\\u0438\\u0445\\u043e\\u0442\\u043b\\u0438\\u0432\\u044b\\u0439\",\"\\u043a\\u043d\",\"\\u0442\\u043e\\u0447\\u043d\\u043e\",\"\\u0431\\u0443\\u043c\\u0430\\u0433\\u0430\",\"\\u0442\\u0430\\u0438\\u043d\\u0441\\u0442\\u0432\\u0435\\u043d\\u043d\\u044b\\u0439\",\"\\u043f\\u0440\\u0438\\u043d\\u0438\\u043c\\u0430\\u0442\\u044c\",\"\\u0441\\u0430\\u0442\\u0438\\u0440\\u0438\\u0447\\u0435\\u0441\\u043a\\u0438\",\"\\u0431\\u043e\\u043b\\u044c\\u043d\\u043e\\u0439\",\"\\u043c\\u0438\\u043c\\u043e\\u0445\\u043e\\u0434\\u043e\\u043c\",\"\\u0431\\u044b\\u0432\\u0430\\u043b\\u043e\",\"\\u0434\\u0435\\u0432\\u0443\\u0448\\u043a\\u0438\\u043d\",\"\\u0433\\u043b\\u0443\\u0445\\u043e\\u0439\",\"\\u043e\\u0442\",\"\\u043f\\u043e\\u0440\\u0430\",\"\\u043f\\u043e\\u0441\\u043b\\u0443\\u0448\\u0430\\u0442\\u044c\\u0441\\u044f\",\"\\u043c\\u0435\\u043b\\u044c\\u043a\\u043d\\u0443\\u0442\\u044c\",\"\\u0443\\u0433\\u0430\\u0434\\u0430\\u0442\\u044c\",\"\\u0438\\u043b\\u0438\",\"\\u043f\\u043e\\u0434\\u0440\\u043e\\u0431\\u043d\\u043e\",\"\\u043f\\u044f\\u0442\\u044c\",\"\\u043f\\u043e\\u043a\\u0430\\u0437\\u0430\\u0442\\u044c\",\"\\u0433\\u043e\\u043b\\u043e\\u0432\\u0430\",\"\\u043d\\u0430\\u0433\\u0440\\u0430\\u0436\\u0434\\u0435\\u043d\\u0438\\u0435\",\"\\u043b\\u0435\\u0433\\u043a\\u043e\",\"\\u0433\\u043e\\u0441\\u0443\\u0434\\u0430\\u0440\\u044b\\u043d\\u044f\",\"\\u0442\\u0440\\u0438\",\"\\u0441\\u043f\\u0430\\u0442\\u044c\",\"\\u0438\\u0437\",\"\\u043f\\u0440\\u0438\\u043c\\u0435\\u0440\\u043d\\u043e\",\"\\u043c\\u043d\\u043e\\u0433\\u043e\",\"\\u0431\\u0435\\u0437\",\"\\u0431\\u043b\\u0430\\u0433\\u043e\\u0443\\u0445\\u0430\\u043d\\u0438\\u0435\",\"\\u043c\\u0430\\u043a\\u0430\\u0440\",\"\\u043a\",\"\\u0435\\u0437\\u0434\\u0438\\u0442\\u044c\",\"\\u043f\\u0435\\u0440\\u0435\\u0448\\u0438\\u0431\\u0438\\u0442\\u044c\",\"\\u0440\\u043e\\u0434\\u043d\\u044b\\u0439\",\"\\u043f\\u0442\\u0438\\u0447\\u043a\\u0430\",\"\\u0441\\u043b\\u0443\\u0436\\u0431\\u0430\",\"\\u0440\\u0430\\u0447\\u0438\\u0442\\u0435\\u043b\\u044c\\u043d\\u044b\\u0439\",\"\\u0443\\u0431\\u0435\\u0440\\u0435\\u0447\\u044c\",\"\\u0432\\u0440\\u0435\\u043c\\u044f\",\"p.\",\"\\u043f\\u043e\\u0440\\u044f\\u0434\\u043e\\u043a\",\"\\u0432\\u0441\\u044f\\u043a\\u0438\\u0439\",\"\\u0442\\u0451\\u043c\\u043d\\u044b\\u0439\",\"\\u0432\\u0435\\u0442\\u043e\\u0448\\u043a\\u0430\",\"\\u0434\\u043e\\u0441\\u0435\\u043b\\u0435\",\"\\u0440\\u0435\\u0432\\u043d\\u043e\\u0441\\u0442\\u044c\",\"\\u0441\\u0435\\u0440\\u0434\\u0438\\u0442\\u044c\\u0441\\u044f\",\"\\u0433\\u043e\\u0433\\u043e\\u043b\\u044c-\\u0449\\u0451\\u0433\\u043e\\u043b\\u044c\",\"\\u0443\\u0442\\u0440\\u043e\\u043c\",\"\\u0441\\u0447\\u0430\\u0441\\u0442\\u0438\\u0435\",\"\\u043d\\u0443\\u0436\\u043d\\u043e\",\"\\ufeff\\u0444\\u0435\\u0434\\u043e\\u0440\\u0430\",\"\\u0441\\u043c\\u0435\\u0440\\u043a\\u0430\\u0442\\u044c\\u0441\\u044f\",\"\\u0432\\u0435\\u0441\\u0435\\u043d\\u043d\\u0438\\u0439\",\"\\u043d\\u0435\\u043a\\u043e\\u0433\\u0434\\u0430\",\"\\u0434\\u0432\\u043e\\u0440-\\u0442\\u043e\",\"\\u0434\\u043e\\u0441\\u0430\\u0434\\u043d\\u044b\\u0439\",\"\\u0445\\u043e\\u0442\\u0435\\u0442\\u044c\\u0441\\u044f\",\"\\u043d\\u0435\\u0432\\u0437\\u043d\\u0430\\u0447\\u0430\\u0439\",\"\\u0443\\u043c\\u043d\\u044b\\u0439\",\"\\u043b\\u0430\\u0434\\u043d\\u044b\\u0439\",\"\\u043e\\u043f\\u0438\\u0441\\u0430\\u0442\\u044c\",\"\\u043f\\u0440\\u043e\\u0433\\u043b\\u044f\\u043d\\u0443\\u0442\\u044c\",\"\\u0441\\u0435\\u0440\\u0434\\u0446\\u0435\",\"\\u0441\\u0438\\u044f\\u043d\\u0438\\u0435\",\"\\u0440\\u043e\\u043f\\u0442\\u0430\\u0442\\u044c\",\"\\u0443\\u0436\",\"\\u043d\\u0435\\u043b\\u044c\\u0437\\u044f\",\"\\u043b\\u0438\",\"\\u0437\\u0430\\u0442\\u0435\\u0439\\u043b\\u0438\\u0432\\u044b\\u0439\",\"\\u043e\\u0441\\u0442\\u0430\\u043b\\u044c\\u043d\\u043e\\u0439\",\"\\u0434\\u0432\\u043e\\u0435\",\"\\u043f\\u043e\\u0434\\u0430\\u0440\\u043e\\u043a\",\"\\u0441\\u043a\\u0430\\u0437\\u0430\\u0442\\u044c\",\"\\u0437\\u043d\\u0430\\u0447\\u0438\\u0442\",\"\\u0441\\u043e\\u0437\\u0434\\u0430\\u0442\\u044c\",\"\\u0437\\u0430\\u0433\\u043e\\u0432\\u043e\\u0440\\u0438\\u0442\\u044c\",\"\\u0432\\u043f\\u0440\\u043e\\u0447\\u0435\\u043c\",\"\\u0437\\u0430\\u043f\\u0440\\u0435\\u0442\\u0438\\u0442\\u044c\",\"\\u0430\\u043f\\u0440\\u0435\\u043b\\u044c\",\"\\u044f\",\"\\u0434\\u043e\\u0445\\u043e\\u0434\",\"\\u043d\\u0435\\u0432\\u043e\\u043b\\u044c\\u043d\\u043e\",\"\\u043a\\u0440\\u0435\\u0441\\u0442\\u0438\\u043a\",\"\\u0441\\u043b\\u0435\\u0434\\u043e\\u0432\\u0430\\u0442\\u044c-\\u0442\\u043e\",\"8-\\u0439\",\"\\u0432\\u043e\\u043e\\u0431\\u0440\\u0430\\u0436\\u0435\\u043d\\u0438\\u0435\",\"\\u0441\\u0431\\u0438\\u0440\\u0430\\u0442\\u044c\\u0441\\u044f\",\"\\u0433\\u0435\\u0440\\u0430\\u043d\\u044c\",\"\\u043f\\u0440\\u0430\\u0437\\u0434\\u043d\\u0438\\u043a\",\"\\u0430\",\"\\u0441\\u0432\\u0435\\u0442\\u043b\\u044b\\u0439\",\"\\u0434\\u0440\\u0443\\u0436\\u0435\\u0441\\u043a\\u0438\\u0439\",\"\\u043d\\u0430\\u0440\\u0430\\u0434\\u043e\\u0432\\u0430\\u0442\\u044c\\u0441\\u044f\",\"\\u043f\\u043e\\u0436\\u0430\\u043b\\u0443\\u0439\",\"\\u0447\\u0442\\u043e\",\"\\u0444\\u0443\\u043d\\u0442\\u0438\\u043a\",\"\\u0440\\u0430\\u043d\\u043d\\u0438\\u0439\",\"\\u0434\\u0432\\u0430\",\"\\u044d\\u0442\\u043e\\u0442\",\"\\u0445\\u043e\\u0440\\u043e\\u0448\\u0435\\u043d\\u044c\\u043a\\u043e\",\"\\u0433\\u0434\\u0435-\\u0442\\u043e\",\"\\u043b\\u0438\\u0447\\u0438\\u043a\\u043e\",\"\\u0442\\u0438\\u0445\\u043e\",\"\\u043d\\u0435\\u0434\\u043e\\u0441\\u0442\\u0430\\u0432\\u0430\\u0442\\u044c\",\"\\u043a\\u0430\\u043a\\u043e\\u0432\",\"\\u043e\\u0441\\u0442\\u0430\\u0442\\u044c\\u0441\\u044f\",\"\\u043f\\u043e\\u0441\\u043c\\u043e\\u0442\\u0440\\u0435\\u0442\\u044c\",\"\\u0434\\u0440\\u0443\\u0433\",\"\\u0437\\u0430\\u0441\\u0432\\u0435\\u0442\\u043b\\u0435\\u0442\\u044c\",\"\\u043a\\u0430\\u0441\\u0430\\u0442\\u044c\\u0441\\u044f\",\"\\u043d\\u0430\\u0443\\u0442\\u0440\\u043e\",\"\\u0434\\u0443\\u0448\\u0435\\u0447\\u043a\\u0430\",\"\\u0442\\u043e\\u0442\\u0447\\u0430\\u0441\",\"\\u043a\\u0443\\u043f\\u0438\\u0442\\u044c\",\"\\u0432\\u0430\\u0440\\u0432\\u0430\\u0440\",\"\\u043a\\u043e\\u043c\\u043d\\u0430\\u0442\\u0430\",\"\\u043f\\u043e\\u0442\\u0435\\u0448\\u0438\\u0442\\u044c\",\"\\u0441\\u0435\\u043c\",\"\\u0437\\u0434\\u0435\\u0448\\u043d\\u0438\\u0439\",\"\\u0441\\u0430\\u043c\\u044b\\u0439\",\"\\u043a\\u043e\\u0440\\u0438\\u0434\\u043e\\u0440\",\"\\u0432\\u0441\\u0451\",\"\\u0442\\u043e\\u0441\\u043a\\u0430\",\"\\u0434\\u0440\\u0435\\u0431\\u0435\\u0434\\u0435\\u043d\\u044c\",\"\\u0447\\u0443\\u0436\\u043e\\u0439\",\"\\u043c\\u043e\\u0447\\u044c\",\"\\u0446\\u0435\\u043b\\u043a\\u043e\\u0432\\u044b\\u0439\",\"\\u043b\\u044e\\u0431\\u0438\\u0442\\u044c\",\"\\u043e\\u0441\\u0442\\u0440\\u044b\\u0439\",\"\\u0443\\u0432\\u0438\\u0434\\u0435\\u0442\\u044c\",\"\\u043f\\u0440\\u0435\\u0431\\u044b\\u0432\\u0430\\u0442\\u044c\",\"\\u043a\\u043b\\u043e\\u0447\\u043e\\u043a\",\"\\u043f\\u0440\\u043e\\u043c\\u0430\\u0445\",\"\\u0433\\u0440\\u0443\\u0441\\u0442\\u043d\\u043e\",\"\\u0432\\u043e\\u0441\\u043f\\u043e\\u043c\\u0438\\u043d\\u0430\\u043d\\u0438\\u0435\",\"\\u0441\\u0442\\u0443\\u043b\",\"\\u043e\\u043f\\u0443\\u0441\\u0442\\u0438\\u0442\\u044c\",\"\\u0442\\u0440\\u043e\\u0435\",\"\\u0432\\u0435\\u043a\",\"\\u043e\\u0431\\u0440\\u0430\\u0437\",\"\\u043a\\u0430\\u0440\\u043c\\u0430\\u043d\",\"\\u043f\\u043e\\u0434\\u043e\\u0431\\u043d\\u044b\\u0439\",\"\\u043f\\u043e\\u0441\\u044b\\u043b\\u0430\\u0442\\u044c\",\"\\u0442\\u0435\\u0441\\u043d\\u043e\",\"\\u0441\\u0442\\u0430\\u0442\\u044c\",\"\\u043d\\u0430\\u0447\\u0430\\u043b\\u044c\\u043d\\u0438\\u043a\",\"\\u0445\\u043e\\u0442\\u0435\\u0442\\u044c\",\"\\u0441\\u0435\\u0433\\u043e\\u0434\\u043d\\u044f\",\"\\u0440\\u0430\\u0437\\u043d\\u044b\\u0439\",\"\\u0440\\u0430\\u0431\\u043e\\u0442\\u0430\\u0442\\u044c\",\"\\u043b\\u0438\\u0448\\u0435\\u043d\\u0438\\u0435\",\"\\u0443\\u0433\\u043e\\u043b\\u043e\\u0447\\u0435\\u043a\",\"\\u0433\\u043e\\u043b\\u0443\\u0431\\u0447\\u0438\\u043a\",\"\\u0432\\u043e\\u043e\\u0431\\u0440\\u0430\\u0437\\u0438\\u0442\\u044c\",\"\\u0447\\u0430\\u0441\",\"\\u043f\\u043e\\u0434\\u043d\\u044f\\u0442\\u044c\",\"\\u043e\\u0442\\u0447\\u0438\\u0439\",\"\\u043e\\u0444\\u0438\\u0446\\u0435\\u0440\",\"\\u0431\\u0435\\u0441\\u043f\\u043e\\u043a\\u043e\\u0438\\u0442\\u044c\\u0441\\u044f\",\"\\u0446\\u0435\\u043b\\u044b\\u0439\",\"\\u0431\\u043e\\u0433\\u0430\\u0442\\u044b\\u2026\",\"\\u044f\\u0441\\u043d\\u043e\",\"\\u043d\\u0430\\u0440\\u043e\\u0447\\u043d\\u043e\",\"\\u0441\\u0432\\u0435\\u0442\\u0438\\u0442\\u044c\",\"\\u0432\\u044b\\u0445\\u043e\\u0434\\u0438\\u0442\\u044c-\\u0442\\u043e\",\"\\u0441\\u043b\\u0443\\u0433\\u0430\",\"\\u043e\\u043a\\u043e\\u0448\\u043a\\u043e\",\"\\u0441\\u0440\\u0430\\u0432\\u043d\\u0438\\u0442\\u044c\",\"\\u043f\\u0440\\u0438\\u043d\\u044f\\u0442\\u044c\\u0441\\u044f\",\"\\u043c\\u0438\\u043b\\u043e\\u0432\\u0438\\u0434\\u043d\\u044b\\u0439\",\"\\u0434\\u043e\\u043b\\u043e\\u0436\\u0438\\u0442\\u044c\",\"\\u043f\\u043e\\u0434\\u043b\\u0435\",\"\\u0432\\u0435\\u0441\\u0435\\u043b\\u043e\",\"\\u0447\\u0442\\u043e-\\u043d\\u0438\\u0431\\u0443\\u0434\\u044c\",\"\\u0432\\u0438\\u0434\",\"\\u0443\\u0437\\u0435\\u043d\\u044c\\u043a\\u0438\\u0439\",\"\\u0442\\u0430\\u043c\",\"\\u043a\\u0430\\u0440\\u043c\\u0430\\u043d\\u043d\\u044b\\u0439\",\"\\u043d\\u0435\\u0434\\u043e\\u0440\\u043e\\u0433\\u043e\",\"\\u043e\\u043d\",\"\\u043a\\u0440\\u043e\\u0432\\u0430\\u0442\\u044c\",\"\\u043d\\u0435\\u0441\\u043a\\u043e\\u043b\\u044c\\u043a\\u043e\",\"\\u0434\\u043e\\u043b\\u0436\\u043d\\u043e\\u0441\\u0442\\u044c\",\"\\u043f\\u0443\\u043d\\u0441\\u043e\\u0432\\u044b\\u044f\",\"\\u043f\\u043e-\\u0432\\u0435\\u0441\\u0435\\u043d\\u043d\\u0435\\u043c\\u0443\",\"\\u0437\\u0430\\u0442\\u043e\",\"\\u043a\\u043e\\u043c\\u043d\\u0430\\u0442\\u043a\\u0430\",\"\\u043d\\u0430\\u0434\\u043e\",\"\\u043a\\u0430\\u043a\\u043e\\u0432-\\u0442\\u043e\",\"\\u043d\\u0435\\u0432\\u0438\\u043d\\u043d\\u044b\\u0439\",\"\\u043a\\u043e\\u0432\\u0447\\u0435\\u0433\",\"\\u043f\\u043e\\u0432\\u0435\\u0441\\u0438\\u0442\\u044c\",\"\\u0441\\u043e\\u043b\\u043d\\u044b\\u0448\\u043a\\u043e\",\"\\u043e\\u043d\\u0438\",\"\\u043f\\u0440\\u0438\\u0432\\u0435\\u0442\\u043b\\u0438\\u0432\\u044b\\u0439\",\"\\u043f\\u0440\\u0430\\u0432\\u044b\\u0439\",\"\\u043d\\u0435\\u043e\\u0431\\u0445\\u043e\\u0434\\u0438\\u043c\\u044b\\u0439\",\"\\u0433\\u0434\\u0435\",\"\\u0434\\u043e\\u0431\\u0440\\u043e\\u0441\\u0435\\u043b\\u043e\\u0432\\u044b\\u0439\",\"\\u0441\\u0442\\u043e\\u043b\",\"\\u0447\\u0435\\u043b\\u043e\\u0432\\u0435\\u043a\",\"\\u043e\\u0441\\u044b\\u043f\\u0430\\u0442\\u044c\",\"\\u043c\\u0430\\u0442\\u043e\\u0447\\u043a\\u0430\",\"\\u0442\\u0435\\u043f\\u0435\\u0440\\u044c\",\"\\u0447\\u0430\\u0439\",\"\\u0432\\u0435\\u0440\\u043e\\u044f\\u0442\\u043d\\u043e\",\"\\u0433\\u043b\\u0443\\u0445\\u0430\\u0440\\u044c\",\"\\u0436\\u0435\\u043d\\u0449\\u0438\\u043d\\u0430\",\"\\u0442\\u043e\\u0436\\u0435\",\"\\u0441\\u0442\\u043e\\u043b\\u044c\\u043a\\u043e\",\"\\u043f\\u0440\\u0438\\u0433\\u043e\\u0442\\u043e\\u0432\\u043b\\u044f\\u0442\\u044c\",\"\\u0441\\u0438\\u043b\\u0430\",\"\\u0442\\u043e\\u0447\\u043d\\u0435\\u0445\\u043e\\u043d\\u044c\\u043a\\u0438\\u0439\",\"\\u0433\\u043e\\u0432\\u043e\\u0440\\u0438\\u0442\\u044c\",\"\\u0431\\u0430\\u043b\\u044c\\u0437\\u0430\\u043c\\u0438\\u043d\\u0447\\u0438\\u043a\",\"\\u043e\",\"\\u0431\\u043b\\u0430\\u0433\\u043e\\u0434\\u0435\\u044f\\u043d\\u0438\\u0435\",\"\\u043f\\u043e\\u0441\\u043b\\u0435\\u0434\\u043d\\u0438\\u0439\",\"\\u0436\\u0435\",\"\\u0436\",\"\\u043e\\u043d\\u043e\",\"\\u043f\\u0440\\u0438\\u043b\\u0438\\u0447\\u043d\\u043e\",\"\\u0434\\u043b\\u0438\\u043d\\u043d\\u044b\\u0439\",\"\\u0445\\u043e\\u0442\\u044c\",\"\\u043d\\u0435\\u0436\\u043d\\u044b\\u0439\",\"\\u0434\\u043e\\u0441\\u0442\\u043e\\u0435\\u0432\\u0441\\u043a\\u0438\\u0439\",\"\\u0442\\u0435\\u0447\\u044c\",\"\\u043f\\u043e\\u043a\\u043e\\u0439\\u043d\\u043e\",\"\\u043e\\u0447\\u0435\\u043d\\u044c\",\"\\u0441\\u043e\\u043a\\u043e\\u043b\",\"\\u0448\\u0451\\u043b\\u043a\",\"\\u043f\\u0435\\u0440\\u0435\\u0434\",\"\\u043a\\u043e\\u043f\\u0435\\u0439\\u043a\\u0430\",\"\\u0434\\u0430\",\"\\u0440\\u0430\\u0434\\u043e\\u0441\\u0442\\u044c\",\"\\u043f\\u043e\\u0434\\u0447\\u0430\\u0441\",\"\\u043f\\u043e\",\"\\u0440\\u0430\\u0437\\u0433\\u043b\\u044f\\u0434\\u0435\\u0442\\u044c\",\"\\u043d\\u0430\\u043d\\u0438\\u043c\\u0430\\u0442\\u044c\",\"\\u0442\\u0435\\u043f\\u0435\\u0440\\u0435\\u0448\\u043d\\u0438\\u0439\",\"\\u0434\\u0435\\u0441\\u043a\\u0430\\u0442\\u044c\",\"\\u0434.\",\"\\u0441\\u0435\\u0439\",\"\\u043f\\u0440\\u0435\\u043b\\u0435\\u0441\\u0442\\u044c\",\"\\u043e\\u0431\\u043c\\u0430\\u043d\\u0443\\u0442\\u044c\",\"\\u0431\\u0435\\u0437\\u0436\\u0430\\u043b\\u043e\\u0441\\u0442\\u043d\\u044b\\u0439\",\"\\u043d\\u0430\\u043c\\u0435\\u043a\\u0430\\u0442\\u044c\",\"\\u0432\\u044b\\u0434\\u0430\\u0442\\u044c\\u0441\\u044f\",\"\\u043d\\u0435\\u043c\\u043d\\u043e\\u0433\\u043e\",\"\\u043f\\u0440\\u0438\\u0440\\u043e\\u0434\\u0430\",\"\\u043d\\u043e\\u0432\\u043e\\u0441\\u0435\\u043b\\u044c\\u0435\",\"\\u043f\\u0440\\u043e\\u0441\\u0442\\u043e\\u0440\\u043d\\u044b\\u0439\",\"\\u0433\\u043b\\u0430\\u0432\\u043d\\u043e\\u0435\",\"\\u043f\\u0435\\u0440\\u0435\\u0433\\u043e\\u0440\\u043e\\u0434\\u043a\\u0430\",\"\\u0440\\u0435\\u0437\\u0435\\u0434\\u0430\",\"\\u0433\\u0432\\u0430\\u043b\\u0442\",\"\\u0440\\u0443\\u0431\\u043b\\u044c\",\"\\u0434\\u0443\\u0448\\u0430\",\"\\u0441\\u0435\\u0431\\u044f\",\"\\u0430\\u0445\",\"\\u043e\\u0441\\u043e\\u0431\\u043d\\u044f\\u043a\\u043e\\u043c\",\"\\u0441\\u0435\\u043c\\u044c\",\"\\u0432\\u0435\\u0441\\u044c\\u043c\\u0430\",\"\\u043e\\u043a\\u043d\\u043e\",\"\\u0447\\u0435\\u043c\",\"\\u0440\\u043e\\u0432\\u043d\\u043e\",\"\\u043d\\u0430\",\"\\u043f\\u0440\\u0430\\u0432\\u0438\\u043b\\u044c\\u043d\\u044b\\u0439\",\"\\u043f\\u0442\\u0430\\u0448\\u043a\\u0430\",\"\\u043f\\u0438\\u0442\\u044c\",\"\\u0440\\u0430\\u0437\\u0431\\u043e\\u0433\\u0430\\u0442\\u0435\\u0442\\u044c\",\"\\u0443\\u043b\\u044b\\u0431\\u043e\\u0447\\u043a\\u0430\",\"\\u043f\\u0440\\u0438\\u044f\\u0442\\u043d\\u044b\\u0439\",\"\\u0437\\u0430\\u0442\\u0438\\u0440\\u0430\\u0442\\u044c\",\"\\u043d\\u0430\\u043f\\u0440\\u043e\\u0442\\u0438\\u0432\",\"\\u043d\\u0435\\u043e\\u0441\\u0442\\u043e\\u0440\\u043e\\u0436\\u043d\\u043e\",\"\\u043d\\u0430\\u0441\\u0447\\u0451\\u0442\",\"\\u043d\\u0430\\u043d\\u044f\\u0442\\u044c\",\"\\u0441\\u0442\\u0430\\u0442\\u044c\\u0441\\u044f\",\"\\u043d\\u0435\\u0443\\u0436\\u0435\\u043b\\u0438\",\"\\u0433\\u043e\\u0441\\u0443\\u0434\\u0430\\u0440\\u044c\",\"\\u0433\\u043e\\u043c\\u0435\\u0440\\u0430\",\"\\u0441\\u0442\\u0430\\u0440\\u043e\\u0441\\u0442\\u044c\",\"\\u043f\\u0440\\u0438\\u0439\\u0442\\u0438\\u0441\\u044c\",\"\\u0437\\u0434\\u0435\\u0441\\u044c\",\"\\u0435\\u0441\\u0442\\u044c\",\"\\u043b\\u0435\\u0442\\u0430\\u0442\\u044c\",\"\\u0431\\u043e\\u043b\\u044c\\u0448\\u0438\\u0439\",\"\\u043f\\u043e\\u0434\\u0448\\u0443\\u0442\\u0438\\u0442\\u044c\",\"\\u0436\\u0430\\u043b\\u043a\\u043e\",\"\\u043f\\u0440\\u043e\\u0439\\u0442\\u0438\",\"\\u044d\\u043a\\u0438\\u0432\\u043e\\u043a\\u0438\\u2026\",\"\\u043f\\u0440\\u0438\\u0434\\u0443\\u043c\\u043e\\u0447\\u043a\\u0430\",\"\\u0430\\u0440\\u043e\\u043c\\u0430\\u0442\",\"\\u043f\\u0438\\u0441\\u0430\\u0442\\u044c\",\"\\u2014\",\"\\u0434\\u0435\\u043d\\u044c\\u0433\\u0430\",\"\\u043a\\u0430\\u043a\",\"\\u0447\\u0443\\u0442\\u044c\",\"\\u0444\\u0451\\u0434\\u043e\\u0440-\\u0442\\u043e\",\"\\u0441\\u0442\\u0435\\u043d\\u0430\",\"\\u043d\\u0435\\u0447\\u0438\\u0441\\u0442\\u044b\\u0439\",\"\\u043d\\u0435\\u043f\\u0440\\u0435\\u043c\\u0435\\u043d\\u043d\\u043e\",\"\\u0447\\u0435\\u0440\\u043d\\u0438\\u043b\\u044c\\u043d\\u044b\\u0439\",\"\\u043d\\u0430\\u0447\\u0438\\u0442\\u0430\\u043d\\u043d\\u044b\\u0439\",\"\\u0432\\u0435\\u0441\\u0451\\u043b\\u044b\\u0439\",\"\\u043f\\u043e\\u043f\\u0430\\u0441\\u0442\\u044c\",\"\\u043a\\u043b\\u044f\\u0441\\u0442\\u044c\\u0441\\u044f\",\"\\u0436\\u0438\\u0442\\u044c\",\"\\u043f\\u043e\\u043c\\u043d\\u0438\\u0442\\u044c\",\"\\u0441\\u043f\\u0430\\u0442\\u044c\\u0441\\u044f\",\"\\u0443\\u0442\\u0430\\u0438\\u0442\\u044c\",\"\\u0444\\u0438\\u0433\\u0443\\u0440\\u043d\\u043e\",\"\\u0443\\u043c\\u043e\\u043b\\u044f\\u0442\\u044c\",\"\\u043f\\u043e\\u043a\\u0430\\u0437\\u0430\\u0442\\u044c\\u0441\\u044f\",\"\\u0448\\u043b\\u0430\\u0444\\u0440\\u043e\\u043a\",\"\\u0443\\u0441\\u0442\\u0440\\u043e\\u0438\\u0442\\u044c\",\"\\u043f\\u043e\\u043c\\u0430\\u043b\\u0435\\u043d\\u044c\\u043a\\u0443\",\"\\u0447\\u0435\\u0440\\u0435\\u0437\",\"\\u0442\\u0435\\u043c\\u043d\\u0435\\u043d\\u044c\\u043a\\u0438\\u0439\",\"\\u043f\\u043e\\u0434\\u043d\\u043e\\u0433\\u043e\\u0442\\u043d\\u0430\\u044f\",\"\\u0434\\u0435\\u043b\\u043e\",\"\\u0432\\u0435\\u0447\\u0435\\u0440\\u043e\\u043c\",\"\\u0445\\u043e\\u0437\\u044f\\u0439\\u043a\\u0430\",\"\\u043f\\u043e\\u0436\\u0430\\u043b\\u0443\\u0439\\u0441\\u0442\\u0430\",\"\\u0440\\u0430\\u0437\",\"\\u043a\\u043d\\u0438\\u0436\\u043a\\u0430\",\"\\u043f\\u043e\\u0434\\u0440\\u043e\\u0431\\u043d\\u044b\\u0439\",\"\\u0440\\u0430\\u0441\\u043f\\u0438\\u0441\\u0430\\u0442\\u044c\\u0441\\u044f\",\"\\u0445\\u043e\\u0434\\u0438\\u0442\\u044c\",\"\\u043f\\u0440\\u043e\\u0441\\u0438\\u0442\\u044c\",\"\\u043f\\u0440\\u0438\\u0434\\u0443\\u043c\\u0430\\u0442\\u044c\",\"\\u0441\\u043a\\u0440\\u043e\\u043c\\u043d\\u044b\\u0439\\u2026\",\"\\u0438\\u0437-\\u0437\\u0430\",\"\\u0431\\u0435\\u0441\\u0446\\u0435\\u043d\\u043d\\u044b\\u0439\",\"\\u043f\\u0438\\u0432\\u0430\\u0442\\u044c\",\"\\u043d\\u0435\\u0443\\u0434\\u043e\\u0431\\u043d\\u043e\",\"\\u043f\\u0440\\u0435\\u0434\\u0443\\u0433\\u0430\\u0434\\u044b\\u0432\\u0430\\u0442\\u044c\",\"\\u0432\\u044b\\u0445\\u043e\\u0434\\u0438\\u0442\\u044c\",\"\\u0442\\u0440\\u0435\\u0432\\u043e\\u0436\\u0438\\u0442\\u044c\",\"\\u0433\\u043e\\u0440\\u0448\\u043a\\u043e\\u0432\",\"\\u043c\\u043e\\u0439\",\"\\u0441\\u0442\\u0438\\u0445\",\"\\u043f\\u044f\\u0442\\u043d\\u043e\",\"\\u0445\\u0438\\u0449\\u043d\\u044b\\u0439\",\"\\u043c\\u043e\\u0436\\u043d\\u043e\",\"\\u0442\\u0430\\u043a\",\"\\u043e\\u0442\\u043a\\u0430\\u0437\",\"\\u043f\\u043e\\u043b\\u043d\\u043e\\u0447\\u044c\",\"\\u0432\\u0434\\u0440\\u0443\\u0433\",\"\\u0438\\u043d\\u043e\\u0439\",\"\\u0436\\u0430\\u043b\\u043e\\u0432\\u0430\\u043d\\u0438\\u0435\",\"\\u0442\\u0430\\u043a-\\u0442\\u0430\\u043a\\u0438\",\"\\u0441\\u043a\\u0430\\u043c\\u0435\\u0439\\u043a\\u0430\",\"\\u0441\\u0432\\u0435\\u0447\\u0430\",\"\\u0441\",\"\\u0441\\u043f\\u0435\\u0448\\u0438\\u0442\\u044c\",\"\\u043c\\u0435\\u0441\\u0442\\u043e\",\"\\u0441\\u043c\\u044b\\u0441\\u043b\",\"\\u043f\\u043e\\u0433\\u0443\\u0431\\u0438\\u0442\\u044c\",\"\\u043f\\u0440\\u0430\\u0432\\u043e\",\"\\u0443\\u0433\\u043e\\u043b\\u043e\\u043a\",\"\\u0431\\u043b\\u0430\\u0433\\u043e\\u043f\\u043e\\u043b\\u0443\\u0447\\u043d\\u044b\\u0439\",\"\\u0441\\u0440\\u043e\\u043a\",\"\\u0431\\u0440\\u0430\\u043c\\u0431\\u0435\\u0443\\u0441\\u0435,1\",\"\\u0441\\u0432\\u0435\\u0447\\u043a\\u0430\"]]]}}},\"view\":{\"type\":\"object\",\"name\":\"CDSView\",\"id\":\"p1953\",\"attributes\":{\"filter\":{\"type\":\"object\",\"name\":\"AllIndices\",\"id\":\"p1954\"}}},\"glyph\":{\"type\":\"object\",\"name\":\"Scatter\",\"id\":\"p1949\",\"attributes\":{\"x\":{\"type\":\"field\",\"field\":\"x\"},\"y\":{\"type\":\"field\",\"field\":\"y\"},\"size\":{\"type\":\"value\",\"value\":10},\"line_color\":{\"type\":\"field\",\"field\":\"color\"},\"line_alpha\":{\"type\":\"value\",\"value\":0.25},\"fill_color\":{\"type\":\"field\",\"field\":\"color\"},\"fill_alpha\":{\"type\":\"value\",\"value\":0.25},\"hatch_color\":{\"type\":\"field\",\"field\":\"color\"},\"hatch_alpha\":{\"type\":\"value\",\"value\":0.25}}},\"nonselection_glyph\":{\"type\":\"object\",\"name\":\"Scatter\",\"id\":\"p1950\",\"attributes\":{\"x\":{\"type\":\"field\",\"field\":\"x\"},\"y\":{\"type\":\"field\",\"field\":\"y\"},\"size\":{\"type\":\"value\",\"value\":10},\"line_color\":{\"type\":\"field\",\"field\":\"color\"},\"line_alpha\":{\"type\":\"value\",\"value\":0.1},\"fill_color\":{\"type\":\"field\",\"field\":\"color\"},\"fill_alpha\":{\"type\":\"value\",\"value\":0.1},\"hatch_color\":{\"type\":\"field\",\"field\":\"color\"},\"hatch_alpha\":{\"type\":\"value\",\"value\":0.1}}},\"muted_glyph\":{\"type\":\"object\",\"name\":\"Scatter\",\"id\":\"p1951\",\"attributes\":{\"x\":{\"type\":\"field\",\"field\":\"x\"},\"y\":{\"type\":\"field\",\"field\":\"y\"},\"size\":{\"type\":\"value\",\"value\":10},\"line_color\":{\"type\":\"field\",\"field\":\"color\"},\"line_alpha\":{\"type\":\"value\",\"value\":0.2},\"fill_color\":{\"type\":\"field\",\"field\":\"color\"},\"fill_alpha\":{\"type\":\"value\",\"value\":0.2},\"hatch_color\":{\"type\":\"field\",\"field\":\"color\"},\"hatch_alpha\":{\"type\":\"value\",\"value\":0.2}}}}}],\"toolbar\":{\"type\":\"object\",\"name\":\"Toolbar\",\"id\":\"p1926\",\"attributes\":{\"tools\":[{\"type\":\"object\",\"name\":\"PanTool\",\"id\":\"p1939\"},{\"type\":\"object\",\"name\":\"WheelZoomTool\",\"id\":\"p1940\",\"attributes\":{\"renderers\":\"auto\"}},{\"type\":\"object\",\"name\":\"BoxZoomTool\",\"id\":\"p1941\",\"attributes\":{\"overlay\":{\"type\":\"object\",\"name\":\"BoxAnnotation\",\"id\":\"p1942\",\"attributes\":{\"syncable\":false,\"level\":\"overlay\",\"visible\":false,\"left_units\":\"canvas\",\"right_units\":\"canvas\",\"top_units\":\"canvas\",\"bottom_units\":\"canvas\",\"line_color\":\"black\",\"line_alpha\":1.0,\"line_width\":2,\"line_dash\":[4,4],\"fill_color\":\"lightgrey\",\"fill_alpha\":0.5}}}},{\"type\":\"object\",\"name\":\"SaveTool\",\"id\":\"p1943\"},{\"type\":\"object\",\"name\":\"ResetTool\",\"id\":\"p1944\"},{\"type\":\"object\",\"name\":\"HelpTool\",\"id\":\"p1945\"},{\"type\":\"object\",\"name\":\"HoverTool\",\"id\":\"p1955\",\"attributes\":{\"renderers\":\"auto\",\"tooltips\":[[\"token\",\"@token\"]]}}],\"active_scroll\":{\"id\":\"p1940\"}}},\"left\":[{\"type\":\"object\",\"name\":\"LinearAxis\",\"id\":\"p1934\",\"attributes\":{\"ticker\":{\"type\":\"object\",\"name\":\"BasicTicker\",\"id\":\"p1935\",\"attributes\":{\"mantissas\":[1,2,5]}},\"formatter\":{\"type\":\"object\",\"name\":\"BasicTickFormatter\",\"id\":\"p1936\"},\"major_label_policy\":{\"type\":\"object\",\"name\":\"AllLabels\",\"id\":\"p1937\"}}}],\"below\":[{\"type\":\"object\",\"name\":\"LinearAxis\",\"id\":\"p1929\",\"attributes\":{\"ticker\":{\"type\":\"object\",\"name\":\"BasicTicker\",\"id\":\"p1930\",\"attributes\":{\"mantissas\":[1,2,5]}},\"formatter\":{\"type\":\"object\",\"name\":\"BasicTickFormatter\",\"id\":\"p1931\"},\"major_label_policy\":{\"type\":\"object\",\"name\":\"AllLabels\",\"id\":\"p1932\"}}}],\"center\":[{\"type\":\"object\",\"name\":\"Grid\",\"id\":\"p1933\",\"attributes\":{\"axis\":{\"id\":\"p1929\"}}},{\"type\":\"object\",\"name\":\"Grid\",\"id\":\"p1938\",\"attributes\":{\"dimension\":1,\"axis\":{\"id\":\"p1934\"}}}]}}]}};\n",
              "  const render_items = [{\"docid\":\"8861b85c-955c-4d5f-a546-86eab61eb560\",\"roots\":{\"p1918\":\"a547de4f-01ac-46b8-91d7-312cbe896e59\"},\"root_ids\":[\"p1918\"]}];\n",
              "  root.Bokeh.embed.embed_items_notebook(docs_json, render_items);\n",
              "  }\n",
              "  if (root.Bokeh !== undefined) {\n",
              "    embed_document(root);\n",
              "  } else {\n",
              "    let attempts = 0;\n",
              "    const timer = setInterval(function(root) {\n",
              "      if (root.Bokeh !== undefined) {\n",
              "        clearInterval(timer);\n",
              "        embed_document(root);\n",
              "      } else {\n",
              "        attempts++;\n",
              "        if (attempts > 100) {\n",
              "          clearInterval(timer);\n",
              "          console.log(\"Bokeh: ERROR: Unable to run BokehJS code because BokehJS library is missing\");\n",
              "        }\n",
              "      }\n",
              "    }, 10, root)\n",
              "  }\n",
              "})(window);"
            ],
            "application/vnd.bokehjs_exec.v0+json": ""
          },
          "metadata": {
            "application/vnd.bokehjs_exec.v0+json": {
              "id": "p1918"
            }
          }
        },
        {
          "output_type": "execute_result",
          "data": {
            "text/plain": [
              "figure(id='p1918', ...)"
            ],
            "text/html": [
              "<div style=\"display: table;\"><div style=\"display: table-row;\"><div style=\"display: table-cell;\"><b title=\"bokeh.plotting._figure.figure\">figure</b>(</div><div style=\"display: table-cell;\">id&nbsp;=&nbsp;'p1918', <span id=\"p1959\" style=\"cursor: pointer;\">&hellip;)</span></div></div><div class=\"p1958\" style=\"display: none;\"><div style=\"display: table-cell;\"></div><div style=\"display: table-cell;\">above&nbsp;=&nbsp;[],</div></div><div class=\"p1958\" style=\"display: none;\"><div style=\"display: table-cell;\"></div><div style=\"display: table-cell;\">align&nbsp;=&nbsp;'auto',</div></div><div class=\"p1958\" style=\"display: none;\"><div style=\"display: table-cell;\"></div><div style=\"display: table-cell;\">aspect_ratio&nbsp;=&nbsp;None,</div></div><div class=\"p1958\" style=\"display: none;\"><div style=\"display: table-cell;\"></div><div style=\"display: table-cell;\">aspect_scale&nbsp;=&nbsp;1,</div></div><div class=\"p1958\" style=\"display: none;\"><div style=\"display: table-cell;\"></div><div style=\"display: table-cell;\">background_fill_alpha&nbsp;=&nbsp;1.0,</div></div><div class=\"p1958\" style=\"display: none;\"><div style=\"display: table-cell;\"></div><div style=\"display: table-cell;\">background_fill_color&nbsp;=&nbsp;'#ffffff',</div></div><div class=\"p1958\" style=\"display: none;\"><div style=\"display: table-cell;\"></div><div style=\"display: table-cell;\">below&nbsp;=&nbsp;[LinearAxis(id='p1929', ...)],</div></div><div class=\"p1958\" style=\"display: none;\"><div style=\"display: table-cell;\"></div><div style=\"display: table-cell;\">border_fill_alpha&nbsp;=&nbsp;1.0,</div></div><div class=\"p1958\" style=\"display: none;\"><div style=\"display: table-cell;\"></div><div style=\"display: table-cell;\">border_fill_color&nbsp;=&nbsp;'#ffffff',</div></div><div class=\"p1958\" style=\"display: none;\"><div style=\"display: table-cell;\"></div><div style=\"display: table-cell;\">center&nbsp;=&nbsp;[Grid(id='p1933', ...), Grid(id='p1938', ...)],</div></div><div class=\"p1958\" style=\"display: none;\"><div style=\"display: table-cell;\"></div><div style=\"display: table-cell;\">context_menu&nbsp;=&nbsp;None,</div></div><div class=\"p1958\" style=\"display: none;\"><div style=\"display: table-cell;\"></div><div style=\"display: table-cell;\">css_classes&nbsp;=&nbsp;[],</div></div><div class=\"p1958\" style=\"display: none;\"><div style=\"display: table-cell;\"></div><div style=\"display: table-cell;\">disabled&nbsp;=&nbsp;False,</div></div><div class=\"p1958\" style=\"display: none;\"><div style=\"display: table-cell;\"></div><div style=\"display: table-cell;\">extra_x_ranges&nbsp;=&nbsp;{},</div></div><div class=\"p1958\" style=\"display: none;\"><div style=\"display: table-cell;\"></div><div style=\"display: table-cell;\">extra_x_scales&nbsp;=&nbsp;{},</div></div><div class=\"p1958\" style=\"display: none;\"><div style=\"display: table-cell;\"></div><div style=\"display: table-cell;\">extra_y_ranges&nbsp;=&nbsp;{},</div></div><div class=\"p1958\" style=\"display: none;\"><div style=\"display: table-cell;\"></div><div style=\"display: table-cell;\">extra_y_scales&nbsp;=&nbsp;{},</div></div><div class=\"p1958\" style=\"display: none;\"><div style=\"display: table-cell;\"></div><div style=\"display: table-cell;\">flow_mode&nbsp;=&nbsp;'block',</div></div><div class=\"p1958\" style=\"display: none;\"><div style=\"display: table-cell;\"></div><div style=\"display: table-cell;\">frame_align&nbsp;=&nbsp;True,</div></div><div class=\"p1958\" style=\"display: none;\"><div style=\"display: table-cell;\"></div><div style=\"display: table-cell;\">frame_height&nbsp;=&nbsp;None,</div></div><div class=\"p1958\" style=\"display: none;\"><div style=\"display: table-cell;\"></div><div style=\"display: table-cell;\">frame_width&nbsp;=&nbsp;None,</div></div><div class=\"p1958\" style=\"display: none;\"><div style=\"display: table-cell;\"></div><div style=\"display: table-cell;\">height&nbsp;=&nbsp;400,</div></div><div class=\"p1958\" style=\"display: none;\"><div style=\"display: table-cell;\"></div><div style=\"display: table-cell;\">height_policy&nbsp;=&nbsp;'auto',</div></div><div class=\"p1958\" style=\"display: none;\"><div style=\"display: table-cell;\"></div><div style=\"display: table-cell;\">hidpi&nbsp;=&nbsp;True,</div></div><div class=\"p1958\" style=\"display: none;\"><div style=\"display: table-cell;\"></div><div style=\"display: table-cell;\">hold_render&nbsp;=&nbsp;False,</div></div><div class=\"p1958\" style=\"display: none;\"><div style=\"display: table-cell;\"></div><div style=\"display: table-cell;\">js_event_callbacks&nbsp;=&nbsp;{},</div></div><div class=\"p1958\" style=\"display: none;\"><div style=\"display: table-cell;\"></div><div style=\"display: table-cell;\">js_property_callbacks&nbsp;=&nbsp;{},</div></div><div class=\"p1958\" style=\"display: none;\"><div style=\"display: table-cell;\"></div><div style=\"display: table-cell;\">left&nbsp;=&nbsp;[LinearAxis(id='p1934', ...)],</div></div><div class=\"p1958\" style=\"display: none;\"><div style=\"display: table-cell;\"></div><div style=\"display: table-cell;\">lod_factor&nbsp;=&nbsp;10,</div></div><div class=\"p1958\" style=\"display: none;\"><div style=\"display: table-cell;\"></div><div style=\"display: table-cell;\">lod_interval&nbsp;=&nbsp;300,</div></div><div class=\"p1958\" style=\"display: none;\"><div style=\"display: table-cell;\"></div><div style=\"display: table-cell;\">lod_threshold&nbsp;=&nbsp;2000,</div></div><div class=\"p1958\" style=\"display: none;\"><div style=\"display: table-cell;\"></div><div style=\"display: table-cell;\">lod_timeout&nbsp;=&nbsp;500,</div></div><div class=\"p1958\" style=\"display: none;\"><div style=\"display: table-cell;\"></div><div style=\"display: table-cell;\">margin&nbsp;=&nbsp;None,</div></div><div class=\"p1958\" style=\"display: none;\"><div style=\"display: table-cell;\"></div><div style=\"display: table-cell;\">match_aspect&nbsp;=&nbsp;False,</div></div><div class=\"p1958\" style=\"display: none;\"><div style=\"display: table-cell;\"></div><div style=\"display: table-cell;\">max_height&nbsp;=&nbsp;None,</div></div><div class=\"p1958\" style=\"display: none;\"><div style=\"display: table-cell;\"></div><div style=\"display: table-cell;\">max_width&nbsp;=&nbsp;None,</div></div><div class=\"p1958\" style=\"display: none;\"><div style=\"display: table-cell;\"></div><div style=\"display: table-cell;\">min_border&nbsp;=&nbsp;5,</div></div><div class=\"p1958\" style=\"display: none;\"><div style=\"display: table-cell;\"></div><div style=\"display: table-cell;\">min_border_bottom&nbsp;=&nbsp;None,</div></div><div class=\"p1958\" style=\"display: none;\"><div style=\"display: table-cell;\"></div><div style=\"display: table-cell;\">min_border_left&nbsp;=&nbsp;None,</div></div><div class=\"p1958\" style=\"display: none;\"><div style=\"display: table-cell;\"></div><div style=\"display: table-cell;\">min_border_right&nbsp;=&nbsp;None,</div></div><div class=\"p1958\" style=\"display: none;\"><div style=\"display: table-cell;\"></div><div style=\"display: table-cell;\">min_border_top&nbsp;=&nbsp;None,</div></div><div class=\"p1958\" style=\"display: none;\"><div style=\"display: table-cell;\"></div><div style=\"display: table-cell;\">min_height&nbsp;=&nbsp;None,</div></div><div class=\"p1958\" style=\"display: none;\"><div style=\"display: table-cell;\"></div><div style=\"display: table-cell;\">min_width&nbsp;=&nbsp;None,</div></div><div class=\"p1958\" style=\"display: none;\"><div style=\"display: table-cell;\"></div><div style=\"display: table-cell;\">name&nbsp;=&nbsp;None,</div></div><div class=\"p1958\" style=\"display: none;\"><div style=\"display: table-cell;\"></div><div style=\"display: table-cell;\">outline_line_alpha&nbsp;=&nbsp;1.0,</div></div><div class=\"p1958\" style=\"display: none;\"><div style=\"display: table-cell;\"></div><div style=\"display: table-cell;\">outline_line_cap&nbsp;=&nbsp;'butt',</div></div><div class=\"p1958\" style=\"display: none;\"><div style=\"display: table-cell;\"></div><div style=\"display: table-cell;\">outline_line_color&nbsp;=&nbsp;'#e5e5e5',</div></div><div class=\"p1958\" style=\"display: none;\"><div style=\"display: table-cell;\"></div><div style=\"display: table-cell;\">outline_line_dash&nbsp;=&nbsp;[],</div></div><div class=\"p1958\" style=\"display: none;\"><div style=\"display: table-cell;\"></div><div style=\"display: table-cell;\">outline_line_dash_offset&nbsp;=&nbsp;0,</div></div><div class=\"p1958\" style=\"display: none;\"><div style=\"display: table-cell;\"></div><div style=\"display: table-cell;\">outline_line_join&nbsp;=&nbsp;'bevel',</div></div><div class=\"p1958\" style=\"display: none;\"><div style=\"display: table-cell;\"></div><div style=\"display: table-cell;\">outline_line_width&nbsp;=&nbsp;1,</div></div><div class=\"p1958\" style=\"display: none;\"><div style=\"display: table-cell;\"></div><div style=\"display: table-cell;\">output_backend&nbsp;=&nbsp;'canvas',</div></div><div class=\"p1958\" style=\"display: none;\"><div style=\"display: table-cell;\"></div><div style=\"display: table-cell;\">renderers&nbsp;=&nbsp;[GlyphRenderer(id='p1952', ...)],</div></div><div class=\"p1958\" style=\"display: none;\"><div style=\"display: table-cell;\"></div><div style=\"display: table-cell;\">reset_policy&nbsp;=&nbsp;'standard',</div></div><div class=\"p1958\" style=\"display: none;\"><div style=\"display: table-cell;\"></div><div style=\"display: table-cell;\">resizable&nbsp;=&nbsp;False,</div></div><div class=\"p1958\" style=\"display: none;\"><div style=\"display: table-cell;\"></div><div style=\"display: table-cell;\">right&nbsp;=&nbsp;[],</div></div><div class=\"p1958\" style=\"display: none;\"><div style=\"display: table-cell;\"></div><div style=\"display: table-cell;\">sizing_mode&nbsp;=&nbsp;None,</div></div><div class=\"p1958\" style=\"display: none;\"><div style=\"display: table-cell;\"></div><div style=\"display: table-cell;\">styles&nbsp;=&nbsp;{},</div></div><div class=\"p1958\" style=\"display: none;\"><div style=\"display: table-cell;\"></div><div style=\"display: table-cell;\">stylesheets&nbsp;=&nbsp;[],</div></div><div class=\"p1958\" style=\"display: none;\"><div style=\"display: table-cell;\"></div><div style=\"display: table-cell;\">subscribed_events&nbsp;=&nbsp;PropertyValueSet(),</div></div><div class=\"p1958\" style=\"display: none;\"><div style=\"display: table-cell;\"></div><div style=\"display: table-cell;\">syncable&nbsp;=&nbsp;True,</div></div><div class=\"p1958\" style=\"display: none;\"><div style=\"display: table-cell;\"></div><div style=\"display: table-cell;\">tags&nbsp;=&nbsp;[],</div></div><div class=\"p1958\" style=\"display: none;\"><div style=\"display: table-cell;\"></div><div style=\"display: table-cell;\">title&nbsp;=&nbsp;Title(id='p1925', ...),</div></div><div class=\"p1958\" style=\"display: none;\"><div style=\"display: table-cell;\"></div><div style=\"display: table-cell;\">title_location&nbsp;=&nbsp;'above',</div></div><div class=\"p1958\" style=\"display: none;\"><div style=\"display: table-cell;\"></div><div style=\"display: table-cell;\">toolbar&nbsp;=&nbsp;Toolbar(id='p1926', ...),</div></div><div class=\"p1958\" style=\"display: none;\"><div style=\"display: table-cell;\"></div><div style=\"display: table-cell;\">toolbar_inner&nbsp;=&nbsp;False,</div></div><div class=\"p1958\" style=\"display: none;\"><div style=\"display: table-cell;\"></div><div style=\"display: table-cell;\">toolbar_location&nbsp;=&nbsp;'right',</div></div><div class=\"p1958\" style=\"display: none;\"><div style=\"display: table-cell;\"></div><div style=\"display: table-cell;\">toolbar_sticky&nbsp;=&nbsp;True,</div></div><div class=\"p1958\" style=\"display: none;\"><div style=\"display: table-cell;\"></div><div style=\"display: table-cell;\">visible&nbsp;=&nbsp;True,</div></div><div class=\"p1958\" style=\"display: none;\"><div style=\"display: table-cell;\"></div><div style=\"display: table-cell;\">width&nbsp;=&nbsp;600,</div></div><div class=\"p1958\" style=\"display: none;\"><div style=\"display: table-cell;\"></div><div style=\"display: table-cell;\">width_policy&nbsp;=&nbsp;'auto',</div></div><div class=\"p1958\" style=\"display: none;\"><div style=\"display: table-cell;\"></div><div style=\"display: table-cell;\">x_range&nbsp;=&nbsp;DataRange1d(id='p1919', ...),</div></div><div class=\"p1958\" style=\"display: none;\"><div style=\"display: table-cell;\"></div><div style=\"display: table-cell;\">x_scale&nbsp;=&nbsp;LinearScale(id='p1927', ...),</div></div><div class=\"p1958\" style=\"display: none;\"><div style=\"display: table-cell;\"></div><div style=\"display: table-cell;\">y_range&nbsp;=&nbsp;DataRange1d(id='p1920', ...),</div></div><div class=\"p1958\" style=\"display: none;\"><div style=\"display: table-cell;\"></div><div style=\"display: table-cell;\">y_scale&nbsp;=&nbsp;LinearScale(id='p1928', ...))</div></div></div>\n",
              "<script>\n",
              "(function() {\n",
              "  let expanded = false;\n",
              "  const ellipsis = document.getElementById(\"p1959\");\n",
              "  ellipsis.addEventListener(\"click\", function() {\n",
              "    const rows = document.getElementsByClassName(\"p1958\");\n",
              "    for (let i = 0; i < rows.length; i++) {\n",
              "      const el = rows[i];\n",
              "      el.style.display = expanded ? \"none\" : \"table-row\";\n",
              "    }\n",
              "    ellipsis.innerHTML = expanded ? \"&hellip;)\" : \"&lsaquo;&lsaquo;&lsaquo;\";\n",
              "    expanded = !expanded;\n",
              "  });\n",
              "})();\n",
              "</script>\n"
            ]
          },
          "metadata": {},
          "execution_count": 111
        }
      ],
      "source": [
        "output_notebook()\n",
        "def draw_vectors(x, y, radius=10, alpha=0.25, color='blue',\n",
        "                 width=600, height=400, show=True, **kwargs):\n",
        "    if isinstance(color, str): color = [color] * len(x)\n",
        "    data_source = bm.ColumnDataSource({ 'x' : x, 'y' : y, 'color': color, **kwargs })\n",
        "\n",
        "    fig = pl.figure(active_scroll='wheel_zoom', width=width, height=height)\n",
        "    fig.scatter('x', 'y', size=radius, color='color', alpha=alpha, source=data_source)\n",
        "\n",
        "    fig.add_tools(bm.HoverTool(tooltips=[(key, \"@\" + key) for key in kwargs.keys()]))\n",
        "    if show: pl.show(fig)\n",
        "    return fig\n",
        "\n",
        "\n",
        "draw_vectors(word_vectors_pca[:, 0], word_vectors_pca[:, 1], token=words)"
      ]
    },
    {
      "cell_type": "code",
      "execution_count": null,
      "metadata": {
        "id": "QBvEyrZQVGxu"
      },
      "outputs": [],
      "source": [
        "word_vectors = []\n",
        "for word in words:\n",
        "    try:\n",
        "        word_vectors.append(model_2[word.lower()])\n",
        "    except:\n",
        "        pass"
      ]
    },
    {
      "cell_type": "code",
      "execution_count": null,
      "metadata": {
        "id": "4xlqWWu-VSq8"
      },
      "outputs": [],
      "source": [
        "PCA.fit(word_vectors)\n",
        "word_vectors_pca = PCA.transform(word_vectors)\n",
        "\n",
        "ss = StandardScaler().fit(word_vectors_pca)\n",
        "word_vectors_pca = ss.transform(word_vectors_pca)"
      ]
    },
    {
      "cell_type": "code",
      "execution_count": null,
      "metadata": {
        "colab": {
          "base_uri": "https://localhost:8080/",
          "height": 434
        },
        "id": "j9JphCcXVlSW",
        "outputId": "43135e31-07ef-4740-c15c-d483d57bcaa7"
      },
      "outputs": [
        {
          "output_type": "display_data",
          "data": {
            "application/javascript": [
              "(function(root) {\n",
              "  function now() {\n",
              "    return new Date();\n",
              "  }\n",
              "\n",
              "  const force = true;\n",
              "\n",
              "  if (typeof root._bokeh_onload_callbacks === \"undefined\" || force === true) {\n",
              "    root._bokeh_onload_callbacks = [];\n",
              "    root._bokeh_is_loading = undefined;\n",
              "  }\n",
              "\n",
              "const JS_MIME_TYPE = 'application/javascript';\n",
              "  const HTML_MIME_TYPE = 'text/html';\n",
              "  const EXEC_MIME_TYPE = 'application/vnd.bokehjs_exec.v0+json';\n",
              "  const CLASS_NAME = 'output_bokeh rendered_html';\n",
              "\n",
              "  /**\n",
              "   * Render data to the DOM node\n",
              "   */\n",
              "  function render(props, node) {\n",
              "    const script = document.createElement(\"script\");\n",
              "    node.appendChild(script);\n",
              "  }\n",
              "\n",
              "  /**\n",
              "   * Handle when an output is cleared or removed\n",
              "   */\n",
              "  function handleClearOutput(event, handle) {\n",
              "    function drop(id) {\n",
              "      const view = Bokeh.index.get_by_id(id)\n",
              "      if (view != null) {\n",
              "        view.model.document.clear()\n",
              "        Bokeh.index.delete(view)\n",
              "      }\n",
              "    }\n",
              "\n",
              "    const cell = handle.cell;\n",
              "\n",
              "    const id = cell.output_area._bokeh_element_id;\n",
              "    const server_id = cell.output_area._bokeh_server_id;\n",
              "\n",
              "    // Clean up Bokeh references\n",
              "    if (id != null) {\n",
              "      drop(id)\n",
              "    }\n",
              "\n",
              "    if (server_id !== undefined) {\n",
              "      // Clean up Bokeh references\n",
              "      const cmd_clean = \"from bokeh.io.state import curstate; print(curstate().uuid_to_server['\" + server_id + \"'].get_sessions()[0].document.roots[0]._id)\";\n",
              "      cell.notebook.kernel.execute(cmd_clean, {\n",
              "        iopub: {\n",
              "          output: function(msg) {\n",
              "            const id = msg.content.text.trim()\n",
              "            drop(id)\n",
              "          }\n",
              "        }\n",
              "      });\n",
              "      // Destroy server and session\n",
              "      const cmd_destroy = \"import bokeh.io.notebook as ion; ion.destroy_server('\" + server_id + \"')\";\n",
              "      cell.notebook.kernel.execute(cmd_destroy);\n",
              "    }\n",
              "  }\n",
              "\n",
              "  /**\n",
              "   * Handle when a new output is added\n",
              "   */\n",
              "  function handleAddOutput(event, handle) {\n",
              "    const output_area = handle.output_area;\n",
              "    const output = handle.output;\n",
              "\n",
              "    // limit handleAddOutput to display_data with EXEC_MIME_TYPE content only\n",
              "    if ((output.output_type != \"display_data\") || (!Object.prototype.hasOwnProperty.call(output.data, EXEC_MIME_TYPE))) {\n",
              "      return\n",
              "    }\n",
              "\n",
              "    const toinsert = output_area.element.find(\".\" + CLASS_NAME.split(' ')[0]);\n",
              "\n",
              "    if (output.metadata[EXEC_MIME_TYPE][\"id\"] !== undefined) {\n",
              "      toinsert[toinsert.length - 1].firstChild.textContent = output.data[JS_MIME_TYPE];\n",
              "      // store reference to embed id on output_area\n",
              "      output_area._bokeh_element_id = output.metadata[EXEC_MIME_TYPE][\"id\"];\n",
              "    }\n",
              "    if (output.metadata[EXEC_MIME_TYPE][\"server_id\"] !== undefined) {\n",
              "      const bk_div = document.createElement(\"div\");\n",
              "      bk_div.innerHTML = output.data[HTML_MIME_TYPE];\n",
              "      const script_attrs = bk_div.children[0].attributes;\n",
              "      for (let i = 0; i < script_attrs.length; i++) {\n",
              "        toinsert[toinsert.length - 1].firstChild.setAttribute(script_attrs[i].name, script_attrs[i].value);\n",
              "        toinsert[toinsert.length - 1].firstChild.textContent = bk_div.children[0].textContent\n",
              "      }\n",
              "      // store reference to server id on output_area\n",
              "      output_area._bokeh_server_id = output.metadata[EXEC_MIME_TYPE][\"server_id\"];\n",
              "    }\n",
              "  }\n",
              "\n",
              "  function register_renderer(events, OutputArea) {\n",
              "\n",
              "    function append_mime(data, metadata, element) {\n",
              "      // create a DOM node to render to\n",
              "      const toinsert = this.create_output_subarea(\n",
              "        metadata,\n",
              "        CLASS_NAME,\n",
              "        EXEC_MIME_TYPE\n",
              "      );\n",
              "      this.keyboard_manager.register_events(toinsert);\n",
              "      // Render to node\n",
              "      const props = {data: data, metadata: metadata[EXEC_MIME_TYPE]};\n",
              "      render(props, toinsert[toinsert.length - 1]);\n",
              "      element.append(toinsert);\n",
              "      return toinsert\n",
              "    }\n",
              "\n",
              "    /* Handle when an output is cleared or removed */\n",
              "    events.on('clear_output.CodeCell', handleClearOutput);\n",
              "    events.on('delete.Cell', handleClearOutput);\n",
              "\n",
              "    /* Handle when a new output is added */\n",
              "    events.on('output_added.OutputArea', handleAddOutput);\n",
              "\n",
              "    /**\n",
              "     * Register the mime type and append_mime function with output_area\n",
              "     */\n",
              "    OutputArea.prototype.register_mime_type(EXEC_MIME_TYPE, append_mime, {\n",
              "      /* Is output safe? */\n",
              "      safe: true,\n",
              "      /* Index of renderer in `output_area.display_order` */\n",
              "      index: 0\n",
              "    });\n",
              "  }\n",
              "\n",
              "  // register the mime type if in Jupyter Notebook environment and previously unregistered\n",
              "  if (root.Jupyter !== undefined) {\n",
              "    const events = require('base/js/events');\n",
              "    const OutputArea = require('notebook/js/outputarea').OutputArea;\n",
              "\n",
              "    if (OutputArea.prototype.mime_types().indexOf(EXEC_MIME_TYPE) == -1) {\n",
              "      register_renderer(events, OutputArea);\n",
              "    }\n",
              "  }\n",
              "  if (typeof (root._bokeh_timeout) === \"undefined\" || force === true) {\n",
              "    root._bokeh_timeout = Date.now() + 5000;\n",
              "    root._bokeh_failed_load = false;\n",
              "  }\n",
              "\n",
              "  const NB_LOAD_WARNING = {'data': {'text/html':\n",
              "     \"<div style='background-color: #fdd'>\\n\"+\n",
              "     \"<p>\\n\"+\n",
              "     \"BokehJS does not appear to have successfully loaded. If loading BokehJS from CDN, this \\n\"+\n",
              "     \"may be due to a slow or bad network connection. Possible fixes:\\n\"+\n",
              "     \"</p>\\n\"+\n",
              "     \"<ul>\\n\"+\n",
              "     \"<li>re-rerun `output_notebook()` to attempt to load from CDN again, or</li>\\n\"+\n",
              "     \"<li>use INLINE resources instead, as so:</li>\\n\"+\n",
              "     \"</ul>\\n\"+\n",
              "     \"<code>\\n\"+\n",
              "     \"from bokeh.resources import INLINE\\n\"+\n",
              "     \"output_notebook(resources=INLINE)\\n\"+\n",
              "     \"</code>\\n\"+\n",
              "     \"</div>\"}};\n",
              "\n",
              "  function display_loaded() {\n",
              "    const el = document.getElementById(null);\n",
              "    if (el != null) {\n",
              "      el.textContent = \"BokehJS is loading...\";\n",
              "    }\n",
              "    if (root.Bokeh !== undefined) {\n",
              "      if (el != null) {\n",
              "        el.textContent = \"BokehJS \" + root.Bokeh.version + \" successfully loaded.\";\n",
              "      }\n",
              "    } else if (Date.now() < root._bokeh_timeout) {\n",
              "      setTimeout(display_loaded, 100)\n",
              "    }\n",
              "  }\n",
              "\n",
              "  function run_callbacks() {\n",
              "    try {\n",
              "      root._bokeh_onload_callbacks.forEach(function(callback) {\n",
              "        if (callback != null)\n",
              "          callback();\n",
              "      });\n",
              "    } finally {\n",
              "      delete root._bokeh_onload_callbacks\n",
              "    }\n",
              "    console.debug(\"Bokeh: all callbacks have finished\");\n",
              "  }\n",
              "\n",
              "  function load_libs(css_urls, js_urls, callback) {\n",
              "    if (css_urls == null) css_urls = [];\n",
              "    if (js_urls == null) js_urls = [];\n",
              "\n",
              "    root._bokeh_onload_callbacks.push(callback);\n",
              "    if (root._bokeh_is_loading > 0) {\n",
              "      console.debug(\"Bokeh: BokehJS is being loaded, scheduling callback at\", now());\n",
              "      return null;\n",
              "    }\n",
              "    if (js_urls == null || js_urls.length === 0) {\n",
              "      run_callbacks();\n",
              "      return null;\n",
              "    }\n",
              "    console.debug(\"Bokeh: BokehJS not loaded, scheduling load and callback at\", now());\n",
              "    root._bokeh_is_loading = css_urls.length + js_urls.length;\n",
              "\n",
              "    function on_load() {\n",
              "      root._bokeh_is_loading--;\n",
              "      if (root._bokeh_is_loading === 0) {\n",
              "        console.debug(\"Bokeh: all BokehJS libraries/stylesheets loaded\");\n",
              "        run_callbacks()\n",
              "      }\n",
              "    }\n",
              "\n",
              "    function on_error(url) {\n",
              "      console.error(\"failed to load \" + url);\n",
              "    }\n",
              "\n",
              "    for (let i = 0; i < css_urls.length; i++) {\n",
              "      const url = css_urls[i];\n",
              "      const element = document.createElement(\"link\");\n",
              "      element.onload = on_load;\n",
              "      element.onerror = on_error.bind(null, url);\n",
              "      element.rel = \"stylesheet\";\n",
              "      element.type = \"text/css\";\n",
              "      element.href = url;\n",
              "      console.debug(\"Bokeh: injecting link tag for BokehJS stylesheet: \", url);\n",
              "      document.body.appendChild(element);\n",
              "    }\n",
              "\n",
              "    for (let i = 0; i < js_urls.length; i++) {\n",
              "      const url = js_urls[i];\n",
              "      const element = document.createElement('script');\n",
              "      element.onload = on_load;\n",
              "      element.onerror = on_error.bind(null, url);\n",
              "      element.async = false;\n",
              "      element.src = url;\n",
              "      console.debug(\"Bokeh: injecting script tag for BokehJS library: \", url);\n",
              "      document.head.appendChild(element);\n",
              "    }\n",
              "  };\n",
              "\n",
              "  function inject_raw_css(css) {\n",
              "    const element = document.createElement(\"style\");\n",
              "    element.appendChild(document.createTextNode(css));\n",
              "    document.body.appendChild(element);\n",
              "  }\n",
              "\n",
              "  const js_urls = [\"https://cdn.bokeh.org/bokeh/release/bokeh-3.3.0.min.js\", \"https://cdn.bokeh.org/bokeh/release/bokeh-gl-3.3.0.min.js\", \"https://cdn.bokeh.org/bokeh/release/bokeh-widgets-3.3.0.min.js\", \"https://cdn.bokeh.org/bokeh/release/bokeh-tables-3.3.0.min.js\", \"https://cdn.bokeh.org/bokeh/release/bokeh-mathjax-3.3.0.min.js\"];\n",
              "  const css_urls = [];\n",
              "\n",
              "  const inline_js = [    function(Bokeh) {\n",
              "      Bokeh.set_log_level(\"info\");\n",
              "    },\n",
              "function(Bokeh) {\n",
              "    }\n",
              "  ];\n",
              "\n",
              "  function run_inline_js() {\n",
              "    if (root.Bokeh !== undefined || force === true) {\n",
              "          for (let i = 0; i < inline_js.length; i++) {\n",
              "      inline_js[i].call(root, root.Bokeh);\n",
              "    }\n",
              "} else if (Date.now() < root._bokeh_timeout) {\n",
              "      setTimeout(run_inline_js, 100);\n",
              "    } else if (!root._bokeh_failed_load) {\n",
              "      console.log(\"Bokeh: BokehJS failed to load within specified timeout.\");\n",
              "      root._bokeh_failed_load = true;\n",
              "    } else if (force !== true) {\n",
              "      const cell = $(document.getElementById(null)).parents('.cell').data().cell;\n",
              "      cell.output_area.append_execute_result(NB_LOAD_WARNING)\n",
              "    }\n",
              "  }\n",
              "\n",
              "  if (root._bokeh_is_loading === 0) {\n",
              "    console.debug(\"Bokeh: BokehJS loaded, going straight to plotting\");\n",
              "    run_inline_js();\n",
              "  } else {\n",
              "    load_libs(css_urls, js_urls, function() {\n",
              "      console.debug(\"Bokeh: BokehJS plotting callback run at\", now());\n",
              "      run_inline_js();\n",
              "    });\n",
              "  }\n",
              "}(window));"
            ],
            "application/vnd.bokehjs_load.v0+json": "(function(root) {\n  function now() {\n    return new Date();\n  }\n\n  const force = true;\n\n  if (typeof root._bokeh_onload_callbacks === \"undefined\" || force === true) {\n    root._bokeh_onload_callbacks = [];\n    root._bokeh_is_loading = undefined;\n  }\n\n\n  if (typeof (root._bokeh_timeout) === \"undefined\" || force === true) {\n    root._bokeh_timeout = Date.now() + 5000;\n    root._bokeh_failed_load = false;\n  }\n\n  const NB_LOAD_WARNING = {'data': {'text/html':\n     \"<div style='background-color: #fdd'>\\n\"+\n     \"<p>\\n\"+\n     \"BokehJS does not appear to have successfully loaded. If loading BokehJS from CDN, this \\n\"+\n     \"may be due to a slow or bad network connection. Possible fixes:\\n\"+\n     \"</p>\\n\"+\n     \"<ul>\\n\"+\n     \"<li>re-rerun `output_notebook()` to attempt to load from CDN again, or</li>\\n\"+\n     \"<li>use INLINE resources instead, as so:</li>\\n\"+\n     \"</ul>\\n\"+\n     \"<code>\\n\"+\n     \"from bokeh.resources import INLINE\\n\"+\n     \"output_notebook(resources=INLINE)\\n\"+\n     \"</code>\\n\"+\n     \"</div>\"}};\n\n  function display_loaded() {\n    const el = document.getElementById(null);\n    if (el != null) {\n      el.textContent = \"BokehJS is loading...\";\n    }\n    if (root.Bokeh !== undefined) {\n      if (el != null) {\n        el.textContent = \"BokehJS \" + root.Bokeh.version + \" successfully loaded.\";\n      }\n    } else if (Date.now() < root._bokeh_timeout) {\n      setTimeout(display_loaded, 100)\n    }\n  }\n\n  function run_callbacks() {\n    try {\n      root._bokeh_onload_callbacks.forEach(function(callback) {\n        if (callback != null)\n          callback();\n      });\n    } finally {\n      delete root._bokeh_onload_callbacks\n    }\n    console.debug(\"Bokeh: all callbacks have finished\");\n  }\n\n  function load_libs(css_urls, js_urls, callback) {\n    if (css_urls == null) css_urls = [];\n    if (js_urls == null) js_urls = [];\n\n    root._bokeh_onload_callbacks.push(callback);\n    if (root._bokeh_is_loading > 0) {\n      console.debug(\"Bokeh: BokehJS is being loaded, scheduling callback at\", now());\n      return null;\n    }\n    if (js_urls == null || js_urls.length === 0) {\n      run_callbacks();\n      return null;\n    }\n    console.debug(\"Bokeh: BokehJS not loaded, scheduling load and callback at\", now());\n    root._bokeh_is_loading = css_urls.length + js_urls.length;\n\n    function on_load() {\n      root._bokeh_is_loading--;\n      if (root._bokeh_is_loading === 0) {\n        console.debug(\"Bokeh: all BokehJS libraries/stylesheets loaded\");\n        run_callbacks()\n      }\n    }\n\n    function on_error(url) {\n      console.error(\"failed to load \" + url);\n    }\n\n    for (let i = 0; i < css_urls.length; i++) {\n      const url = css_urls[i];\n      const element = document.createElement(\"link\");\n      element.onload = on_load;\n      element.onerror = on_error.bind(null, url);\n      element.rel = \"stylesheet\";\n      element.type = \"text/css\";\n      element.href = url;\n      console.debug(\"Bokeh: injecting link tag for BokehJS stylesheet: \", url);\n      document.body.appendChild(element);\n    }\n\n    for (let i = 0; i < js_urls.length; i++) {\n      const url = js_urls[i];\n      const element = document.createElement('script');\n      element.onload = on_load;\n      element.onerror = on_error.bind(null, url);\n      element.async = false;\n      element.src = url;\n      console.debug(\"Bokeh: injecting script tag for BokehJS library: \", url);\n      document.head.appendChild(element);\n    }\n  };\n\n  function inject_raw_css(css) {\n    const element = document.createElement(\"style\");\n    element.appendChild(document.createTextNode(css));\n    document.body.appendChild(element);\n  }\n\n  const js_urls = [\"https://cdn.bokeh.org/bokeh/release/bokeh-3.3.0.min.js\", \"https://cdn.bokeh.org/bokeh/release/bokeh-gl-3.3.0.min.js\", \"https://cdn.bokeh.org/bokeh/release/bokeh-widgets-3.3.0.min.js\", \"https://cdn.bokeh.org/bokeh/release/bokeh-tables-3.3.0.min.js\", \"https://cdn.bokeh.org/bokeh/release/bokeh-mathjax-3.3.0.min.js\"];\n  const css_urls = [];\n\n  const inline_js = [    function(Bokeh) {\n      Bokeh.set_log_level(\"info\");\n    },\nfunction(Bokeh) {\n    }\n  ];\n\n  function run_inline_js() {\n    if (root.Bokeh !== undefined || force === true) {\n          for (let i = 0; i < inline_js.length; i++) {\n      inline_js[i].call(root, root.Bokeh);\n    }\n} else if (Date.now() < root._bokeh_timeout) {\n      setTimeout(run_inline_js, 100);\n    } else if (!root._bokeh_failed_load) {\n      console.log(\"Bokeh: BokehJS failed to load within specified timeout.\");\n      root._bokeh_failed_load = true;\n    } else if (force !== true) {\n      const cell = $(document.getElementById(null)).parents('.cell').data().cell;\n      cell.output_area.append_execute_result(NB_LOAD_WARNING)\n    }\n  }\n\n  if (root._bokeh_is_loading === 0) {\n    console.debug(\"Bokeh: BokehJS loaded, going straight to plotting\");\n    run_inline_js();\n  } else {\n    load_libs(css_urls, js_urls, function() {\n      console.debug(\"Bokeh: BokehJS plotting callback run at\", now());\n      run_inline_js();\n    });\n  }\n}(window));"
          },
          "metadata": {}
        },
        {
          "output_type": "display_data",
          "data": {
            "text/html": [
              "\n",
              "  <div id=\"f19c6f49-b035-4ec5-8a86-ae60234f9514\" data-root-id=\"p1963\" style=\"display: contents;\"></div>\n"
            ]
          },
          "metadata": {}
        },
        {
          "output_type": "display_data",
          "data": {
            "application/javascript": [
              "(function(root) {\n",
              "  function embed_document(root) {\n",
              "  const docs_json = {\"5b664a72-0b70-4066-b468-93ca64b58583\":{\"version\":\"3.3.0\",\"title\":\"Bokeh Application\",\"roots\":[{\"type\":\"object\",\"name\":\"Figure\",\"id\":\"p1963\",\"attributes\":{\"height\":400,\"x_range\":{\"type\":\"object\",\"name\":\"DataRange1d\",\"id\":\"p1964\"},\"y_range\":{\"type\":\"object\",\"name\":\"DataRange1d\",\"id\":\"p1965\"},\"x_scale\":{\"type\":\"object\",\"name\":\"LinearScale\",\"id\":\"p1972\"},\"y_scale\":{\"type\":\"object\",\"name\":\"LinearScale\",\"id\":\"p1973\"},\"title\":{\"type\":\"object\",\"name\":\"Title\",\"id\":\"p1970\"},\"renderers\":[{\"type\":\"object\",\"name\":\"GlyphRenderer\",\"id\":\"p1997\",\"attributes\":{\"data_source\":{\"type\":\"object\",\"name\":\"ColumnDataSource\",\"id\":\"p1960\",\"attributes\":{\"selected\":{\"type\":\"object\",\"name\":\"Selection\",\"id\":\"p1961\",\"attributes\":{\"indices\":[],\"line_indices\":[]}},\"selection_policy\":{\"type\":\"object\",\"name\":\"UnionRenderers\",\"id\":\"p1962\"},\"data\":{\"type\":\"map\",\"entries\":[[\"x\",{\"type\":\"ndarray\",\"array\":{\"type\":\"bytes\",\"data\":\"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\"},\"shape\":[622],\"dtype\":\"float64\",\"order\":\"little\"}],[\"y\",{\"type\":\"ndarray\",\"array\":{\"type\":\"bytes\",\"data\":\"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\"},\"shape\":[622],\"dtype\":\"float64\",\"order\":\"little\"}],[\"color\",[\"blue\",\"blue\",\"blue\",\"blue\",\"blue\",\"blue\",\"blue\",\"blue\",\"blue\",\"blue\",\"blue\",\"blue\",\"blue\",\"blue\",\"blue\",\"blue\",\"blue\",\"blue\",\"blue\",\"blue\",\"blue\",\"blue\",\"blue\",\"blue\",\"blue\",\"blue\",\"blue\",\"blue\",\"blue\",\"blue\",\"blue\",\"blue\",\"blue\",\"blue\",\"blue\",\"blue\",\"blue\",\"blue\",\"blue\",\"blue\",\"blue\",\"blue\",\"blue\",\"blue\",\"blue\",\"blue\",\"blue\",\"blue\",\"blue\",\"blue\",\"blue\",\"blue\",\"blue\",\"blue\",\"blue\",\"blue\",\"blue\",\"blue\",\"blue\",\"blue\",\"blue\",\"blue\",\"blue\",\"blue\",\"blue\",\"blue\",\"blue\",\"blue\",\"blue\",\"blue\",\"blue\",\"blue\",\"blue\",\"blue\",\"blue\",\"blue\",\"blue\",\"blue\",\"blue\",\"blue\",\"blue\",\"blue\",\"blue\",\"blue\",\"blue\",\"blue\",\"blue\",\"blue\",\"blue\",\"blue\",\"blue\",\"blue\",\"blue\",\"blue\",\"blue\",\"blue\",\"blue\",\"blue\",\"blue\",\"blue\",\"blue\",\"blue\",\"blue\",\"blue\",\"blue\",\"blue\",\"blue\",\"blue\",\"blue\",\"blue\",\"blue\",\"blue\",\"blue\",\"blue\",\"blue\",\"blue\",\"blue\",\"blue\",\"blue\",\"blue\",\"blue\",\"blue\",\"blue\",\"blue\",\"blue\",\"blue\",\"blue\",\"blue\",\"blue\",\"blue\",\"blue\",\"blue\",\"blue\",\"blue\",\"blue\",\"blue\",\"blue\",\"blue\",\"blue\",\"blue\",\"blue\",\"blue\",\"blue\",\"blue\",\"blue\",\"blue\",\"blue\",\"blue\",\"blue\",\"blue\",\"blue\",\"blue\",\"blue\",\"blue\",\"blue\",\"blue\",\"blue\",\"blue\",\"blue\",\"blue\",\"blue\",\"blue\",\"blue\",\"blue\",\"blue\",\"blue\",\"blue\",\"blue\",\"blue\",\"blue\",\"blue\",\"blue\",\"blue\",\"blue\",\"blue\",\"blue\",\"blue\",\"blue\",\"blue\",\"blue\",\"blue\",\"blue\",\"blue\",\"blue\",\"blue\",\"blue\",\"blue\",\"blue\",\"blue\",\"blue\",\"blue\",\"blue\",\"blue\",\"blue\",\"blue\",\"blue\",\"blue\",\"blue\",\"blue\",\"blue\",\"blue\",\"blue\",\"blue\",\"blue\",\"blue\",\"blue\",\"blue\",\"blue\",\"blue\",\"blue\",\"blue\",\"blue\",\"blue\",\"blue\",\"blue\",\"blue\",\"blue\",\"blue\",\"blue\",\"blue\",\"blue\",\"blue\",\"blue\",\"blue\",\"blue\",\"blue\",\"blue\",\"blue\",\"blue\",\"blue\",\"blue\",\"blue\",\"blue\",\"blue\",\"blue\",\"blue\",\"blue\",\"blue\",\"blue\",\"blue\",\"blue\",\"blue\",\"blue\",\"blue\",\"blue\",\"blue\",\"blue\",\"blue\",\"blue\",\"blue\",\"blue\",\"blue\",\"blue\",\"blue\",\"blue\",\"blue\",\"blue\",\"blue\",\"blue\",\"blue\",\"blue\",\"blue\",\"blue\",\"blue\",\"blue\",\"blue\",\"blue\",\"blue\",\"blue\",\"blue\",\"blue\",\"blue\",\"blue\",\"blue\",\"blue\",\"blue\",\"blue\",\"blue\",\"blue\",\"blue\",\"blue\",\"blue\",\"blue\",\"blue\",\"blue\",\"blue\",\"blue\",\"blue\",\"blue\",\"blue\",\"blue\",\"blue\",\"blue\",\"blue\",\"blue\",\"blue\",\"blue\",\"blue\",\"blue\",\"blue\",\"blue\",\"blue\",\"blue\",\"blue\",\"blue\",\"blue\",\"blue\",\"blue\",\"blue\",\"blue\",\"blue\",\"blue\",\"blue\",\"blue\",\"blue\",\"blue\",\"blue\",\"blue\",\"blue\",\"blue\",\"blue\",\"blue\",\"blue\",\"blue\",\"blue\",\"blue\",\"blue\",\"blue\",\"blue\",\"blue\",\"blue\",\"blue\",\"blue\",\"blue\",\"blue\",\"blue\",\"blue\",\"blue\",\"blue\",\"blue\",\"blue\",\"blue\",\"blue\",\"blue\",\"blue\",\"blue\",\"blue\",\"blue\",\"blue\",\"blue\",\"blue\",\"blue\",\"blue\",\"blue\",\"blue\",\"blue\",\"blue\",\"blue\",\"blue\",\"blue\",\"blue\",\"blue\",\"blue\",\"blue\",\"blue\",\"blue\",\"blue\",\"blue\",\"blue\",\"blue\",\"blue\",\"blue\",\"blue\",\"blue\",\"blue\",\"blue\",\"blue\",\"blue\",\"blue\",\"blue\",\"blue\",\"blue\",\"blue\",\"blue\",\"blue\",\"blue\",\"blue\",\"blue\",\"blue\",\"blue\",\"blue\",\"blue\",\"blue\",\"blue\",\"blue\",\"blue\",\"blue\",\"blue\",\"blue\",\"blue\",\"blue\",\"blue\",\"blue\",\"blue\",\"blue\",\"blue\",\"blue\",\"blue\",\"blue\",\"blue\",\"blue\",\"blue\",\"blue\",\"blue\",\"blue\",\"blue\",\"blue\",\"blue\",\"blue\",\"blue\",\"blue\",\"blue\",\"blue\",\"blue\",\"blue\",\"blue\",\"blue\",\"blue\",\"blue\",\"blue\",\"blue\",\"blue\",\"blue\",\"blue\",\"blue\",\"blue\",\"blue\",\"blue\",\"blue\",\"blue\",\"blue\",\"blue\",\"blue\",\"blue\",\"blue\",\"blue\",\"blue\",\"blue\",\"blue\",\"blue\",\"blue\",\"blue\",\"blue\",\"blue\",\"blue\",\"blue\",\"blue\",\"blue\",\"blue\",\"blue\",\"blue\",\"blue\",\"blue\",\"blue\",\"blue\",\"blue\",\"blue\",\"blue\",\"blue\",\"blue\",\"blue\",\"blue\",\"blue\",\"blue\",\"blue\",\"blue\",\"blue\",\"blue\",\"blue\",\"blue\",\"blue\",\"blue\",\"blue\",\"blue\",\"blue\",\"blue\",\"blue\",\"blue\",\"blue\",\"blue\",\"blue\",\"blue\",\"blue\",\"blue\",\"blue\",\"blue\",\"blue\",\"blue\",\"blue\",\"blue\",\"blue\",\"blue\",\"blue\",\"blue\",\"blue\",\"blue\",\"blue\",\"blue\",\"blue\",\"blue\",\"blue\",\"blue\",\"blue\",\"blue\",\"blue\",\"blue\",\"blue\",\"blue\",\"blue\",\"blue\",\"blue\",\"blue\",\"blue\",\"blue\",\"blue\",\"blue\",\"blue\",\"blue\",\"blue\",\"blue\",\"blue\",\"blue\",\"blue\",\"blue\",\"blue\",\"blue\",\"blue\",\"blue\",\"blue\",\"blue\",\"blue\",\"blue\",\"blue\",\"blue\",\"blue\",\"blue\",\"blue\",\"blue\",\"blue\",\"blue\",\"blue\",\"blue\",\"blue\",\"blue\",\"blue\",\"blue\",\"blue\",\"blue\",\"blue\",\"blue\",\"blue\",\"blue\",\"blue\",\"blue\",\"blue\",\"blue\",\"blue\",\"blue\",\"blue\",\"blue\",\"blue\",\"blue\",\"blue\",\"blue\",\"blue\",\"blue\",\"blue\",\"blue\",\"blue\",\"blue\",\"blue\",\"blue\",\"blue\",\"blue\",\"blue\",\"blue\",\"blue\",\"blue\",\"blue\",\"blue\",\"blue\",\"blue\",\"blue\",\"blue\",\"blue\",\"blue\",\"blue\",\"blue\",\"blue\",\"blue\",\"blue\",\"blue\",\"blue\",\"blue\",\"blue\",\"blue\",\"blue\",\"blue\",\"blue\",\"blue\",\"blue\",\"blue\",\"blue\",\"blue\",\"blue\",\"blue\",\"blue\",\"blue\",\"blue\",\"blue\",\"blue\",\"blue\"]],[\"token\",[\"\\u0434\\u043e\\u0431\\u0440\\u0435\\u043d\\u044c\\u043a\\u0438\\u0439\",\"\\u043f\\u043b\\u0430\\u0442\\u044c\\u0438\\u0448\\u043a\\u043e\",\"\\u0436\\u0435\\u043b\\u0430\\u043d\\u0438\\u0435\",\"\\u043b\\u044c\",\"\\u0441\\u043c\\u043e\\u0442\\u0440\\u0435\\u0442\\u044c\",\"\\u043d\\u0430\\u043a\\u043e\\u043d\\u0435\\u0446\",\"\\u0433\\u043e\\u0440\\u0435\\u043c\\u044b\\u0447\\u043d\\u044b\\u0439\",\"\\u043f\\u043e\\u0433\\u0440\\u043e\\u0437\\u0438\\u0442\\u044c\",\"\\u043a\\u0440\\u043e\\u0442\\u043a\\u0438\\u0439\",\"\\u043f\\u043b\\u0430\\u0442\\u0438\\u0442\\u044c\",\"\\u0447\\u0443\\u0434\\u043d\\u044b\\u0439\",\"\\u0432\\u043e\\u043b\\u043e\\u0441\",\"\\u0448\\u0430\\u043b\\u0443\\u043d\\u044c\\u044f\",\"\\u0437\\u043d\\u0430\\u0442\\u044c\",\"\\u043b\\u0438\\u0447\\u0438\\u043a\\u043e-\\u0442\\u043e\",\"\\u043e\\u043f\\u044b\\u0442\",\"\\u043f\\u043e\\u043f\\u0438\\u0441\\u0430\\u0442\\u044c\",\"\\u0441\\u0440\\u0430\\u0432\\u043d\\u0435\\u043d\\u0438\\u0435\",\"\\u043f\\u043e\\u043c\\u043e\\u0447\\u044c\",\"\\u043d\\u0430\\u0437\\u0430\\u0434\",\"\\u043a\\u0430\\u0437\\u0430\\u0442\\u044c\\u0441\\u044f\",\"\\u043f\\u043e\\u0441\\u0440\\u0435\\u0434\\u0438\\u043d\\u0435\",\"\\u0441\\u0430\\u043f\\u043e\\u0436\\u0438\\u0448\\u043a\\u0438\",\"\\u043a\\u0440\\u044b\\u043b\\u043e\",\"\\u043b\\u0438\\u0441\\u0442\",\"\\u0431\\u0443\\u0434\\u0443\\u0449\\u0435\\u0435\",\"\\u043d\\u043e\",\"\\u0434\\u0440\\u044f\\u043d\\u044c\",\"\\u0442\\u0432\\u043e\\u0440\\u0435\\u0446\",\"\\u0432\\u044b-\\u0442\\u0430\\u043a\\u0438\",\"\\u0437\\u0430\\u0433\\u043d\\u0443\\u0442\\u044b\\u0439\",\"\\u043f\\u0440\\u0438\\u044f\\u0442\\u043d\\u043e\",\"\\u043f\\u043e\\u0442\\u043e\\u043c\",\"\\u0445\\u043e\\u0440\\u043e\\u0448\\u043e\",\"\\u0431\\u0435\\u0441\\u043f\\u043e\\u043a\\u043e\\u0438\\u0442\\u044c\",\"\\u0434\\u0430\\u0442\\u044c\",\"\\u0441\\u043b\\u0430\\u0432\\u0430\",\"\\u043f\\u043e\\u0441\\u0441\\u043e\\u0440\\u0438\\u0442\\u044c\\u0441\\u044f\",\"\\u0442\\u0440\\u0435\\u0432\\u043e\\u043b\\u043d\\u0435\\u043d\\u0438\\u0435\",\"\\u0442\\u043e\",\"\\u0441\\u0435\\u0440\\u0435\\u043d\\u044c\\u043a\\u043e\",\"\\u0442\\u0432\\u0451\\u0440\\u0434\\u044b\\u0439\",\"\\u0442\\u0440\\u0438\\u0434\\u0446\\u0430\\u0442\\u044c\",\"\\u0433\\u043e\\u0434\",\"\\u043a\\u0440\\u0438\\u043a\",\"\\u0441\\u0430\\u0445\\u0430\\u0440\",\"\\u043f\\u043e\\u043b\",\"\\u043d\\u0443\",\"\\u043f\\u0440\\u043e\\u0441\\u044b\\u043f\\u0430\\u0442\\u044c\\u0441\\u044f\",\"\\u0438\\u0434\\u0442\\u0438\",\"\\u0430\\u0441\\u0441\\u0438\\u0433\\u043d\\u0430\\u0446\\u0438\\u044f\",\"\\u0441\\u0447\\u0430\\u0441\\u0442\\u043b\\u0438\\u0432\\u044b\\u0439\",\"\\u0440\\u0430\\u0441\\u043a\\u0440\\u0430\\u0441\\u043d\\u0435\\u0442\\u044c\\u0441\\u044f\",\"\\u043f\\u043e\\u0446\\u0435\\u043b\\u043e\\u0432\\u0430\\u0442\\u044c\",\"\\u0447\\u0442\\u043e-\\u0442\\u043e\",\"\\u043f\\u0440\\u043e\\u0436\\u0438\\u0442\\u044c\",\"\\u043f\\u0440\\u0435\\u043c\\u0438\\u043b\\u043e\",\"\\u0441\\u043e\\u0432\\u0435\\u0441\\u0442\\u043d\\u043e\",\"\\u0434\\u043e\\u0432\\u043e\\u043b\\u044c\\u043d\\u044b\\u0439\",\"\\u043b\\u0438\\u0442\\u0435\\u0440\\u0430\\u0442\\u0443\\u0440\\u043d\\u044b\\u0439\",\"\\u0437\\u0430\\u043f\\u0440\\u044b\\u0433\\u0430\\u0442\\u044c\",\"\\u043b\\u0435\\u0442\\u0435\\u0442\\u044c\",\"\\u0434\\u0440\\u0443\\u0433\\u043e\\u0439\",\"\\u0438\",\"\\u0440\\u043e\\u0437\\u043e\\u0432\\u044b\\u0439\",\"\\u0447\\u0430\\u0441\\u043e\\u0447\\u0435\\u043a-\\u0434\\u0440\\u0443\\u0433\\u043e\\u0439\",\"\\u043d\\u0430\\u0440\\u043e\\u0434\",\"\\u043f\\u0435\\u0440\\u0435\\u0441\\u0442\\u0430\\u0432\\u043b\\u044f\\u0442\\u044c\",\"\\u0440\\u0430\\u0434\\u0438\",\"\\u043f\\u043e\\u0441\\u043b\\u0435\",\"\\u0432\\u0441\\u0435\\u044f\\u0442\\u044c\",\"\\u0433\\u043e\\u0441\\u043f\\u043e\\u0434\\u044c\",\"\\u0441\\u043b\\u0430\\u0431\\u0435\\u0442\\u044c\",\"\\u0441\\u0432\\u044f\\u0442\\u043e\\u0439\",\"\\u0432\\u0438\\u0434\\u0435\\u0442\\u044c\",\"\\u0432\\u044b\\u0440\\u044b\\u0432\\u0430\\u0442\\u044c\",\"\\u0447\\u0438\\u0440\\u0438\\u043a\\u0430\\u0442\\u044c\",\"\\u0448\\u0443\\u043c\",\"\\u043a\\u0430\\u0440\\u0442\\u0430\",\"\\u043e\\u0434\\u0438\\u043d\\u043e\\u0447\\u0435\\u0441\\u0442\\u0432\\u043e\",\"\\u0441\\u043b\\u043e\\u0432\\u043e\",\"\\u0441\\u0442\\u043e\\u0438\\u0442\\u044c\",\"\\u0432\\u043e\\u0440\\u0447\\u043b\\u0438\\u0432\\u044b\\u0439\",\"\\u0432\\u043e\\u043f\\u0440\\u0435\\u043a\\u0438\",\"\\u0447\\u0442\\u043e-\\u0447\\u0442\\u043e\",\"\\u0443\\u0435\\u0434\\u0438\\u043d\\u0435\\u043d\\u0438\\u0435\",\"\\u0437\\u0430\",\"\\u043e\\u0434\\u043e\\u0435\\u0432\\u0441\\u043a\\u0438\\u0439\",\"\\u043e\\u0436\\u0438\\u0434\\u0430\\u043d\\u0438\\u0435\",\"\\u0433\\u043e\\u0440\\u0430\",\"\\u0438\\u0437\\u0432\\u0435\\u0441\\u0442\\u043d\\u044b\\u0439\",\"\\u043d\\u0438\\u0437\\u043a\\u0438\\u0439\",\"\\u0441\\u043a\\u0440\\u044b\\u0442\\u044c\",\"\\u043e\\u0431\\u0440\\u0430\\u0437\\u043e\\u0432\\u0430\\u0442\\u044c\",\"\\u043f\\u043e\\u043b\\u0430\\u0437\\u043e\\u0440\\u0435\\u0432\\u0435\\u0442\\u044c\",\"\\u0442\\u0443\\u0444\\u043b\\u044f\",\"\\u0434\\u0435\\u043b\\u0430\\u0442\\u044c\",\"\\u0441\\u043b\\u043e\\u0432\\u0435\\u0447\\u043a\\u043e\",\"\\u0441\\u0435\\u0440\\u0434\\u0447\\u0438\\u0448\\u043a\\u043e\",\"\\u0440\\u0430\\u0439\",\"\\u043c\\u0443\\u0445\\u0430\",\"\\u0434\\u0435\\u043d\\u0435\\u0436\\u043a\\u0430\",\"\\u0432\\u0438\\u0434\\u043d\\u044b\\u0439\",\"\\u0443\\u043a\\u0440\\u0430\\u0448\\u0435\\u043d\\u0438\\u0435\",\"\\u043c\\u044b\\u0441\\u043b\\u044c\",\"\\u0441\\u0432\\u043e\\u0431\\u043e\\u0434\\u043d\\u044b\\u0439\",\"\\u0442\\u044f\\u0436\\u0435\\u043b\\u043e\",\"\\u0437\\u0430\\u0432\\u0438\\u0434\\u043e\\u0432\\u0430\\u0442\\u044c\",\"\\u0443\\u043f\\u0440\\u044f\\u043c\\u0438\\u0446\\u0430\",\"\\u0447\\u0438\\u0442\\u0430\\u0435\\u0448\\u044c\\u2026\",\"\\u043f\\u043e\\u043c\\u0435\\u0447\\u0442\\u0430\\u0442\\u044c\",\"\\u0442\\u0435\\u0440\\u0435\\u0437\\u0430\",\"\\u0441\\u043e\\u0432\\u0435\\u0440\\u0448\\u0435\\u043d\\u043d\\u043e\",\"\\u0433\\u043e\\u0440\\u0430\\u0437\\u0434\\u043e\",\"\\u0432\\u044b\\u0433\\u0430\\u0434\\u044b\\u0432\\u0430\\u0442\\u044c\\u0441\\u044f\",\"\\u043f\\u043e\\u0434\\u043b\\u0438\\u043d\\u043d\\u043e\",\"\\u0441\\u0442\\u043e\\u044f\\u0442\\u044c\",\"\\u0442\\u043e\\u043b\\u044c\\u043a\\u043e\",\"\\u0437\\u0430\\u0439\\u0442\\u0438\",\"\\u043d\\u0430\\u043f\\u0438\\u0441\\u0430\\u0442\\u044c\",\"\\u0442\\u0443\\u0442\",\"\\u0432\\u043e\\u0434\\u0438\\u0442\\u044c\\u0441\\u044f\",\"\\u0434\\u043e\\u043b\\u0436\\u043d\\u044b\\u0439\",\"\\u0441\\u0445\\u043e\\u0434\\u0438\\u0442\\u044c\",\"\\u0447\\u0442\\u043e\\u0431\\u044b\",\"\\u0441\\u0430\\u043c-\\u0442\\u043e\",\"\\u0437\\u0434\\u043e\\u0440\\u043e\\u0432\\u044b\\u0439\",\"\\u044d\\u0442\\u043e\",\"\\u0443\\u0436\\u0435\",\"\\u043a\\u0430\\u043a\\u043e\\u0439-\\u043d\\u0438\\u0431\\u0443\\u0434\\u044c\",\"\\u043f\\u043e\\u043b\\u043e\\u0436\\u0438\\u0442\\u044c\",\"\\u0431\\u043b\\u0438\\u0437\\u043a\\u043e\",\"\\u0441\\u0442\\u0440\\u0430\\u0448\\u043d\\u043e\",\"\\u043c\\u044b\",\"\\u043f\\u0435\\u0440\\u043e\",\"\\u043f\\u0435\\u0433\\u0430\\u0441-\\u0442\\u043e\",\"\\u0432\\u0441\\u043f\\u043e\\u043c\\u0438\\u043d\\u0430\\u0442\\u044c\",\"\\u0432\",\"\\u043f\\u043b\\u0430\\u043a\\u0430\\u0442\\u044c\\u0441\\u044f\",\"\\u043c\\u0430\\u043b\\u0435\\u043d\\u044c\\u043a\\u0438\\u0439\",\"\\u043f\\u0435\\u0440\\u0435\\u0434\\u0430\\u0432\\u0430\\u0442\\u044c\\u0441\\u044f-\\u0442\\u043e\",\"\\u0436\\u0438\\u0442\\u0438\\u0435-\\u0431\\u044b\\u0442\\u0438\\u0435\",\"\\u0430\\u043d\\u0433\\u043b\\u0438\\u0447\\u0430\\u043d\\u0438\\u043d-\\u0443\\u0447\\u0438\\u0442\\u0435\\u043b\\u044c\",\"\\u0440\\u044f\\u0431\\u0438\\u0442\\u044c\",\"\\u0445\\u043e\\u0440\\u043e\\u0448\\u0435\\u043d\\u044c\\u043a\\u0438\\u0439\",\"\\u0443\\u0442\\u0440\\u043e\",\"..\",\"\\u043e\\u0442\\u043a\\u0430\\u0437\\u044b\\u0432\\u0430\\u0442\\u044c\",\"\\u0441\\u0442\\u044b\\u0434\\u043d\\u043e\",\"\\u043c\\u0435\\u0447\\u0442\\u0430\\u043d\\u0438\\u0435\",\"\\u043a\\u043e\\u043c\\u043e\\u0434\",\"\\u0441\\u043e\\u0431\\u043b\\u0430\\u0437\\u043d\\u0438\\u0442\\u044c\",\"\\u043d\\u0438\",\"\\u0434\\u043e\",\"\\u043d\\u043e\\u0447\\u044c\",\"\\u0441\\u0442\\u0430\\u0440\\u0438\\u043a\",\"\\u043f\\u0430\\u043b\\u044c\\u0447\\u0438\\u043a\",\"\\u0432\\u044b\",\"\\u0437\\u0430\\u0431\\u043e\\u0442\\u0430\",\"\\u0445\\u0430\\u0440\\u0430\\u043a\\u0442\\u0435\\u0440\",\"\\u0434\\u0443\\u043c\\u0430\\u0442\\u044c\",\"\\u0437\\u0430\\u0446\\u0435\\u043f\\u0438\\u0442\\u044c\\u0441\\u044f\",\"\\u0437\\u0435\\u043c\\u043b\\u044f\",\"\\u0438\\u0437\\u043d\\u044b\\u0442\\u044c\",\"\\u0441\\u0432\\u0435\\u0440\\u0445\\u0448\\u0442\\u0430\\u0442\\u043d\\u044b\\u0439\",\"\\u0431\\u044b\",\"\\u0434\\u0435\\u0448\\u0451\\u0432\\u044b\\u0439\",\"\\u0440\\u0430\\u0441\\u0441\\u0447\\u0438\\u0442\\u044b\\u0432\\u0430\\u0442\\u044c\",\"\\u0434\\u043e\\u0432\\u043e\\u043b\\u044c\\u043d\\u043e\",\"\\u043f\\u043e\\u0445\\u043e\\u0436\\u0435\",\"\\u0441\\u043a\\u0430\\u0437\\u043e\\u0447\\u043d\\u0438\\u043a\",\"\\u0442\\u0440\\u0443\\u0449\\u043e\\u0431\\u0430\",\"\\u0437\\u0430\\u0431\\u043e\\u0442\\u0438\\u0442\\u044c\\u0441\\u044f\",\"\\u043e\\u0434\\u043d\\u0430\\u043a\\u043e\",\"\\u0432\\u043e\\u0437\\u0434\\u0430\\u0442\\u044c\",\"\\u043c\\u043d\\u043e\\u0433\\u043e\\u0435\",\"\\u0441\\u043f\\u0440\\u0430\\u0448\\u0438\\u0432\\u0430\\u0442\\u044c\",\"\\u0437\\u0430\\u0441\\u0442\\u0430\\u0432\\u0438\\u0442\\u044c\",\"\\u043e\\u0436\\u0438\\u0432\\u043b\\u044f\\u0442\\u044c\\u0441\\u044f\",\"\\u0431\\u044b\\u0432\\u0430\\u0442\\u044c\",\"\\u0443\\u0434\\u043e\\u0431\\u0441\\u0442\\u0432\\u043e-\\u0442\\u043e\",\"\\u043f\\u0440\\u0430\\u0432\\u0434\\u0430\",\"\\u0441\\u0442\\u0438\\u0448\\u043e\\u043a\",\"\\u0431\\u0435\\u0437\\u043c\\u044f\\u0442\\u0435\\u0436\\u043d\\u044b\\u0439\",\"\\u0441\\u0432\\u043e\\u0439\",\"\\u043a\\u0440\\u0443\\u0433\\u043e\\u043c\",\"\\u043b\\u0435\\u0432\\u044b\\u0439\",\"\\u043a\\u0430\\u043a-\\u0442\\u043e\",\"\\u043e\\u0442\\u0432\\u0435\\u0447\\u0430\\u0442\\u044c\",\"\\u0441\\u043f\\u043b\\u043e\\u0448\\u044c\",\"\\u0434\\u043e\\u043b\\u044f\",\"\\u043f\\u043e\\u0440\\u0445\\u043d\\u0443\\u0442\\u044c\",\"\\u043f\\u0430\\u0440\\u043e\\u0447\\u043a\\u0430\",\"\\u0441\\u043a\\u0443\\u0448\\u0430\\u0442\\u044c\",\"\\u0433\\u0440\\u0443\\u0441\\u0442\\u0438\\u0442\\u044c\",\"\\u0432\\u044b\\u0439\\u0442\\u0438-\\u0442\\u043e\",\"\\u0434\\u0430\\u0432\\u043d\\u043e\",\"\\u0432\\u0447\\u0435\\u0440\\u0430\",\"\\u0440\\u0430\\u0431\\u043e\\u0442\\u0430\",\"\\u043a\\u0443\\u0434\\u0430\",\"\\u043b\\u044e\\u0431-\\u0432\\u0435\\u0441\\u0451\\u043b\\u044b\\u0439\",\"\\u0441\\u0443\\u0434\\u044c\\u0431\\u0430\",\"\\u0437\\u0430\\u043d\\u0430\\u0432\\u0435\\u0441\\u043a\\u0430\",\"\\u0442\\u0440\\u0430\\u0442\\u0438\\u0442\\u044c\",\"\\u043f\\u0440\\u0438\\u043c\\u0435\\u0440\",\"\\u043d\\u0435\\u0442\",\"\\u043a\\u043e\\u0442\\u043e\\u0440\\u044b\\u0439\",\"\\u043d\\u0438\\u043a\\u043e\\u0433\\u0434\\u0430\",\"\\u0432\\u0435\\u0440\\u043d\\u043e\",\"\\u0441\\u0442\\u0430\\u0440\\u0443\\u0448\\u043e\\u043d\\u043a\\u0430\",\"\\u0434\\u0432\\u0430\\u0434\\u0446\\u0430\\u0442\\u044c\",\"\\u0441\\u043a\\u0443\\u0447\\u043d\\u043e\",\"\\u0434\\u0430\\u0436\\u0435\",\"\\u0442\\u043e\\u0442\",\"\\u043f\\u0440\\u0438\\u0434\\u0443\\u043c\\u043e\\u0447\\u043a\\u0430-\\u0442\\u043e\",\"\\u0432\\u0435\\u0434\\u044c\",\"\\u043b\\u0438\\u0448\\u0430\\u0442\\u044c\\u0441\\u044f\",\"\\u043e\\u0442\\u0434\\u0430\\u043b\\u0438\\u0442\\u044c\",\"\\u044f-\\u0442\\u043e\",\"\\u0441\\u043a\\u043e\\u043b\\u044c\\u043a\\u043e-\\u043d\\u0438\\u0431\\u0443\\u0434\\u044c\",\"\\u0442\\u0430\\u043a\\u043e\\u0439\",\"\\u0430\\u043d\\u0433\\u0435\\u043b\\u044c\\u0447\\u0438\\u043a\",\"\\u043a\\u043e\\u043d\\u0444\\u0435\\u0442\\u0430\",\"\\u043f\\u0440\\u0435\\u0442\\u0435\\u043d\\u0437\\u0438\\u044f\",\"\\u0442\\u043e\\u0433\\u0434\\u0430\",\"\\u0432\\u043e\\u0432\\u0441\\u0435\",\"\\u0434\\u043e\\u0441\\u0442\\u0430\\u0442\\u044c\",\"\\u043d\\u0443\\u043c\\u0435\\u0440\\u0430\",\"\\u043d\\u0443\\u043c\\u0435\\u0440\\u0435\\u0442\\u044c\",\"\\u0441\\u043e\\u043e\\u0442\\u0432\\u0435\\u0442\\u0441\\u0442\\u0432\\u0435\\u043d\\u043d\\u044b\\u0439\",\"\\u0447\\u0438\\u0441\\u0442\\u043e\",\"\\u043f\\u043e\\u0439\\u0442\\u0438\",\"\\u043f\\u043e\\u0434\\u044b\\u043c\\u0430\\u0442\\u044c\",\"\\u0433\\u043e\\u0440\\u0448\\u043e\\u043a\",\"\\u0432\\u0441\\u0435\\u0433\\u0434\\u0430\",\"\\u043f\\u043e\\u0441\\u043b\\u0430\\u0442\\u044c\",\"\\u043f\\u0440\\u043e\\u0441\\u0442\\u043e\",\"\\u0444.\",\"\\u0446\\u0435\\u043b\\u043e\\u0435\",\"\\u0445\\u0438\\u0442\\u0440\\u043e\",\"\\u0442.\",\"\\u043f\\u0440\\u0438\",\"\\u043e\\u0449\\u0443\\u0449\\u0435\\u043d\\u0438\\u0435\",\"\\u0447\\u0440\\u0435\\u0437\\u043c\\u0435\\u0440\\u043d\\u043e\",\"\\u0444\\u0451\\u0434\\u043e\\u0440\",\"\\u043a\\u0443\\u0445\\u043d\\u044f\",\"\\u0442\\u0440\\u0435\\u0431\\u043e\\u0432\\u0430\\u0442\\u044c\\u0441\\u044f\",\"\\u0449\\u0430\\u0434\\u0438\\u0442\\u044c\",\"\\u0437\\u0430\\u0433\\u043d\\u0443\\u0442\\u044c\",\"\\u043f\\u0440\\u0435\\u0436\\u0434\\u0435\",\"\\u0441\\u043c\\u0438\\u0440\\u043d\\u043e\",\"\\u043d\\u043e\\u0439\",\"\\u0436\\u0438\\u0437\\u043d\\u044c\",\"\\u043e\\u0442\\u043a\\u043b\\u0430\\u0434\\u044b\\u0432\\u0430\\u0442\\u044c\",\"\\u043f\\u0440\\u0438\\u0446\\u0435\\u043f\\u0438\\u0442\\u044c\",\"\\u0434\\u043b\\u044f\",\"\\u0432\\u0435\\u0441\\u0451\\u043b\\u0435\\u043d\\u044c\\u043a\\u0438\\u0439\",\"\\u0440\\u044f\\u0434\",\"\\u0434\\u0432\\u0435\\u0440\\u044c\",\"\\u0443\\u0447\\u0451\\u043d\\u044b\\u0439\",\"\\u043a\\u0430\\u0436\\u0434\\u044b\\u0439\",\"\\u0432\\u0437\\u0434\\u0443\\u043c\\u0430\\u0442\\u044c\\u0441\\u044f\",\"\\u043d\\u043e\\u0432\\u044b\\u0439\",\"\\u043f\\u0440\\u043e\\u0441\\u0442\\u0438\\u0440\\u0430\\u0442\\u044c\\u0441\\u044f\",\"\\u0434\\u043e\\u043b\\u0436\\u043d\\u043e\\u0441\\u0442\\u044c-\\u0442\\u043e\",\"\\u0431\\u044b\\u0442\\u044c\",\"\\u043d\\u0430\\u0448\",\"\\u0432\\u043e\\u0442\",\"\\u0432\\u0437\\u044f\\u0442\\u044c\",\"\\u0434\\u043e\\u0441\\u0442\\u0430\\u0442\\u043e\\u0447\\u043d\\u044b\\u0439\",\"\\u043e\\u0431\\u0440\\u0430\\u0434\\u043e\\u0432\\u0430\\u0442\\u044c\\u0441\\u044f\",\"\\u0432\\u044b\\u0433\\u0430\\u0434\\u0430\\u0442\\u044c\",\"\\u043f\\u043e\\u043f\\u043e\\u043b\\u0430\\u043c\",\"\\u0443\\u0441\\u043b\\u0430\\u0434\\u0438\\u0442\\u0435\\u043b\\u044c\\u043d\\u044b\\u0439\",\"\\u0437\\u043b\\u043e\\u0439\",\"\\u0447\\u0442\\u043e\\u0431\",\"\\u0430\\u043b\\u0435\\u043a\\u0441\\u0435\\u0435\\u0432\\u0438\\u0447\",\"\\u0447\\u0438\\u043d\\u043e\\u0432\\u043d\\u0438\\u043a\",\"\\u043f\\u043e\\u0441\\u0442\\u0430\\u0432\\u0438\\u0442\\u044c\",\"\\u0431\\u0430\\u043b\\u044c\\u0437\\u0430\\u043c\\u0438\\u043d\",\"\\u043f\\u0440\\u043e\",\"\\u0437\\u0430\\u0447\\u0435\\u043c\",\"\\u043f\\u0440\\u0438\\u0445\\u043e\\u0434\\u0438\\u0442\\u044c\",\"\\u0438\\u043c\\u0435\\u0442\\u044c\",\"\\u043f\\u0438\\u0441\\u044c\\u043c\\u043e\",\"\\u0438\\u0433\\u0440\\u0430\\u0442\\u044c\",\"\\u0441\\u043e\\u043c\\u043d\\u0435\\u0432\\u0430\\u0442\\u044c\\u0441\\u044f\",\"\\u043a\\u043e\\u043d\\u0435\\u0447\\u043d\\u043e\",\"\\u0442\\u043e\\u043d\",\"\\u0436\\u0430\\u043b\\u044c\",\"\\u0437\\u0430\\u043c\\u0435\\u0442\\u0438\\u0442\\u044c\",\"\\u0431\\u0443\\u0434\\u0443\\u0449\\u043d\\u043e\\u0441\\u0442\\u044c\",\"\\u0440\\u0430\\u0432\\u043d\\u043e\",\"\\u043f\\u043e\\u0441\\u043f\\u0430\\u0442\\u044c\",\"\\u043d\\u0435\\u0431\\u0435\\u0441\\u043d\\u044b\\u0439\",\"\\u043f\\u043e\\u043d\\u044f\\u0442\\u044c\",\"\\u043a\\u0430\\u043a\\u043e\\u0439\",\"\\u043f\\u043e\\u0434\\u0440\\u043e\\u0431\\u043d\\u043e\\u0441\\u0442\\u044c\",\"\\u0441\\u043e\\u0447\\u0438\\u043d\\u0438\\u0442\\u0435\\u043b\\u044c\",\"\\u0432\\u0430\\u0440\\u0435\\u043d\\u044c\\u043a\\u0430\",\"\\u0441\\u043b\\u044b\\u0448\\u043d\\u044b\\u0439\",\"\\u0434\\u043e\\u0431\\u0440\\u044b\\u0439\",\"\\u0432\\u0435\\u0441\\u043d\\u0430\",\"\\u043f\\u043e-\\u043f\\u0440\\u0435\\u0436\\u043d\\u0435\\u043c\\u0443\",\"\\u043e\\u0433\\u043e\\u043d\\u044c\",\"\\u043e\\u0445\",\"\\u0447\\u0438\\u0441\\u0442\\u044b\\u0439\",\"\\u0431\\u0435\\u0437\\u0437\\u0430\\u0431\\u043e\\u0442\\u043d\\u044b\\u0439\",\"\\u043a\\u0440\\u0438\\u0447\\u0430\\u0442\\u044c\",\"\\u0432.\",\"\\u043d\\u0430\\u043f\\u0440\\u0438\\u043c\\u0435\\u0440\",\"\\u043c\\u0438\\u043b\\u043e\\u0441\\u0442\\u0438\\u0432\\u044b\\u0439\",\"\\u0447\\u0438\\u043d\\u0438\\u0442\\u044c\",\"\\u0432\\u0435\\u0440\\u043d\\u044b\\u0439\",\"\\u0437\\u0430\\u0431\\u044b\\u0442\\u044c\",\"\\u043a\\u043e\\u043f\\u0438\\u0442\\u044c\",\"\\u043e\\u0434\\u0438\\u043d\",\"\\u0433\\u0435\\u0440\\u0430\\u043d\\u044c\\u043a\\u0430\",\"\\u0443\\u0434\\u043e\\u0431\\u043d\\u044b\\u0439\",\"\\u043d\\u0438\\u0447\\u0435\\u0433\\u043e\",\"\\u0437\\u0430\\u0434\\u0443\\u043c\\u044b\\u0432\\u0430\\u0442\\u044c\\u0441\\u044f\",\"\\u0440\\u0443\\u043a\\u0430\",\"\\u043d\\u0435\\u0438\\u0437\\u0432\\u0435\\u0441\\u0442\\u043d\\u043e\\u0441\\u0442\\u044c\",\"\\u043f\\u043e\\u043b\\u0435\\u0437\\u043d\\u044b\\u0439\",\"\\u043d\\u0435\",\"\\u0434\\u043e\\u043d\\u0435\\u043b\\u044c\\u0437\\u044f\",\"\\u043d\\u0435\\u0431\\u043e\",\"\\u0432\\u043e\\u0437\\u0434\\u0443\\u0445\",\"\\u0445\\u043e\\u0442\\u044f\",\"\\u043f\\u043e\\u043f\\u0435\\u0440\\u0435\\u0447\\u043d\\u044b\\u0439\",\"\\u043c\\u0438\\u0447\\u043c\\u0430\\u043d\",\"\\u0442\\u0438\\u0445\\u043e\\u043d\\u044c\\u043a\\u0438\\u0439\",\"\\u0443\\u0442\\u0435\\u0445\\u0430\",\"\\u043c\\u0438\\u0445\\u0430\\u0438\\u043b\\u043e\\u0432\\u0438\\u0447\",\"\\u0432\\u0438\\u043d\\u043e\\u0432\\u0430\\u0442\\u044b\\u0439\",\"\\u0432\\u043e\\u0441\\u0435\\u043c\\u044c\",\"\\u043e\\u0441\\u043c\\u043e\\u0442\\u0440\\u0435\\u0442\\u044c\\u0441\\u044f\",\"\\u0434\\u0435\\u043d\\u0451\\u043a\",\"\\u0446\\u0432\\u0435\\u0442\\u043e\\u043a\",\"\\u0431\\u0435\\u0434\\u043d\\u044b\\u0439\",\"\\u0441\\u043b\\u0435\\u0437\\u0430\",\"\\u043e\\u043f\\u044f\\u0442\\u044c\",\"s.\",\"\\u0434\\u044b\\u0448\\u0430\\u0442\\u044c\",\"\\u0434\\u043e\\u0441\\u0442\\u0430\\u0442\\u043e\\u0447\\u043d\\u043e\",\"\\u043f\\u043e\\u0434\\u0443\\u043c\\u0430\\u0442\\u044c\",\"\\u0443\",\"\\u0441\\u043e\\u0432\\u0441\\u0435\\u043c\",\"\\u0433\\u043b\\u0430\\u0437\",\"\\u0443\\u0434\\u043e\\u0431\\u0441\\u0442\\u0432\\u043e\",\"\\u0434\\u0435\\u043d\\u044c\",\"\\u0431\\u043e\\u0433\",\"\\u0441\\u0438\\u0434\\u0435\\u0442\\u044c\",\"\\u0434\\u043e\\u0440\\u043e\\u0433\\u043e\",\"\\u0432\\u0441\\u0442\\u0430\\u0442\\u044c\",\"\\u044f\\u0441\\u043d\\u044b\\u0439\",\"\\u0432\\u0435\\u0441\\u044c\",\"\\u0441\\u0430\\u043c\",\"\\u0441\\u043b\\u0435\\u0434\\u043e\\u0432\\u0430\\u0442\\u044c\",\"\\u043f\\u043e\\u043b\\u0442\\u0438\\u043d\\u0430\",\"\\u0433\\u043b\\u044f\\u0434\\u0435\\u0442\\u044c\",\"\\u0437\\u0430\\u043d\\u0435\\u0441\\u0442\\u0438\",\"\\u0435\\u0449\\u0451\",\"\\u0447\\u0451\\u0440\\u043d\\u044b\\u0439\",\"\\u043d\\u0435\\u0431\\u043e\\u043b\\u044c\\u0448\\u043e\\u0439\",\"\\u043e\\u043a\\u043e\\u043b\\u043e\",\"\\u0443\\u0433\\u043e\\u043b\",\"\\u0431\\u0435\\u0441\\u0441\\u043b\\u043e\\u0432\\u0435\\u0441\\u043d\\u044b\\u0439\",\"\\u043a\\u043e\\u0433\\u0434\\u0430\",\"\\u0441\\u0438\\u0435\",\"\\u043f\\u0443\\u0441\\u043a\\u0430\\u0442\\u044c\\u0441\\u044f\",\"\\u0447\\u0435\\u0442\\u044b\\u0440\\u0435\",\"\\u043b\\u043e\\u0432\\u043a\\u043e\",\"\\u0432\\u0442\\u0438\\u0445\\u043e\\u043c\\u043e\\u043b\\u043e\\u0447\\u043a\\u0443\",\"\\u043f\\u0440\\u043e\\u0449\\u0430\\u0442\\u044c\",\"\\u043f\\u043e\\u043f\\u0440\\u0430\\u0432\\u0438\\u0442\\u044c\\u0441\\u044f\",\"\\u0441\\u0443\\u0434\\u0438\\u0442\\u044c\",\"\\u043e\\u043d\\u0430\",\"\\u0437\\u0434\\u043e\\u0440\\u043e\\u0432\\u044c\\u0435\",\"\\u0440\\u0432\\u0430\\u0442\\u044c\\u0441\\u044f\",\"\\u043a\\u0432\\u0430\\u0440\\u0442\\u0438\\u0440\\u0430\",\"\\u0432\\u0434\\u043e\\u043b\\u044c\",\"\\u0433\\u043b\\u0443\\u043f\\u043e\",\"\\u0445\\u043e\\u0440\\u043e\\u0448\\u0438\\u0439\",\"\\u0430\\u043c\\u0443\\u0440\",\"\\u043e\\u0431\\u043d\\u0430\\u0440\\u0443\\u0436\\u0438\\u0432\\u0430\\u0442\\u044c\",\"\\u0433\\u043e\\u0440\\u0435\",\"\\u0438\\u043d\\u043e\\u0433\\u0434\\u0430\",\"\\u0441\\u0435\\u0439\\u0447\\u0430\\u0441\",\"\\u043f\\u0442\\u0438\\u0446\\u0430\",\"\\u043f\\u043e\\u0440\\u0430\\u0431\\u043e\\u0442\\u0430\\u0442\\u044c\",\"\\u0441\\u043f\\u0430\\u0441\\u0442\\u044c\",\"\\u0441\\u0432\\u0435\\u0442\\u043b\\u043e\",\"\\u043b\\u043e\\u0436\\u0438\\u0442\\u044c\\u0441\\u044f\",\"\\u0446\\u0432\\u0435\\u0442\",\"\\u0441\\u043a\\u043e\\u043b\\u044c\\u043a\\u043e\",\"\\u043f\\u043e\\u0441\\u0442\\u043e\\u044f\\u0442\\u044c\",\"\\u0440\\u0430\\u0441\\u0442\\u0432\\u043e\\u0440\\u0438\\u0442\\u044c\",\"\\u0434\\u0432\\u043e\\u0440\",\"\\u0441\\u043b\\u043e\\u0432\\u043d\\u043e\",\"\\u0432\\u0430\\u0448\",\"\\u0447\\u0430\\u0441\\u0442\\u044c\",\"\\u043f\\u0440\\u0438\\u0445\\u043e\\u0442\\u043b\\u0438\\u0432\\u044b\\u0439\",\"\\u043a\\u043d\",\"\\u0442\\u043e\\u0447\\u043d\\u043e\",\"\\u0431\\u0443\\u043c\\u0430\\u0433\\u0430\",\"\\u0442\\u0430\\u0438\\u043d\\u0441\\u0442\\u0432\\u0435\\u043d\\u043d\\u044b\\u0439\",\"\\u043f\\u0440\\u0438\\u043d\\u0438\\u043c\\u0430\\u0442\\u044c\",\"\\u0441\\u0430\\u0442\\u0438\\u0440\\u0438\\u0447\\u0435\\u0441\\u043a\\u0438\",\"\\u0431\\u043e\\u043b\\u044c\\u043d\\u043e\\u0439\",\"\\u043c\\u0438\\u043c\\u043e\\u0445\\u043e\\u0434\\u043e\\u043c\",\"\\u0431\\u044b\\u0432\\u0430\\u043b\\u043e\",\"\\u0434\\u0435\\u0432\\u0443\\u0448\\u043a\\u0438\\u043d\",\"\\u0433\\u043b\\u0443\\u0445\\u043e\\u0439\",\"\\u043e\\u0442\",\"\\u043f\\u043e\\u0440\\u0430\",\"\\u043f\\u043e\\u0441\\u043b\\u0443\\u0448\\u0430\\u0442\\u044c\\u0441\\u044f\",\"\\u043c\\u0435\\u043b\\u044c\\u043a\\u043d\\u0443\\u0442\\u044c\",\"\\u0443\\u0433\\u0430\\u0434\\u0430\\u0442\\u044c\",\"\\u0438\\u043b\\u0438\",\"\\u043f\\u043e\\u0434\\u0440\\u043e\\u0431\\u043d\\u043e\",\"\\u043f\\u044f\\u0442\\u044c\",\"\\u043f\\u043e\\u043a\\u0430\\u0437\\u0430\\u0442\\u044c\",\"\\u0433\\u043e\\u043b\\u043e\\u0432\\u0430\",\"\\u043d\\u0430\\u0433\\u0440\\u0430\\u0436\\u0434\\u0435\\u043d\\u0438\\u0435\",\"\\u043b\\u0435\\u0433\\u043a\\u043e\",\"\\u0433\\u043e\\u0441\\u0443\\u0434\\u0430\\u0440\\u044b\\u043d\\u044f\",\"\\u0442\\u0440\\u0438\",\"\\u0441\\u043f\\u0430\\u0442\\u044c\",\"\\u0438\\u0437\",\"\\u043f\\u0440\\u0438\\u043c\\u0435\\u0440\\u043d\\u043e\",\"\\u043c\\u043d\\u043e\\u0433\\u043e\",\"\\u0431\\u0435\\u0437\",\"\\u0431\\u043b\\u0430\\u0433\\u043e\\u0443\\u0445\\u0430\\u043d\\u0438\\u0435\",\"\\u043c\\u0430\\u043a\\u0430\\u0440\",\"\\u043a\",\"\\u0435\\u0437\\u0434\\u0438\\u0442\\u044c\",\"\\u043f\\u0435\\u0440\\u0435\\u0448\\u0438\\u0431\\u0438\\u0442\\u044c\",\"\\u0440\\u043e\\u0434\\u043d\\u044b\\u0439\",\"\\u043f\\u0442\\u0438\\u0447\\u043a\\u0430\",\"\\u0441\\u043b\\u0443\\u0436\\u0431\\u0430\",\"\\u0440\\u0430\\u0447\\u0438\\u0442\\u0435\\u043b\\u044c\\u043d\\u044b\\u0439\",\"\\u0443\\u0431\\u0435\\u0440\\u0435\\u0447\\u044c\",\"\\u0432\\u0440\\u0435\\u043c\\u044f\",\"p.\",\"\\u043f\\u043e\\u0440\\u044f\\u0434\\u043e\\u043a\",\"\\u0432\\u0441\\u044f\\u043a\\u0438\\u0439\",\"\\u0442\\u0451\\u043c\\u043d\\u044b\\u0439\",\"\\u0432\\u0435\\u0442\\u043e\\u0448\\u043a\\u0430\",\"\\u0434\\u043e\\u0441\\u0435\\u043b\\u0435\",\"\\u0440\\u0435\\u0432\\u043d\\u043e\\u0441\\u0442\\u044c\",\"\\u0441\\u0435\\u0440\\u0434\\u0438\\u0442\\u044c\\u0441\\u044f\",\"\\u0433\\u043e\\u0433\\u043e\\u043b\\u044c-\\u0449\\u0451\\u0433\\u043e\\u043b\\u044c\",\"\\u0443\\u0442\\u0440\\u043e\\u043c\",\"\\u0441\\u0447\\u0430\\u0441\\u0442\\u0438\\u0435\",\"\\u043d\\u0443\\u0436\\u043d\\u043e\",\"\\ufeff\\u0444\\u0435\\u0434\\u043e\\u0440\\u0430\",\"\\u0441\\u043c\\u0435\\u0440\\u043a\\u0430\\u0442\\u044c\\u0441\\u044f\",\"\\u0432\\u0435\\u0441\\u0435\\u043d\\u043d\\u0438\\u0439\",\"\\u043d\\u0435\\u043a\\u043e\\u0433\\u0434\\u0430\",\"\\u0434\\u0432\\u043e\\u0440-\\u0442\\u043e\",\"\\u0434\\u043e\\u0441\\u0430\\u0434\\u043d\\u044b\\u0439\",\"\\u0445\\u043e\\u0442\\u0435\\u0442\\u044c\\u0441\\u044f\",\"\\u043d\\u0435\\u0432\\u0437\\u043d\\u0430\\u0447\\u0430\\u0439\",\"\\u0443\\u043c\\u043d\\u044b\\u0439\",\"\\u043b\\u0430\\u0434\\u043d\\u044b\\u0439\",\"\\u043e\\u043f\\u0438\\u0441\\u0430\\u0442\\u044c\",\"\\u043f\\u0440\\u043e\\u0433\\u043b\\u044f\\u043d\\u0443\\u0442\\u044c\",\"\\u0441\\u0435\\u0440\\u0434\\u0446\\u0435\",\"\\u0441\\u0438\\u044f\\u043d\\u0438\\u0435\",\"\\u0440\\u043e\\u043f\\u0442\\u0430\\u0442\\u044c\",\"\\u0443\\u0436\",\"\\u043d\\u0435\\u043b\\u044c\\u0437\\u044f\",\"\\u043b\\u0438\",\"\\u0437\\u0430\\u0442\\u0435\\u0439\\u043b\\u0438\\u0432\\u044b\\u0439\",\"\\u043e\\u0441\\u0442\\u0430\\u043b\\u044c\\u043d\\u043e\\u0439\",\"\\u0434\\u0432\\u043e\\u0435\",\"\\u043f\\u043e\\u0434\\u0430\\u0440\\u043e\\u043a\",\"\\u0441\\u043a\\u0430\\u0437\\u0430\\u0442\\u044c\",\"\\u0437\\u043d\\u0430\\u0447\\u0438\\u0442\",\"\\u0441\\u043e\\u0437\\u0434\\u0430\\u0442\\u044c\",\"\\u0437\\u0430\\u0433\\u043e\\u0432\\u043e\\u0440\\u0438\\u0442\\u044c\",\"\\u0432\\u043f\\u0440\\u043e\\u0447\\u0435\\u043c\",\"\\u0437\\u0430\\u043f\\u0440\\u0435\\u0442\\u0438\\u0442\\u044c\",\"\\u0430\\u043f\\u0440\\u0435\\u043b\\u044c\",\"\\u044f\",\"\\u0434\\u043e\\u0445\\u043e\\u0434\",\"\\u043d\\u0435\\u0432\\u043e\\u043b\\u044c\\u043d\\u043e\",\"\\u043a\\u0440\\u0435\\u0441\\u0442\\u0438\\u043a\",\"\\u0441\\u043b\\u0435\\u0434\\u043e\\u0432\\u0430\\u0442\\u044c-\\u0442\\u043e\",\"8-\\u0439\",\"\\u0432\\u043e\\u043e\\u0431\\u0440\\u0430\\u0436\\u0435\\u043d\\u0438\\u0435\",\"\\u0441\\u0431\\u0438\\u0440\\u0430\\u0442\\u044c\\u0441\\u044f\",\"\\u0433\\u0435\\u0440\\u0430\\u043d\\u044c\",\"\\u043f\\u0440\\u0430\\u0437\\u0434\\u043d\\u0438\\u043a\",\"\\u0430\",\"\\u0441\\u0432\\u0435\\u0442\\u043b\\u044b\\u0439\",\"\\u0434\\u0440\\u0443\\u0436\\u0435\\u0441\\u043a\\u0438\\u0439\",\"\\u043d\\u0430\\u0440\\u0430\\u0434\\u043e\\u0432\\u0430\\u0442\\u044c\\u0441\\u044f\",\"\\u043f\\u043e\\u0436\\u0430\\u043b\\u0443\\u0439\",\"\\u0447\\u0442\\u043e\",\"\\u0444\\u0443\\u043d\\u0442\\u0438\\u043a\",\"\\u0440\\u0430\\u043d\\u043d\\u0438\\u0439\",\"\\u0434\\u0432\\u0430\",\"\\u044d\\u0442\\u043e\\u0442\",\"\\u0445\\u043e\\u0440\\u043e\\u0448\\u0435\\u043d\\u044c\\u043a\\u043e\",\"\\u0433\\u0434\\u0435-\\u0442\\u043e\",\"\\u043b\\u0438\\u0447\\u0438\\u043a\\u043e\",\"\\u0442\\u0438\\u0445\\u043e\",\"\\u043d\\u0435\\u0434\\u043e\\u0441\\u0442\\u0430\\u0432\\u0430\\u0442\\u044c\",\"\\u043a\\u0430\\u043a\\u043e\\u0432\",\"\\u043e\\u0441\\u0442\\u0430\\u0442\\u044c\\u0441\\u044f\",\"\\u043f\\u043e\\u0441\\u043c\\u043e\\u0442\\u0440\\u0435\\u0442\\u044c\",\"\\u0434\\u0440\\u0443\\u0433\",\"\\u0437\\u0430\\u0441\\u0432\\u0435\\u0442\\u043b\\u0435\\u0442\\u044c\",\"\\u043a\\u0430\\u0441\\u0430\\u0442\\u044c\\u0441\\u044f\",\"\\u043d\\u0430\\u0443\\u0442\\u0440\\u043e\",\"\\u0434\\u0443\\u0448\\u0435\\u0447\\u043a\\u0430\",\"\\u0442\\u043e\\u0442\\u0447\\u0430\\u0441\",\"\\u043a\\u0443\\u043f\\u0438\\u0442\\u044c\",\"\\u0432\\u0430\\u0440\\u0432\\u0430\\u0440\",\"\\u043a\\u043e\\u043c\\u043d\\u0430\\u0442\\u0430\",\"\\u043f\\u043e\\u0442\\u0435\\u0448\\u0438\\u0442\\u044c\",\"\\u0441\\u0435\\u043c\",\"\\u0437\\u0434\\u0435\\u0448\\u043d\\u0438\\u0439\",\"\\u0441\\u0430\\u043c\\u044b\\u0439\",\"\\u043a\\u043e\\u0440\\u0438\\u0434\\u043e\\u0440\",\"\\u0432\\u0441\\u0451\",\"\\u0442\\u043e\\u0441\\u043a\\u0430\",\"\\u0434\\u0440\\u0435\\u0431\\u0435\\u0434\\u0435\\u043d\\u044c\",\"\\u0447\\u0443\\u0436\\u043e\\u0439\",\"\\u043c\\u043e\\u0447\\u044c\",\"\\u0446\\u0435\\u043b\\u043a\\u043e\\u0432\\u044b\\u0439\",\"\\u043b\\u044e\\u0431\\u0438\\u0442\\u044c\",\"\\u043e\\u0441\\u0442\\u0440\\u044b\\u0439\",\"\\u0443\\u0432\\u0438\\u0434\\u0435\\u0442\\u044c\",\"\\u043f\\u0440\\u0435\\u0431\\u044b\\u0432\\u0430\\u0442\\u044c\",\"\\u043a\\u043b\\u043e\\u0447\\u043e\\u043a\",\"\\u043f\\u0440\\u043e\\u043c\\u0430\\u0445\",\"\\u0433\\u0440\\u0443\\u0441\\u0442\\u043d\\u043e\",\"\\u0432\\u043e\\u0441\\u043f\\u043e\\u043c\\u0438\\u043d\\u0430\\u043d\\u0438\\u0435\",\"\\u0441\\u0442\\u0443\\u043b\",\"\\u043e\\u043f\\u0443\\u0441\\u0442\\u0438\\u0442\\u044c\",\"\\u0442\\u0440\\u043e\\u0435\",\"\\u0432\\u0435\\u043a\",\"\\u043e\\u0431\\u0440\\u0430\\u0437\",\"\\u043a\\u0430\\u0440\\u043c\\u0430\\u043d\",\"\\u043f\\u043e\\u0434\\u043e\\u0431\\u043d\\u044b\\u0439\",\"\\u043f\\u043e\\u0441\\u044b\\u043b\\u0430\\u0442\\u044c\",\"\\u0442\\u0435\\u0441\\u043d\\u043e\",\"\\u0441\\u0442\\u0430\\u0442\\u044c\",\"\\u043d\\u0430\\u0447\\u0430\\u043b\\u044c\\u043d\\u0438\\u043a\",\"\\u0445\\u043e\\u0442\\u0435\\u0442\\u044c\",\"\\u0441\\u0435\\u0433\\u043e\\u0434\\u043d\\u044f\",\"\\u0440\\u0430\\u0437\\u043d\\u044b\\u0439\",\"\\u0440\\u0430\\u0431\\u043e\\u0442\\u0430\\u0442\\u044c\",\"\\u043b\\u0438\\u0448\\u0435\\u043d\\u0438\\u0435\",\"\\u0443\\u0433\\u043e\\u043b\\u043e\\u0447\\u0435\\u043a\",\"\\u0433\\u043e\\u043b\\u0443\\u0431\\u0447\\u0438\\u043a\",\"\\u0432\\u043e\\u043e\\u0431\\u0440\\u0430\\u0437\\u0438\\u0442\\u044c\",\"\\u0447\\u0430\\u0441\",\"\\u043f\\u043e\\u0434\\u043d\\u044f\\u0442\\u044c\",\"\\u043e\\u0442\\u0447\\u0438\\u0439\",\"\\u043e\\u0444\\u0438\\u0446\\u0435\\u0440\",\"\\u0431\\u0435\\u0441\\u043f\\u043e\\u043a\\u043e\\u0438\\u0442\\u044c\\u0441\\u044f\",\"\\u0446\\u0435\\u043b\\u044b\\u0439\",\"\\u0431\\u043e\\u0433\\u0430\\u0442\\u044b\\u2026\",\"\\u044f\\u0441\\u043d\\u043e\",\"\\u043d\\u0430\\u0440\\u043e\\u0447\\u043d\\u043e\",\"\\u0441\\u0432\\u0435\\u0442\\u0438\\u0442\\u044c\",\"\\u0432\\u044b\\u0445\\u043e\\u0434\\u0438\\u0442\\u044c-\\u0442\\u043e\",\"\\u0441\\u043b\\u0443\\u0433\\u0430\",\"\\u043e\\u043a\\u043e\\u0448\\u043a\\u043e\",\"\\u0441\\u0440\\u0430\\u0432\\u043d\\u0438\\u0442\\u044c\",\"\\u043f\\u0440\\u0438\\u043d\\u044f\\u0442\\u044c\\u0441\\u044f\",\"\\u043c\\u0438\\u043b\\u043e\\u0432\\u0438\\u0434\\u043d\\u044b\\u0439\",\"\\u0434\\u043e\\u043b\\u043e\\u0436\\u0438\\u0442\\u044c\",\"\\u043f\\u043e\\u0434\\u043b\\u0435\",\"\\u0432\\u0435\\u0441\\u0435\\u043b\\u043e\",\"\\u0447\\u0442\\u043e-\\u043d\\u0438\\u0431\\u0443\\u0434\\u044c\",\"\\u0432\\u0438\\u0434\",\"\\u0443\\u0437\\u0435\\u043d\\u044c\\u043a\\u0438\\u0439\",\"\\u0442\\u0430\\u043c\",\"\\u043a\\u0430\\u0440\\u043c\\u0430\\u043d\\u043d\\u044b\\u0439\",\"\\u043d\\u0435\\u0434\\u043e\\u0440\\u043e\\u0433\\u043e\",\"\\u043e\\u043d\",\"\\u043a\\u0440\\u043e\\u0432\\u0430\\u0442\\u044c\",\"\\u043d\\u0435\\u0441\\u043a\\u043e\\u043b\\u044c\\u043a\\u043e\",\"\\u0434\\u043e\\u043b\\u0436\\u043d\\u043e\\u0441\\u0442\\u044c\",\"\\u043f\\u0443\\u043d\\u0441\\u043e\\u0432\\u044b\\u044f\",\"\\u043f\\u043e-\\u0432\\u0435\\u0441\\u0435\\u043d\\u043d\\u0435\\u043c\\u0443\",\"\\u0437\\u0430\\u0442\\u043e\",\"\\u043a\\u043e\\u043c\\u043d\\u0430\\u0442\\u043a\\u0430\",\"\\u043d\\u0430\\u0434\\u043e\",\"\\u043a\\u0430\\u043a\\u043e\\u0432-\\u0442\\u043e\",\"\\u043d\\u0435\\u0432\\u0438\\u043d\\u043d\\u044b\\u0439\",\"\\u043a\\u043e\\u0432\\u0447\\u0435\\u0433\",\"\\u043f\\u043e\\u0432\\u0435\\u0441\\u0438\\u0442\\u044c\",\"\\u0441\\u043e\\u043b\\u043d\\u044b\\u0448\\u043a\\u043e\",\"\\u043e\\u043d\\u0438\",\"\\u043f\\u0440\\u0438\\u0432\\u0435\\u0442\\u043b\\u0438\\u0432\\u044b\\u0439\",\"\\u043f\\u0440\\u0430\\u0432\\u044b\\u0439\",\"\\u043d\\u0435\\u043e\\u0431\\u0445\\u043e\\u0434\\u0438\\u043c\\u044b\\u0439\",\"\\u0433\\u0434\\u0435\",\"\\u0434\\u043e\\u0431\\u0440\\u043e\\u0441\\u0435\\u043b\\u043e\\u0432\\u044b\\u0439\",\"\\u0441\\u0442\\u043e\\u043b\",\"\\u0447\\u0435\\u043b\\u043e\\u0432\\u0435\\u043a\",\"\\u043e\\u0441\\u044b\\u043f\\u0430\\u0442\\u044c\",\"\\u043c\\u0430\\u0442\\u043e\\u0447\\u043a\\u0430\",\"\\u0442\\u0435\\u043f\\u0435\\u0440\\u044c\",\"\\u0447\\u0430\\u0439\",\"\\u0432\\u0435\\u0440\\u043e\\u044f\\u0442\\u043d\\u043e\",\"\\u0433\\u043b\\u0443\\u0445\\u0430\\u0440\\u044c\",\"\\u0436\\u0435\\u043d\\u0449\\u0438\\u043d\\u0430\",\"\\u0442\\u043e\\u0436\\u0435\",\"\\u0441\\u0442\\u043e\\u043b\\u044c\\u043a\\u043e\",\"\\u043f\\u0440\\u0438\\u0433\\u043e\\u0442\\u043e\\u0432\\u043b\\u044f\\u0442\\u044c\",\"\\u0441\\u0438\\u043b\\u0430\",\"\\u0442\\u043e\\u0447\\u043d\\u0435\\u0445\\u043e\\u043d\\u044c\\u043a\\u0438\\u0439\",\"\\u0433\\u043e\\u0432\\u043e\\u0440\\u0438\\u0442\\u044c\",\"\\u0431\\u0430\\u043b\\u044c\\u0437\\u0430\\u043c\\u0438\\u043d\\u0447\\u0438\\u043a\",\"\\u043e\"]]]}}},\"view\":{\"type\":\"object\",\"name\":\"CDSView\",\"id\":\"p1998\",\"attributes\":{\"filter\":{\"type\":\"object\",\"name\":\"AllIndices\",\"id\":\"p1999\"}}},\"glyph\":{\"type\":\"object\",\"name\":\"Scatter\",\"id\":\"p1994\",\"attributes\":{\"x\":{\"type\":\"field\",\"field\":\"x\"},\"y\":{\"type\":\"field\",\"field\":\"y\"},\"size\":{\"type\":\"value\",\"value\":10},\"line_color\":{\"type\":\"field\",\"field\":\"color\"},\"line_alpha\":{\"type\":\"value\",\"value\":0.25},\"fill_color\":{\"type\":\"field\",\"field\":\"color\"},\"fill_alpha\":{\"type\":\"value\",\"value\":0.25},\"hatch_color\":{\"type\":\"field\",\"field\":\"color\"},\"hatch_alpha\":{\"type\":\"value\",\"value\":0.25}}},\"nonselection_glyph\":{\"type\":\"object\",\"name\":\"Scatter\",\"id\":\"p1995\",\"attributes\":{\"x\":{\"type\":\"field\",\"field\":\"x\"},\"y\":{\"type\":\"field\",\"field\":\"y\"},\"size\":{\"type\":\"value\",\"value\":10},\"line_color\":{\"type\":\"field\",\"field\":\"color\"},\"line_alpha\":{\"type\":\"value\",\"value\":0.1},\"fill_color\":{\"type\":\"field\",\"field\":\"color\"},\"fill_alpha\":{\"type\":\"value\",\"value\":0.1},\"hatch_color\":{\"type\":\"field\",\"field\":\"color\"},\"hatch_alpha\":{\"type\":\"value\",\"value\":0.1}}},\"muted_glyph\":{\"type\":\"object\",\"name\":\"Scatter\",\"id\":\"p1996\",\"attributes\":{\"x\":{\"type\":\"field\",\"field\":\"x\"},\"y\":{\"type\":\"field\",\"field\":\"y\"},\"size\":{\"type\":\"value\",\"value\":10},\"line_color\":{\"type\":\"field\",\"field\":\"color\"},\"line_alpha\":{\"type\":\"value\",\"value\":0.2},\"fill_color\":{\"type\":\"field\",\"field\":\"color\"},\"fill_alpha\":{\"type\":\"value\",\"value\":0.2},\"hatch_color\":{\"type\":\"field\",\"field\":\"color\"},\"hatch_alpha\":{\"type\":\"value\",\"value\":0.2}}}}}],\"toolbar\":{\"type\":\"object\",\"name\":\"Toolbar\",\"id\":\"p1971\",\"attributes\":{\"tools\":[{\"type\":\"object\",\"name\":\"PanTool\",\"id\":\"p1984\"},{\"type\":\"object\",\"name\":\"WheelZoomTool\",\"id\":\"p1985\",\"attributes\":{\"renderers\":\"auto\"}},{\"type\":\"object\",\"name\":\"BoxZoomTool\",\"id\":\"p1986\",\"attributes\":{\"overlay\":{\"type\":\"object\",\"name\":\"BoxAnnotation\",\"id\":\"p1987\",\"attributes\":{\"syncable\":false,\"level\":\"overlay\",\"visible\":false,\"left_units\":\"canvas\",\"right_units\":\"canvas\",\"top_units\":\"canvas\",\"bottom_units\":\"canvas\",\"line_color\":\"black\",\"line_alpha\":1.0,\"line_width\":2,\"line_dash\":[4,4],\"fill_color\":\"lightgrey\",\"fill_alpha\":0.5}}}},{\"type\":\"object\",\"name\":\"SaveTool\",\"id\":\"p1988\"},{\"type\":\"object\",\"name\":\"ResetTool\",\"id\":\"p1989\"},{\"type\":\"object\",\"name\":\"HelpTool\",\"id\":\"p1990\"},{\"type\":\"object\",\"name\":\"HoverTool\",\"id\":\"p2000\",\"attributes\":{\"renderers\":\"auto\",\"tooltips\":[[\"token\",\"@token\"]]}}],\"active_scroll\":{\"id\":\"p1985\"}}},\"left\":[{\"type\":\"object\",\"name\":\"LinearAxis\",\"id\":\"p1979\",\"attributes\":{\"ticker\":{\"type\":\"object\",\"name\":\"BasicTicker\",\"id\":\"p1980\",\"attributes\":{\"mantissas\":[1,2,5]}},\"formatter\":{\"type\":\"object\",\"name\":\"BasicTickFormatter\",\"id\":\"p1981\"},\"major_label_policy\":{\"type\":\"object\",\"name\":\"AllLabels\",\"id\":\"p1982\"}}}],\"below\":[{\"type\":\"object\",\"name\":\"LinearAxis\",\"id\":\"p1974\",\"attributes\":{\"ticker\":{\"type\":\"object\",\"name\":\"BasicTicker\",\"id\":\"p1975\",\"attributes\":{\"mantissas\":[1,2,5]}},\"formatter\":{\"type\":\"object\",\"name\":\"BasicTickFormatter\",\"id\":\"p1976\"},\"major_label_policy\":{\"type\":\"object\",\"name\":\"AllLabels\",\"id\":\"p1977\"}}}],\"center\":[{\"type\":\"object\",\"name\":\"Grid\",\"id\":\"p1978\",\"attributes\":{\"axis\":{\"id\":\"p1974\"}}},{\"type\":\"object\",\"name\":\"Grid\",\"id\":\"p1983\",\"attributes\":{\"dimension\":1,\"axis\":{\"id\":\"p1979\"}}}]}}]}};\n",
              "  const render_items = [{\"docid\":\"5b664a72-0b70-4066-b468-93ca64b58583\",\"roots\":{\"p1963\":\"f19c6f49-b035-4ec5-8a86-ae60234f9514\"},\"root_ids\":[\"p1963\"]}];\n",
              "  root.Bokeh.embed.embed_items_notebook(docs_json, render_items);\n",
              "  }\n",
              "  if (root.Bokeh !== undefined) {\n",
              "    embed_document(root);\n",
              "  } else {\n",
              "    let attempts = 0;\n",
              "    const timer = setInterval(function(root) {\n",
              "      if (root.Bokeh !== undefined) {\n",
              "        clearInterval(timer);\n",
              "        embed_document(root);\n",
              "      } else {\n",
              "        attempts++;\n",
              "        if (attempts > 100) {\n",
              "          clearInterval(timer);\n",
              "          console.log(\"Bokeh: ERROR: Unable to run BokehJS code because BokehJS library is missing\");\n",
              "        }\n",
              "      }\n",
              "    }, 10, root)\n",
              "  }\n",
              "})(window);"
            ],
            "application/vnd.bokehjs_exec.v0+json": ""
          },
          "metadata": {
            "application/vnd.bokehjs_exec.v0+json": {
              "id": "p1963"
            }
          }
        },
        {
          "output_type": "execute_result",
          "data": {
            "text/plain": [
              "figure(id='p1963', ...)"
            ],
            "text/html": [
              "<div style=\"display: table;\"><div style=\"display: table-row;\"><div style=\"display: table-cell;\"><b title=\"bokeh.plotting._figure.figure\">figure</b>(</div><div style=\"display: table-cell;\">id&nbsp;=&nbsp;'p1963', <span id=\"p2004\" style=\"cursor: pointer;\">&hellip;)</span></div></div><div class=\"p2003\" style=\"display: none;\"><div style=\"display: table-cell;\"></div><div style=\"display: table-cell;\">above&nbsp;=&nbsp;[],</div></div><div class=\"p2003\" style=\"display: none;\"><div style=\"display: table-cell;\"></div><div style=\"display: table-cell;\">align&nbsp;=&nbsp;'auto',</div></div><div class=\"p2003\" style=\"display: none;\"><div style=\"display: table-cell;\"></div><div style=\"display: table-cell;\">aspect_ratio&nbsp;=&nbsp;None,</div></div><div class=\"p2003\" style=\"display: none;\"><div style=\"display: table-cell;\"></div><div style=\"display: table-cell;\">aspect_scale&nbsp;=&nbsp;1,</div></div><div class=\"p2003\" style=\"display: none;\"><div style=\"display: table-cell;\"></div><div style=\"display: table-cell;\">background_fill_alpha&nbsp;=&nbsp;1.0,</div></div><div class=\"p2003\" style=\"display: none;\"><div style=\"display: table-cell;\"></div><div style=\"display: table-cell;\">background_fill_color&nbsp;=&nbsp;'#ffffff',</div></div><div class=\"p2003\" style=\"display: none;\"><div style=\"display: table-cell;\"></div><div style=\"display: table-cell;\">below&nbsp;=&nbsp;[LinearAxis(id='p1974', ...)],</div></div><div class=\"p2003\" style=\"display: none;\"><div style=\"display: table-cell;\"></div><div style=\"display: table-cell;\">border_fill_alpha&nbsp;=&nbsp;1.0,</div></div><div class=\"p2003\" style=\"display: none;\"><div style=\"display: table-cell;\"></div><div style=\"display: table-cell;\">border_fill_color&nbsp;=&nbsp;'#ffffff',</div></div><div class=\"p2003\" style=\"display: none;\"><div style=\"display: table-cell;\"></div><div style=\"display: table-cell;\">center&nbsp;=&nbsp;[Grid(id='p1978', ...), Grid(id='p1983', ...)],</div></div><div class=\"p2003\" style=\"display: none;\"><div style=\"display: table-cell;\"></div><div style=\"display: table-cell;\">context_menu&nbsp;=&nbsp;None,</div></div><div class=\"p2003\" style=\"display: none;\"><div style=\"display: table-cell;\"></div><div style=\"display: table-cell;\">css_classes&nbsp;=&nbsp;[],</div></div><div class=\"p2003\" style=\"display: none;\"><div style=\"display: table-cell;\"></div><div style=\"display: table-cell;\">disabled&nbsp;=&nbsp;False,</div></div><div class=\"p2003\" style=\"display: none;\"><div style=\"display: table-cell;\"></div><div style=\"display: table-cell;\">extra_x_ranges&nbsp;=&nbsp;{},</div></div><div class=\"p2003\" style=\"display: none;\"><div style=\"display: table-cell;\"></div><div style=\"display: table-cell;\">extra_x_scales&nbsp;=&nbsp;{},</div></div><div class=\"p2003\" style=\"display: none;\"><div style=\"display: table-cell;\"></div><div style=\"display: table-cell;\">extra_y_ranges&nbsp;=&nbsp;{},</div></div><div class=\"p2003\" style=\"display: none;\"><div style=\"display: table-cell;\"></div><div style=\"display: table-cell;\">extra_y_scales&nbsp;=&nbsp;{},</div></div><div class=\"p2003\" style=\"display: none;\"><div style=\"display: table-cell;\"></div><div style=\"display: table-cell;\">flow_mode&nbsp;=&nbsp;'block',</div></div><div class=\"p2003\" style=\"display: none;\"><div style=\"display: table-cell;\"></div><div style=\"display: table-cell;\">frame_align&nbsp;=&nbsp;True,</div></div><div class=\"p2003\" style=\"display: none;\"><div style=\"display: table-cell;\"></div><div style=\"display: table-cell;\">frame_height&nbsp;=&nbsp;None,</div></div><div class=\"p2003\" style=\"display: none;\"><div style=\"display: table-cell;\"></div><div style=\"display: table-cell;\">frame_width&nbsp;=&nbsp;None,</div></div><div class=\"p2003\" style=\"display: none;\"><div style=\"display: table-cell;\"></div><div style=\"display: table-cell;\">height&nbsp;=&nbsp;400,</div></div><div class=\"p2003\" style=\"display: none;\"><div style=\"display: table-cell;\"></div><div style=\"display: table-cell;\">height_policy&nbsp;=&nbsp;'auto',</div></div><div class=\"p2003\" style=\"display: none;\"><div style=\"display: table-cell;\"></div><div style=\"display: table-cell;\">hidpi&nbsp;=&nbsp;True,</div></div><div class=\"p2003\" style=\"display: none;\"><div style=\"display: table-cell;\"></div><div style=\"display: table-cell;\">hold_render&nbsp;=&nbsp;False,</div></div><div class=\"p2003\" style=\"display: none;\"><div style=\"display: table-cell;\"></div><div style=\"display: table-cell;\">js_event_callbacks&nbsp;=&nbsp;{},</div></div><div class=\"p2003\" style=\"display: none;\"><div style=\"display: table-cell;\"></div><div style=\"display: table-cell;\">js_property_callbacks&nbsp;=&nbsp;{},</div></div><div class=\"p2003\" style=\"display: none;\"><div style=\"display: table-cell;\"></div><div style=\"display: table-cell;\">left&nbsp;=&nbsp;[LinearAxis(id='p1979', ...)],</div></div><div class=\"p2003\" style=\"display: none;\"><div style=\"display: table-cell;\"></div><div style=\"display: table-cell;\">lod_factor&nbsp;=&nbsp;10,</div></div><div class=\"p2003\" style=\"display: none;\"><div style=\"display: table-cell;\"></div><div style=\"display: table-cell;\">lod_interval&nbsp;=&nbsp;300,</div></div><div class=\"p2003\" style=\"display: none;\"><div style=\"display: table-cell;\"></div><div style=\"display: table-cell;\">lod_threshold&nbsp;=&nbsp;2000,</div></div><div class=\"p2003\" style=\"display: none;\"><div style=\"display: table-cell;\"></div><div style=\"display: table-cell;\">lod_timeout&nbsp;=&nbsp;500,</div></div><div class=\"p2003\" style=\"display: none;\"><div style=\"display: table-cell;\"></div><div style=\"display: table-cell;\">margin&nbsp;=&nbsp;None,</div></div><div class=\"p2003\" style=\"display: none;\"><div style=\"display: table-cell;\"></div><div style=\"display: table-cell;\">match_aspect&nbsp;=&nbsp;False,</div></div><div class=\"p2003\" style=\"display: none;\"><div style=\"display: table-cell;\"></div><div style=\"display: table-cell;\">max_height&nbsp;=&nbsp;None,</div></div><div class=\"p2003\" style=\"display: none;\"><div style=\"display: table-cell;\"></div><div style=\"display: table-cell;\">max_width&nbsp;=&nbsp;None,</div></div><div class=\"p2003\" style=\"display: none;\"><div style=\"display: table-cell;\"></div><div style=\"display: table-cell;\">min_border&nbsp;=&nbsp;5,</div></div><div class=\"p2003\" style=\"display: none;\"><div style=\"display: table-cell;\"></div><div style=\"display: table-cell;\">min_border_bottom&nbsp;=&nbsp;None,</div></div><div class=\"p2003\" style=\"display: none;\"><div style=\"display: table-cell;\"></div><div style=\"display: table-cell;\">min_border_left&nbsp;=&nbsp;None,</div></div><div class=\"p2003\" style=\"display: none;\"><div style=\"display: table-cell;\"></div><div style=\"display: table-cell;\">min_border_right&nbsp;=&nbsp;None,</div></div><div class=\"p2003\" style=\"display: none;\"><div style=\"display: table-cell;\"></div><div style=\"display: table-cell;\">min_border_top&nbsp;=&nbsp;None,</div></div><div class=\"p2003\" style=\"display: none;\"><div style=\"display: table-cell;\"></div><div style=\"display: table-cell;\">min_height&nbsp;=&nbsp;None,</div></div><div class=\"p2003\" style=\"display: none;\"><div style=\"display: table-cell;\"></div><div style=\"display: table-cell;\">min_width&nbsp;=&nbsp;None,</div></div><div class=\"p2003\" style=\"display: none;\"><div style=\"display: table-cell;\"></div><div style=\"display: table-cell;\">name&nbsp;=&nbsp;None,</div></div><div class=\"p2003\" style=\"display: none;\"><div style=\"display: table-cell;\"></div><div style=\"display: table-cell;\">outline_line_alpha&nbsp;=&nbsp;1.0,</div></div><div class=\"p2003\" style=\"display: none;\"><div style=\"display: table-cell;\"></div><div style=\"display: table-cell;\">outline_line_cap&nbsp;=&nbsp;'butt',</div></div><div class=\"p2003\" style=\"display: none;\"><div style=\"display: table-cell;\"></div><div style=\"display: table-cell;\">outline_line_color&nbsp;=&nbsp;'#e5e5e5',</div></div><div class=\"p2003\" style=\"display: none;\"><div style=\"display: table-cell;\"></div><div style=\"display: table-cell;\">outline_line_dash&nbsp;=&nbsp;[],</div></div><div class=\"p2003\" style=\"display: none;\"><div style=\"display: table-cell;\"></div><div style=\"display: table-cell;\">outline_line_dash_offset&nbsp;=&nbsp;0,</div></div><div class=\"p2003\" style=\"display: none;\"><div style=\"display: table-cell;\"></div><div style=\"display: table-cell;\">outline_line_join&nbsp;=&nbsp;'bevel',</div></div><div class=\"p2003\" style=\"display: none;\"><div style=\"display: table-cell;\"></div><div style=\"display: table-cell;\">outline_line_width&nbsp;=&nbsp;1,</div></div><div class=\"p2003\" style=\"display: none;\"><div style=\"display: table-cell;\"></div><div style=\"display: table-cell;\">output_backend&nbsp;=&nbsp;'canvas',</div></div><div class=\"p2003\" style=\"display: none;\"><div style=\"display: table-cell;\"></div><div style=\"display: table-cell;\">renderers&nbsp;=&nbsp;[GlyphRenderer(id='p1997', ...)],</div></div><div class=\"p2003\" style=\"display: none;\"><div style=\"display: table-cell;\"></div><div style=\"display: table-cell;\">reset_policy&nbsp;=&nbsp;'standard',</div></div><div class=\"p2003\" style=\"display: none;\"><div style=\"display: table-cell;\"></div><div style=\"display: table-cell;\">resizable&nbsp;=&nbsp;False,</div></div><div class=\"p2003\" style=\"display: none;\"><div style=\"display: table-cell;\"></div><div style=\"display: table-cell;\">right&nbsp;=&nbsp;[],</div></div><div class=\"p2003\" style=\"display: none;\"><div style=\"display: table-cell;\"></div><div style=\"display: table-cell;\">sizing_mode&nbsp;=&nbsp;None,</div></div><div class=\"p2003\" style=\"display: none;\"><div style=\"display: table-cell;\"></div><div style=\"display: table-cell;\">styles&nbsp;=&nbsp;{},</div></div><div class=\"p2003\" style=\"display: none;\"><div style=\"display: table-cell;\"></div><div style=\"display: table-cell;\">stylesheets&nbsp;=&nbsp;[],</div></div><div class=\"p2003\" style=\"display: none;\"><div style=\"display: table-cell;\"></div><div style=\"display: table-cell;\">subscribed_events&nbsp;=&nbsp;PropertyValueSet(),</div></div><div class=\"p2003\" style=\"display: none;\"><div style=\"display: table-cell;\"></div><div style=\"display: table-cell;\">syncable&nbsp;=&nbsp;True,</div></div><div class=\"p2003\" style=\"display: none;\"><div style=\"display: table-cell;\"></div><div style=\"display: table-cell;\">tags&nbsp;=&nbsp;[],</div></div><div class=\"p2003\" style=\"display: none;\"><div style=\"display: table-cell;\"></div><div style=\"display: table-cell;\">title&nbsp;=&nbsp;Title(id='p1970', ...),</div></div><div class=\"p2003\" style=\"display: none;\"><div style=\"display: table-cell;\"></div><div style=\"display: table-cell;\">title_location&nbsp;=&nbsp;'above',</div></div><div class=\"p2003\" style=\"display: none;\"><div style=\"display: table-cell;\"></div><div style=\"display: table-cell;\">toolbar&nbsp;=&nbsp;Toolbar(id='p1971', ...),</div></div><div class=\"p2003\" style=\"display: none;\"><div style=\"display: table-cell;\"></div><div style=\"display: table-cell;\">toolbar_inner&nbsp;=&nbsp;False,</div></div><div class=\"p2003\" style=\"display: none;\"><div style=\"display: table-cell;\"></div><div style=\"display: table-cell;\">toolbar_location&nbsp;=&nbsp;'right',</div></div><div class=\"p2003\" style=\"display: none;\"><div style=\"display: table-cell;\"></div><div style=\"display: table-cell;\">toolbar_sticky&nbsp;=&nbsp;True,</div></div><div class=\"p2003\" style=\"display: none;\"><div style=\"display: table-cell;\"></div><div style=\"display: table-cell;\">visible&nbsp;=&nbsp;True,</div></div><div class=\"p2003\" style=\"display: none;\"><div style=\"display: table-cell;\"></div><div style=\"display: table-cell;\">width&nbsp;=&nbsp;600,</div></div><div class=\"p2003\" style=\"display: none;\"><div style=\"display: table-cell;\"></div><div style=\"display: table-cell;\">width_policy&nbsp;=&nbsp;'auto',</div></div><div class=\"p2003\" style=\"display: none;\"><div style=\"display: table-cell;\"></div><div style=\"display: table-cell;\">x_range&nbsp;=&nbsp;DataRange1d(id='p1964', ...),</div></div><div class=\"p2003\" style=\"display: none;\"><div style=\"display: table-cell;\"></div><div style=\"display: table-cell;\">x_scale&nbsp;=&nbsp;LinearScale(id='p1972', ...),</div></div><div class=\"p2003\" style=\"display: none;\"><div style=\"display: table-cell;\"></div><div style=\"display: table-cell;\">y_range&nbsp;=&nbsp;DataRange1d(id='p1965', ...),</div></div><div class=\"p2003\" style=\"display: none;\"><div style=\"display: table-cell;\"></div><div style=\"display: table-cell;\">y_scale&nbsp;=&nbsp;LinearScale(id='p1973', ...))</div></div></div>\n",
              "<script>\n",
              "(function() {\n",
              "  let expanded = false;\n",
              "  const ellipsis = document.getElementById(\"p2004\");\n",
              "  ellipsis.addEventListener(\"click\", function() {\n",
              "    const rows = document.getElementsByClassName(\"p2003\");\n",
              "    for (let i = 0; i < rows.length; i++) {\n",
              "      const el = rows[i];\n",
              "      el.style.display = expanded ? \"none\" : \"table-row\";\n",
              "    }\n",
              "    ellipsis.innerHTML = expanded ? \"&hellip;)\" : \"&lsaquo;&lsaquo;&lsaquo;\";\n",
              "    expanded = !expanded;\n",
              "  });\n",
              "})();\n",
              "</script>\n"
            ]
          },
          "metadata": {},
          "execution_count": 114
        }
      ],
      "source": [
        "output_notebook()\n",
        "def draw_vectors(x, y, radius=10, alpha=0.25, color='blue',\n",
        "                 width=600, height=400, show=True, **kwargs):\n",
        "    if isinstance(color, str): color = [color] * len(x)\n",
        "    data_source = bm.ColumnDataSource({ 'x' : x, 'y' : y, 'color': color, **kwargs })\n",
        "\n",
        "    fig = pl.figure(active_scroll='wheel_zoom', width=width, height=height)\n",
        "    fig.scatter('x', 'y', size=radius, color='color', alpha=alpha, source=data_source)\n",
        "\n",
        "    fig.add_tools(bm.HoverTool(tooltips=[(key, \"@\" + key) for key in kwargs.keys()]))\n",
        "    if show: pl.show(fig)\n",
        "    return fig\n",
        "\n",
        "\n",
        "draw_vectors(word_vectors_pca[:, 0], word_vectors_pca[:, 1], token=words[:622])"
      ]
    }
  ],
  "metadata": {
    "colab": {
      "provenance": []
    },
    "kernelspec": {
      "display_name": "Python 3 (ipykernel)",
      "language": "python",
      "name": "python3"
    },
    "language_info": {
      "codemirror_mode": {
        "name": "ipython",
        "version": 3
      },
      "file_extension": ".py",
      "mimetype": "text/x-python",
      "name": "python",
      "nbconvert_exporter": "python",
      "pygments_lexer": "ipython3",
      "version": "3.10.9"
    }
  },
  "nbformat": 4,
  "nbformat_minor": 0
}